{
 "cells": [
  {
   "cell_type": "markdown",
   "metadata": {
    "slideshow": {
     "slide_type": "slide"
    }
   },
   "source": [
    "## Symbolic Computation\n",
    "\n",
    "I use [Sympy](https://www.sympy.org) which is a Python library for symbolic mathematics. "
   ]
  },
  {
   "cell_type": "markdown",
   "metadata": {
    "slideshow": {
     "slide_type": "slide"
    }
   },
   "source": [
    "## Exercise \n",
    "Let \n",
    "$$\n",
    " f(x) = x^4 + x^3 + 2x^2 + 4x - 8\n",
    "$$\n",
    "1. Evaluate $f(-5)$\n",
    "2. Sketch the graph of $f$."
   ]
  },
  {
   "cell_type": "code",
   "execution_count": null,
   "metadata": {
    "slideshow": {
     "slide_type": "slide"
    }
   },
   "outputs": [],
   "source": [
    "# Symbolic Computation \n",
    "from sympy import init_printing\n",
    "from sympy import symbols, factor\n",
    "from sympy import simplify, solve, expand, I, Inverse\n",
    "from sympy.plotting import plot \n",
    "init_printing()\n",
    "x = symbols(\"x\")\n",
    "\n",
    "# define a function\n",
    "def f(x):\n",
    "    return x**4 + x**3 + 2*x**2 + 4*x - 8\n",
    "\n"
   ]
  },
  {
   "cell_type": "code",
   "execution_count": null,
   "metadata": {
    "slideshow": {
     "slide_type": "slide"
    }
   },
   "outputs": [],
   "source": [
    "# evalaute\n",
    "f(-5)"
   ]
  },
  {
   "cell_type": "code",
   "execution_count": null,
   "metadata": {
    "slideshow": {
     "slide_type": "slide"
    }
   },
   "outputs": [],
   "source": [
    "# quick plot\n",
    "p = plot(f(x), (x,-3,3))"
   ]
  },
  {
   "cell_type": "code",
   "execution_count": null,
   "metadata": {
    "cell_style": "center",
    "slideshow": {
     "slide_type": "slide"
    }
   },
   "outputs": [],
   "source": [
    "f(x)"
   ]
  },
  {
   "cell_type": "markdown",
   "metadata": {},
   "source": [
    "#### Factor $f(x)$"
   ]
  },
  {
   "cell_type": "code",
   "execution_count": null,
   "metadata": {
    "slideshow": {
     "slide_type": "slide"
    },
    "solution2": "hidden",
    "solution2_first": true
   },
   "outputs": [],
   "source": [
    "# factor  \n",
    "factor(f(x))"
   ]
  },
  {
   "cell_type": "markdown",
   "metadata": {
    "solution2": "hidden"
   },
   "source": [
    "$(x-1)(x+2)(x^2+4)$"
   ]
  },
  {
   "cell_type": "markdown",
   "metadata": {
    "slideshow": {
     "slide_type": "slide"
    }
   },
   "source": [
    "#### Find zeros of $f$"
   ]
  },
  {
   "cell_type": "code",
   "execution_count": null,
   "metadata": {
    "slideshow": {
     "slide_type": "fragment"
    }
   },
   "outputs": [],
   "source": [
    "# solve\n",
    "# complex\n",
    "solve(f(x))\n"
   ]
  },
  {
   "cell_type": "markdown",
   "metadata": {
    "slideshow": {
     "slide_type": "slide"
    }
   },
   "source": [
    "#### Find real zeros"
   ]
  },
  {
   "cell_type": "code",
   "execution_count": null,
   "metadata": {
    "slideshow": {
     "slide_type": "fragment"
    }
   },
   "outputs": [],
   "source": [
    "# real\n",
    "y = symbols(\"y\", real=True)\n",
    "solve(f(y))"
   ]
  },
  {
   "cell_type": "markdown",
   "metadata": {
    "slideshow": {
     "slide_type": "slide"
    }
   },
   "source": [
    "#### Factor $f$"
   ]
  },
  {
   "cell_type": "code",
   "execution_count": null,
   "metadata": {
    "slideshow": {
     "slide_type": "fragment"
    }
   },
   "outputs": [],
   "source": [
    "factor(f(x))"
   ]
  },
  {
   "cell_type": "markdown",
   "metadata": {
    "slideshow": {
     "slide_type": "slide"
    }
   },
   "source": [
    "#### Factor over complex numbers"
   ]
  },
  {
   "cell_type": "code",
   "execution_count": null,
   "metadata": {
    "slideshow": {
     "slide_type": "fragment"
    }
   },
   "outputs": [],
   "source": [
    "# factor over complex numbers\n",
    "factor(f(x), gaussian=True)"
   ]
  },
  {
   "cell_type": "markdown",
   "metadata": {
    "slideshow": {
     "slide_type": "slide"
    }
   },
   "source": [
    "#### Rational functions\n",
    "Let \n",
    "$$\n",
    "\\begin{array}{lll}\n",
    " f(x) &=& x^4 + x^3 + 2x^2 + 4x - 8 \\\\\n",
    " g(x) &=& x+2 \\\\\n",
    " h(x) &=& \\frac{f(x)}{g(x)} = \\frac{x^4 + x^3 + 2x^2 + 4x - 8 }{x+2}\\\\\n",
    " k(x) &=& \\frac{x^4 + x^3 + 2x^2 + 4x - 8 }{x^3+1}\n",
    "\\end{array}\n",
    "$$\n",
    "Factor $h(x), k(x)$."
   ]
  },
  {
   "cell_type": "code",
   "execution_count": null,
   "metadata": {
    "slideshow": {
     "slide_type": "slide"
    }
   },
   "outputs": [],
   "source": [
    "# Rational functions\n",
    "def f(x):\n",
    "    return x**4 + x**3 + 2*x**2 + 4*x - 8\n",
    "def g(x):\n",
    "    return x+2\n",
    "def h(x): \n",
    "    return f(x)/g(x)\n",
    "def k(x):\n",
    "    return f(x)/(x**3+1)\n",
    "#h(x)\n",
    "factor(k(x))"
   ]
  },
  {
   "cell_type": "markdown",
   "metadata": {
    "slideshow": {
     "slide_type": "slide"
    }
   },
   "source": [
    "#### Composition\n",
    "$g(x^2+2)$\n"
   ]
  },
  {
   "cell_type": "code",
   "execution_count": null,
   "metadata": {
    "slideshow": {
     "slide_type": "fragment"
    }
   },
   "outputs": [],
   "source": [
    "# Composition\n",
    "#g(x)\n",
    "#g(x**2)\n",
    "factor(f(x)/g(x**2+2))"
   ]
  },
  {
   "cell_type": "markdown",
   "metadata": {
    "slideshow": {
     "slide_type": "slide"
    }
   },
   "source": [
    "#### Inverse Functions\n",
    "Find $f^{-1}$, where\n",
    "$$\n",
    "f(x) = \\frac{1}{x-1}\n",
    "$$"
   ]
  },
  {
   "cell_type": "code",
   "execution_count": null,
   "metadata": {
    "slideshow": {
     "slide_type": "fragment"
    }
   },
   "outputs": [],
   "source": [
    "# inverse functions\n",
    "y = symbols(\"y\", complex=True)\n",
    "def f(x):\n",
    "    return 1/(x-1)\n",
    "'''\n",
    "def finv(x):\n",
    "    z = symbols(\"z\")\n",
    "    return solve(z-f(x),x)[0].subs({z:x})\n",
    "simplify(f(finv(y)))\n",
    "'''\n",
    "solve(y-f(x), x)"
   ]
  },
  {
   "cell_type": "markdown",
   "metadata": {
    "slideshow": {
     "slide_type": "slide"
    }
   },
   "source": [
    "#### Logarithmic Equations\n",
    "1. #### Solve $\\log_3{x}+\\log_3(x+6) = 3$\n",
    "2. #### Solve $\\frac{10^x+10^{-x}}{10^x-10^{-x}}=5$"
   ]
  },
  {
   "cell_type": "code",
   "execution_count": null,
   "metadata": {
    "slideshow": {
     "slide_type": "fragment"
    }
   },
   "outputs": [],
   "source": [
    "from sympy import E, log\n",
    "#solve((10**y+10**(-y))/(10**y-10**(-y)) - 5)\n",
    "solve(log(x,3)+log(x+6,3)-3)\n"
   ]
  },
  {
   "cell_type": "markdown",
   "metadata": {
    "slideshow": {
     "slide_type": "slide"
    }
   },
   "source": [
    "#### Trigonometric Functions\n",
    "verify \n",
    "$$\n",
    "\\csc^2(x)-\\cos^2(x)\\csc^2(x) =1\n",
    "$$"
   ]
  },
  {
   "cell_type": "code",
   "execution_count": null,
   "metadata": {
    "slideshow": {
     "slide_type": "fragment"
    }
   },
   "outputs": [],
   "source": [
    "# trigonometric functions\n",
    "# verifications example 1\n",
    "from sympy import sin, cos, tan, cot, csc, sec, Eq\n",
    "simplify((csc(x))**2-(cos(x))**2*(csc(x))**2)==1"
   ]
  },
  {
   "cell_type": "markdown",
   "metadata": {
    "slideshow": {
     "slide_type": "slide"
    }
   },
   "source": [
    "#### Trigonometric Equations\n",
    "Solve $\\sin(3y) = 1$."
   ]
  },
  {
   "cell_type": "code",
   "execution_count": null,
   "metadata": {
    "slideshow": {
     "slide_type": "fragment"
    }
   },
   "outputs": [],
   "source": [
    "# solve trigonometric equations\n",
    "solve(sin(3*y)-1)"
   ]
  },
  {
   "cell_type": "markdown",
   "metadata": {
    "slideshow": {
     "slide_type": "slide"
    }
   },
   "source": [
    "#### Limit\n",
    "Find\n",
    "$$\n",
    "\\lim_{x\\to 2} \\frac{1}{x-1}, \\lim_{x\\to 1+} \\frac{1}{x-1},\n",
    "$$"
   ]
  },
  {
   "cell_type": "code",
   "execution_count": null,
   "metadata": {
    "slideshow": {
     "slide_type": "fragment"
    }
   },
   "outputs": [],
   "source": [
    "from sympy import limit, Limit\n",
    "l1=limit(f(x), x, 2)\n",
    "L1=Limit(f(x), x, 2, dir=\"+-\")\n",
    "display(Eq(L1,l1))\n",
    "l2=limit(f(x), x, 1, dir=\"+\")\n",
    "L2=Limit(f(x), x, 1, dir=\"+\")\n",
    "display(Eq(L2,l2))\n"
   ]
  },
  {
   "cell_type": "markdown",
   "metadata": {
    "slideshow": {
     "slide_type": "slide"
    }
   },
   "source": [
    "#### Derivatives\n",
    "Find $f'(x)$."
   ]
  },
  {
   "cell_type": "code",
   "execution_count": null,
   "metadata": {
    "slideshow": {
     "slide_type": "fragment"
    }
   },
   "outputs": [],
   "source": [
    "# differentiation \n",
    "from sympy import diff\n",
    "f(x)\n",
    "f(x).diff()\n",
    "f(x).diff().subs({x:4})\n",
    "diff(f(x))"
   ]
  },
  {
   "cell_type": "markdown",
   "metadata": {
    "slideshow": {
     "slide_type": "slide"
    }
   },
   "source": [
    "#### Integration\n",
    "Find\n",
    "$$\n",
    "\\int \\frac{dx}{1-x}, \\qquad \\int_2^3 \\frac{dx}{x-1}\n",
    "$$"
   ]
  },
  {
   "cell_type": "code",
   "execution_count": null,
   "metadata": {
    "slideshow": {
     "slide_type": "fragment"
    }
   },
   "outputs": [],
   "source": [
    "# integration \n",
    "from sympy import Integral, integrate\n",
    "I = Integral(f(x),x)\n",
    "display(Eq(I,I.doit()))\n",
    "I = Integral(f(x),(x,2,3))\n",
    "display(Eq(I,I.doit()))\n"
   ]
  },
  {
   "cell_type": "markdown",
   "metadata": {
    "slideshow": {
     "slide_type": "slide"
    }
   },
   "source": [
    "#### Sums\n",
    "Find \n",
    "$$\n",
    "\\sum_{i=1}^5 i^2, \\qquad \\sum_{i=1}^{n} i^2, \\qquad \\sum_{i=1}^{\\infty} i^2\n",
    "$$"
   ]
  },
  {
   "cell_type": "code",
   "execution_count": null,
   "metadata": {
    "slideshow": {
     "slide_type": "fragment"
    }
   },
   "outputs": [],
   "source": [
    "# sums\n",
    "from sympy import Sum, oo\n",
    "i, n = symbols(\"i, n\", integer=True)\n",
    "S = Sum(i**2, (i,1,n))\n",
    "s = factor(S.doit())\n",
    "Eq(S,s)\n",
    "S1= Sum((-1)**n/n,(n,1,oo))\n",
    "S2= Sum(1/n**3,(n,1,oo))\n",
    "Eq(S2,S2.doit())\n",
    "S2.n()\n",
    "S3=Sum(1/2**i, (i,1,5))\n",
    "S3.doit()"
   ]
  }
 ],
 "metadata": {
  "celltoolbar": "Slideshow",
  "kernelspec": {
   "display_name": "Python 3",
   "language": "python",
   "name": "python3"
  },
  "language_info": {
   "codemirror_mode": {
    "name": "ipython",
    "version": 3
   },
   "file_extension": ".py",
   "mimetype": "text/x-python",
   "name": "python",
   "nbconvert_exporter": "python",
   "pygments_lexer": "ipython3",
   "version": "3.6.4"
  },
  "livereveal": {
   "theme": "serif",
   "transition": "convex"
  }
 },
 "nbformat": 4,
 "nbformat_minor": 2
}
