{
 "cells": [
  {
   "cell_type": "markdown",
   "metadata": {
    "slideshow": {
     "slide_type": "slide"
    }
   },
   "source": [
    "## Symbolic Computation\n",
    "\n",
    "I use [Sympy](https://www.sympy.org) which is a Python library for symbolic mathematics. "
   ]
  },
  {
   "cell_type": "markdown",
   "metadata": {
    "slideshow": {
     "slide_type": "slide"
    }
   },
   "source": [
    "## Exercise \n",
    "Let \n",
    "$$\n",
    " f(x) = x^4 + x^3 + 2x^2 + 4x - 8\n",
    "$$\n",
    "1. Evaluate $f(-5)$\n",
    "2. Sketch the graph of $f$."
   ]
  },
  {
   "cell_type": "code",
   "execution_count": null,
   "metadata": {
    "slideshow": {
     "slide_type": "slide"
    },
    "solution2": "hidden",
    "solution2_first": true
   },
   "outputs": [],
   "source": [
    "# factor  \n",
    "factor(f(x))"
   ]
  },
  {
   "cell_type": "markdown",
   "metadata": {
    "solution2": "hidden"
   },
   "source": [
    "$(x-1)(x+2)(x^2+4)$"
   ]
  },
  {
   "cell_type": "markdown",
   "metadata": {
    "slideshow": {
     "slide_type": "slide"
    }
   },
   "source": [
    "#### Find zeros of $f$"
   ]
  },
  {
   "cell_type": "markdown",
   "metadata": {
    "slideshow": {
     "slide_type": "slide"
    }
   },
   "source": [
    "#### Find real zeros"
   ]
  },
  {
   "cell_type": "markdown",
   "metadata": {
    "slideshow": {
     "slide_type": "slide"
    }
   },
   "source": [
    "#### Factor over complex numbers"
   ]
  },
  {
   "cell_type": "markdown",
   "metadata": {
    "slideshow": {
     "slide_type": "slide"
    }
   },
   "source": [
    "#### Rational functions\n",
    "Let \n",
    "$$\n",
    "\\begin{array}{lll}\n",
    " f(x) &=& x^4 + x^3 + 2x^2 + 4x - 8 \\\\\n",
    " g(x) &=& x+2 \\\\\n",
    " h(x) &=& \\frac{f(x)}{g(x)} = \\frac{x^4 + x^3 + 2x^2 + 4x - 8 }{x+2}\\\\\n",
    " k(x) &=& \\frac{x^4 + x^3 + 2x^2 + 4x - 8 }{x^3+1}\n",
    "\\end{array}\n",
    "$$\n",
    "Factor $h(x), k(x)$."
   ]
  },
  {
   "cell_type": "markdown",
   "metadata": {
    "slideshow": {
     "slide_type": "slide"
    }
   },
   "source": [
    "#### Composition\n",
    "$g(x^2+2)$\n"
   ]
  },
  {
   "cell_type": "markdown",
   "metadata": {
    "slideshow": {
     "slide_type": "slide"
    }
   },
   "source": [
    "#### Inverse Functions\n",
    "Find $f^{-1}$, where\n",
    "$$\n",
    "f(x) = \\frac{1}{x-1}\n",
    "$$"
   ]
  },
  {
   "cell_type": "markdown",
   "metadata": {
    "slideshow": {
     "slide_type": "slide"
    }
   },
   "source": [
    "#### Logarithmic Equations\n",
    "1. #### Solve $\\log_3{x}+\\log_3(x+6) = 3$\n",
    "2. #### Solve $\\frac{10^x+10^{-x}}{10^x-10^{-x}}=5$"
   ]
  },
  {
   "cell_type": "markdown",
   "metadata": {
    "slideshow": {
     "slide_type": "slide"
    }
   },
   "source": [
    "#### Trigonometric Functions\n",
    "verify \n",
    "$$\n",
    "\\csc^2(x)-\\cos^2(x)\\csc^2(x) =1\n",
    "$$"
   ]
  },
  {
   "cell_type": "markdown",
   "metadata": {
    "slideshow": {
     "slide_type": "slide"
    }
   },
   "source": [
    "#### Trigonometric Equations\n",
    "Solve $\\sin(3y) = 1$."
   ]
  },
  {
   "cell_type": "markdown",
   "metadata": {
    "slideshow": {
     "slide_type": "slide"
    }
   },
   "source": [
    "#### Limit\n",
    "Find\n",
    "$$\n",
    "\\lim_{x\\to 2} \\frac{1}{x-1}, \\lim_{x\\to 1+} \\frac{1}{x-1},\n",
    "$$"
   ]
  },
  {
   "cell_type": "markdown",
   "metadata": {
    "slideshow": {
     "slide_type": "slide"
    }
   },
   "source": [
    "#### Derivatives\n",
    "Find $f'(x)$."
   ]
  },
  {
   "cell_type": "markdown",
   "metadata": {
    "slideshow": {
     "slide_type": "slide"
    }
   },
   "source": [
    "#### Integration\n",
    "Find\n",
    "$$\n",
    "\\int \\frac{dx}{1-x}, \\qquad \\int_2^3 \\frac{dx}{x-1}\n",
    "$$"
   ]
  },
  {
   "cell_type": "markdown",
   "metadata": {
    "slideshow": {
     "slide_type": "slide"
    }
   },
   "source": [
    "#### Sums\n",
    "Find \n",
    "$$\n",
    "\\sum_{i=1}^5 i^2, \\qquad \\sum_{i=1}^{n} i^2, \\qquad \\sum_{i=1}^{\\infty} i^2\n",
    "$$"
   ]
  }
 ],
 "metadata": {
  "celltoolbar": "Slideshow",
  "kernelspec": {
   "display_name": "Python 3",
   "language": "python",
   "name": "python3"
  },
  "language_info": {
   "codemirror_mode": {
    "name": "ipython",
    "version": 3
   },
   "file_extension": ".py",
   "mimetype": "text/x-python",
   "name": "python",
   "nbconvert_exporter": "python",
   "pygments_lexer": "ipython3",
   "version": "3.6.4"
  },
  "livereveal": {
   "theme": "serif",
   "transition": "convex"
  }
 },
 "nbformat": 4,
 "nbformat_minor": 2
}
