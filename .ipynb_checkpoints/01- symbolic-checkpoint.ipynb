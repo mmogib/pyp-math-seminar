{
 "cells": [
  {
   "cell_type": "markdown",
   "metadata": {
    "slideshow": {
     "slide_type": "fragment"
    }
   },
   "source": [
    "## Symbolic Computation\n",
    "\n",
    "I use [Sympy](https://www.sympy.org) which is a Python library for symbolic mathematics. "
   ]
  },
  {
   "cell_type": "code",
   "execution_count": 1,
   "metadata": {
    "slideshow": {
     "slide_type": "slide"
    }
   },
   "outputs": [],
   "source": [
    "# Symbolic Computation \n",
    "from sympy import init_printing, symbols, factor, simplify, solve, expand, I, Inverse\n",
    "from sympy.plotting import plot \n",
    "init_printing()\n",
    "x = symbols(\"x\")\n",
    "\n",
    "# define a function\n",
    "def f(x):\n",
    "    return x**4 + x**3 + 2*x**2 + 4*x - 8\n",
    "\n"
   ]
  },
  {
   "cell_type": "code",
   "execution_count": 2,
   "metadata": {
    "slideshow": {
     "slide_type": "slide"
    }
   },
   "outputs": [
    {
     "data": {
      "image/png": "[encoded data removed]",
      "text/latex": [
       "$$522$$"
      ],
      "text/plain": [
       "522"
      ]
     },
     "execution_count": 2,
     "metadata": {},
     "output_type": "execute_result"
    }
   ],
   "source": [
    "# evalaute\n",
    "f(-5)"
   ]
  },
  {
   "cell_type": "code",
   "execution_count": 4,
   "metadata": {
    "slideshow": {
     "slide_type": "slide"
    }
   },
   "outputs": [
    {
     "data": {
      "image/png": "[encoded data removed]",
      "text/plain": [
       "<matplotlib.figure.Figure at 0x96910b8>"
      ]
     },
     "metadata": {},
     "output_type": "display_data"
    }
   ],
   "source": [
    "# quick plot\n",
    "p = plot(f(x), (x,-3,3))"
   ]
  },
  {
   "cell_type": "code",
   "execution_count": 6,
   "metadata": {
    "slideshow": {
     "slide_type": "slide"
    }
   },
   "outputs": [
    {
     "data": {
      "image/png": "[encoded data removed]",
      "text/latex": [
       "$$x^{4} + x^{3} + 2 x^{2} + 4 x - 8$$"
      ],
      "text/plain": [
       " 4    3      2          \n",
       "x  + x  + 2⋅x  + 4⋅x - 8"
      ]
     },
     "execution_count": 6,
     "metadata": {},
     "output_type": "execute_result"
    }
   ],
   "source": [
    "f(x)"
   ]
  },
  {
   "cell_type": "code",
   "execution_count": 7,
   "metadata": {
    "slideshow": {
     "slide_type": "slide"
    },
    "solution2": "hidden",
    "solution2_first": true
   },
   "outputs": [
    {
     "data": {
      "image/png": "[encoded data removed]",
      "text/latex": [
       "$$\\left(x - 1\\right) \\left(x + 2\\right) \\left(x^{2} + 4\\right)$$"
      ],
      "text/plain": [
       "                ⎛ 2    ⎞\n",
       "(x - 1)⋅(x + 2)⋅⎝x  + 4⎠"
      ]
     },
     "execution_count": 7,
     "metadata": {},
     "output_type": "execute_result"
    }
   ],
   "source": [
    "# factor  \n",
    "factor(f(x))"
   ]
  },
  {
   "cell_type": "markdown",
   "metadata": {
    "solution2": "hidden"
   },
   "source": [
    "$(x-1)(x+2)(x^2+4)$"
   ]
  },
  {
   "cell_type": "code",
   "execution_count": 8,
   "metadata": {
    "slideshow": {
     "slide_type": "slide"
    }
   },
   "outputs": [
    {
     "data": {
      "image/png": "[encoded data removed]",
      "text/latex": [
       "$$\\left [ -2, \\quad 1, \\quad - 2 i, \\quad 2 i\\right ]$$"
      ],
      "text/plain": [
       "[-2, 1, -2⋅ⅈ, 2⋅ⅈ]"
      ]
     },
     "execution_count": 8,
     "metadata": {},
     "output_type": "execute_result"
    }
   ],
   "source": [
    "# solve\n",
    "# complex\n",
    "solve(f(x))\n"
   ]
  },
  {
   "cell_type": "code",
   "execution_count": 9,
   "metadata": {
    "slideshow": {
     "slide_type": "slide"
    }
   },
   "outputs": [
    {
     "data": {
      "image/png": "[encoded data removed]",
      "text/latex": [
       "$$\\left [ -2, \\quad 1\\right ]$$"
      ],
      "text/plain": [
       "[-2, 1]"
      ]
     },
     "execution_count": 9,
     "metadata": {},
     "output_type": "execute_result"
    }
   ],
   "source": [
    "# real\n",
    "y = symbols(\"y\", real=True)\n",
    "solve(f(y))"
   ]
  },
  {
   "cell_type": "code",
   "execution_count": 13,
   "metadata": {
    "slideshow": {
     "slide_type": "slide"
    }
   },
   "outputs": [
    {
     "data": {
      "image/png": "[encoded data removed]",
      "text/latex": [
       "$$\\left(x - 1\\right) \\left(x + 2\\right) \\left(x - 2 i\\right) \\left(x + 2 i\\right)$$"
      ],
      "text/plain": [
       "(x - 1)⋅(x + 2)⋅(x - 2⋅ⅈ)⋅(x + 2⋅ⅈ)"
      ]
     },
     "execution_count": 13,
     "metadata": {},
     "output_type": "execute_result"
    }
   ],
   "source": [
    "# factor over complex numbers\n",
    "factor(f(x), gaussian=True)"
   ]
  },
  {
   "cell_type": "code",
   "execution_count": 17,
   "metadata": {
    "slideshow": {
     "slide_type": "slide"
    }
   },
   "outputs": [
    {
     "data": {
      "image/png": "[encoded data removed]",
      "text/latex": [
       "$$\\frac{\\left(x - 1\\right) \\left(x + 2\\right) \\left(x^{2} + 4\\right)}{\\left(x + 1\\right) \\left(x^{2} - x + 1\\right)}$$"
      ],
      "text/plain": [
       "                ⎛ 2    ⎞\n",
       "(x - 1)⋅(x + 2)⋅⎝x  + 4⎠\n",
       "────────────────────────\n",
       "          ⎛ 2        ⎞  \n",
       "  (x + 1)⋅⎝x  - x + 1⎠  "
      ]
     },
     "execution_count": 17,
     "metadata": {},
     "output_type": "execute_result"
    }
   ],
   "source": [
    "# Rational functions\n",
    "def f(x):\n",
    "    return x**4 + x**3 + 2*x**2 + 4*x - 8\n",
    "def g(x):\n",
    "    return x+2\n",
    "def h(x): \n",
    "    return f(x)/g(x)\n",
    "def k(x):\n",
    "    return f(x)/(x**3+1)\n",
    "#h(x)\n",
    "#factor(k(x))"
   ]
  },
  {
   "cell_type": "code",
   "execution_count": 25,
   "metadata": {
    "slideshow": {
     "slide_type": "slide"
    }
   },
   "outputs": [
    {
     "data": {
      "image/png": "[encoded data removed]",
      "text/latex": [
       "$$\\left(x - 1\\right) \\left(x + 2\\right)$$"
      ],
      "text/plain": [
       "(x - 1)⋅(x + 2)"
      ]
     },
     "execution_count": 25,
     "metadata": {},
     "output_type": "execute_result"
    }
   ],
   "source": [
    "# Composition\n",
    "#g(x)\n",
    "#g(x**2)\n",
    "factor(f(x)/g(x**2+2))"
   ]
  },
  {
   "cell_type": "code",
   "execution_count": 44,
   "metadata": {
    "slideshow": {
     "slide_type": "slide"
    }
   },
   "outputs": [
    {
     "data": {
      "image/png": "[encoded data removed]",
      "text/latex": [
       "$$\\left [ \\frac{y + 1}{y}\\right ]$$"
      ],
      "text/plain": [
       "⎡y + 1⎤\n",
       "⎢─────⎥\n",
       "⎣  y  ⎦"
      ]
     },
     "execution_count": 44,
     "metadata": {},
     "output_type": "execute_result"
    }
   ],
   "source": [
    "# inverse functions\n",
    "def f(x):\n",
    "    return 1/(x-1)\n",
    "'''\n",
    "def finv(x):\n",
    "    z = symbols(\"z\")\n",
    "    return solve(z-f(x),x)[0].subs({z:x})\n",
    "simplify(f(finv(y)))\n",
    "'''\n",
    "solve(y-f(x), x)"
   ]
  },
  {
   "cell_type": "markdown",
   "metadata": {
    "slideshow": {
     "slide_type": "slide"
    }
   },
   "source": [
    "1. #### Solve $\\log_3{x}+\\log_3(x+6) = 3$\n",
    "2. #### Solve $\\frac{10^x+10^{-x}}{10^x-10^{-x}}=5$"
   ]
  },
  {
   "cell_type": "code",
   "execution_count": 66,
   "metadata": {
    "slideshow": {
     "slide_type": "fragment"
    }
   },
   "outputs": [
    {
     "data": {
      "image/png": "[encoded data removed]",
      "text/latex": [
       "$$\\left [ 3\\right ]$$"
      ],
      "text/plain": [
       "[3]"
      ]
     },
     "execution_count": 66,
     "metadata": {},
     "output_type": "execute_result"
    }
   ],
   "source": [
    "from sympy import E, log\n",
    "#solve((10**y+10**(-y))/(10**y-10**(-y)) - 5)\n",
    "solve(log(x,3)+log(x+6,3)-3)\n"
   ]
  },
  {
   "cell_type": "code",
   "execution_count": 94,
   "metadata": {
    "slideshow": {
     "slide_type": "fragment"
    }
   },
   "outputs": [
    {
     "data": {
      "text/plain": [
       "True"
      ]
     },
     "execution_count": 94,
     "metadata": {},
     "output_type": "execute_result"
    }
   ],
   "source": [
    "# trigonometric functions\n",
    "# verifications example 1\n",
    "from sympy import sin, cos, tan, cot, csc, sec, Eq\n",
    "simplify((csc(x))**2-(cos(x))**2*(csc(x))**2)==1"
   ]
  },
  {
   "cell_type": "code",
   "execution_count": 106,
   "metadata": {
    "slideshow": {
     "slide_type": "fragment"
    }
   },
   "outputs": [
    {
     "data": {
      "image/png": "[encoded data removed]",
      "text/latex": [
       "$$\\frac{\\sin{\\left (x \\right )} + \\tan{\\left (x \\right )}}{\\cos{\\left (x \\right )} + 1} = \\tan{\\left (x \\right )}$$"
      ],
      "text/plain": [
       "sin(x) + tan(x)         \n",
       "─────────────── = tan(x)\n",
       "   cos(x) + 1           "
      ]
     },
     "execution_count": 106,
     "metadata": {},
     "output_type": "execute_result"
    }
   ],
   "source": [
    "# verifications example 2\n",
    "LHS = (sin(x)+tan(x))/(1+cos(x))\n",
    "simplify(LHS)==(sin(x)/cos(x))\n",
    "Eq((sin(x)+tan(x))/(1+cos(x)),tan(x))\n"
   ]
  },
  {
   "cell_type": "code",
   "execution_count": 111,
   "metadata": {
    "slideshow": {
     "slide_type": "slide"
    }
   },
   "outputs": [
    {
     "data": {
      "image/png": "[encoded data removed]",
      "text/latex": [
       "$$\\left [ \\frac{\\pi}{6}\\right ]$$"
      ],
      "text/plain": [
       "⎡π⎤\n",
       "⎢─⎥\n",
       "⎣6⎦"
      ]
     },
     "execution_count": 111,
     "metadata": {},
     "output_type": "execute_result"
    }
   ],
   "source": [
    "# solve trigonometric equations\n",
    "solve(sin(3*y)-1)"
   ]
  },
  {
   "cell_type": "code",
   "execution_count": 156,
   "metadata": {
    "slideshow": {
     "slide_type": "slide"
    }
   },
   "outputs": [
    {
     "data": {
      "image/png": "[encoded data removed]",
      "text/latex": [
       "$$\\lim_{x \\to 2} \\frac{1}{x - 1} = 1$$"
      ],
      "text/plain": [
       "      1      \n",
       "lim ───── = 1\n",
       "x─→2x - 1    "
      ]
     },
     "execution_count": 156,
     "metadata": {},
     "output_type": "execute_result"
    }
   ],
   "source": [
    "from sympy import limit, Limit\n",
    "l=limit(f(x), x, 2)\n",
    "L=Limit(f(x), x, 2, dir=\"+-\")\n",
    "Eq(L,l)"
   ]
  },
  {
   "cell_type": "code",
   "execution_count": 124,
   "metadata": {
    "slideshow": {
     "slide_type": "fragment"
    }
   },
   "outputs": [
    {
     "data": {
      "image/png": "[encoded data removed]",
      "text/latex": [
       "$$- \\frac{1}{\\left(x - 1\\right)^{2}}$$"
      ],
      "text/plain": [
       "  -1    \n",
       "────────\n",
       "       2\n",
       "(x - 1) "
      ]
     },
     "execution_count": 124,
     "metadata": {},
     "output_type": "execute_result"
    }
   ],
   "source": [
    "# differentiation \n",
    "from sympy import diff\n",
    "f(x)\n",
    "f(x).diff()\n",
    "f(x).diff().subs({x:4})\n",
    "diff(f(x))"
   ]
  },
  {
   "cell_type": "code",
   "execution_count": 169,
   "metadata": {
    "slideshow": {
     "slide_type": "slide"
    }
   },
   "outputs": [
    {
     "data": {
      "image/png": "[encoded data removed]",
      "text/latex": [
       "$$\\int \\frac{1}{x - 1}\\, dx = \\log{\\left (x - 1 \\right )}$$"
      ],
      "text/plain": [
       "⌠                      \n",
       "⎮   1                  \n",
       "⎮ ───── dx = log(x - 1)\n",
       "⎮ x - 1                \n",
       "⌡                      "
      ]
     },
     "metadata": {},
     "output_type": "display_data"
    },
    {
     "data": {
      "image/png": "[encoded data removed]",
      "text/latex": [
       "$$\\int_{2}^{3} \\frac{1}{x - 1}\\, dx = \\log{\\left (2 \\right )}$$"
      ],
      "text/plain": [
       "3                  \n",
       "⌠                  \n",
       "⎮   1              \n",
       "⎮ ───── dx = log(2)\n",
       "⎮ x - 1            \n",
       "⌡                  \n",
       "2                  "
      ]
     },
     "metadata": {},
     "output_type": "display_data"
    }
   ],
   "source": [
    "# integration \n",
    "from sympy import Integral, integrate\n",
    "I = Integral(f(x),x)\n",
    "display(Eq(I,I.doit()))\n",
    "I = Integral(f(x),(x,2,3))\n",
    "display(Eq(I,I.doit()))\n"
   ]
  },
  {
   "cell_type": "code",
   "execution_count": 168,
   "metadata": {
    "slideshow": {
     "slide_type": "slide"
    }
   },
   "outputs": [
    {
     "data": {
      "image/png": "[encoded data removed]",
      "text/latex": [
       "$$\\frac{31}{32}$$"
      ],
      "text/plain": [
       "31\n",
       "──\n",
       "32"
      ]
     },
     "execution_count": 168,
     "metadata": {},
     "output_type": "execute_result"
    }
   ],
   "source": [
    "# sums\n",
    "from sympy import Sum, oo\n",
    "i, n = symbols(\"i, n\", integer=True)\n",
    "S = Sum(i**2, (i,1,n))\n",
    "s = factor(S.doit())\n",
    "Eq(S,s)\n",
    "S1= Sum((-1)**n/n,(n,1,oo))\n",
    "S2= Sum(1/n**3,(n,1,oo))\n",
    "Eq(S2,S2.doit())\n",
    "S2.n()\n",
    "S3=Sum(1/2**i, (i,1,5))\n",
    "S3.doit()"
   ]
  },
  {
   "cell_type": "code",
   "execution_count": null,
   "metadata": {},
   "outputs": [],
   "source": []
  }
 ],
 "metadata": {
  "celltoolbar": "Slideshow",
  "kernelspec": {
   "display_name": "Python 3",
   "language": "python",
   "name": "python3"
  },
  "language_info": {
   "codemirror_mode": {
    "name": "ipython",
    "version": 3
   },
   "file_extension": ".py",
   "mimetype": "text/x-python",
   "name": "python",
   "nbconvert_exporter": "python",
   "pygments_lexer": "ipython3",
   "version": "3.6.4"
  },
  "livereveal": {
   "theme": "serif",
   "transition": "convex"
  }
 },
 "nbformat": 4,
 "nbformat_minor": 2
}
