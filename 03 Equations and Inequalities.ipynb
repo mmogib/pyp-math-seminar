{
 "cells": [
  {
   "cell_type": "markdown",
   "metadata": {},
   "source": [
    "# Equations and Inequalities\n"
   ]
  },
  {
   "cell_type": "code",
   "execution_count": 1,
   "metadata": {},
   "outputs": [],
   "source": [
    "from sympy import init_printing, symbols, Poly, solve, solve_linear_system\n",
    "init_printing()\n",
    "α, x, y, z = symbols(\"α, x ,y, z\", real=True)\n"
   ]
  },
  {
   "cell_type": "markdown",
   "metadata": {},
   "source": [
    "## Example\n",
    "Solve\n",
    "$$\n",
    "\\begin{array}{lllll}\n",
    "5x & - & y &=& -4 \\\\\n",
    "x & + & 3y &=& -4 \\\\\n",
    "\\end{array}\n",
    "$$"
   ]
  },
  {
   "cell_type": "code",
   "execution_count": 2,
   "metadata": {},
   "outputs": [
    {
     "data": {
      "image/png": "[encoded data removed]",
      "text/latex": [
       "$$\\left \\{ x : -1, \\quad y : -1\\right \\}$$"
      ],
      "text/plain": [
       "{x: -1, y: -1}"
      ]
     },
     "execution_count": 2,
     "metadata": {},
     "output_type": "execute_result"
    }
   ],
   "source": [
    "solve((5*x-y+4,x+3*y+4), x, y)"
   ]
  },
  {
   "cell_type": "markdown",
   "metadata": {},
   "source": [
    "## Example\n",
    "Solve\n",
    "$$\n",
    "\\begin{array}{lllll}\n",
    "5x & - & y &=& -4 \\\\\n",
    "\\end{array}\n",
    "$$"
   ]
  },
  {
   "cell_type": "code",
   "execution_count": 3,
   "metadata": {},
   "outputs": [
    {
     "data": {
      "image/png": "[encoded data removed]",
      "text/latex": [
       "$$\\left [ \\left ( 5 x + 4, \\quad x\\right )\\right ]$$"
      ],
      "text/plain": [
       "[(5⋅x + 4, x)]"
      ]
     },
     "execution_count": 3,
     "metadata": {},
     "output_type": "execute_result"
    }
   ],
   "source": [
    "solve(5*x-y+4, y,x)"
   ]
  },
  {
   "cell_type": "markdown",
   "metadata": {},
   "source": [
    "## Example\n",
    "Solve\n",
    "$$\n",
    "\\begin{array}{lllll}\n",
    "x^2 & + & y &=& 1 \\\\\n",
    " &  & y^2 &=& 9 \\\\\n",
    "\\end{array}\n",
    "$$"
   ]
  },
  {
   "cell_type": "code",
   "execution_count": 4,
   "metadata": {},
   "outputs": [
    {
     "data": {
      "image/png": "[encoded data removed]",
      "text/latex": [
       "$$\\left [ \\left ( -2, \\quad -3\\right ), \\quad \\left ( 2, \\quad -3\\right )\\right ]$$"
      ],
      "text/plain": [
       "[(-2, -3), (2, -3)]"
      ]
     },
     "execution_count": 4,
     "metadata": {},
     "output_type": "execute_result"
    }
   ],
   "source": [
    "solve((x**2+y-1,y**2-9), x, y)"
   ]
  },
  {
   "cell_type": "markdown",
   "metadata": {},
   "source": [
    "## Example\n",
    "Solve\n",
    "$$\n",
    "\\begin{array}{rrrrrrr}\n",
    "x & + & 2y & -& z &=& 1 \\\\\n",
    "2x & - & y & +& z &=& 6 \\\\\n",
    "2x & - & y & -& z &=& 0 \\\\\n",
    "\\end{array}\n",
    "$$"
   ]
  },
  {
   "cell_type": "code",
   "execution_count": 9,
   "metadata": {},
   "outputs": [
    {
     "data": {
      "image/png": "[encoded data removed]",
      "text/latex": [
       "$$\\left \\{ x : 2, \\quad y : 1, \\quad z : 3\\right \\}$$"
      ],
      "text/plain": [
       "{x: 2, y: 1, z: 3}"
      ]
     },
     "execution_count": 9,
     "metadata": {},
     "output_type": "execute_result"
    }
   ],
   "source": [
    "from sympy import Matrix, solve_linear_system\n",
    "A = Matrix(((1,2,-1,1),(2,-1,1,6),(2,-1,-1,0)))\n",
    "solve_linear_system(A,x,y,z)\n"
   ]
  },
  {
   "cell_type": "markdown",
   "metadata": {},
   "source": [
    "## Example\n",
    "Solve\n",
    "$$\n",
    "\\begin{array}{rrrrrrr}\n",
    "2x & - & y & -& z &=& -1 \\\\\n",
    "-x & + & 3y & -& z &=& -3 \\\\\n",
    "-5x & + & 5y & +& z &=& -1 \\\\\n",
    "\\end{array}\n",
    "$$"
   ]
  },
  {
   "cell_type": "code",
   "execution_count": 10,
   "metadata": {},
   "outputs": [
    {
     "data": {
      "image/png": "[encoded data removed]",
      "text/latex": [
       "$$\\left \\{ x : \\frac{4 z}{5} - \\frac{6}{5}, \\quad y : \\frac{3 z}{5} - \\frac{7}{5}\\right \\}$$"
      ],
      "text/plain": [
       "⎧   4⋅z   6     3⋅z   7⎫\n",
       "⎨x: ─── - ─, y: ─── - ─⎬\n",
       "⎩    5    5      5    5⎭"
      ]
     },
     "execution_count": 10,
     "metadata": {},
     "output_type": "execute_result"
    }
   ],
   "source": [
    "A = Matrix(((2,-1,-1,-1),(-1,3,-1,-3),(-5,5,1,-1)))\n",
    "solve_linear_system(A,x,y,z)\n"
   ]
  },
  {
   "cell_type": "markdown",
   "metadata": {},
   "source": [
    "# Inequalities\n",
    "\n",
    "### Example\n",
    "Solve\n",
    "$$\n",
    "x^2 + 5x +6 < 0\n",
    "$$"
   ]
  },
  {
   "cell_type": "code",
   "execution_count": 12,
   "metadata": {},
   "outputs": [
    {
     "data": {
      "image/png": "[encoded data removed]",
      "text/latex": [
       "$$\\left [ \\left(-\\infty, -3\\right), \\quad \\left(-2, \\infty\\right)\\right ]$$"
      ],
      "text/plain": [
       "[(-∞, -3), (-2, ∞)]"
      ]
     },
     "execution_count": 12,
     "metadata": {},
     "output_type": "execute_result"
    }
   ],
   "source": [
    "from sympy import Poly, Abs\n",
    "from sympy.solvers.inequalities import solve_poly_inequality, reduce_abs_inequality\n",
    "p1 = Poly(x**2+5*x+6, x)\n",
    "solve_poly_inequality(p1,\">\")\n"
   ]
  },
  {
   "cell_type": "markdown",
   "metadata": {},
   "source": [
    "### Example\n",
    "Solve \n",
    "$$\n",
    "\\left|2x-5\\right|\\geq 1\n",
    "$$"
   ]
  },
  {
   "cell_type": "code",
   "execution_count": 13,
   "metadata": {},
   "outputs": [
    {
     "data": {
      "image/png": "[encoded data removed]",
      "text/latex": [
       "$$\\left(3 \\leq x \\wedge x < \\infty\\right) \\vee \\left(x \\leq 2 \\wedge -\\infty < x\\right)$$"
      ],
      "text/plain": [
       "(3 ≤ x ∧ x < ∞) ∨ (x ≤ 2 ∧ -∞ < x)"
      ]
     },
     "execution_count": 13,
     "metadata": {},
     "output_type": "execute_result"
    }
   ],
   "source": [
    "reduce_abs_inequality(Abs(2*x-5)-1,'>=', x)"
   ]
  }
 ],
 "metadata": {
  "kernelspec": {
   "display_name": "Python 3",
   "language": "python",
   "name": "python3"
  },
  "language_info": {
   "codemirror_mode": {
    "name": "ipython",
    "version": 3
   },
   "file_extension": ".py",
   "mimetype": "text/x-python",
   "name": "python",
   "nbconvert_exporter": "python",
   "pygments_lexer": "ipython3",
   "version": "3.6.4"
  }
 },
 "nbformat": 4,
 "nbformat_minor": 2
}
