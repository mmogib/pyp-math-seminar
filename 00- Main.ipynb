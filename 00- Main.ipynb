{
 "cells": [
  {
   "cell_type": "markdown",
   "metadata": {
    "slideshow": {
     "slide_type": "slide"
    }
   },
   "source": [
    "# Scientific Computation In the Classroom\n",
    "\n",
    "\n",
    "### Mohammed Alshahrani\n",
    "##### Associate professor, Department of Mathematics & Statistics\n",
    "\n",
    "##### Monday December 24, 2018"
   ]
  },
  {
   "cell_type": "markdown",
   "metadata": {
    "slideshow": {
     "slide_type": "slide"
    }
   },
   "source": [
    "<div style=\"margin: auto;  width: 100%;  border: 3px solid green; padding: 10px; font-size: 2em; text-align: center;\" >\n",
    "    <div>\n",
    "    https://bit.ly/2BCutNx \n",
    "    </div>\n",
    "    <img src=\"./link.svg\" style=\"display: block;\n",
    "  margin-left: auto;\n",
    "  margin-right: auto;\n",
    "  width: 40%;\" />\n",
    "</div>\n"
   ]
  },
  {
   "cell_type": "markdown",
   "metadata": {
    "slideshow": {
     "slide_type": "slide"
    }
   },
   "source": [
    "## Outlines\n",
    "\n",
    "- Sharing experiences\n",
    "- Show case some of the tools and technologies that are available for us to use in our classrooms.\n",
    "- I am NOT an EXPERT. This presentation explores how I utilize these tools in my classroom. \n",
    "- I hope you will find some of these useful.\n",
    "- This presentation is more or less interactive.\n"
   ]
  },
  {
   "cell_type": "markdown",
   "metadata": {
    "slideshow": {
     "slide_type": "slide"
    }
   },
   "source": [
    "## Agenda\n",
    "1. Jupyter [http://jupyter.org/](http://jupyter.org/)\n",
    "2. Symbolic computations (https://docs.sympy.org/latest/index.html)\n",
    "3. Plots\n",
    "4. Equations and Inequalities\n",
    "5. Data manipulations and visualization\n"
   ]
  }
 ],
 "metadata": {
  "celltoolbar": "Slideshow",
  "kernelspec": {
   "display_name": "Python 3",
   "language": "python",
   "name": "python3"
  },
  "language_info": {
   "codemirror_mode": {
    "name": "ipython",
    "version": 3
   },
   "file_extension": ".py",
   "mimetype": "text/x-python",
   "name": "python",
   "nbconvert_exporter": "python",
   "pygments_lexer": "ipython3",
   "version": "3.6.4"
  },
  "livereveal": {
   "theme": "serif",
   "transition": "convex"
  }
 },
 "nbformat": 4,
 "nbformat_minor": 2
}
