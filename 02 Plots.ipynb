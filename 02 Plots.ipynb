{
 "cells": [
  {
   "cell_type": "markdown",
   "metadata": {},
   "source": [
    "# Plots\n",
    "\n",
    "[Reference](http://docs.juliaplots.org/latest/) "
   ]
  },
  {
   "cell_type": "code",
   "execution_count": 1,
   "metadata": {},
   "outputs": [
    {
     "data": {
      "text/html": [
       "    <script id=\"webio-setup-13111680251746318920\">\n",
       "    // Immediately-invoked-function-expression to avoid global variables.\n",
       "    (function() {\n",
       "        var warning_div = document.getElementById(\"webio-warning-4757334686769308337\");\n",
       "        var hide = function () {\n",
       "            var script = document.getElementById(\"webio-setup-13111680251746318920\");\n",
       "            var parent = script && script.parentElement;\n",
       "            var grandparent = parent && parent.parentElement;\n",
       "            if (grandparent) {\n",
       "                grandparent.style.display = \"none\";\n",
       "            }\n",
       "            warning_div.style.display = \"none\";\n",
       "        };\n",
       "        if (window.require && require.defined) {\n",
       "            // Jupyter notebook.\n",
       "            if (require.defined(\"nbextensions/webio/main\")\n",
       "                    || require.defined(\"/assetserver/1b34a23a912a9f2709c51250df7aa33ca22cf200-dist/main.js\")) {\n",
       "                // Extension already loaded.\n",
       "                hide();\n",
       "                return;\n",
       "            }\n",
       "            console.warn(\"Loading WebIO Jupyter extension on an ad-hoc basis. Consider enabling the WebIO nbextension for a stabler experience (this should happen automatically when building WebIO).\");\n",
       "            require([\"/assetserver/1b34a23a912a9f2709c51250df7aa33ca22cf200-dist/main.js\"], function (webIOModule) {\n",
       "                webIOModule.load_ipython_extension();\n",
       "            });\n",
       "            warning_div.innerHTML = \"<strong>Loading WebIO Jupyter extension on an ad-hoc basis. Consider enabling the WebIO nbextension for a stabler experience (this should happen automatically when building WebIO).</strong>\";\n",
       "        } else if (window.location.pathname.includes(\"/lab\")) {\n",
       "            // Guessing JupyterLab\n",
       "            warning_div.innerHTML = \"WebIO does not support JupyterLab yet.\";\n",
       "        }\n",
       "    })();\n",
       "    </script>\n",
       "    <div\n",
       "        id=\"webio-warning-4757334686769308337\"\n",
       "        class=\"output_text output_stderr\"\n",
       "        style=\"padding: 1em; font-weight: bold;\"\n",
       "    >\n",
       "        Unable to load WebIO. Please make sure WebIO works for your Jupyter client.\n",
       "        <!-- TODO: link to installation docs. -->\n",
       "    </div>\n"
      ],
      "text/plain": [
       "HTML{String}(\"    <script id=\\\"webio-setup-13111680251746318920\\\">\\n    // Immediately-invoked-function-expression to avoid global variables.\\n    (function() {\\n        var warning_div = document.getElementById(\\\"webio-warning-4757334686769308337\\\");\\n        var hide = function () {\\n            var script = document.getElementById(\\\"webio-setup-13111680251746318920\\\");\\n            var parent = script && script.parentElement;\\n            var grandparent = parent && parent.parentElement;\\n            if (grandparent) {\\n                grandparent.style.display = \\\"none\\\";\\n            }\\n            warning_div.style.display = \\\"none\\\";\\n        };\\n        if (window.require && require.defined) {\\n            // Jupyter notebook.\\n            if (require.defined(\\\"nbextensions/webio/main\\\")\\n                    || require.defined(\\\"/assetserver/1b34a23a912a9f2709c51250df7aa33ca22cf200-dist/main.js\\\")) {\\n                // Extension already loaded.\\n                hide();\\n                return;\\n            }\\n            console.warn(\\\"Loading WebIO Jupyter extension on an ad-hoc basis. Consider enabling the WebIO nbextension for a stabler experience (this should happen automatically when building WebIO).\\\");\\n            require([\\\"/assetserver/1b34a23a912a9f2709c51250df7aa33ca22cf200-dist/main.js\\\"], function (webIOModule) {\\n                webIOModule.load_ipython_extension();\\n            });\\n            warning_div.innerHTML = \\\"<strong>Loading WebIO Jupyter extension on an ad-hoc basis. Consider enabling the WebIO nbextension for a stabler experience (this should happen automatically when building WebIO).</strong>\\\";\\n        } else if (window.location.pathname.includes(\\\"/lab\\\")) {\\n            // Guessing JupyterLab\\n            warning_div.innerHTML = \\\"WebIO does not support JupyterLab yet.\\\";\\n        }\\n    })();\\n    </script>\\n    <div\\n        id=\\\"webio-warning-4757334686769308337\\\"\\n        class=\\\"output_text output_stderr\\\"\\n        style=\\\"padding: 1em; font-weight: bold;\\\"\\n    >\\n        Unable to load WebIO. Please make sure WebIO works for your Jupyter client.\\n        <!-- TODO: link to installation docs. -->\\n    </div>\\n\")"
      ]
     },
     "metadata": {},
     "output_type": "display_data"
    }
   ],
   "source": [
    "using Plots, Interact, WebIO, CSV, DataFrames, Colors, LaTeXStrings;\n",
    "plotly();"
   ]
  },
  {
   "cell_type": "code",
   "execution_count": 3,
   "metadata": {},
   "outputs": [
    {
     "data": {
      "application/vnd.plotly.v1+json": {
       "data": [
        {
         "colorbar": {
          "title": ""
         },
         "hoverinfo": "text",
         "legendgroup": "y=x^4+3x^3-2x^2",
         "line": {
          "color": "rgba(0, 154, 250, 1.000)",
          "dash": "solid",
          "shape": "linear",
          "width": 1
         },
         "mode": "lines",
         "name": "y=x^4+3x^3-2x^2",
         "showlegend": true,
         "text": [
          null,
          null,
          null,
          null,
          null,
          null,
          null,
          null,
          null,
          null,
          null,
          null,
          null,
          null,
          null,
          null,
          null,
          null,
          null,
          null,
          null,
          null,
          null,
          null,
          null,
          null,
          null,
          null,
          null,
          null,
          null,
          null,
          null,
          null,
          null,
          null,
          null,
          null,
          null,
          null,
          null,
          null,
          null,
          null,
          null
         ],
         "type": "scatter",
         "x": [
          -4.975585452450529,
          -4.951170904901059,
          -4.926756357351589,
          -4.9023418098021185,
          -4.676594064430657,
          -4.450846319059195,
          -4.225098573687734,
          -3.9993508283162718,
          -3.7280208576300167,
          -3.456690886943761,
          -3.227284849893052,
          -2.997878812842343,
          -2.499480299669486,
          -2.0400009546537183,
          -1.5473905359351015,
          -0.9766530566146772,
          -0.46944893888978556,
          -0.024676634597799892,
          0.46024456655319457,
          0.9480477875281209,
          1.2177122068860817,
          1.4873766262440427,
          1.7439555168462386,
          2.0005344074484346,
          2.26731692128097,
          2.5340994351135055,
          2.758673485890978,
          2.983247536668451,
          3.1203372674672485,
          3.257426998266046,
          3.3945167290648435,
          3.531606459863641,
          3.6604748502195017,
          3.789343240575363,
          3.918211630931224,
          4.047080021287085,
          4.253537176005464,
          4.459994330723842,
          4.563222908083031,
          4.66645148544222,
          4.7696800628014095,
          4.872908640160599,
          4.904681480120449,
          4.9364543200802995,
          4.96822716004015
         ],
         "xaxis": "x1",
         "y": [
          193.83543855648128,
          187.7921881505353,
          181.8687771891241,
          176.06374260640035,
          127.74030675615727,
          88.30310301499983,
          56.69912662738791,
          31.93770395739055,
          9.924340964784633,
          -5.034718476848784,
          -13.190928034906435,
          -18.03170540736796,
          -20.310547613593418,
          -16.473288567195148,
          -10.170896717125963,
          -3.792615337193755,
          -0.7025709709744254,
          -0.0012625812820757998,
          -0.08630626538536385,
          1.5665432485523003,
          4.650073139413532,
          10.341167039026985,
          19.079334462301176,
          32.03207587223784,
          51.11257727418376,
          77.21377111424079,
          105.6786217868597,
          141.05691450383077,
          166.47004878426003,
          195.06008445494564,
          227.07057760833092,
          262.75356111733197,
          299.87803241508226,
          340.7010737075686,
          385.452529785971,
          434.3688645096947,
          522.0286059169335,
          622.0392329320165,
          677.0114773249772,
          735.479312217384,
          797.5843716401787,
          863.4710149035604,
          884.5341320971211,
          905.9737544561458,
          927.7942471982848
         ],
         "yaxis": "y1",
         "zmax": 0.1,
         "zmin": -0.1
        }
       ],
       "layout": {
        "annotations": [],
        "height": 400,
        "legend": {
         "bgcolor": "rgba(255, 255, 255, 1.000)",
         "bordercolor": "rgba(0, 0, 0, 1.000)",
         "font": {
          "color": "rgba(0, 0, 0, 1.000)",
          "family": "sans-serif",
          "size": 11
         },
         "tracegroupgap": 0,
         "x": 1,
         "y": 1
        },
        "margin": {
         "b": 20,
         "l": 0,
         "r": 0,
         "t": 20
        },
        "paper_bgcolor": "rgba(255, 255, 255, 1.000)",
        "plot_bgcolor": "rgba(255, 255, 255, 1.000)",
        "showlegend": true,
        "width": 600,
        "xaxis": {
         "anchor": "y1",
         "domain": [
          0.07646908719743364,
          0.9934383202099737
         ],
         "gridcolor": "rgba(0, 0, 0, 0.100)",
         "gridwidth": 0.5,
         "linecolor": "rgba(0, 0, 0, 1.000)",
         "mirror": false,
         "range": [
          -5.27389983082525,
          5.26654153841487
         ],
         "showgrid": true,
         "showline": false,
         "showticklabels": true,
         "tickangle": 0,
         "tickcolor": "rgba(0, 0, 0, 0.000)",
         "tickfont": {
          "color": "rgba(0, 0, 0, 1.000)",
          "family": "sans-serif",
          "size": 11
         },
         "tickmode": "array",
         "ticks": "inside",
         "ticktext": [
          "-4",
          "-2",
          "0",
          "2",
          "4"
         ],
         "tickvals": [
          -4,
          -2,
          0,
          2,
          4
         ],
         "title": "x",
         "titlefont": {
          "color": "rgba(0, 0, 0, 1.000)",
          "family": "sans-serif",
          "size": 15
         },
         "type": "-",
         "visible": true,
         "zeroline": true,
         "zerolinecolor": "rgba(0, 0, 0, 1.000)"
        },
        "yaxis": {
         "anchor": "x1",
         "domain": [
          0.07581474190726165,
          0.9901574803149606
         ],
         "gridcolor": "rgba(0, 0, 0, 0.100)",
         "gridwidth": 0.5,
         "linecolor": "rgba(0, 0, 0, 1.000)",
         "mirror": false,
         "range": [
          -48.753691457949756,
          956.2373910426411
         ],
         "showgrid": true,
         "showline": false,
         "showticklabels": true,
         "tickangle": 0,
         "tickcolor": "rgba(0, 0, 0, 0.000)",
         "tickfont": {
          "color": "rgba(0, 0, 0, 1.000)",
          "family": "sans-serif",
          "size": 11
         },
         "tickmode": "array",
         "ticks": "inside",
         "ticktext": [
          "0",
          "200",
          "400",
          "600",
          "800"
         ],
         "tickvals": [
          0,
          200,
          400,
          600,
          800
         ],
         "title": "f(x)",
         "titlefont": {
          "color": "rgba(0, 0, 0, 1.000)",
          "family": "sans-serif",
          "size": 15
         },
         "type": "-",
         "visible": true,
         "zeroline": true,
         "zerolinecolor": "rgba(0, 0, 0, 1.000)"
        }
       }
      },
      "text/html": [
       "    <div id=\"4b86f0ab-b5c9-499a-aed7-774b54b4bdb1\" style=\"width:600px;height:400px;\"></div>\n",
       "    <script>\n",
       "    PLOT = document.getElementById('4b86f0ab-b5c9-499a-aed7-774b54b4bdb1');\n",
       "    Plotly.plot(PLOT, [{\"xaxis\":\"x1\",\"colorbar\":{\"title\":\"\"},\"yaxis\":\"y1\",\"text\":[null,null,null,null,null,null,null,null,null,null,null,null,null,null,null,null,null,null,null,null,null,null,null,null,null,null,null,null,null,null,null,null,null,null,null,null,null,null,null,null,null,null,null,null,null],\"x\":[-4.975585452450529,-4.951170904901059,-4.926756357351589,-4.9023418098021185,-4.676594064430657,-4.450846319059195,-4.225098573687734,-3.9993508283162718,-3.7280208576300167,-3.456690886943761,-3.227284849893052,-2.997878812842343,-2.499480299669486,-2.0400009546537183,-1.5473905359351015,-0.9766530566146772,-0.46944893888978556,-0.024676634597799892,0.46024456655319457,0.9480477875281209,1.2177122068860817,1.4873766262440427,1.7439555168462386,2.0005344074484346,2.26731692128097,2.5340994351135055,2.758673485890978,2.983247536668451,3.1203372674672485,3.257426998266046,3.3945167290648435,3.531606459863641,3.6604748502195017,3.789343240575363,3.918211630931224,4.047080021287085,4.253537176005464,4.459994330723842,4.563222908083031,4.66645148544222,4.7696800628014095,4.872908640160599,4.904681480120449,4.9364543200802995,4.96822716004015],\"showlegend\":true,\"mode\":\"lines\",\"name\":\"y=x^4+3x^3-2x^2\",\"zmin\":-0.1,\"legendgroup\":\"y=x^4+3x^3-2x^2\",\"zmax\":0.1,\"line\":{\"color\":\"rgba(0, 154, 250, 1.000)\",\"shape\":\"linear\",\"dash\":\"solid\",\"width\":1},\"y\":[193.83543855648128,187.7921881505353,181.8687771891241,176.06374260640035,127.74030675615727,88.30310301499983,56.69912662738791,31.93770395739055,9.924340964784633,-5.034718476848784,-13.190928034906435,-18.03170540736796,-20.310547613593418,-16.473288567195148,-10.170896717125963,-3.792615337193755,-0.7025709709744254,-0.0012625812820757998,-0.08630626538536385,1.5665432485523003,4.650073139413532,10.341167039026985,19.079334462301176,32.03207587223784,51.11257727418376,77.21377111424079,105.6786217868597,141.05691450383077,166.47004878426003,195.06008445494564,227.07057760833092,262.75356111733197,299.87803241508226,340.7010737075686,385.452529785971,434.3688645096947,522.0286059169335,622.0392329320165,677.0114773249772,735.479312217384,797.5843716401787,863.4710149035604,884.5341320971211,905.9737544561458,927.7942471982848],\"type\":\"scatter\",\"hoverinfo\":\"text\"}], {\"showlegend\":true,\"xaxis\":{\"showticklabels\":true,\"gridwidth\":0.5,\"tickvals\":[-4.0,-2.0,0.0,2.0,4.0],\"visible\":true,\"ticks\":\"inside\",\"range\":[-5.27389983082525,5.26654153841487],\"domain\":[0.07646908719743364,0.9934383202099737],\"tickmode\":\"array\",\"linecolor\":\"rgba(0, 0, 0, 1.000)\",\"showgrid\":true,\"title\":\"x\",\"mirror\":false,\"tickangle\":0,\"showline\":false,\"gridcolor\":\"rgba(0, 0, 0, 0.100)\",\"titlefont\":{\"color\":\"rgba(0, 0, 0, 1.000)\",\"family\":\"sans-serif\",\"size\":15},\"tickcolor\":\"rgba(0, 0, 0, 0.000)\",\"ticktext\":[\"-4\",\"-2\",\"0\",\"2\",\"4\"],\"zeroline\":true,\"type\":\"-\",\"tickfont\":{\"color\":\"rgba(0, 0, 0, 1.000)\",\"family\":\"sans-serif\",\"size\":11},\"zerolinecolor\":\"rgba(0, 0, 0, 1.000)\",\"anchor\":\"y1\"},\"paper_bgcolor\":\"rgba(255, 255, 255, 1.000)\",\"annotations\":[],\"height\":400,\"margin\":{\"l\":0,\"b\":20,\"r\":0,\"t\":20},\"plot_bgcolor\":\"rgba(255, 255, 255, 1.000)\",\"yaxis\":{\"showticklabels\":true,\"gridwidth\":0.5,\"tickvals\":[0.0,200.0,400.0,600.0,800.0],\"visible\":true,\"ticks\":\"inside\",\"range\":[-48.753691457949756,956.2373910426411],\"domain\":[0.07581474190726165,0.9901574803149606],\"tickmode\":\"array\",\"linecolor\":\"rgba(0, 0, 0, 1.000)\",\"showgrid\":true,\"title\":\"f(x)\",\"mirror\":false,\"tickangle\":0,\"showline\":false,\"gridcolor\":\"rgba(0, 0, 0, 0.100)\",\"titlefont\":{\"color\":\"rgba(0, 0, 0, 1.000)\",\"family\":\"sans-serif\",\"size\":15},\"tickcolor\":\"rgba(0, 0, 0, 0.000)\",\"ticktext\":[\"0\",\"200\",\"400\",\"600\",\"800\"],\"zeroline\":true,\"type\":\"-\",\"tickfont\":{\"color\":\"rgba(0, 0, 0, 1.000)\",\"family\":\"sans-serif\",\"size\":11},\"zerolinecolor\":\"rgba(0, 0, 0, 1.000)\",\"anchor\":\"x1\"},\"legend\":{\"tracegroupgap\":0,\"bordercolor\":\"rgba(0, 0, 0, 1.000)\",\"bgcolor\":\"rgba(255, 255, 255, 1.000)\",\"font\":{\"color\":\"rgba(0, 0, 0, 1.000)\",\"family\":\"sans-serif\",\"size\":11},\"y\":1.0,\"x\":1.0},\"width\":600});\n",
       "    </script>\n"
      ]
     },
     "execution_count": 3,
     "metadata": {},
     "output_type": "execute_result"
    }
   ],
   "source": [
    "f(x)=x^4+3x^3-2x^2\n",
    "plot(f, framestyle=:zerolines,yaxis=(\"f(x)\"), xlabel=\"x\", ylabel=\"y\", label=\"y=x^4+3x^3-2x^2\")\n"
   ]
  },
  {
   "cell_type": "code",
   "execution_count": 6,
   "metadata": {},
   "outputs": [
    {
     "data": {
      "application/vnd.webio.node+json": {
       "children": [
        {
         "children": [
          {
           "children": [
            {
             "children": [
              {
               "children": [
                {
                 "children": [
                  "c"
                 ],
                 "instanceArgs": {
                  "namespace": "html",
                  "tag": "label"
                 },
                 "nodeType": "DOM",
                 "props": {
                  "className": "interact ",
                  "style": {
                   "padding": "5px 10px 0px 10px"
                  }
                 },
                 "type": "node"
                }
               ],
               "instanceArgs": {
                "namespace": "html",
                "tag": "div"
               },
               "nodeType": "DOM",
               "props": {
                "attributes": {
                 "style": "text-align:right;width:18%"
                }
               },
               "type": "node"
              },
              {
               "children": [
                {
                 "children": [],
                 "instanceArgs": {
                  "namespace": "html",
                  "tag": "input"
                 },
                 "nodeType": "DOM",
                 "props": {
                  "attributes": {
                   "data-bind": "numericValue: index, valueUpdate: 'input', event: {change : function () {this.changes(this.changes()+1)}}",
                   "orient": "horizontal",
                   "type": "range"
                  },
                  "className": "slider slider is-fullwidth",
                  "max": 65,
                  "min": 1,
                  "step": 1,
                  "style": {}
                 },
                 "type": "node"
                }
               ],
               "instanceArgs": {
                "namespace": "html",
                "tag": "div"
               },
               "nodeType": "DOM",
               "props": {
                "attributes": {
                 "style": "flex-grow:1; margin: 0 2%"
                }
               },
               "type": "node"
              },
              {
               "children": [
                {
                 "children": [],
                 "instanceArgs": {
                  "namespace": "html",
                  "tag": "p"
                 },
                 "nodeType": "DOM",
                 "props": {
                  "attributes": {
                   "data-bind": "text: formatted_value"
                  }
                 },
                 "type": "node"
                }
               ],
               "instanceArgs": {
                "namespace": "html",
                "tag": "div"
               },
               "nodeType": "DOM",
               "props": {
                "attributes": {
                 "style": "width:18%"
                }
               },
               "type": "node"
              }
             ],
             "instanceArgs": {
              "namespace": "html",
              "tag": "div"
             },
             "nodeType": "DOM",
             "props": {
              "attributes": {
               "style": "display:flex; justify-content:center; align-items:center;"
              }
             },
             "type": "node"
            }
           ],
           "instanceArgs": {
            "handlers": {
             "_promises": {
              "importsLoaded": [
               "function (ko, koPunches) {\n    ko.punches.enableAll();\n    ko.bindingHandlers.numericValue = {\n        init : function(element, valueAccessor, allBindings, data, context) {\n            var stringified = ko.observable(ko.unwrap(valueAccessor()));\n            stringified.subscribe(function(value) {\n                var val = parseFloat(value);\n                if (!isNaN(val)) {\n                    valueAccessor()(val);\n                }\n            })\n            valueAccessor().subscribe(function(value) {\n                var str = JSON.stringify(value);\n                if ((str == \"0\") && ([\"-0\", \"-0.\"].indexOf(stringified()) >= 0))\n                     return;\n                 if ([\"null\", \"\"].indexOf(str) >= 0)\n                     return;\n                stringified(str);\n            })\n            ko.applyBindingsToNode(element, { value: stringified, valueUpdate: allBindings.get('valueUpdate')}, context);\n        }\n    };\n    var json_data = JSON.parse(\"{\\\"formatted_vals\\\":[\\\"0.0\\\",\\\"0.19635\\\",\\\"0.392699\\\",\\\"0.589049\\\",\\\"0.785398\\\",\\\"0.981748\\\",\\\"1.1781\\\",\\\"1.37445\\\",\\\"1.5708\\\",\\\"1.76715\\\",\\\"1.9635\\\",\\\"2.15984\\\",\\\"2.35619\\\",\\\"2.55254\\\",\\\"2.74889\\\",\\\"2.94524\\\",\\\"3.14159\\\",\\\"3.33794\\\",\\\"3.53429\\\",\\\"3.73064\\\",\\\"3.92699\\\",\\\"4.12334\\\",\\\"4.31969\\\",\\\"4.51604\\\",\\\"4.71239\\\",\\\"4.90874\\\",\\\"5.10509\\\",\\\"5.30144\\\",\\\"5.49779\\\",\\\"5.69414\\\",\\\"5.89049\\\",\\\"6.08684\\\",\\\"6.28319\\\",\\\"6.47953\\\",\\\"6.67588\\\",\\\"6.87223\\\",\\\"7.06858\\\",\\\"7.26493\\\",\\\"7.46128\\\",\\\"7.65763\\\",\\\"7.85398\\\",\\\"8.05033\\\",\\\"8.24668\\\",\\\"8.44303\\\",\\\"8.63938\\\",\\\"8.83573\\\",\\\"9.03208\\\",\\\"9.22843\\\",\\\"9.42478\\\",\\\"9.62113\\\",\\\"9.81748\\\",\\\"10.0138\\\",\\\"10.2102\\\",\\\"10.4065\\\",\\\"10.6029\\\",\\\"10.7992\\\",\\\"10.9956\\\",\\\"11.1919\\\",\\\"11.3883\\\",\\\"11.5846\\\",\\\"11.781\\\",\\\"11.9773\\\",\\\"12.1737\\\",\\\"12.37\\\",\\\"12.5664\\\"],\\\"changes\\\":0,\\\"formatted_value\\\":\\\"6.28319\\\",\\\"index\\\":33}\");\n    var self = this;\n    function AppViewModel() {\n        for (var key in json_data) {\n            var el = json_data[key];\n            this[key] = Array.isArray(el) ? ko.observableArray(el) : ko.observable(el);\n        }\n        \n        \n        [this[\"formatted_vals\"].subscribe((function (val){!(this.valueFromJulia[\"formatted_vals\"]) ? (_webIOScope.setObservableValue({\"name\":\"formatted_vals\",\"scope\":\"knockout-component-fefbb07c-f408-4e37-a382-bf419c4587c4\",\"id\":\"ob_03\",\"type\":\"observable\"},val)) : undefined; return this.valueFromJulia[\"formatted_vals\"]=false}),self),this[\"changes\"].subscribe((function (val){!(this.valueFromJulia[\"changes\"]) ? (_webIOScope.setObservableValue({\"name\":\"changes\",\"scope\":\"knockout-component-fefbb07c-f408-4e37-a382-bf419c4587c4\",\"id\":\"ob_05\",\"type\":\"observable\"},val)) : undefined; return this.valueFromJulia[\"changes\"]=false}),self),this[\"formatted_value\"].subscribe((function (val){!(this.valueFromJulia[\"formatted_value\"]) ? (_webIOScope.setObservableValue({\"name\":\"formatted_value\",\"scope\":\"knockout-component-fefbb07c-f408-4e37-a382-bf419c4587c4\",\"id\":\"ob_04\",\"type\":\"observable\"},val)) : undefined; return this.valueFromJulia[\"formatted_value\"]=false}),self),this[\"index\"].subscribe((function (val){!(this.valueFromJulia[\"index\"]) ? (_webIOScope.setObservableValue({\"name\":\"index\",\"scope\":\"knockout-component-fefbb07c-f408-4e37-a382-bf419c4587c4\",\"id\":\"ob_02\",\"type\":\"observable\"},val)) : undefined; return this.valueFromJulia[\"index\"]=false}),self)]\n        \n    }\n    self.model = new AppViewModel();\n    self.valueFromJulia = {};\n    for (var key in json_data) {\n        self.valueFromJulia[key] = false;\n    }\n    ko.applyBindings(self.model, self.dom);\n}\n"
              ]
             },
             "changes": [
              "(function (val){return (val!=this.model[\"changes\"]()) ? (this.valueFromJulia[\"changes\"]=true, this.model[\"changes\"](val)) : undefined})"
             ],
             "formatted_vals": [
              "(function (val){return (val!=this.model[\"formatted_vals\"]()) ? (this.valueFromJulia[\"formatted_vals\"]=true, this.model[\"formatted_vals\"](val)) : undefined})"
             ],
             "formatted_value": [
              "(function (val){return (val!=this.model[\"formatted_value\"]()) ? (this.valueFromJulia[\"formatted_value\"]=true, this.model[\"formatted_value\"](val)) : undefined})"
             ],
             "index": [
              "(function (val){return (val!=this.model[\"index\"]()) ? (this.valueFromJulia[\"index\"]=true, this.model[\"index\"](val)) : undefined})",
              "(function (val){return _webIOScope.setObservableValue({\"name\":\"formatted_value\",\"scope\":\"knockout-component-fefbb07c-f408-4e37-a382-bf419c4587c4\",\"id\":\"ob_04\",\"type\":\"observable\"},_webIOScope.getObservableValue({\"name\":\"formatted_vals\",\"scope\":\"knockout-component-fefbb07c-f408-4e37-a382-bf419c4587c4\",\"id\":\"ob_03\",\"type\":\"observable\"})[(_webIOScope.getObservableValue({\"name\":\"index\",\"scope\":\"knockout-component-fefbb07c-f408-4e37-a382-bf419c4587c4\",\"id\":\"ob_02\",\"type\":\"observable\"})-1)])})"
             ]
            },
            "id": "knockout-component-fefbb07c-f408-4e37-a382-bf419c4587c4",
            "imports": {
             "data": [
              {
               "name": "knockout",
               "type": "js",
               "url": "/assetserver/fe22cd9d191f96ff815bc620a0bebe3c109f5b1f-knockout.js"
              },
              {
               "name": "knockout_punches",
               "type": "js",
               "url": "/assetserver/11cdd9d44807d880492d60f1c24310da0262975e-knockout_punches.js"
              },
              {
               "name": null,
               "type": "js",
               "url": "/assetserver/51c794a2058093733f80f2cc393f437e3f7df428-all.js"
              },
              {
               "name": null,
               "type": "css",
               "url": "/assetserver/e9aa75906a0c3335f6ba21c771b6b0ed32818af2-style.css"
              },
              {
               "name": null,
               "type": "css",
               "url": "/assetserver/68da98fcfcf64a97d74ecffe25d06bf25d85b385-main.css"
              }
             ],
             "type": "async_block"
            },
            "observables": {
             "changes": {
              "id": "ob_05",
              "sync": false,
              "value": 0
             },
             "formatted_vals": {
              "id": "ob_03",
              "sync": false,
              "value": [
               "0.0",
               "0.19635",
               "0.392699",
               "0.589049",
               "0.785398",
               "0.981748",
               "1.1781",
               "1.37445",
               "1.5708",
               "1.76715",
               "1.9635",
               "2.15984",
               "2.35619",
               "2.55254",
               "2.74889",
               "2.94524",
               "3.14159",
               "3.33794",
               "3.53429",
               "3.73064",
               "3.92699",
               "4.12334",
               "4.31969",
               "4.51604",
               "4.71239",
               "4.90874",
               "5.10509",
               "5.30144",
               "5.49779",
               "5.69414",
               "5.89049",
               "6.08684",
               "6.28319",
               "6.47953",
               "6.67588",
               "6.87223",
               "7.06858",
               "7.26493",
               "7.46128",
               "7.65763",
               "7.85398",
               "8.05033",
               "8.24668",
               "8.44303",
               "8.63938",
               "8.83573",
               "9.03208",
               "9.22843",
               "9.42478",
               "9.62113",
               "9.81748",
               "10.0138",
               "10.2102",
               "10.4065",
               "10.6029",
               "10.7992",
               "10.9956",
               "11.1919",
               "11.3883",
               "11.5846",
               "11.781",
               "11.9773",
               "12.1737",
               "12.37",
               "12.5664"
              ]
             },
             "formatted_value": {
              "id": "ob_04",
              "sync": false,
              "value": "6.28319"
             },
             "index": {
              "id": "ob_02",
              "sync": true,
              "value": 33
             }
            },
            "systemjs_options": null
           },
           "nodeType": "Scope",
           "props": {},
           "type": "node"
          }
         ],
         "instanceArgs": {
          "namespace": "html",
          "tag": "div"
         },
         "nodeType": "DOM",
         "props": {
          "className": "field"
         },
         "type": "node"
        },
        {
         "children": [
          {
           "children": [
            {
             "children": [
              {
               "children": [
                {
                 "children": [
                  "a"
                 ],
                 "instanceArgs": {
                  "namespace": "html",
                  "tag": "label"
                 },
                 "nodeType": "DOM",
                 "props": {
                  "className": "interact ",
                  "style": {
                   "padding": "5px 10px 0px 10px"
                  }
                 },
                 "type": "node"
                }
               ],
               "instanceArgs": {
                "namespace": "html",
                "tag": "div"
               },
               "nodeType": "DOM",
               "props": {
                "attributes": {
                 "style": "text-align:right;width:18%"
                }
               },
               "type": "node"
              },
              {
               "children": [
                {
                 "children": [],
                 "instanceArgs": {
                  "namespace": "html",
                  "tag": "input"
                 },
                 "nodeType": "DOM",
                 "props": {
                  "attributes": {
                   "data-bind": "numericValue: index, valueUpdate: 'input', event: {change : function () {this.changes(this.changes()+1)}}",
                   "orient": "horizontal",
                   "type": "range"
                  },
                  "className": "slider slider is-fullwidth",
                  "max": 211,
                  "min": 1,
                  "step": 1,
                  "style": {}
                 },
                 "type": "node"
                }
               ],
               "instanceArgs": {
                "namespace": "html",
                "tag": "div"
               },
               "nodeType": "DOM",
               "props": {
                "attributes": {
                 "style": "flex-grow:1; margin: 0 2%"
                }
               },
               "type": "node"
              },
              {
               "children": [
                {
                 "children": [],
                 "instanceArgs": {
                  "namespace": "html",
                  "tag": "p"
                 },
                 "nodeType": "DOM",
                 "props": {
                  "attributes": {
                   "data-bind": "text: formatted_value"
                  }
                 },
                 "type": "node"
                }
               ],
               "instanceArgs": {
                "namespace": "html",
                "tag": "div"
               },
               "nodeType": "DOM",
               "props": {
                "attributes": {
                 "style": "width:18%"
                }
               },
               "type": "node"
              }
             ],
             "instanceArgs": {
              "namespace": "html",
              "tag": "div"
             },
             "nodeType": "DOM",
             "props": {
              "attributes": {
               "style": "display:flex; justify-content:center; align-items:center;"
              }
             },
             "type": "node"
            }
           ],
           "instanceArgs": {
            "handlers": {
             "_promises": {
              "importsLoaded": [
               "function (ko, koPunches) {\n    ko.punches.enableAll();\n    ko.bindingHandlers.numericValue = {\n        init : function(element, valueAccessor, allBindings, data, context) {\n            var stringified = ko.observable(ko.unwrap(valueAccessor()));\n            stringified.subscribe(function(value) {\n                var val = parseFloat(value);\n                if (!isNaN(val)) {\n                    valueAccessor()(val);\n                }\n            })\n            valueAccessor().subscribe(function(value) {\n                var str = JSON.stringify(value);\n                if ((str == \"0\") && ([\"-0\", \"-0.\"].indexOf(stringified()) >= 0))\n                     return;\n                 if ([\"null\", \"\"].indexOf(str) >= 0)\n                     return;\n                stringified(str);\n            })\n            ko.applyBindingsToNode(element, { value: stringified, valueUpdate: allBindings.get('valueUpdate')}, context);\n        }\n    };\n    var json_data = JSON.parse(\"{\\\"formatted_vals\\\":[\\\"-1.0\\\",\\\"-0.9\\\",\\\"-0.8\\\",\\\"-0.7\\\",\\\"-0.6\\\",\\\"-0.5\\\",\\\"-0.4\\\",\\\"-0.3\\\",\\\"-0.2\\\",\\\"-0.1\\\",\\\"0.0\\\",\\\"0.1\\\",\\\"0.2\\\",\\\"0.3\\\",\\\"0.4\\\",\\\"0.5\\\",\\\"0.6\\\",\\\"0.7\\\",\\\"0.8\\\",\\\"0.9\\\",\\\"1.0\\\",\\\"1.1\\\",\\\"1.2\\\",\\\"1.3\\\",\\\"1.4\\\",\\\"1.5\\\",\\\"1.6\\\",\\\"1.7\\\",\\\"1.8\\\",\\\"1.9\\\",\\\"2.0\\\",\\\"2.1\\\",\\\"2.2\\\",\\\"2.3\\\",\\\"2.4\\\",\\\"2.5\\\",\\\"2.6\\\",\\\"2.7\\\",\\\"2.8\\\",\\\"2.9\\\",\\\"3.0\\\",\\\"3.1\\\",\\\"3.2\\\",\\\"3.3\\\",\\\"3.4\\\",\\\"3.5\\\",\\\"3.6\\\",\\\"3.7\\\",\\\"3.8\\\",\\\"3.9\\\",\\\"4.0\\\",\\\"4.1\\\",\\\"4.2\\\",\\\"4.3\\\",\\\"4.4\\\",\\\"4.5\\\",\\\"4.6\\\",\\\"4.7\\\",\\\"4.8\\\",\\\"4.9\\\",\\\"5.0\\\",\\\"5.1\\\",\\\"5.2\\\",\\\"5.3\\\",\\\"5.4\\\",\\\"5.5\\\",\\\"5.6\\\",\\\"5.7\\\",\\\"5.8\\\",\\\"5.9\\\",\\\"6.0\\\",\\\"6.1\\\",\\\"6.2\\\",\\\"6.3\\\",\\\"6.4\\\",\\\"6.5\\\",\\\"6.6\\\",\\\"6.7\\\",\\\"6.8\\\",\\\"6.9\\\",\\\"7.0\\\",\\\"7.1\\\",\\\"7.2\\\",\\\"7.3\\\",\\\"7.4\\\",\\\"7.5\\\",\\\"7.6\\\",\\\"7.7\\\",\\\"7.8\\\",\\\"7.9\\\",\\\"8.0\\\",\\\"8.1\\\",\\\"8.2\\\",\\\"8.3\\\",\\\"8.4\\\",\\\"8.5\\\",\\\"8.6\\\",\\\"8.7\\\",\\\"8.8\\\",\\\"8.9\\\",\\\"9.0\\\",\\\"9.1\\\",\\\"9.2\\\",\\\"9.3\\\",\\\"9.4\\\",\\\"9.5\\\",\\\"9.6\\\",\\\"9.7\\\",\\\"9.8\\\",\\\"9.9\\\",\\\"10.0\\\",\\\"10.1\\\",\\\"10.2\\\",\\\"10.3\\\",\\\"10.4\\\",\\\"10.5\\\",\\\"10.6\\\",\\\"10.7\\\",\\\"10.8\\\",\\\"10.9\\\",\\\"11.0\\\",\\\"11.1\\\",\\\"11.2\\\",\\\"11.3\\\",\\\"11.4\\\",\\\"11.5\\\",\\\"11.6\\\",\\\"11.7\\\",\\\"11.8\\\",\\\"11.9\\\",\\\"12.0\\\",\\\"12.1\\\",\\\"12.2\\\",\\\"12.3\\\",\\\"12.4\\\",\\\"12.5\\\",\\\"12.6\\\",\\\"12.7\\\",\\\"12.8\\\",\\\"12.9\\\",\\\"13.0\\\",\\\"13.1\\\",\\\"13.2\\\",\\\"13.3\\\",\\\"13.4\\\",\\\"13.5\\\",\\\"13.6\\\",\\\"13.7\\\",\\\"13.8\\\",\\\"13.9\\\",\\\"14.0\\\",\\\"14.1\\\",\\\"14.2\\\",\\\"14.3\\\",\\\"14.4\\\",\\\"14.5\\\",\\\"14.6\\\",\\\"14.7\\\",\\\"14.8\\\",\\\"14.9\\\",\\\"15.0\\\",\\\"15.1\\\",\\\"15.2\\\",\\\"15.3\\\",\\\"15.4\\\",\\\"15.5\\\",\\\"15.6\\\",\\\"15.7\\\",\\\"15.8\\\",\\\"15.9\\\",\\\"16.0\\\",\\\"16.1\\\",\\\"16.2\\\",\\\"16.3\\\",\\\"16.4\\\",\\\"16.5\\\",\\\"16.6\\\",\\\"16.7\\\",\\\"16.8\\\",\\\"16.9\\\",\\\"17.0\\\",\\\"17.1\\\",\\\"17.2\\\",\\\"17.3\\\",\\\"17.4\\\",\\\"17.5\\\",\\\"17.6\\\",\\\"17.7\\\",\\\"17.8\\\",\\\"17.9\\\",\\\"18.0\\\",\\\"18.1\\\",\\\"18.2\\\",\\\"18.3\\\",\\\"18.4\\\",\\\"18.5\\\",\\\"18.6\\\",\\\"18.7\\\",\\\"18.8\\\",\\\"18.9\\\",\\\"19.0\\\",\\\"19.1\\\",\\\"19.2\\\",\\\"19.3\\\",\\\"19.4\\\",\\\"19.5\\\",\\\"19.6\\\",\\\"19.7\\\",\\\"19.8\\\",\\\"19.9\\\",\\\"20.0\\\"],\\\"changes\\\":0,\\\"formatted_value\\\":\\\"9.5\\\",\\\"index\\\":106}\");\n    var self = this;\n    function AppViewModel() {\n        for (var key in json_data) {\n            var el = json_data[key];\n            this[key] = Array.isArray(el) ? ko.observableArray(el) : ko.observable(el);\n        }\n        \n        \n        [this[\"formatted_vals\"].subscribe((function (val){!(this.valueFromJulia[\"formatted_vals\"]) ? (_webIOScope.setObservableValue({\"name\":\"formatted_vals\",\"scope\":\"knockout-component-212558f6-7c8c-408e-8452-1c2bb3a0d0ee\",\"id\":\"ob_08\",\"type\":\"observable\"},val)) : undefined; return this.valueFromJulia[\"formatted_vals\"]=false}),self),this[\"changes\"].subscribe((function (val){!(this.valueFromJulia[\"changes\"]) ? (_webIOScope.setObservableValue({\"name\":\"changes\",\"scope\":\"knockout-component-212558f6-7c8c-408e-8452-1c2bb3a0d0ee\",\"id\":\"ob_10\",\"type\":\"observable\"},val)) : undefined; return this.valueFromJulia[\"changes\"]=false}),self),this[\"formatted_value\"].subscribe((function (val){!(this.valueFromJulia[\"formatted_value\"]) ? (_webIOScope.setObservableValue({\"name\":\"formatted_value\",\"scope\":\"knockout-component-212558f6-7c8c-408e-8452-1c2bb3a0d0ee\",\"id\":\"ob_09\",\"type\":\"observable\"},val)) : undefined; return this.valueFromJulia[\"formatted_value\"]=false}),self),this[\"index\"].subscribe((function (val){!(this.valueFromJulia[\"index\"]) ? (_webIOScope.setObservableValue({\"name\":\"index\",\"scope\":\"knockout-component-212558f6-7c8c-408e-8452-1c2bb3a0d0ee\",\"id\":\"ob_07\",\"type\":\"observable\"},val)) : undefined; return this.valueFromJulia[\"index\"]=false}),self)]\n        \n    }\n    self.model = new AppViewModel();\n    self.valueFromJulia = {};\n    for (var key in json_data) {\n        self.valueFromJulia[key] = false;\n    }\n    ko.applyBindings(self.model, self.dom);\n}\n"
              ]
             },
             "changes": [
              "(function (val){return (val!=this.model[\"changes\"]()) ? (this.valueFromJulia[\"changes\"]=true, this.model[\"changes\"](val)) : undefined})"
             ],
             "formatted_vals": [
              "(function (val){return (val!=this.model[\"formatted_vals\"]()) ? (this.valueFromJulia[\"formatted_vals\"]=true, this.model[\"formatted_vals\"](val)) : undefined})"
             ],
             "formatted_value": [
              "(function (val){return (val!=this.model[\"formatted_value\"]()) ? (this.valueFromJulia[\"formatted_value\"]=true, this.model[\"formatted_value\"](val)) : undefined})"
             ],
             "index": [
              "(function (val){return (val!=this.model[\"index\"]()) ? (this.valueFromJulia[\"index\"]=true, this.model[\"index\"](val)) : undefined})",
              "(function (val){return _webIOScope.setObservableValue({\"name\":\"formatted_value\",\"scope\":\"knockout-component-212558f6-7c8c-408e-8452-1c2bb3a0d0ee\",\"id\":\"ob_09\",\"type\":\"observable\"},_webIOScope.getObservableValue({\"name\":\"formatted_vals\",\"scope\":\"knockout-component-212558f6-7c8c-408e-8452-1c2bb3a0d0ee\",\"id\":\"ob_08\",\"type\":\"observable\"})[(_webIOScope.getObservableValue({\"name\":\"index\",\"scope\":\"knockout-component-212558f6-7c8c-408e-8452-1c2bb3a0d0ee\",\"id\":\"ob_07\",\"type\":\"observable\"})-1)])})"
             ]
            },
            "id": "knockout-component-212558f6-7c8c-408e-8452-1c2bb3a0d0ee",
            "imports": {
             "data": [
              {
               "name": "knockout",
               "type": "js",
               "url": "/assetserver/fe22cd9d191f96ff815bc620a0bebe3c109f5b1f-knockout.js"
              },
              {
               "name": "knockout_punches",
               "type": "js",
               "url": "/assetserver/11cdd9d44807d880492d60f1c24310da0262975e-knockout_punches.js"
              },
              {
               "name": null,
               "type": "js",
               "url": "/assetserver/51c794a2058093733f80f2cc393f437e3f7df428-all.js"
              },
              {
               "name": null,
               "type": "css",
               "url": "/assetserver/e9aa75906a0c3335f6ba21c771b6b0ed32818af2-style.css"
              },
              {
               "name": null,
               "type": "css",
               "url": "/assetserver/68da98fcfcf64a97d74ecffe25d06bf25d85b385-main.css"
              }
             ],
             "type": "async_block"
            },
            "observables": {
             "changes": {
              "id": "ob_10",
              "sync": false,
              "value": 0
             },
             "formatted_vals": {
              "id": "ob_08",
              "sync": false,
              "value": [
               "-1.0",
               "-0.9",
               "-0.8",
               "-0.7",
               "-0.6",
               "-0.5",
               "-0.4",
               "-0.3",
               "-0.2",
               "-0.1",
               "0.0",
               "0.1",
               "0.2",
               "0.3",
               "0.4",
               "0.5",
               "0.6",
               "0.7",
               "0.8",
               "0.9",
               "1.0",
               "1.1",
               "1.2",
               "1.3",
               "1.4",
               "1.5",
               "1.6",
               "1.7",
               "1.8",
               "1.9",
               "2.0",
               "2.1",
               "2.2",
               "2.3",
               "2.4",
               "2.5",
               "2.6",
               "2.7",
               "2.8",
               "2.9",
               "3.0",
               "3.1",
               "3.2",
               "3.3",
               "3.4",
               "3.5",
               "3.6",
               "3.7",
               "3.8",
               "3.9",
               "4.0",
               "4.1",
               "4.2",
               "4.3",
               "4.4",
               "4.5",
               "4.6",
               "4.7",
               "4.8",
               "4.9",
               "5.0",
               "5.1",
               "5.2",
               "5.3",
               "5.4",
               "5.5",
               "5.6",
               "5.7",
               "5.8",
               "5.9",
               "6.0",
               "6.1",
               "6.2",
               "6.3",
               "6.4",
               "6.5",
               "6.6",
               "6.7",
               "6.8",
               "6.9",
               "7.0",
               "7.1",
               "7.2",
               "7.3",
               "7.4",
               "7.5",
               "7.6",
               "7.7",
               "7.8",
               "7.9",
               "8.0",
               "8.1",
               "8.2",
               "8.3",
               "8.4",
               "8.5",
               "8.6",
               "8.7",
               "8.8",
               "8.9",
               "9.0",
               "9.1",
               "9.2",
               "9.3",
               "9.4",
               "9.5",
               "9.6",
               "9.7",
               "9.8",
               "9.9",
               "10.0",
               "10.1",
               "10.2",
               "10.3",
               "10.4",
               "10.5",
               "10.6",
               "10.7",
               "10.8",
               "10.9",
               "11.0",
               "11.1",
               "11.2",
               "11.3",
               "11.4",
               "11.5",
               "11.6",
               "11.7",
               "11.8",
               "11.9",
               "12.0",
               "12.1",
               "12.2",
               "12.3",
               "12.4",
               "12.5",
               "12.6",
               "12.7",
               "12.8",
               "12.9",
               "13.0",
               "13.1",
               "13.2",
               "13.3",
               "13.4",
               "13.5",
               "13.6",
               "13.7",
               "13.8",
               "13.9",
               "14.0",
               "14.1",
               "14.2",
               "14.3",
               "14.4",
               "14.5",
               "14.6",
               "14.7",
               "14.8",
               "14.9",
               "15.0",
               "15.1",
               "15.2",
               "15.3",
               "15.4",
               "15.5",
               "15.6",
               "15.7",
               "15.8",
               "15.9",
               "16.0",
               "16.1",
               "16.2",
               "16.3",
               "16.4",
               "16.5",
               "16.6",
               "16.7",
               "16.8",
               "16.9",
               "17.0",
               "17.1",
               "17.2",
               "17.3",
               "17.4",
               "17.5",
               "17.6",
               "17.7",
               "17.8",
               "17.9",
               "18.0",
               "18.1",
               "18.2",
               "18.3",
               "18.4",
               "18.5",
               "18.6",
               "18.7",
               "18.8",
               "18.9",
               "19.0",
               "19.1",
               "19.2",
               "19.3",
               "19.4",
               "19.5",
               "19.6",
               "19.7",
               "19.8",
               "19.9",
               "20.0"
              ]
             },
             "formatted_value": {
              "id": "ob_09",
              "sync": false,
              "value": "9.5"
             },
             "index": {
              "id": "ob_07",
              "sync": true,
              "value": 106
             }
            },
            "systemjs_options": null
           },
           "nodeType": "Scope",
           "props": {},
           "type": "node"
          }
         ],
         "instanceArgs": {
          "namespace": "html",
          "tag": "div"
         },
         "nodeType": "DOM",
         "props": {
          "className": "field"
         },
         "type": "node"
        },
        {
         "children": [
          {
           "children": [
            {
             "children": [
              {
               "children": [
                {
                 "children": [
                  "b"
                 ],
                 "instanceArgs": {
                  "namespace": "html",
                  "tag": "label"
                 },
                 "nodeType": "DOM",
                 "props": {
                  "className": "interact ",
                  "style": {
                   "padding": "5px 10px 0px 10px"
                  }
                 },
                 "type": "node"
                }
               ],
               "instanceArgs": {
                "namespace": "html",
                "tag": "div"
               },
               "nodeType": "DOM",
               "props": {
                "attributes": {
                 "style": "text-align:right;width:18%"
                }
               },
               "type": "node"
              },
              {
               "children": [
                {
                 "children": [],
                 "instanceArgs": {
                  "namespace": "html",
                  "tag": "input"
                 },
                 "nodeType": "DOM",
                 "props": {
                  "attributes": {
                   "data-bind": "numericValue: index, valueUpdate: 'input', event: {change : function () {this.changes(this.changes()+1)}}",
                   "orient": "horizontal",
                   "type": "range"
                  },
                  "className": "slider slider is-fullwidth",
                  "max": 5,
                  "min": 1,
                  "step": 1,
                  "style": {}
                 },
                 "type": "node"
                }
               ],
               "instanceArgs": {
                "namespace": "html",
                "tag": "div"
               },
               "nodeType": "DOM",
               "props": {
                "attributes": {
                 "style": "flex-grow:1; margin: 0 2%"
                }
               },
               "type": "node"
              },
              {
               "children": [
                {
                 "children": [],
                 "instanceArgs": {
                  "namespace": "html",
                  "tag": "p"
                 },
                 "nodeType": "DOM",
                 "props": {
                  "attributes": {
                   "data-bind": "text: formatted_value"
                  }
                 },
                 "type": "node"
                }
               ],
               "instanceArgs": {
                "namespace": "html",
                "tag": "div"
               },
               "nodeType": "DOM",
               "props": {
                "attributes": {
                 "style": "width:18%"
                }
               },
               "type": "node"
              }
             ],
             "instanceArgs": {
              "namespace": "html",
              "tag": "div"
             },
             "nodeType": "DOM",
             "props": {
              "attributes": {
               "style": "display:flex; justify-content:center; align-items:center;"
              }
             },
             "type": "node"
            }
           ],
           "instanceArgs": {
            "handlers": {
             "_promises": {
              "importsLoaded": [
               "function (ko, koPunches) {\n    ko.punches.enableAll();\n    ko.bindingHandlers.numericValue = {\n        init : function(element, valueAccessor, allBindings, data, context) {\n            var stringified = ko.observable(ko.unwrap(valueAccessor()));\n            stringified.subscribe(function(value) {\n                var val = parseFloat(value);\n                if (!isNaN(val)) {\n                    valueAccessor()(val);\n                }\n            })\n            valueAccessor().subscribe(function(value) {\n                var str = JSON.stringify(value);\n                if ((str == \"0\") && ([\"-0\", \"-0.\"].indexOf(stringified()) >= 0))\n                     return;\n                 if ([\"null\", \"\"].indexOf(str) >= 0)\n                     return;\n                stringified(str);\n            })\n            ko.applyBindingsToNode(element, { value: stringified, valueUpdate: allBindings.get('valueUpdate')}, context);\n        }\n    };\n    var json_data = JSON.parse(\"{\\\"formatted_vals\\\":[\\\"0.25\\\",\\\"0.5\\\",\\\"1.0\\\",\\\"2.0\\\",\\\"4.0\\\"],\\\"changes\\\":0,\\\"formatted_value\\\":\\\"1.0\\\",\\\"index\\\":3}\");\n    var self = this;\n    function AppViewModel() {\n        for (var key in json_data) {\n            var el = json_data[key];\n            this[key] = Array.isArray(el) ? ko.observableArray(el) : ko.observable(el);\n        }\n        \n        \n        [this[\"formatted_vals\"].subscribe((function (val){!(this.valueFromJulia[\"formatted_vals\"]) ? (_webIOScope.setObservableValue({\"name\":\"formatted_vals\",\"scope\":\"knockout-component-91b36450-5c2b-458b-85a1-b34b37a31b2e\",\"id\":\"ob_13\",\"type\":\"observable\"},val)) : undefined; return this.valueFromJulia[\"formatted_vals\"]=false}),self),this[\"changes\"].subscribe((function (val){!(this.valueFromJulia[\"changes\"]) ? (_webIOScope.setObservableValue({\"name\":\"changes\",\"scope\":\"knockout-component-91b36450-5c2b-458b-85a1-b34b37a31b2e\",\"id\":\"ob_15\",\"type\":\"observable\"},val)) : undefined; return this.valueFromJulia[\"changes\"]=false}),self),this[\"formatted_value\"].subscribe((function (val){!(this.valueFromJulia[\"formatted_value\"]) ? (_webIOScope.setObservableValue({\"name\":\"formatted_value\",\"scope\":\"knockout-component-91b36450-5c2b-458b-85a1-b34b37a31b2e\",\"id\":\"ob_14\",\"type\":\"observable\"},val)) : undefined; return this.valueFromJulia[\"formatted_value\"]=false}),self),this[\"index\"].subscribe((function (val){!(this.valueFromJulia[\"index\"]) ? (_webIOScope.setObservableValue({\"name\":\"index\",\"scope\":\"knockout-component-91b36450-5c2b-458b-85a1-b34b37a31b2e\",\"id\":\"ob_12\",\"type\":\"observable\"},val)) : undefined; return this.valueFromJulia[\"index\"]=false}),self)]\n        \n    }\n    self.model = new AppViewModel();\n    self.valueFromJulia = {};\n    for (var key in json_data) {\n        self.valueFromJulia[key] = false;\n    }\n    ko.applyBindings(self.model, self.dom);\n}\n"
              ]
             },
             "changes": [
              "(function (val){return (val!=this.model[\"changes\"]()) ? (this.valueFromJulia[\"changes\"]=true, this.model[\"changes\"](val)) : undefined})"
             ],
             "formatted_vals": [
              "(function (val){return (val!=this.model[\"formatted_vals\"]()) ? (this.valueFromJulia[\"formatted_vals\"]=true, this.model[\"formatted_vals\"](val)) : undefined})"
             ],
             "formatted_value": [
              "(function (val){return (val!=this.model[\"formatted_value\"]()) ? (this.valueFromJulia[\"formatted_value\"]=true, this.model[\"formatted_value\"](val)) : undefined})"
             ],
             "index": [
              "(function (val){return (val!=this.model[\"index\"]()) ? (this.valueFromJulia[\"index\"]=true, this.model[\"index\"](val)) : undefined})",
              "(function (val){return _webIOScope.setObservableValue({\"name\":\"formatted_value\",\"scope\":\"knockout-component-91b36450-5c2b-458b-85a1-b34b37a31b2e\",\"id\":\"ob_14\",\"type\":\"observable\"},_webIOScope.getObservableValue({\"name\":\"formatted_vals\",\"scope\":\"knockout-component-91b36450-5c2b-458b-85a1-b34b37a31b2e\",\"id\":\"ob_13\",\"type\":\"observable\"})[(_webIOScope.getObservableValue({\"name\":\"index\",\"scope\":\"knockout-component-91b36450-5c2b-458b-85a1-b34b37a31b2e\",\"id\":\"ob_12\",\"type\":\"observable\"})-1)])})"
             ]
            },
            "id": "knockout-component-91b36450-5c2b-458b-85a1-b34b37a31b2e",
            "imports": {
             "data": [
              {
               "name": "knockout",
               "type": "js",
               "url": "/assetserver/fe22cd9d191f96ff815bc620a0bebe3c109f5b1f-knockout.js"
              },
              {
               "name": "knockout_punches",
               "type": "js",
               "url": "/assetserver/11cdd9d44807d880492d60f1c24310da0262975e-knockout_punches.js"
              },
              {
               "name": null,
               "type": "js",
               "url": "/assetserver/51c794a2058093733f80f2cc393f437e3f7df428-all.js"
              },
              {
               "name": null,
               "type": "css",
               "url": "/assetserver/e9aa75906a0c3335f6ba21c771b6b0ed32818af2-style.css"
              },
              {
               "name": null,
               "type": "css",
               "url": "/assetserver/68da98fcfcf64a97d74ecffe25d06bf25d85b385-main.css"
              }
             ],
             "type": "async_block"
            },
            "observables": {
             "changes": {
              "id": "ob_15",
              "sync": false,
              "value": 0
             },
             "formatted_vals": {
              "id": "ob_13",
              "sync": false,
              "value": [
               "0.25",
               "0.5",
               "1.0",
               "2.0",
               "4.0"
              ]
             },
             "formatted_value": {
              "id": "ob_14",
              "sync": false,
              "value": "1.0"
             },
             "index": {
              "id": "ob_12",
              "sync": true,
              "value": 3
             }
            },
            "systemjs_options": null
           },
           "nodeType": "Scope",
           "props": {},
           "type": "node"
          }
         ],
         "instanceArgs": {
          "namespace": "html",
          "tag": "div"
         },
         "nodeType": "DOM",
         "props": {
          "className": "field"
         },
         "type": "node"
        },
        {
         "children": [
          {
           "children": [],
           "instanceArgs": {
            "id": "ob_20",
            "name": "obs-node"
           },
           "nodeType": "ObservableNode",
           "props": {},
           "type": "node"
          }
         ],
         "instanceArgs": {
          "handlers": {},
          "id": "scope-2b897e84-55e1-4ab9-af07-f46f4b049836",
          "imports": {
           "data": [],
           "type": "async_block"
          },
          "observables": {
           "obs-node": {
            "id": "ob_20",
            "sync": false,
            "value": {
             "children": [
              {
               "children": [],
               "instanceArgs": {
                "namespace": "html",
                "tag": "div"
               },
               "nodeType": "DOM",
               "props": {
                "setInnerHtml": "    <div id=\"8883da0e-7076-465c-b977-619586fdd2c3\" style=\"width:600px;height:400px;\"></div>\n    <script>\n    PLOT = document.getElementById('8883da0e-7076-465c-b977-619586fdd2c3');\n    Plotly.plot(PLOT, [{\"xaxis\":\"x1\",\"colorbar\":{\"title\":\"\"},\"yaxis\":\"y1\",\"text\":[null,null,null,null,null,null,null,null,null,null,null,null,null,null,null,null,null,null,null,null,null,null,null,null,null,null,null,null,null,null,null,null,null,null,null,null,null,null,null,null,null,null,null,null,null,null,null,null,null,null,null,null,null,null,null,null,null,null,null,null,null,null,null,null,null,null,null,null,null,null,null,null,null,null,null,null,null,null,null,null,null,null,null,null,null,null,null,null,null,null,null,null,null,null,null,null,null,null,null,null,null,null,null,null,null,null,null,null,null,null,null,null,null,null,null,null,null,null,null,null,null,null,null,null,null,null,null,null,null,null,null,null,null,null,null],\"x\":[0.030680225288853866,0.06136045057770773,0.0920406758665616,0.12272090115541547,0.2645623928401042,0.40640388452479287,0.5482453762094815,0.6900868678941703,0.7610076137365146,0.8319283595788589,0.9028491054212033,0.9737698512635476,1.044690597105892,1.1156113429482364,1.1865320887905808,1.257452834632925,1.3426936588935923,1.4279344831542597,1.513175307414927,1.5984161316755943,1.6836569559362617,1.768897780196929,1.8541386044575963,1.9393794287182637,2.0114494607870297,2.083519492855795,2.1555895249245607,2.227659556993326,2.2997295890620917,2.371799621130857,2.4438696531996227,2.5159396852683886,2.672516196022781,2.829092706777173,2.9856692175315653,3.1422457282859577,3.286595421763736,3.4309451152415145,3.575294808719293,3.7196445021970717,3.7970235658234817,3.8744026294498912,3.9517816930763012,4.029160756702711,4.106539820329122,4.183918883955531,4.261297947581941,4.338677011208351,4.428328244816422,4.5179794784244915,4.607630712032561,4.697281945640631,4.786933179248701,4.876584412856771,4.966235646464842,5.0558868800729115,5.135558316578662,5.2152297530844125,5.294901189590163,5.3745726260959135,5.454244062601664,5.533915499107415,5.613586935613165,5.693258372118916,5.8329877124873075,5.972717052855698,6.112446393224088,6.2521757335924795,6.40451822190307,6.55686071021366,6.70920319852425,6.86154568683484,6.938169637605453,7.014793588376067,7.09141753914668,7.168041489917293,7.244665440687907,7.32128939145852,7.397913342229133,7.474537292999747,7.5592548688787,7.643972444757653,7.728690020636606,7.813407596515558,7.89812517239451,7.9828427482734625,8.067560324152415,8.152277900031368,8.232884535809577,8.313491171587785,8.394097807365991,8.4747044431442,8.555311078922408,8.635917714700614,8.716524350478823,8.79713098625703,8.964755383369532,9.132379780482035,9.300004177594538,9.467628574707039,9.608732612328922,9.749836649950804,9.890940687572687,10.032044725194568,10.118180743426588,10.20431676165861,10.29045277989063,10.37658879812265,10.462724816354672,10.548860834586693,10.634996852818713,10.721132871050735,10.802103268735117,10.8830736664195,10.964044064103884,11.045014461788266,11.125984859472648,11.206955257157032,11.287925654841416,11.368896052525798,11.433756480580229,11.49861690863466,11.56347733668909,11.628337764743522,11.693198192797954,11.758058620852385,11.822919048906815,11.887779476961246,12.017500333070107,12.14722118917897,12.276942045287832,12.406662901396693,12.446589829637313,12.486516757877933,12.526443686118553],\"showlegend\":true,\"mode\":\"lines\",\"name\":\"sin\",\"zmin\":-0.1,\"legendgroup\":\"sin\",\"zmax\":0.1,\"line\":{\"color\":\"rgba(0, 154, 250, 1.000)\",\"shape\":\"linear\",\"dash\":\"solid\",\"width\":1},\"y\":[0.29141641799889945,0.5825585541679227,0.8731523848318781,1.162924402382055,2.4841256611199865,3.755432510301708,4.951310370257007,6.0477396752055705,6.551688774830711,7.022698313445598,7.4584002226076,7.856603948077592,8.21530746314759,8.532707334118998,8.807207787325842,9.037428732117224,9.25392331719595,9.403219616181515,9.484233499125143,9.496376675644802,9.439560966854426,9.314198945683682,9.121200940938534,8.861968426857935,8.59249610984215,8.278412913235334,7.921349507274195,7.52315970863855,7.085910855728585,6.611873075371141,6.1035074966805976,5.563453473266113,4.294595566492983,2.9206654077052616,1.4752777887173307,-0.006204209172529115,-1.3727041039271477,-2.71065082264019,-3.992214166447699,-5.19073674891114,-5.79025874776136,-6.35512875465439,-6.88196628664665,-7.367618467378626,-7.809178895566034,-8.204005038452973,-8.549734046135177,-8.844296892112201,-9.119290449722316,-9.32103821399151,-9.447919754566122,-9.498915963747923,-9.473617241928311,-9.372226787476768,-9.195558964659288,-8.945032762695641,-8.662024253353193,-8.32406229516804,-7.933290979940972,-7.492189431587204,-7.003556078125734,-6.470490897945769,-5.896375752983071,-5.284852933575975,-4.133862767275092,-2.9022931043037454,-1.6141503689541035,-0.2945437385495724,1.149836583113014,2.567582799294269,3.925855110998338,5.193191336073758,5.786894757047628,6.346638609139301,6.869138115158299,7.351327061062311,7.790375789598143,8.183707805742934,8.52901489649875,8.824270676312329,9.090374695350382,9.29127549144653,9.425532048159088,9.492181373258129,9.4907454060532,9.421234446415639,9.28414708089991,9.080466606493854,8.826174621405752,8.514566231111594,8.147664993214743,7.727853532229649,7.2578580670269055,6.740730707006585,6.179829631966986,5.578797284379121,4.217699205184962,2.7383697007208174,1.1822776447133305,-0.4069562652289676,-1.737729762177024,-3.0339618204483876,-4.269886799650589,-5.420937803475958,-6.071999807897553,-6.678038981388248,-7.2345616480407715,-7.737441288302693,-8.182949136406794,-8.56778182852596,-8.889085896646037,-9.144478926538739,-9.32275648675406,-9.439945528152434,-9.495278154997148,-9.488391793384118,-9.419331567052401,-9.288550001705278,-9.096904059779462,-8.845649525092334,-8.602482215031976,-8.323138021811255,-8.008791699644949,-7.660765200719023,-7.280522115852205,-6.8696615195104735,-6.429911245058358,-5.963120618527686,-4.956375935535206,-3.8663447243012006,-2.7113437784748267,-1.5107816377117806,-1.1351983731336015,-0.7578056615704944,-0.37920504731661836],\"type\":\"scatter\",\"hoverinfo\":\"text\"},{\"xaxis\":\"x1\",\"colorbar\":{\"title\":\"\"},\"yaxis\":\"y1\",\"text\":[null,null,null,null,null,null,null,null,null,null,null,null,null,null,null,null,null,null,null,null,null,null,null,null,null,null,null,null,null,null,null,null,null,null,null,null,null,null,null,null,null,null,null,null,null,null,null,null,null,null,null,null,null,null,null,null,null,null,null,null,null,null,null,null,null,null,null,null,null,null,null,null,null,null,null,null,null,null,null,null,null,null,null,null,null,null,null,null,null,null,null,null,null,null,null,null,null,null,null,null,null,null,null,null,null,null,null,null,null,null,null,null,null,null,null,null,null,null,null,null,null,null,null,null,null,null,null,null,null,null,null,null,null,null,null],\"x\":[0.030680225288853866,0.06136045057770773,0.0920406758665616,0.12272090115541547,0.19364164699775982,0.2645623928401042,0.3354831386824485,0.40640388452479287,0.47732463036713724,0.5482453762094815,0.6191661220518259,0.6900868678941703,0.7610076137365146,0.8319283595788589,0.9028491054212033,0.9737698512635476,1.1156113429482364,1.257452834632925,1.4279344831542597,1.5984161316755943,1.768897780196929,1.9393794287182637,2.083519492855795,2.227659556993326,2.2997295890620917,2.371799621130857,2.4438696531996227,2.5159396852683886,2.5942279406455846,2.672516196022781,2.750804451399977,2.829092706777173,2.9073809621543694,2.9856692175315653,3.0639574729087613,3.1422457282859577,3.214420575024847,3.286595421763736,3.3587702685026253,3.4309451152415145,3.5031199619804037,3.575294808719293,3.647469655458182,3.7196445021970717,3.7970235658234817,3.8744026294498912,3.9517816930763012,4.029160756702711,4.106539820329122,4.183918883955531,4.261297947581941,4.338677011208351,4.697281945640631,5.0558868800729115,5.135558316578662,5.2152297530844125,5.294901189590163,5.3745726260959135,5.454244062601664,5.533915499107415,5.613586935613165,5.693258372118916,5.763123042303112,5.8329877124873075,5.902852382671503,5.972717052855698,6.042581723039893,6.112446393224088,6.182311063408283,6.2521757335924795,6.328346977747774,6.40451822190307,6.480689466058365,6.55686071021366,6.633031954368954,6.70920319852425,6.7853744426795455,6.86154568683484,6.938169637605453,7.014793588376067,7.09141753914668,7.168041489917293,7.244665440687907,7.32128939145852,7.397913342229133,7.474537292999747,7.813407596515558,8.152277900031368,8.232884535809577,8.313491171587785,8.394097807365991,8.4747044431442,8.555311078922408,8.635917714700614,8.716524350478823,8.79713098625703,8.880943184813281,8.964755383369532,9.048567581925784,9.132379780482035,9.216191979038285,9.300004177594538,9.383816376150788,9.467628574707039,9.53818059351798,9.608732612328922,9.679284631139863,9.749836649950804,9.820388668761746,9.890940687572687,9.961492706383627,10.032044725194568,10.118180743426588,10.20431676165861,10.29045277989063,10.37658879812265,10.548860834586693,10.721132871050735,11.045014461788266,11.368896052525798,11.49861690863466,11.628337764743522,11.758058620852385,11.887779476961246,11.952639905015676,12.017500333070107,12.082360761124537,12.14722118917897,12.212081617233402,12.276942045287832,12.341802473342263,12.406662901396693,12.446589829637313,12.486516757877933,12.526443686118553],\"showlegend\":true,\"mode\":\"lines\",\"name\":\"cos\",\"zmin\":-0.1,\"legendgroup\":\"cos\",\"zmax\":0.1,\"line\":{\"color\":\"rgba(227, 111, 71, 1.000)\",\"shape\":\"linear\",\"dash\":\"solid\",\"width\":1},\"y\":[9.495529288634767,9.482121362383303,9.459788840817875,9.428552743361218,9.322444693591995,9.169466707489875,8.970387903961385,8.726209180427032,8.438158180665036,8.107683122655043,7.736445517453175,7.32631181570539,6.879344023797418,6.397789336820051,5.88406884047144,5.340765338699275,4.176470465629068,2.928289929617976,1.3525756355410092,-0.26235478701444365,-1.8696785820629689,-3.422793537649195,-4.660244589930711,-5.801040251396082,-6.327706325728762,-6.821519950508256,-7.279917323566507,-7.700518518307921,-8.112040415220733,-8.47386859234074,-8.783786518792041,-9.039895661800188,-9.24062711695427,-9.38475121919155,-9.471385075628696,-9.499997974093917,-9.474817579217765,-9.400302305940036,-9.2768401513821,-9.105073976510024,-8.885898158791235,-8.620453935217931,-8.310123459945892,-7.956522607490247,-7.531460922953332,-7.061326965363164,-6.548934266692476,-5.997349257725568,-5.409872916903507,-4.790021015511127,-4.141503077429379,-3.468200179368899,-0.14351137116925913,3.199435711856321,3.9011967182290435,4.5782078268861675,5.226173956881574,5.840984293868031,6.418738369847152,6.955770808443946,7.448674578717567,7.894322609982025,8.243988278242822,8.553430809992955,8.821140408180723,9.045810894370439,9.226346081700731,9.361865123275667,9.451706809893455,9.495432796143694,9.490313658183737,9.430157784052978,9.31531403292435,9.146448412841359,8.924540218368495,8.650876351413666,8.327043858157596,7.954920725370458,7.534045996067098,7.0689587893113615,6.562388403232431,6.017307574097652,5.436915031232611,4.824616725732954,4.184005843124792,3.518841717266403,0.38534760563862724,-2.791975323735866,-3.5140633961915118,-4.213331448629945,-4.885238495543795,-5.525421231399986,-6.129722365563751,-6.6942176193800655,-7.215241210095668,-7.689409656131226,-8.129442441772385,-8.512403503980655,-8.835604313009453,-9.096775878418363,-9.29408467823386,-9.426145530958616,-9.492031320063173,-9.491279502690398,-9.438979690008619,-9.339716016755766,-9.193982371621454,-9.002503855709339,-8.766233174779899,-8.48634589904098,-8.164234614071253,-7.801501991978549,-7.306217785755642,-6.7567592352442905,-6.157200480794629,-5.5119871471247786,-4.1040363715225965,-2.574588348083811,0.46949033562036785,3.4647488334991583,4.579887932021898,5.618066975344138,6.561840489325922,7.395349382476124,7.766298609737252,8.104587440804591,8.408793235652848,8.677636687074902,8.909987200680941,9.104867649500779,9.261458483194067,9.37910117458773,9.431931120064164,9.469727059387283,9.492428747801567],\"type\":\"scatter\",\"hoverinfo\":\"text\"}], {\"showlegend\":true,\"xaxis\":{\"showticklabels\":true,\"gridwidth\":0.5,\"tickvals\":[0.0,2.0,4.0,6.0,8.0,10.0,12.0],\"visible\":true,\"ticks\":\"inside\",\"range\":[-0.344192678536037,12.901316589943443],\"domain\":[0.05100612423447069,0.9934383202099737],\"tickmode\":\"array\",\"linecolor\":\"rgba(0, 0, 0, 1.000)\",\"showgrid\":true,\"title\":\"\",\"mirror\":false,\"tickangle\":0,\"showline\":true,\"gridcolor\":\"rgba(0, 0, 0, 0.100)\",\"titlefont\":{\"color\":\"rgba(0, 0, 0, 1.000)\",\"family\":\"sans-serif\",\"size\":15},\"tickcolor\":\"rgb(0, 0, 0)\",\"ticktext\":[\"0\",\"2\",\"4\",\"6\",\"8\",\"10\",\"12\"],\"zeroline\":false,\"type\":\"-\",\"tickfont\":{\"color\":\"rgba(0, 0, 0, 1.000)\",\"family\":\"sans-serif\",\"size\":11},\"zerolinecolor\":\"rgba(0, 0, 0, 1.000)\",\"anchor\":\"y1\"},\"paper_bgcolor\":\"rgba(255, 255, 255, 1.000)\",\"annotations\":[{\"yanchor\":\"top\",\"xanchor\":\"center\",\"rotation\":-0.0,\"y\":1.0,\"font\":{\"color\":\"rgba(0, 0, 0, 1.000)\",\"family\":\"sans-serif\",\"size\":20},\"yref\":\"paper\",\"showarrow\":false,\"text\":\"y=af(bx+c)\",\"xref\":\"paper\",\"x\":0.5222222222222223}],\"height\":400,\"margin\":{\"l\":0,\"b\":20,\"r\":0,\"t\":20},\"plot_bgcolor\":\"rgba(255, 255, 255, 1.000)\",\"yaxis\":{\"showticklabels\":true,\"gridwidth\":0.5,\"tickvals\":[-10.0,-5.0,0.0,5.0,10.0],\"visible\":true,\"ticks\":\"inside\",\"range\":[-10.069889213586078,10.066267915136963],\"domain\":[0.03762029746281716,0.9415463692038496],\"tickmode\":\"array\",\"linecolor\":\"rgba(0, 0, 0, 1.000)\",\"showgrid\":true,\"title\":\"\",\"mirror\":false,\"tickangle\":0,\"showline\":true,\"gridcolor\":\"rgba(0, 0, 0, 0.100)\",\"titlefont\":{\"color\":\"rgba(0, 0, 0, 1.000)\",\"family\":\"sans-serif\",\"size\":15},\"tickcolor\":\"rgb(0, 0, 0)\",\"ticktext\":[\"-10\",\"-5\",\"0\",\"5\",\"10\"],\"zeroline\":false,\"type\":\"-\",\"tickfont\":{\"color\":\"rgba(0, 0, 0, 1.000)\",\"family\":\"sans-serif\",\"size\":11},\"zerolinecolor\":\"rgba(0, 0, 0, 1.000)\",\"anchor\":\"x1\"},\"legend\":{\"tracegroupgap\":0,\"bordercolor\":\"rgba(0, 0, 0, 1.000)\",\"bgcolor\":\"rgba(255, 255, 255, 1.000)\",\"font\":{\"color\":\"rgba(0, 0, 0, 1.000)\",\"family\":\"sans-serif\",\"size\":11},\"y\":1.0,\"x\":1.0},\"width\":600});\n    </script>\n"
               },
               "type": "node"
              }
             ],
             "instanceArgs": {
              "namespace": "html",
              "tag": "div"
             },
             "nodeType": "DOM",
             "props": {
              "attributes": {
               "style": "display:flex; justify-content:center; align-items:center;"
              }
             },
             "type": "node"
            }
           }
          },
          "systemjs_options": null
         },
         "nodeType": "Scope",
         "props": {},
         "type": "node"
        }
       ],
       "instanceArgs": {
        "namespace": "html",
        "tag": "div"
       },
       "nodeType": "DOM",
       "props": {},
       "type": "node"
      },
      "text/html": [
       "<div\n",
       "    class=\"webio-mountpoint\"\n",
       "    data-webio-mountpoint=\"17082161655734722500\"\n",
       ">\n",
       "    <script>\n",
       "    if (window.require && require.defined && require.defined(\"nbextensions/webio/main\")) {\n",
       "        console.log(\"Jupyter WebIO extension detected, not mounting.\");\n",
       "    } else if (window.WebIO) {\n",
       "        WebIO.mount(\n",
       "            document.querySelector('[data-webio-mountpoint=\"17082161655734722500\"]'),\n",
       "            {\"props\":{},\"nodeType\":\"DOM\",\"type\":\"node\",\"instanceArgs\":{\"namespace\":\"html\",\"tag\":\"div\"},\"children\":[{\"props\":{\"className\":\"field\"},\"nodeType\":\"DOM\",\"type\":\"node\",\"instanceArgs\":{\"namespace\":\"html\",\"tag\":\"div\"},\"children\":[{\"props\":{},\"nodeType\":\"Scope\",\"type\":\"node\",\"instanceArgs\":{\"imports\":{\"data\":[{\"name\":\"knockout\",\"type\":\"js\",\"url\":\"\\/assetserver\\/fe22cd9d191f96ff815bc620a0bebe3c109f5b1f-knockout.js\"},{\"name\":\"knockout_punches\",\"type\":\"js\",\"url\":\"\\/assetserver\\/11cdd9d44807d880492d60f1c24310da0262975e-knockout_punches.js\"},{\"name\":null,\"type\":\"js\",\"url\":\"\\/assetserver\\/51c794a2058093733f80f2cc393f437e3f7df428-all.js\"},{\"name\":null,\"type\":\"css\",\"url\":\"\\/assetserver\\/e9aa75906a0c3335f6ba21c771b6b0ed32818af2-style.css\"},{\"name\":null,\"type\":\"css\",\"url\":\"\\/assetserver\\/68da98fcfcf64a97d74ecffe25d06bf25d85b385-main.css\"}],\"type\":\"async_block\"},\"id\":\"knockout-component-fefbb07c-f408-4e37-a382-bf419c4587c4\",\"handlers\":{\"formatted_vals\":[\"(function (val){return (val!=this.model[\\\"formatted_vals\\\"]()) ? (this.valueFromJulia[\\\"formatted_vals\\\"]=true, this.model[\\\"formatted_vals\\\"](val)) : undefined})\"],\"_promises\":{\"importsLoaded\":[\"function (ko, koPunches) {\\n    ko.punches.enableAll();\\n    ko.bindingHandlers.numericValue = {\\n        init : function(element, valueAccessor, allBindings, data, context) {\\n            var stringified = ko.observable(ko.unwrap(valueAccessor()));\\n            stringified.subscribe(function(value) {\\n                var val = parseFloat(value);\\n                if (!isNaN(val)) {\\n                    valueAccessor()(val);\\n                }\\n            })\\n            valueAccessor().subscribe(function(value) {\\n                var str = JSON.stringify(value);\\n                if ((str == \\\"0\\\") && ([\\\"-0\\\", \\\"-0.\\\"].indexOf(stringified()) >= 0))\\n                     return;\\n                 if ([\\\"null\\\", \\\"\\\"].indexOf(str) >= 0)\\n                     return;\\n                stringified(str);\\n            })\\n            ko.applyBindingsToNode(element, { value: stringified, valueUpdate: allBindings.get('valueUpdate')}, context);\\n        }\\n    };\\n    var json_data = JSON.parse(\\\"{\\\\\\\"formatted_vals\\\\\\\":[\\\\\\\"0.0\\\\\\\",\\\\\\\"0.19635\\\\\\\",\\\\\\\"0.392699\\\\\\\",\\\\\\\"0.589049\\\\\\\",\\\\\\\"0.785398\\\\\\\",\\\\\\\"0.981748\\\\\\\",\\\\\\\"1.1781\\\\\\\",\\\\\\\"1.37445\\\\\\\",\\\\\\\"1.5708\\\\\\\",\\\\\\\"1.76715\\\\\\\",\\\\\\\"1.9635\\\\\\\",\\\\\\\"2.15984\\\\\\\",\\\\\\\"2.35619\\\\\\\",\\\\\\\"2.55254\\\\\\\",\\\\\\\"2.74889\\\\\\\",\\\\\\\"2.94524\\\\\\\",\\\\\\\"3.14159\\\\\\\",\\\\\\\"3.33794\\\\\\\",\\\\\\\"3.53429\\\\\\\",\\\\\\\"3.73064\\\\\\\",\\\\\\\"3.92699\\\\\\\",\\\\\\\"4.12334\\\\\\\",\\\\\\\"4.31969\\\\\\\",\\\\\\\"4.51604\\\\\\\",\\\\\\\"4.71239\\\\\\\",\\\\\\\"4.90874\\\\\\\",\\\\\\\"5.10509\\\\\\\",\\\\\\\"5.30144\\\\\\\",\\\\\\\"5.49779\\\\\\\",\\\\\\\"5.69414\\\\\\\",\\\\\\\"5.89049\\\\\\\",\\\\\\\"6.08684\\\\\\\",\\\\\\\"6.28319\\\\\\\",\\\\\\\"6.47953\\\\\\\",\\\\\\\"6.67588\\\\\\\",\\\\\\\"6.87223\\\\\\\",\\\\\\\"7.06858\\\\\\\",\\\\\\\"7.26493\\\\\\\",\\\\\\\"7.46128\\\\\\\",\\\\\\\"7.65763\\\\\\\",\\\\\\\"7.85398\\\\\\\",\\\\\\\"8.05033\\\\\\\",\\\\\\\"8.24668\\\\\\\",\\\\\\\"8.44303\\\\\\\",\\\\\\\"8.63938\\\\\\\",\\\\\\\"8.83573\\\\\\\",\\\\\\\"9.03208\\\\\\\",\\\\\\\"9.22843\\\\\\\",\\\\\\\"9.42478\\\\\\\",\\\\\\\"9.62113\\\\\\\",\\\\\\\"9.81748\\\\\\\",\\\\\\\"10.0138\\\\\\\",\\\\\\\"10.2102\\\\\\\",\\\\\\\"10.4065\\\\\\\",\\\\\\\"10.6029\\\\\\\",\\\\\\\"10.7992\\\\\\\",\\\\\\\"10.9956\\\\\\\",\\\\\\\"11.1919\\\\\\\",\\\\\\\"11.3883\\\\\\\",\\\\\\\"11.5846\\\\\\\",\\\\\\\"11.781\\\\\\\",\\\\\\\"11.9773\\\\\\\",\\\\\\\"12.1737\\\\\\\",\\\\\\\"12.37\\\\\\\",\\\\\\\"12.5664\\\\\\\"],\\\\\\\"changes\\\\\\\":0,\\\\\\\"formatted_value\\\\\\\":\\\\\\\"6.28319\\\\\\\",\\\\\\\"index\\\\\\\":33}\\\");\\n    var self = this;\\n    function AppViewModel() {\\n        for (var key in json_data) {\\n            var el = json_data[key];\\n            this[key] = Array.isArray(el) ? ko.observableArray(el) : ko.observable(el);\\n        }\\n        \\n        \\n        [this[\\\"formatted_vals\\\"].subscribe((function (val){!(this.valueFromJulia[\\\"formatted_vals\\\"]) ? (_webIOScope.setObservableValue({\\\"name\\\":\\\"formatted_vals\\\",\\\"scope\\\":\\\"knockout-component-fefbb07c-f408-4e37-a382-bf419c4587c4\\\",\\\"id\\\":\\\"ob_03\\\",\\\"type\\\":\\\"observable\\\"},val)) : undefined; return this.valueFromJulia[\\\"formatted_vals\\\"]=false}),self),this[\\\"changes\\\"].subscribe((function (val){!(this.valueFromJulia[\\\"changes\\\"]) ? (_webIOScope.setObservableValue({\\\"name\\\":\\\"changes\\\",\\\"scope\\\":\\\"knockout-component-fefbb07c-f408-4e37-a382-bf419c4587c4\\\",\\\"id\\\":\\\"ob_05\\\",\\\"type\\\":\\\"observable\\\"},val)) : undefined; return this.valueFromJulia[\\\"changes\\\"]=false}),self),this[\\\"formatted_value\\\"].subscribe((function (val){!(this.valueFromJulia[\\\"formatted_value\\\"]) ? (_webIOScope.setObservableValue({\\\"name\\\":\\\"formatted_value\\\",\\\"scope\\\":\\\"knockout-component-fefbb07c-f408-4e37-a382-bf419c4587c4\\\",\\\"id\\\":\\\"ob_04\\\",\\\"type\\\":\\\"observable\\\"},val)) : undefined; return this.valueFromJulia[\\\"formatted_value\\\"]=false}),self),this[\\\"index\\\"].subscribe((function (val){!(this.valueFromJulia[\\\"index\\\"]) ? (_webIOScope.setObservableValue({\\\"name\\\":\\\"index\\\",\\\"scope\\\":\\\"knockout-component-fefbb07c-f408-4e37-a382-bf419c4587c4\\\",\\\"id\\\":\\\"ob_02\\\",\\\"type\\\":\\\"observable\\\"},val)) : undefined; return this.valueFromJulia[\\\"index\\\"]=false}),self)]\\n        \\n    }\\n    self.model = new AppViewModel();\\n    self.valueFromJulia = {};\\n    for (var key in json_data) {\\n        self.valueFromJulia[key] = false;\\n    }\\n    ko.applyBindings(self.model, self.dom);\\n}\\n\"]},\"changes\":[\"(function (val){return (val!=this.model[\\\"changes\\\"]()) ? (this.valueFromJulia[\\\"changes\\\"]=true, this.model[\\\"changes\\\"](val)) : undefined})\"],\"formatted_value\":[\"(function (val){return (val!=this.model[\\\"formatted_value\\\"]()) ? (this.valueFromJulia[\\\"formatted_value\\\"]=true, this.model[\\\"formatted_value\\\"](val)) : undefined})\"],\"index\":[\"(function (val){return (val!=this.model[\\\"index\\\"]()) ? (this.valueFromJulia[\\\"index\\\"]=true, this.model[\\\"index\\\"](val)) : undefined})\",\"(function (val){return _webIOScope.setObservableValue({\\\"name\\\":\\\"formatted_value\\\",\\\"scope\\\":\\\"knockout-component-fefbb07c-f408-4e37-a382-bf419c4587c4\\\",\\\"id\\\":\\\"ob_04\\\",\\\"type\\\":\\\"observable\\\"},_webIOScope.getObservableValue({\\\"name\\\":\\\"formatted_vals\\\",\\\"scope\\\":\\\"knockout-component-fefbb07c-f408-4e37-a382-bf419c4587c4\\\",\\\"id\\\":\\\"ob_03\\\",\\\"type\\\":\\\"observable\\\"})[(_webIOScope.getObservableValue({\\\"name\\\":\\\"index\\\",\\\"scope\\\":\\\"knockout-component-fefbb07c-f408-4e37-a382-bf419c4587c4\\\",\\\"id\\\":\\\"ob_02\\\",\\\"type\\\":\\\"observable\\\"})-1)])})\"]},\"systemjs_options\":null,\"observables\":{\"formatted_vals\":{\"sync\":false,\"id\":\"ob_03\",\"value\":[\"0.0\",\"0.19635\",\"0.392699\",\"0.589049\",\"0.785398\",\"0.981748\",\"1.1781\",\"1.37445\",\"1.5708\",\"1.76715\",\"1.9635\",\"2.15984\",\"2.35619\",\"2.55254\",\"2.74889\",\"2.94524\",\"3.14159\",\"3.33794\",\"3.53429\",\"3.73064\",\"3.92699\",\"4.12334\",\"4.31969\",\"4.51604\",\"4.71239\",\"4.90874\",\"5.10509\",\"5.30144\",\"5.49779\",\"5.69414\",\"5.89049\",\"6.08684\",\"6.28319\",\"6.47953\",\"6.67588\",\"6.87223\",\"7.06858\",\"7.26493\",\"7.46128\",\"7.65763\",\"7.85398\",\"8.05033\",\"8.24668\",\"8.44303\",\"8.63938\",\"8.83573\",\"9.03208\",\"9.22843\",\"9.42478\",\"9.62113\",\"9.81748\",\"10.0138\",\"10.2102\",\"10.4065\",\"10.6029\",\"10.7992\",\"10.9956\",\"11.1919\",\"11.3883\",\"11.5846\",\"11.781\",\"11.9773\",\"12.1737\",\"12.37\",\"12.5664\"]},\"changes\":{\"sync\":false,\"id\":\"ob_05\",\"value\":0},\"formatted_value\":{\"sync\":false,\"id\":\"ob_04\",\"value\":\"6.28319\"},\"index\":{\"sync\":true,\"id\":\"ob_02\",\"value\":33}}},\"children\":[{\"props\":{\"attributes\":{\"style\":\"display:flex; justify-content:center; align-items:center;\"}},\"nodeType\":\"DOM\",\"type\":\"node\",\"instanceArgs\":{\"namespace\":\"html\",\"tag\":\"div\"},\"children\":[{\"props\":{\"attributes\":{\"style\":\"text-align:right;width:18%\"}},\"nodeType\":\"DOM\",\"type\":\"node\",\"instanceArgs\":{\"namespace\":\"html\",\"tag\":\"div\"},\"children\":[{\"props\":{\"className\":\"interact \",\"style\":{\"padding\":\"5px 10px 0px 10px\"}},\"nodeType\":\"DOM\",\"type\":\"node\",\"instanceArgs\":{\"namespace\":\"html\",\"tag\":\"label\"},\"children\":[\"c\"]}]},{\"props\":{\"attributes\":{\"style\":\"flex-grow:1; margin: 0 2%\"}},\"nodeType\":\"DOM\",\"type\":\"node\",\"instanceArgs\":{\"namespace\":\"html\",\"tag\":\"div\"},\"children\":[{\"props\":{\"max\":65,\"min\":1,\"attributes\":{\"type\":\"range\",\"data-bind\":\"numericValue: index, valueUpdate: 'input', event: {change : function () {this.changes(this.changes()+1)}}\",\"orient\":\"horizontal\"},\"step\":1,\"className\":\"slider slider is-fullwidth\",\"style\":{}},\"nodeType\":\"DOM\",\"type\":\"node\",\"instanceArgs\":{\"namespace\":\"html\",\"tag\":\"input\"},\"children\":[]}]},{\"props\":{\"attributes\":{\"style\":\"width:18%\"}},\"nodeType\":\"DOM\",\"type\":\"node\",\"instanceArgs\":{\"namespace\":\"html\",\"tag\":\"div\"},\"children\":[{\"props\":{\"attributes\":{\"data-bind\":\"text: formatted_value\"}},\"nodeType\":\"DOM\",\"type\":\"node\",\"instanceArgs\":{\"namespace\":\"html\",\"tag\":\"p\"},\"children\":[]}]}]}]}]},{\"props\":{\"className\":\"field\"},\"nodeType\":\"DOM\",\"type\":\"node\",\"instanceArgs\":{\"namespace\":\"html\",\"tag\":\"div\"},\"children\":[{\"props\":{},\"nodeType\":\"Scope\",\"type\":\"node\",\"instanceArgs\":{\"imports\":{\"data\":[{\"name\":\"knockout\",\"type\":\"js\",\"url\":\"\\/assetserver\\/fe22cd9d191f96ff815bc620a0bebe3c109f5b1f-knockout.js\"},{\"name\":\"knockout_punches\",\"type\":\"js\",\"url\":\"\\/assetserver\\/11cdd9d44807d880492d60f1c24310da0262975e-knockout_punches.js\"},{\"name\":null,\"type\":\"js\",\"url\":\"\\/assetserver\\/51c794a2058093733f80f2cc393f437e3f7df428-all.js\"},{\"name\":null,\"type\":\"css\",\"url\":\"\\/assetserver\\/e9aa75906a0c3335f6ba21c771b6b0ed32818af2-style.css\"},{\"name\":null,\"type\":\"css\",\"url\":\"\\/assetserver\\/68da98fcfcf64a97d74ecffe25d06bf25d85b385-main.css\"}],\"type\":\"async_block\"},\"id\":\"knockout-component-212558f6-7c8c-408e-8452-1c2bb3a0d0ee\",\"handlers\":{\"formatted_vals\":[\"(function (val){return (val!=this.model[\\\"formatted_vals\\\"]()) ? (this.valueFromJulia[\\\"formatted_vals\\\"]=true, this.model[\\\"formatted_vals\\\"](val)) : undefined})\"],\"_promises\":{\"importsLoaded\":[\"function (ko, koPunches) {\\n    ko.punches.enableAll();\\n    ko.bindingHandlers.numericValue = {\\n        init : function(element, valueAccessor, allBindings, data, context) {\\n            var stringified = ko.observable(ko.unwrap(valueAccessor()));\\n            stringified.subscribe(function(value) {\\n                var val = parseFloat(value);\\n                if (!isNaN(val)) {\\n                    valueAccessor()(val);\\n                }\\n            })\\n            valueAccessor().subscribe(function(value) {\\n                var str = JSON.stringify(value);\\n                if ((str == \\\"0\\\") && ([\\\"-0\\\", \\\"-0.\\\"].indexOf(stringified()) >= 0))\\n                     return;\\n                 if ([\\\"null\\\", \\\"\\\"].indexOf(str) >= 0)\\n                     return;\\n                stringified(str);\\n            })\\n            ko.applyBindingsToNode(element, { value: stringified, valueUpdate: allBindings.get('valueUpdate')}, context);\\n        }\\n    };\\n    var json_data = JSON.parse(\\\"{\\\\\\\"formatted_vals\\\\\\\":[\\\\\\\"-1.0\\\\\\\",\\\\\\\"-0.9\\\\\\\",\\\\\\\"-0.8\\\\\\\",\\\\\\\"-0.7\\\\\\\",\\\\\\\"-0.6\\\\\\\",\\\\\\\"-0.5\\\\\\\",\\\\\\\"-0.4\\\\\\\",\\\\\\\"-0.3\\\\\\\",\\\\\\\"-0.2\\\\\\\",\\\\\\\"-0.1\\\\\\\",\\\\\\\"0.0\\\\\\\",\\\\\\\"0.1\\\\\\\",\\\\\\\"0.2\\\\\\\",\\\\\\\"0.3\\\\\\\",\\\\\\\"0.4\\\\\\\",\\\\\\\"0.5\\\\\\\",\\\\\\\"0.6\\\\\\\",\\\\\\\"0.7\\\\\\\",\\\\\\\"0.8\\\\\\\",\\\\\\\"0.9\\\\\\\",\\\\\\\"1.0\\\\\\\",\\\\\\\"1.1\\\\\\\",\\\\\\\"1.2\\\\\\\",\\\\\\\"1.3\\\\\\\",\\\\\\\"1.4\\\\\\\",\\\\\\\"1.5\\\\\\\",\\\\\\\"1.6\\\\\\\",\\\\\\\"1.7\\\\\\\",\\\\\\\"1.8\\\\\\\",\\\\\\\"1.9\\\\\\\",\\\\\\\"2.0\\\\\\\",\\\\\\\"2.1\\\\\\\",\\\\\\\"2.2\\\\\\\",\\\\\\\"2.3\\\\\\\",\\\\\\\"2.4\\\\\\\",\\\\\\\"2.5\\\\\\\",\\\\\\\"2.6\\\\\\\",\\\\\\\"2.7\\\\\\\",\\\\\\\"2.8\\\\\\\",\\\\\\\"2.9\\\\\\\",\\\\\\\"3.0\\\\\\\",\\\\\\\"3.1\\\\\\\",\\\\\\\"3.2\\\\\\\",\\\\\\\"3.3\\\\\\\",\\\\\\\"3.4\\\\\\\",\\\\\\\"3.5\\\\\\\",\\\\\\\"3.6\\\\\\\",\\\\\\\"3.7\\\\\\\",\\\\\\\"3.8\\\\\\\",\\\\\\\"3.9\\\\\\\",\\\\\\\"4.0\\\\\\\",\\\\\\\"4.1\\\\\\\",\\\\\\\"4.2\\\\\\\",\\\\\\\"4.3\\\\\\\",\\\\\\\"4.4\\\\\\\",\\\\\\\"4.5\\\\\\\",\\\\\\\"4.6\\\\\\\",\\\\\\\"4.7\\\\\\\",\\\\\\\"4.8\\\\\\\",\\\\\\\"4.9\\\\\\\",\\\\\\\"5.0\\\\\\\",\\\\\\\"5.1\\\\\\\",\\\\\\\"5.2\\\\\\\",\\\\\\\"5.3\\\\\\\",\\\\\\\"5.4\\\\\\\",\\\\\\\"5.5\\\\\\\",\\\\\\\"5.6\\\\\\\",\\\\\\\"5.7\\\\\\\",\\\\\\\"5.8\\\\\\\",\\\\\\\"5.9\\\\\\\",\\\\\\\"6.0\\\\\\\",\\\\\\\"6.1\\\\\\\",\\\\\\\"6.2\\\\\\\",\\\\\\\"6.3\\\\\\\",\\\\\\\"6.4\\\\\\\",\\\\\\\"6.5\\\\\\\",\\\\\\\"6.6\\\\\\\",\\\\\\\"6.7\\\\\\\",\\\\\\\"6.8\\\\\\\",\\\\\\\"6.9\\\\\\\",\\\\\\\"7.0\\\\\\\",\\\\\\\"7.1\\\\\\\",\\\\\\\"7.2\\\\\\\",\\\\\\\"7.3\\\\\\\",\\\\\\\"7.4\\\\\\\",\\\\\\\"7.5\\\\\\\",\\\\\\\"7.6\\\\\\\",\\\\\\\"7.7\\\\\\\",\\\\\\\"7.8\\\\\\\",\\\\\\\"7.9\\\\\\\",\\\\\\\"8.0\\\\\\\",\\\\\\\"8.1\\\\\\\",\\\\\\\"8.2\\\\\\\",\\\\\\\"8.3\\\\\\\",\\\\\\\"8.4\\\\\\\",\\\\\\\"8.5\\\\\\\",\\\\\\\"8.6\\\\\\\",\\\\\\\"8.7\\\\\\\",\\\\\\\"8.8\\\\\\\",\\\\\\\"8.9\\\\\\\",\\\\\\\"9.0\\\\\\\",\\\\\\\"9.1\\\\\\\",\\\\\\\"9.2\\\\\\\",\\\\\\\"9.3\\\\\\\",\\\\\\\"9.4\\\\\\\",\\\\\\\"9.5\\\\\\\",\\\\\\\"9.6\\\\\\\",\\\\\\\"9.7\\\\\\\",\\\\\\\"9.8\\\\\\\",\\\\\\\"9.9\\\\\\\",\\\\\\\"10.0\\\\\\\",\\\\\\\"10.1\\\\\\\",\\\\\\\"10.2\\\\\\\",\\\\\\\"10.3\\\\\\\",\\\\\\\"10.4\\\\\\\",\\\\\\\"10.5\\\\\\\",\\\\\\\"10.6\\\\\\\",\\\\\\\"10.7\\\\\\\",\\\\\\\"10.8\\\\\\\",\\\\\\\"10.9\\\\\\\",\\\\\\\"11.0\\\\\\\",\\\\\\\"11.1\\\\\\\",\\\\\\\"11.2\\\\\\\",\\\\\\\"11.3\\\\\\\",\\\\\\\"11.4\\\\\\\",\\\\\\\"11.5\\\\\\\",\\\\\\\"11.6\\\\\\\",\\\\\\\"11.7\\\\\\\",\\\\\\\"11.8\\\\\\\",\\\\\\\"11.9\\\\\\\",\\\\\\\"12.0\\\\\\\",\\\\\\\"12.1\\\\\\\",\\\\\\\"12.2\\\\\\\",\\\\\\\"12.3\\\\\\\",\\\\\\\"12.4\\\\\\\",\\\\\\\"12.5\\\\\\\",\\\\\\\"12.6\\\\\\\",\\\\\\\"12.7\\\\\\\",\\\\\\\"12.8\\\\\\\",\\\\\\\"12.9\\\\\\\",\\\\\\\"13.0\\\\\\\",\\\\\\\"13.1\\\\\\\",\\\\\\\"13.2\\\\\\\",\\\\\\\"13.3\\\\\\\",\\\\\\\"13.4\\\\\\\",\\\\\\\"13.5\\\\\\\",\\\\\\\"13.6\\\\\\\",\\\\\\\"13.7\\\\\\\",\\\\\\\"13.8\\\\\\\",\\\\\\\"13.9\\\\\\\",\\\\\\\"14.0\\\\\\\",\\\\\\\"14.1\\\\\\\",\\\\\\\"14.2\\\\\\\",\\\\\\\"14.3\\\\\\\",\\\\\\\"14.4\\\\\\\",\\\\\\\"14.5\\\\\\\",\\\\\\\"14.6\\\\\\\",\\\\\\\"14.7\\\\\\\",\\\\\\\"14.8\\\\\\\",\\\\\\\"14.9\\\\\\\",\\\\\\\"15.0\\\\\\\",\\\\\\\"15.1\\\\\\\",\\\\\\\"15.2\\\\\\\",\\\\\\\"15.3\\\\\\\",\\\\\\\"15.4\\\\\\\",\\\\\\\"15.5\\\\\\\",\\\\\\\"15.6\\\\\\\",\\\\\\\"15.7\\\\\\\",\\\\\\\"15.8\\\\\\\",\\\\\\\"15.9\\\\\\\",\\\\\\\"16.0\\\\\\\",\\\\\\\"16.1\\\\\\\",\\\\\\\"16.2\\\\\\\",\\\\\\\"16.3\\\\\\\",\\\\\\\"16.4\\\\\\\",\\\\\\\"16.5\\\\\\\",\\\\\\\"16.6\\\\\\\",\\\\\\\"16.7\\\\\\\",\\\\\\\"16.8\\\\\\\",\\\\\\\"16.9\\\\\\\",\\\\\\\"17.0\\\\\\\",\\\\\\\"17.1\\\\\\\",\\\\\\\"17.2\\\\\\\",\\\\\\\"17.3\\\\\\\",\\\\\\\"17.4\\\\\\\",\\\\\\\"17.5\\\\\\\",\\\\\\\"17.6\\\\\\\",\\\\\\\"17.7\\\\\\\",\\\\\\\"17.8\\\\\\\",\\\\\\\"17.9\\\\\\\",\\\\\\\"18.0\\\\\\\",\\\\\\\"18.1\\\\\\\",\\\\\\\"18.2\\\\\\\",\\\\\\\"18.3\\\\\\\",\\\\\\\"18.4\\\\\\\",\\\\\\\"18.5\\\\\\\",\\\\\\\"18.6\\\\\\\",\\\\\\\"18.7\\\\\\\",\\\\\\\"18.8\\\\\\\",\\\\\\\"18.9\\\\\\\",\\\\\\\"19.0\\\\\\\",\\\\\\\"19.1\\\\\\\",\\\\\\\"19.2\\\\\\\",\\\\\\\"19.3\\\\\\\",\\\\\\\"19.4\\\\\\\",\\\\\\\"19.5\\\\\\\",\\\\\\\"19.6\\\\\\\",\\\\\\\"19.7\\\\\\\",\\\\\\\"19.8\\\\\\\",\\\\\\\"19.9\\\\\\\",\\\\\\\"20.0\\\\\\\"],\\\\\\\"changes\\\\\\\":0,\\\\\\\"formatted_value\\\\\\\":\\\\\\\"9.5\\\\\\\",\\\\\\\"index\\\\\\\":106}\\\");\\n    var self = this;\\n    function AppViewModel() {\\n        for (var key in json_data) {\\n            var el = json_data[key];\\n            this[key] = Array.isArray(el) ? ko.observableArray(el) : ko.observable(el);\\n        }\\n        \\n        \\n        [this[\\\"formatted_vals\\\"].subscribe((function (val){!(this.valueFromJulia[\\\"formatted_vals\\\"]) ? (_webIOScope.setObservableValue({\\\"name\\\":\\\"formatted_vals\\\",\\\"scope\\\":\\\"knockout-component-212558f6-7c8c-408e-8452-1c2bb3a0d0ee\\\",\\\"id\\\":\\\"ob_08\\\",\\\"type\\\":\\\"observable\\\"},val)) : undefined; return this.valueFromJulia[\\\"formatted_vals\\\"]=false}),self),this[\\\"changes\\\"].subscribe((function (val){!(this.valueFromJulia[\\\"changes\\\"]) ? (_webIOScope.setObservableValue({\\\"name\\\":\\\"changes\\\",\\\"scope\\\":\\\"knockout-component-212558f6-7c8c-408e-8452-1c2bb3a0d0ee\\\",\\\"id\\\":\\\"ob_10\\\",\\\"type\\\":\\\"observable\\\"},val)) : undefined; return this.valueFromJulia[\\\"changes\\\"]=false}),self),this[\\\"formatted_value\\\"].subscribe((function (val){!(this.valueFromJulia[\\\"formatted_value\\\"]) ? (_webIOScope.setObservableValue({\\\"name\\\":\\\"formatted_value\\\",\\\"scope\\\":\\\"knockout-component-212558f6-7c8c-408e-8452-1c2bb3a0d0ee\\\",\\\"id\\\":\\\"ob_09\\\",\\\"type\\\":\\\"observable\\\"},val)) : undefined; return this.valueFromJulia[\\\"formatted_value\\\"]=false}),self),this[\\\"index\\\"].subscribe((function (val){!(this.valueFromJulia[\\\"index\\\"]) ? (_webIOScope.setObservableValue({\\\"name\\\":\\\"index\\\",\\\"scope\\\":\\\"knockout-component-212558f6-7c8c-408e-8452-1c2bb3a0d0ee\\\",\\\"id\\\":\\\"ob_07\\\",\\\"type\\\":\\\"observable\\\"},val)) : undefined; return this.valueFromJulia[\\\"index\\\"]=false}),self)]\\n        \\n    }\\n    self.model = new AppViewModel();\\n    self.valueFromJulia = {};\\n    for (var key in json_data) {\\n        self.valueFromJulia[key] = false;\\n    }\\n    ko.applyBindings(self.model, self.dom);\\n}\\n\"]},\"changes\":[\"(function (val){return (val!=this.model[\\\"changes\\\"]()) ? (this.valueFromJulia[\\\"changes\\\"]=true, this.model[\\\"changes\\\"](val)) : undefined})\"],\"formatted_value\":[\"(function (val){return (val!=this.model[\\\"formatted_value\\\"]()) ? (this.valueFromJulia[\\\"formatted_value\\\"]=true, this.model[\\\"formatted_value\\\"](val)) : undefined})\"],\"index\":[\"(function (val){return (val!=this.model[\\\"index\\\"]()) ? (this.valueFromJulia[\\\"index\\\"]=true, this.model[\\\"index\\\"](val)) : undefined})\",\"(function (val){return _webIOScope.setObservableValue({\\\"name\\\":\\\"formatted_value\\\",\\\"scope\\\":\\\"knockout-component-212558f6-7c8c-408e-8452-1c2bb3a0d0ee\\\",\\\"id\\\":\\\"ob_09\\\",\\\"type\\\":\\\"observable\\\"},_webIOScope.getObservableValue({\\\"name\\\":\\\"formatted_vals\\\",\\\"scope\\\":\\\"knockout-component-212558f6-7c8c-408e-8452-1c2bb3a0d0ee\\\",\\\"id\\\":\\\"ob_08\\\",\\\"type\\\":\\\"observable\\\"})[(_webIOScope.getObservableValue({\\\"name\\\":\\\"index\\\",\\\"scope\\\":\\\"knockout-component-212558f6-7c8c-408e-8452-1c2bb3a0d0ee\\\",\\\"id\\\":\\\"ob_07\\\",\\\"type\\\":\\\"observable\\\"})-1)])})\"]},\"systemjs_options\":null,\"observables\":{\"formatted_vals\":{\"sync\":false,\"id\":\"ob_08\",\"value\":[\"-1.0\",\"-0.9\",\"-0.8\",\"-0.7\",\"-0.6\",\"-0.5\",\"-0.4\",\"-0.3\",\"-0.2\",\"-0.1\",\"0.0\",\"0.1\",\"0.2\",\"0.3\",\"0.4\",\"0.5\",\"0.6\",\"0.7\",\"0.8\",\"0.9\",\"1.0\",\"1.1\",\"1.2\",\"1.3\",\"1.4\",\"1.5\",\"1.6\",\"1.7\",\"1.8\",\"1.9\",\"2.0\",\"2.1\",\"2.2\",\"2.3\",\"2.4\",\"2.5\",\"2.6\",\"2.7\",\"2.8\",\"2.9\",\"3.0\",\"3.1\",\"3.2\",\"3.3\",\"3.4\",\"3.5\",\"3.6\",\"3.7\",\"3.8\",\"3.9\",\"4.0\",\"4.1\",\"4.2\",\"4.3\",\"4.4\",\"4.5\",\"4.6\",\"4.7\",\"4.8\",\"4.9\",\"5.0\",\"5.1\",\"5.2\",\"5.3\",\"5.4\",\"5.5\",\"5.6\",\"5.7\",\"5.8\",\"5.9\",\"6.0\",\"6.1\",\"6.2\",\"6.3\",\"6.4\",\"6.5\",\"6.6\",\"6.7\",\"6.8\",\"6.9\",\"7.0\",\"7.1\",\"7.2\",\"7.3\",\"7.4\",\"7.5\",\"7.6\",\"7.7\",\"7.8\",\"7.9\",\"8.0\",\"8.1\",\"8.2\",\"8.3\",\"8.4\",\"8.5\",\"8.6\",\"8.7\",\"8.8\",\"8.9\",\"9.0\",\"9.1\",\"9.2\",\"9.3\",\"9.4\",\"9.5\",\"9.6\",\"9.7\",\"9.8\",\"9.9\",\"10.0\",\"10.1\",\"10.2\",\"10.3\",\"10.4\",\"10.5\",\"10.6\",\"10.7\",\"10.8\",\"10.9\",\"11.0\",\"11.1\",\"11.2\",\"11.3\",\"11.4\",\"11.5\",\"11.6\",\"11.7\",\"11.8\",\"11.9\",\"12.0\",\"12.1\",\"12.2\",\"12.3\",\"12.4\",\"12.5\",\"12.6\",\"12.7\",\"12.8\",\"12.9\",\"13.0\",\"13.1\",\"13.2\",\"13.3\",\"13.4\",\"13.5\",\"13.6\",\"13.7\",\"13.8\",\"13.9\",\"14.0\",\"14.1\",\"14.2\",\"14.3\",\"14.4\",\"14.5\",\"14.6\",\"14.7\",\"14.8\",\"14.9\",\"15.0\",\"15.1\",\"15.2\",\"15.3\",\"15.4\",\"15.5\",\"15.6\",\"15.7\",\"15.8\",\"15.9\",\"16.0\",\"16.1\",\"16.2\",\"16.3\",\"16.4\",\"16.5\",\"16.6\",\"16.7\",\"16.8\",\"16.9\",\"17.0\",\"17.1\",\"17.2\",\"17.3\",\"17.4\",\"17.5\",\"17.6\",\"17.7\",\"17.8\",\"17.9\",\"18.0\",\"18.1\",\"18.2\",\"18.3\",\"18.4\",\"18.5\",\"18.6\",\"18.7\",\"18.8\",\"18.9\",\"19.0\",\"19.1\",\"19.2\",\"19.3\",\"19.4\",\"19.5\",\"19.6\",\"19.7\",\"19.8\",\"19.9\",\"20.0\"]},\"changes\":{\"sync\":false,\"id\":\"ob_10\",\"value\":0},\"formatted_value\":{\"sync\":false,\"id\":\"ob_09\",\"value\":\"9.5\"},\"index\":{\"sync\":true,\"id\":\"ob_07\",\"value\":106}}},\"children\":[{\"props\":{\"attributes\":{\"style\":\"display:flex; justify-content:center; align-items:center;\"}},\"nodeType\":\"DOM\",\"type\":\"node\",\"instanceArgs\":{\"namespace\":\"html\",\"tag\":\"div\"},\"children\":[{\"props\":{\"attributes\":{\"style\":\"text-align:right;width:18%\"}},\"nodeType\":\"DOM\",\"type\":\"node\",\"instanceArgs\":{\"namespace\":\"html\",\"tag\":\"div\"},\"children\":[{\"props\":{\"className\":\"interact \",\"style\":{\"padding\":\"5px 10px 0px 10px\"}},\"nodeType\":\"DOM\",\"type\":\"node\",\"instanceArgs\":{\"namespace\":\"html\",\"tag\":\"label\"},\"children\":[\"a\"]}]},{\"props\":{\"attributes\":{\"style\":\"flex-grow:1; margin: 0 2%\"}},\"nodeType\":\"DOM\",\"type\":\"node\",\"instanceArgs\":{\"namespace\":\"html\",\"tag\":\"div\"},\"children\":[{\"props\":{\"max\":211,\"min\":1,\"attributes\":{\"type\":\"range\",\"data-bind\":\"numericValue: index, valueUpdate: 'input', event: {change : function () {this.changes(this.changes()+1)}}\",\"orient\":\"horizontal\"},\"step\":1,\"className\":\"slider slider is-fullwidth\",\"style\":{}},\"nodeType\":\"DOM\",\"type\":\"node\",\"instanceArgs\":{\"namespace\":\"html\",\"tag\":\"input\"},\"children\":[]}]},{\"props\":{\"attributes\":{\"style\":\"width:18%\"}},\"nodeType\":\"DOM\",\"type\":\"node\",\"instanceArgs\":{\"namespace\":\"html\",\"tag\":\"div\"},\"children\":[{\"props\":{\"attributes\":{\"data-bind\":\"text: formatted_value\"}},\"nodeType\":\"DOM\",\"type\":\"node\",\"instanceArgs\":{\"namespace\":\"html\",\"tag\":\"p\"},\"children\":[]}]}]}]}]},{\"props\":{\"className\":\"field\"},\"nodeType\":\"DOM\",\"type\":\"node\",\"instanceArgs\":{\"namespace\":\"html\",\"tag\":\"div\"},\"children\":[{\"props\":{},\"nodeType\":\"Scope\",\"type\":\"node\",\"instanceArgs\":{\"imports\":{\"data\":[{\"name\":\"knockout\",\"type\":\"js\",\"url\":\"\\/assetserver\\/fe22cd9d191f96ff815bc620a0bebe3c109f5b1f-knockout.js\"},{\"name\":\"knockout_punches\",\"type\":\"js\",\"url\":\"\\/assetserver\\/11cdd9d44807d880492d60f1c24310da0262975e-knockout_punches.js\"},{\"name\":null,\"type\":\"js\",\"url\":\"\\/assetserver\\/51c794a2058093733f80f2cc393f437e3f7df428-all.js\"},{\"name\":null,\"type\":\"css\",\"url\":\"\\/assetserver\\/e9aa75906a0c3335f6ba21c771b6b0ed32818af2-style.css\"},{\"name\":null,\"type\":\"css\",\"url\":\"\\/assetserver\\/68da98fcfcf64a97d74ecffe25d06bf25d85b385-main.css\"}],\"type\":\"async_block\"},\"id\":\"knockout-component-91b36450-5c2b-458b-85a1-b34b37a31b2e\",\"handlers\":{\"formatted_vals\":[\"(function (val){return (val!=this.model[\\\"formatted_vals\\\"]()) ? (this.valueFromJulia[\\\"formatted_vals\\\"]=true, this.model[\\\"formatted_vals\\\"](val)) : undefined})\"],\"_promises\":{\"importsLoaded\":[\"function (ko, koPunches) {\\n    ko.punches.enableAll();\\n    ko.bindingHandlers.numericValue = {\\n        init : function(element, valueAccessor, allBindings, data, context) {\\n            var stringified = ko.observable(ko.unwrap(valueAccessor()));\\n            stringified.subscribe(function(value) {\\n                var val = parseFloat(value);\\n                if (!isNaN(val)) {\\n                    valueAccessor()(val);\\n                }\\n            })\\n            valueAccessor().subscribe(function(value) {\\n                var str = JSON.stringify(value);\\n                if ((str == \\\"0\\\") && ([\\\"-0\\\", \\\"-0.\\\"].indexOf(stringified()) >= 0))\\n                     return;\\n                 if ([\\\"null\\\", \\\"\\\"].indexOf(str) >= 0)\\n                     return;\\n                stringified(str);\\n            })\\n            ko.applyBindingsToNode(element, { value: stringified, valueUpdate: allBindings.get('valueUpdate')}, context);\\n        }\\n    };\\n    var json_data = JSON.parse(\\\"{\\\\\\\"formatted_vals\\\\\\\":[\\\\\\\"0.25\\\\\\\",\\\\\\\"0.5\\\\\\\",\\\\\\\"1.0\\\\\\\",\\\\\\\"2.0\\\\\\\",\\\\\\\"4.0\\\\\\\"],\\\\\\\"changes\\\\\\\":0,\\\\\\\"formatted_value\\\\\\\":\\\\\\\"1.0\\\\\\\",\\\\\\\"index\\\\\\\":3}\\\");\\n    var self = this;\\n    function AppViewModel() {\\n        for (var key in json_data) {\\n            var el = json_data[key];\\n            this[key] = Array.isArray(el) ? ko.observableArray(el) : ko.observable(el);\\n        }\\n        \\n        \\n        [this[\\\"formatted_vals\\\"].subscribe((function (val){!(this.valueFromJulia[\\\"formatted_vals\\\"]) ? (_webIOScope.setObservableValue({\\\"name\\\":\\\"formatted_vals\\\",\\\"scope\\\":\\\"knockout-component-91b36450-5c2b-458b-85a1-b34b37a31b2e\\\",\\\"id\\\":\\\"ob_13\\\",\\\"type\\\":\\\"observable\\\"},val)) : undefined; return this.valueFromJulia[\\\"formatted_vals\\\"]=false}),self),this[\\\"changes\\\"].subscribe((function (val){!(this.valueFromJulia[\\\"changes\\\"]) ? (_webIOScope.setObservableValue({\\\"name\\\":\\\"changes\\\",\\\"scope\\\":\\\"knockout-component-91b36450-5c2b-458b-85a1-b34b37a31b2e\\\",\\\"id\\\":\\\"ob_15\\\",\\\"type\\\":\\\"observable\\\"},val)) : undefined; return this.valueFromJulia[\\\"changes\\\"]=false}),self),this[\\\"formatted_value\\\"].subscribe((function (val){!(this.valueFromJulia[\\\"formatted_value\\\"]) ? (_webIOScope.setObservableValue({\\\"name\\\":\\\"formatted_value\\\",\\\"scope\\\":\\\"knockout-component-91b36450-5c2b-458b-85a1-b34b37a31b2e\\\",\\\"id\\\":\\\"ob_14\\\",\\\"type\\\":\\\"observable\\\"},val)) : undefined; return this.valueFromJulia[\\\"formatted_value\\\"]=false}),self),this[\\\"index\\\"].subscribe((function (val){!(this.valueFromJulia[\\\"index\\\"]) ? (_webIOScope.setObservableValue({\\\"name\\\":\\\"index\\\",\\\"scope\\\":\\\"knockout-component-91b36450-5c2b-458b-85a1-b34b37a31b2e\\\",\\\"id\\\":\\\"ob_12\\\",\\\"type\\\":\\\"observable\\\"},val)) : undefined; return this.valueFromJulia[\\\"index\\\"]=false}),self)]\\n        \\n    }\\n    self.model = new AppViewModel();\\n    self.valueFromJulia = {};\\n    for (var key in json_data) {\\n        self.valueFromJulia[key] = false;\\n    }\\n    ko.applyBindings(self.model, self.dom);\\n}\\n\"]},\"changes\":[\"(function (val){return (val!=this.model[\\\"changes\\\"]()) ? (this.valueFromJulia[\\\"changes\\\"]=true, this.model[\\\"changes\\\"](val)) : undefined})\"],\"formatted_value\":[\"(function (val){return (val!=this.model[\\\"formatted_value\\\"]()) ? (this.valueFromJulia[\\\"formatted_value\\\"]=true, this.model[\\\"formatted_value\\\"](val)) : undefined})\"],\"index\":[\"(function (val){return (val!=this.model[\\\"index\\\"]()) ? (this.valueFromJulia[\\\"index\\\"]=true, this.model[\\\"index\\\"](val)) : undefined})\",\"(function (val){return _webIOScope.setObservableValue({\\\"name\\\":\\\"formatted_value\\\",\\\"scope\\\":\\\"knockout-component-91b36450-5c2b-458b-85a1-b34b37a31b2e\\\",\\\"id\\\":\\\"ob_14\\\",\\\"type\\\":\\\"observable\\\"},_webIOScope.getObservableValue({\\\"name\\\":\\\"formatted_vals\\\",\\\"scope\\\":\\\"knockout-component-91b36450-5c2b-458b-85a1-b34b37a31b2e\\\",\\\"id\\\":\\\"ob_13\\\",\\\"type\\\":\\\"observable\\\"})[(_webIOScope.getObservableValue({\\\"name\\\":\\\"index\\\",\\\"scope\\\":\\\"knockout-component-91b36450-5c2b-458b-85a1-b34b37a31b2e\\\",\\\"id\\\":\\\"ob_12\\\",\\\"type\\\":\\\"observable\\\"})-1)])})\"]},\"systemjs_options\":null,\"observables\":{\"formatted_vals\":{\"sync\":false,\"id\":\"ob_13\",\"value\":[\"0.25\",\"0.5\",\"1.0\",\"2.0\",\"4.0\"]},\"changes\":{\"sync\":false,\"id\":\"ob_15\",\"value\":0},\"formatted_value\":{\"sync\":false,\"id\":\"ob_14\",\"value\":\"1.0\"},\"index\":{\"sync\":true,\"id\":\"ob_12\",\"value\":3}}},\"children\":[{\"props\":{\"attributes\":{\"style\":\"display:flex; justify-content:center; align-items:center;\"}},\"nodeType\":\"DOM\",\"type\":\"node\",\"instanceArgs\":{\"namespace\":\"html\",\"tag\":\"div\"},\"children\":[{\"props\":{\"attributes\":{\"style\":\"text-align:right;width:18%\"}},\"nodeType\":\"DOM\",\"type\":\"node\",\"instanceArgs\":{\"namespace\":\"html\",\"tag\":\"div\"},\"children\":[{\"props\":{\"className\":\"interact \",\"style\":{\"padding\":\"5px 10px 0px 10px\"}},\"nodeType\":\"DOM\",\"type\":\"node\",\"instanceArgs\":{\"namespace\":\"html\",\"tag\":\"label\"},\"children\":[\"b\"]}]},{\"props\":{\"attributes\":{\"style\":\"flex-grow:1; margin: 0 2%\"}},\"nodeType\":\"DOM\",\"type\":\"node\",\"instanceArgs\":{\"namespace\":\"html\",\"tag\":\"div\"},\"children\":[{\"props\":{\"max\":5,\"min\":1,\"attributes\":{\"type\":\"range\",\"data-bind\":\"numericValue: index, valueUpdate: 'input', event: {change : function () {this.changes(this.changes()+1)}}\",\"orient\":\"horizontal\"},\"step\":1,\"className\":\"slider slider is-fullwidth\",\"style\":{}},\"nodeType\":\"DOM\",\"type\":\"node\",\"instanceArgs\":{\"namespace\":\"html\",\"tag\":\"input\"},\"children\":[]}]},{\"props\":{\"attributes\":{\"style\":\"width:18%\"}},\"nodeType\":\"DOM\",\"type\":\"node\",\"instanceArgs\":{\"namespace\":\"html\",\"tag\":\"div\"},\"children\":[{\"props\":{\"attributes\":{\"data-bind\":\"text: formatted_value\"}},\"nodeType\":\"DOM\",\"type\":\"node\",\"instanceArgs\":{\"namespace\":\"html\",\"tag\":\"p\"},\"children\":[]}]}]}]}]},{\"props\":{},\"nodeType\":\"Scope\",\"type\":\"node\",\"instanceArgs\":{\"imports\":{\"data\":[],\"type\":\"async_block\"},\"id\":\"scope-033618e1-1db4-4406-bf03-4cd565dc7b3f\",\"handlers\":{},\"systemjs_options\":null,\"observables\":{\"obs-node\":{\"sync\":false,\"id\":\"ob_18\",\"value\":{\"props\":{\"attributes\":{\"style\":\"display:flex; justify-content:center; align-items:center;\"}},\"nodeType\":\"DOM\",\"type\":\"node\",\"instanceArgs\":{\"namespace\":\"html\",\"tag\":\"div\"},\"children\":[{\"props\":{\"setInnerHtml\":\"    <div id=\\\"fc5d0e0f-99ab-4a6a-a5a7-45bb831057b9\\\" style=\\\"width:600px;height:400px;\\\"><\\/div>\\n    <script>\\n    PLOT = document.getElementById('fc5d0e0f-99ab-4a6a-a5a7-45bb831057b9');\\n    Plotly.plot(PLOT, [{\\\"xaxis\\\":\\\"x1\\\",\\\"colorbar\\\":{\\\"title\\\":\\\"\\\"},\\\"yaxis\\\":\\\"y1\\\",\\\"text\\\":[null,null,null,null,null,null,null,null,null,null,null,null,null,null,null,null,null,null,null,null,null,null,null,null,null,null,null,null,null,null,null,null,null,null,null,null,null,null,null,null,null,null,null,null,null,null,null,null,null,null,null,null,null,null,null,null,null,null,null,null,null,null,null,null,null,null,null,null,null,null,null,null,null,null,null,null,null,null,null,null,null,null,null,null,null,null,null,null,null,null,null,null,null,null,null,null,null,null,null,null,null,null,null,null,null,null,null,null,null,null,null,null,null,null,null,null,null,null,null,null,null,null,null,null,null,null,null,null,null,null,null,null,null,null,null],\\\"x\\\":[0.030680225288853866,0.06136045057770773,0.0920406758665616,0.12272090115541547,0.2645623928401042,0.40640388452479287,0.5482453762094815,0.6900868678941703,0.7610076137365146,0.8319283595788589,0.9028491054212033,0.9737698512635476,1.044690597105892,1.1156113429482364,1.1865320887905808,1.257452834632925,1.3426936588935923,1.4279344831542597,1.513175307414927,1.5984161316755943,1.6836569559362617,1.768897780196929,1.8541386044575963,1.9393794287182637,2.0114494607870297,2.083519492855795,2.1555895249245607,2.227659556993326,2.2997295890620917,2.371799621130857,2.4438696531996227,2.5159396852683886,2.672516196022781,2.829092706777173,2.9856692175315653,3.1422457282859577,3.286595421763736,3.4309451152415145,3.575294808719293,3.7196445021970717,3.7970235658234817,3.8744026294498912,3.9517816930763012,4.029160756702711,4.106539820329122,4.183918883955531,4.261297947581941,4.338677011208351,4.428328244816422,4.5179794784244915,4.607630712032561,4.697281945640631,4.786933179248701,4.876584412856771,4.966235646464842,5.0558868800729115,5.135558316578662,5.2152297530844125,5.294901189590163,5.3745726260959135,5.454244062601664,5.533915499107415,5.613586935613165,5.693258372118916,5.8329877124873075,5.972717052855698,6.112446393224088,6.2521757335924795,6.40451822190307,6.55686071021366,6.70920319852425,6.86154568683484,6.938169637605453,7.014793588376067,7.09141753914668,7.168041489917293,7.244665440687907,7.32128939145852,7.397913342229133,7.474537292999747,7.5592548688787,7.643972444757653,7.728690020636606,7.813407596515558,7.89812517239451,7.9828427482734625,8.067560324152415,8.152277900031368,8.232884535809577,8.313491171587785,8.394097807365991,8.4747044431442,8.555311078922408,8.635917714700614,8.716524350478823,8.79713098625703,8.964755383369532,9.132379780482035,9.300004177594538,9.467628574707039,9.608732612328922,9.749836649950804,9.890940687572687,10.032044725194568,10.118180743426588,10.20431676165861,10.29045277989063,10.37658879812265,10.462724816354672,10.548860834586693,10.634996852818713,10.721132871050735,10.802103268735117,10.8830736664195,10.964044064103884,11.045014461788266,11.125984859472648,11.206955257157032,11.287925654841416,11.368896052525798,11.433756480580229,11.49861690863466,11.56347733668909,11.628337764743522,11.693198192797954,11.758058620852385,11.822919048906815,11.887779476961246,12.017500333070107,12.14722118917897,12.276942045287832,12.406662901396693,12.446589829637313,12.486516757877933,12.526443686118553],\\\"showlegend\\\":true,\\\"mode\\\":\\\"lines\\\",\\\"name\\\":\\\"sin\\\",\\\"zmin\\\":-0.1,\\\"legendgroup\\\":\\\"sin\\\",\\\"zmax\\\":0.1,\\\"line\\\":{\\\"color\\\":\\\"rgba(0, 154, 250, 1.000)\\\",\\\"shape\\\":\\\"linear\\\",\\\"dash\\\":\\\"solid\\\",\\\"width\\\":1},\\\"y\\\":[0.29141641799889945,0.5825585541679227,0.8731523848318781,1.162924402382055,2.4841256611199865,3.755432510301708,4.951310370257007,6.0477396752055705,6.551688774830711,7.022698313445598,7.4584002226076,7.856603948077592,8.21530746314759,8.532707334118998,8.807207787325842,9.037428732117224,9.25392331719595,9.403219616181515,9.484233499125143,9.496376675644802,9.439560966854426,9.314198945683682,9.121200940938534,8.861968426857935,8.59249610984215,8.278412913235334,7.921349507274195,7.52315970863855,7.085910855728585,6.611873075371141,6.1035074966805976,5.563453473266113,4.294595566492983,2.9206654077052616,1.4752777887173307,-0.006204209172529115,-1.3727041039271477,-2.71065082264019,-3.992214166447699,-5.19073674891114,-5.79025874776136,-6.35512875465439,-6.88196628664665,-7.367618467378626,-7.809178895566034,-8.204005038452973,-8.549734046135177,-8.844296892112201,-9.119290449722316,-9.32103821399151,-9.447919754566122,-9.498915963747923,-9.473617241928311,-9.372226787476768,-9.195558964659288,-8.945032762695641,-8.662024253353193,-8.32406229516804,-7.933290979940972,-7.492189431587204,-7.003556078125734,-6.470490897945769,-5.896375752983071,-5.284852933575975,-4.133862767275092,-2.9022931043037454,-1.6141503689541035,-0.2945437385495724,1.149836583113014,2.567582799294269,3.925855110998338,5.193191336073758,5.786894757047628,6.346638609139301,6.869138115158299,7.351327061062311,7.790375789598143,8.183707805742934,8.52901489649875,8.824270676312329,9.090374695350382,9.29127549144653,9.425532048159088,9.492181373258129,9.4907454060532,9.421234446415639,9.28414708089991,9.080466606493854,8.826174621405752,8.514566231111594,8.147664993214743,7.727853532229649,7.2578580670269055,6.740730707006585,6.179829631966986,5.578797284379121,4.217699205184962,2.7383697007208174,1.1822776447133305,-0.4069562652289676,-1.737729762177024,-3.0339618204483876,-4.269886799650589,-5.420937803475958,-6.071999807897553,-6.678038981388248,-7.2345616480407715,-7.737441288302693,-8.182949136406794,-8.56778182852596,-8.889085896646037,-9.144478926538739,-9.32275648675406,-9.439945528152434,-9.495278154997148,-9.488391793384118,-9.419331567052401,-9.288550001705278,-9.096904059779462,-8.845649525092334,-8.602482215031976,-8.323138021811255,-8.008791699644949,-7.660765200719023,-7.280522115852205,-6.8696615195104735,-6.429911245058358,-5.963120618527686,-4.956375935535206,-3.8663447243012006,-2.7113437784748267,-1.5107816377117806,-1.1351983731336015,-0.7578056615704944,-0.37920504731661836],\\\"type\\\":\\\"scatter\\\",\\\"hoverinfo\\\":\\\"text\\\"},{\\\"xaxis\\\":\\\"x1\\\",\\\"colorbar\\\":{\\\"title\\\":\\\"\\\"},\\\"yaxis\\\":\\\"y1\\\",\\\"text\\\":[null,null,null,null,null,null,null,null,null,null,null,null,null,null,null,null,null,null,null,null,null,null,null,null,null,null,null,null,null,null,null,null,null,null,null,null,null,null,null,null,null,null,null,null,null,null,null,null,null,null,null,null,null,null,null,null,null,null,null,null,null,null,null,null,null,null,null,null,null,null,null,null,null,null,null,null,null,null,null,null,null,null,null,null,null,null,null,null,null,null,null,null,null,null,null,null,null,null,null,null,null,null,null,null,null,null,null,null,null,null,null,null,null,null,null,null,null,null,null,null,null,null,null,null,null,null,null,null,null,null,null,null,null,null,null],\\\"x\\\":[0.030680225288853866,0.06136045057770773,0.0920406758665616,0.12272090115541547,0.19364164699775982,0.2645623928401042,0.3354831386824485,0.40640388452479287,0.47732463036713724,0.5482453762094815,0.6191661220518259,0.6900868678941703,0.7610076137365146,0.8319283595788589,0.9028491054212033,0.9737698512635476,1.1156113429482364,1.257452834632925,1.4279344831542597,1.5984161316755943,1.768897780196929,1.9393794287182637,2.083519492855795,2.227659556993326,2.2997295890620917,2.371799621130857,2.4438696531996227,2.5159396852683886,2.5942279406455846,2.672516196022781,2.750804451399977,2.829092706777173,2.9073809621543694,2.9856692175315653,3.0639574729087613,3.1422457282859577,3.214420575024847,3.286595421763736,3.3587702685026253,3.4309451152415145,3.5031199619804037,3.575294808719293,3.647469655458182,3.7196445021970717,3.7970235658234817,3.8744026294498912,3.9517816930763012,4.029160756702711,4.106539820329122,4.183918883955531,4.261297947581941,4.338677011208351,4.697281945640631,5.0558868800729115,5.135558316578662,5.2152297530844125,5.294901189590163,5.3745726260959135,5.454244062601664,5.533915499107415,5.613586935613165,5.693258372118916,5.763123042303112,5.8329877124873075,5.902852382671503,5.972717052855698,6.042581723039893,6.112446393224088,6.182311063408283,6.2521757335924795,6.328346977747774,6.40451822190307,6.480689466058365,6.55686071021366,6.633031954368954,6.70920319852425,6.7853744426795455,6.86154568683484,6.938169637605453,7.014793588376067,7.09141753914668,7.168041489917293,7.244665440687907,7.32128939145852,7.397913342229133,7.474537292999747,7.813407596515558,8.152277900031368,8.232884535809577,8.313491171587785,8.394097807365991,8.4747044431442,8.555311078922408,8.635917714700614,8.716524350478823,8.79713098625703,8.880943184813281,8.964755383369532,9.048567581925784,9.132379780482035,9.216191979038285,9.300004177594538,9.383816376150788,9.467628574707039,9.53818059351798,9.608732612328922,9.679284631139863,9.749836649950804,9.820388668761746,9.890940687572687,9.961492706383627,10.032044725194568,10.118180743426588,10.20431676165861,10.29045277989063,10.37658879812265,10.548860834586693,10.721132871050735,11.045014461788266,11.368896052525798,11.49861690863466,11.628337764743522,11.758058620852385,11.887779476961246,11.952639905015676,12.017500333070107,12.082360761124537,12.14722118917897,12.212081617233402,12.276942045287832,12.341802473342263,12.406662901396693,12.446589829637313,12.486516757877933,12.526443686118553],\\\"showlegend\\\":true,\\\"mode\\\":\\\"lines\\\",\\\"name\\\":\\\"cos\\\",\\\"zmin\\\":-0.1,\\\"legendgroup\\\":\\\"cos\\\",\\\"zmax\\\":0.1,\\\"line\\\":{\\\"color\\\":\\\"rgba(227, 111, 71, 1.000)\\\",\\\"shape\\\":\\\"linear\\\",\\\"dash\\\":\\\"solid\\\",\\\"width\\\":1},\\\"y\\\":[9.495529288634767,9.482121362383303,9.459788840817875,9.428552743361218,9.322444693591995,9.169466707489875,8.970387903961385,8.726209180427032,8.438158180665036,8.107683122655043,7.736445517453175,7.32631181570539,6.879344023797418,6.397789336820051,5.88406884047144,5.340765338699275,4.176470465629068,2.928289929617976,1.3525756355410092,-0.26235478701444365,-1.8696785820629689,-3.422793537649195,-4.660244589930711,-5.801040251396082,-6.327706325728762,-6.821519950508256,-7.279917323566507,-7.700518518307921,-8.112040415220733,-8.47386859234074,-8.783786518792041,-9.039895661800188,-9.24062711695427,-9.38475121919155,-9.471385075628696,-9.499997974093917,-9.474817579217765,-9.400302305940036,-9.2768401513821,-9.105073976510024,-8.885898158791235,-8.620453935217931,-8.310123459945892,-7.956522607490247,-7.531460922953332,-7.061326965363164,-6.548934266692476,-5.997349257725568,-5.409872916903507,-4.790021015511127,-4.141503077429379,-3.468200179368899,-0.14351137116925913,3.199435711856321,3.9011967182290435,4.5782078268861675,5.226173956881574,5.840984293868031,6.418738369847152,6.955770808443946,7.448674578717567,7.894322609982025,8.243988278242822,8.553430809992955,8.821140408180723,9.045810894370439,9.226346081700731,9.361865123275667,9.451706809893455,9.495432796143694,9.490313658183737,9.430157784052978,9.31531403292435,9.146448412841359,8.924540218368495,8.650876351413666,8.327043858157596,7.954920725370458,7.534045996067098,7.0689587893113615,6.562388403232431,6.017307574097652,5.436915031232611,4.824616725732954,4.184005843124792,3.518841717266403,0.38534760563862724,-2.791975323735866,-3.5140633961915118,-4.213331448629945,-4.885238495543795,-5.525421231399986,-6.129722365563751,-6.6942176193800655,-7.215241210095668,-7.689409656131226,-8.129442441772385,-8.512403503980655,-8.835604313009453,-9.096775878418363,-9.29408467823386,-9.426145530958616,-9.492031320063173,-9.491279502690398,-9.438979690008619,-9.339716016755766,-9.193982371621454,-9.002503855709339,-8.766233174779899,-8.48634589904098,-8.164234614071253,-7.801501991978549,-7.306217785755642,-6.7567592352442905,-6.157200480794629,-5.5119871471247786,-4.1040363715225965,-2.574588348083811,0.46949033562036785,3.4647488334991583,4.579887932021898,5.618066975344138,6.561840489325922,7.395349382476124,7.766298609737252,8.104587440804591,8.408793235652848,8.677636687074902,8.909987200680941,9.104867649500779,9.261458483194067,9.37910117458773,9.431931120064164,9.469727059387283,9.492428747801567],\\\"type\\\":\\\"scatter\\\",\\\"hoverinfo\\\":\\\"text\\\"}], {\\\"showlegend\\\":true,\\\"xaxis\\\":{\\\"showticklabels\\\":true,\\\"gridwidth\\\":0.5,\\\"tickvals\\\":[0.0,2.0,4.0,6.0,8.0,10.0,12.0],\\\"visible\\\":true,\\\"ticks\\\":\\\"inside\\\",\\\"range\\\":[-0.344192678536037,12.901316589943443],\\\"domain\\\":[0.05100612423447069,0.9934383202099737],\\\"tickmode\\\":\\\"array\\\",\\\"linecolor\\\":\\\"rgba(0, 0, 0, 1.000)\\\",\\\"showgrid\\\":true,\\\"title\\\":\\\"\\\",\\\"mirror\\\":false,\\\"tickangle\\\":0,\\\"showline\\\":true,\\\"gridcolor\\\":\\\"rgba(0, 0, 0, 0.100)\\\",\\\"titlefont\\\":{\\\"color\\\":\\\"rgba(0, 0, 0, 1.000)\\\",\\\"family\\\":\\\"sans-serif\\\",\\\"size\\\":15},\\\"tickcolor\\\":\\\"rgb(0, 0, 0)\\\",\\\"ticktext\\\":[\\\"0\\\",\\\"2\\\",\\\"4\\\",\\\"6\\\",\\\"8\\\",\\\"10\\\",\\\"12\\\"],\\\"zeroline\\\":false,\\\"type\\\":\\\"-\\\",\\\"tickfont\\\":{\\\"color\\\":\\\"rgba(0, 0, 0, 1.000)\\\",\\\"family\\\":\\\"sans-serif\\\",\\\"size\\\":11},\\\"zerolinecolor\\\":\\\"rgba(0, 0, 0, 1.000)\\\",\\\"anchor\\\":\\\"y1\\\"},\\\"paper_bgcolor\\\":\\\"rgba(255, 255, 255, 1.000)\\\",\\\"annotations\\\":[{\\\"yanchor\\\":\\\"top\\\",\\\"xanchor\\\":\\\"center\\\",\\\"rotation\\\":-0.0,\\\"y\\\":1.0,\\\"font\\\":{\\\"color\\\":\\\"rgba(0, 0, 0, 1.000)\\\",\\\"family\\\":\\\"sans-serif\\\",\\\"size\\\":20},\\\"yref\\\":\\\"paper\\\",\\\"showarrow\\\":false,\\\"text\\\":\\\"y=af(bx+c)\\\",\\\"xref\\\":\\\"paper\\\",\\\"x\\\":0.5222222222222223}],\\\"height\\\":400,\\\"margin\\\":{\\\"l\\\":0,\\\"b\\\":20,\\\"r\\\":0,\\\"t\\\":20},\\\"plot_bgcolor\\\":\\\"rgba(255, 255, 255, 1.000)\\\",\\\"yaxis\\\":{\\\"showticklabels\\\":true,\\\"gridwidth\\\":0.5,\\\"tickvals\\\":[-10.0,-5.0,0.0,5.0,10.0],\\\"visible\\\":true,\\\"ticks\\\":\\\"inside\\\",\\\"range\\\":[-10.069889213586078,10.066267915136963],\\\"domain\\\":[0.03762029746281716,0.9415463692038496],\\\"tickmode\\\":\\\"array\\\",\\\"linecolor\\\":\\\"rgba(0, 0, 0, 1.000)\\\",\\\"showgrid\\\":true,\\\"title\\\":\\\"\\\",\\\"mirror\\\":false,\\\"tickangle\\\":0,\\\"showline\\\":true,\\\"gridcolor\\\":\\\"rgba(0, 0, 0, 0.100)\\\",\\\"titlefont\\\":{\\\"color\\\":\\\"rgba(0, 0, 0, 1.000)\\\",\\\"family\\\":\\\"sans-serif\\\",\\\"size\\\":15},\\\"tickcolor\\\":\\\"rgb(0, 0, 0)\\\",\\\"ticktext\\\":[\\\"-10\\\",\\\"-5\\\",\\\"0\\\",\\\"5\\\",\\\"10\\\"],\\\"zeroline\\\":false,\\\"type\\\":\\\"-\\\",\\\"tickfont\\\":{\\\"color\\\":\\\"rgba(0, 0, 0, 1.000)\\\",\\\"family\\\":\\\"sans-serif\\\",\\\"size\\\":11},\\\"zerolinecolor\\\":\\\"rgba(0, 0, 0, 1.000)\\\",\\\"anchor\\\":\\\"x1\\\"},\\\"legend\\\":{\\\"tracegroupgap\\\":0,\\\"bordercolor\\\":\\\"rgba(0, 0, 0, 1.000)\\\",\\\"bgcolor\\\":\\\"rgba(255, 255, 255, 1.000)\\\",\\\"font\\\":{\\\"color\\\":\\\"rgba(0, 0, 0, 1.000)\\\",\\\"family\\\":\\\"sans-serif\\\",\\\"size\\\":11},\\\"y\\\":1.0,\\\"x\\\":1.0},\\\"width\\\":600});\\n    <\\/script>\\n\"},\"nodeType\":\"DOM\",\"type\":\"node\",\"instanceArgs\":{\"namespace\":\"html\",\"tag\":\"div\"},\"children\":[]}]}}}},\"children\":[{\"props\":{},\"nodeType\":\"ObservableNode\",\"type\":\"node\",\"instanceArgs\":{\"id\":\"ob_18\",\"name\":\"obs-node\"},\"children\":[]}]}]},\n",
       "        );\n",
       "    } else {\n",
       "        document\n",
       "            .querySelector('[data-webio-mountpoint=\"17082161655734722500\"]')\n",
       "            .innerHTML = '<strong>WebIO not detected.</strong>';\n",
       "    }\n",
       "    </script>\n",
       "</div>\n"
      ],
      "text/plain": [
       "Widget{:manipulate,Any}(OrderedDict{Symbol,Any}(:c=>Widget{:slider,Float64}(OrderedDict{Symbol,Any}(:changes=>Observable{Int64} with 1 listeners. Value:\n",
       "0,:index=>Observable{Any} with 2 listeners. Value:\n",
       "33,:formatted_vals=>Observable{Any} with 1 listeners. Value:\n",
       "[\"0.0\", \"0.19635\", \"0.392699\", \"0.589049\", \"0.785398\", \"0.981748\", \"1.1781\", \"1.37445\", \"1.5708\", \"1.76715\"  …  \"10.7992\", \"10.9956\", \"11.1919\", \"11.3883\", \"11.5846\", \"11.781\", \"11.9773\", \"12.1737\", \"12.37\", \"12.5664\"],:formatted_value=>Observable{String} with 1 listeners. Value:\n",
       "\"6.28319\",:value=>Observable{Float64} with 2 listeners. Value:\n",
       "6.28319), Observable{Float64} with 2 listeners. Value:\n",
       "6.28319, Scope(\"knockout-component-fefbb07c-f408-4e37-a382-bf419c4587c4\", Node{DOM}(DOM(:html, :div), Any[Node{DOM}(DOM(:html, :div), Any[Node{DOM}(DOM(:html, :label), Any[\"c\"], Dict{Symbol,Any}(:className=>\"interact \",:style=>Dict{Any,Any}(:padding=>\"5px 10px 0px 10px\")), 1)], Dict{Symbol,Any}(:attributes=>Dict(\"style\"=>\"text-align:right;width:18%\")), 2), Node{DOM}(DOM(:html, :div), Any[Node{DOM}(DOM(:html, :input), Any[], Dict{Symbol,Any}(:max=>65,:min=>1,:attributes=>Dict{Any,Any}(:type=>\"range\",Symbol(\"data-bind\")=>\"numericValue: index, valueUpdate: 'input', event: {change : function () {this.changes(this.changes()+1)}}\",\"orient\"=>\"horizontal\"),:step=>1,:className=>\"slider slider is-fullwidth\",:style=>Dict{Any,Any}()), 0)], Dict{Symbol,Any}(:attributes=>Dict(\"style\"=>\"flex-grow:1; margin: 0 2%\")), 1), Node{DOM}(DOM(:html, :div), Any[Node{DOM}(DOM(:html, :p), Any[], Dict{Symbol,Any}(:attributes=>Dict(\"data-bind\"=>\"text: formatted_value\")), 0)], Dict{Symbol,Any}(:attributes=>Dict(\"style\"=>\"width:18%\")), 1)], Dict{Symbol,Any}(:attributes=>Dict(\"style\"=>\"display:flex; justify-content:center; align-items:center;\")), 7), Dict{String,Tuple{Observables.AbstractObservable,Union{Nothing, Bool}}}(\"formatted_vals\"=>(Observable{Any} with 1 listeners. Value:\n",
       "[\"0.0\", \"0.19635\", \"0.392699\", \"0.589049\", \"0.785398\", \"0.981748\", \"1.1781\", \"1.37445\", \"1.5708\", \"1.76715\"  …  \"10.7992\", \"10.9956\", \"11.1919\", \"11.3883\", \"11.5846\", \"11.781\", \"11.9773\", \"12.1737\", \"12.37\", \"12.5664\"], nothing),\"changes\"=>(Observable{Int64} with 1 listeners. Value:\n",
       "0, nothing),\"formatted_value\"=>(Observable{String} with 1 listeners. Value:\n",
       "\"6.28319\", nothing),\"index\"=>(Observable{Any} with 2 listeners. Value:\n",
       "33, nothing)), Set(String[]), nothing, Any[\"knockout\"=>\"C:\\\\Users\\\\ITC\\\\.julia\\\\packages\\\\Knockout\\\\JIqpG\\\\src\\\\..\\\\assets\\\\knockout.js\", \"knockout_punches\"=>\"C:\\\\Users\\\\ITC\\\\.julia\\\\packages\\\\Knockout\\\\JIqpG\\\\src\\\\..\\\\assets\\\\knockout_punches.js\", \"C:\\\\Users\\\\ITC\\\\.julia\\\\packages\\\\InteractBase\\\\Q4IkI\\\\src\\\\..\\\\assets\\\\all.js\", \"C:\\\\Users\\\\ITC\\\\.julia\\\\packages\\\\InteractBase\\\\Q4IkI\\\\src\\\\..\\\\assets\\\\style.css\", \"C:\\\\Users\\\\ITC\\\\.julia\\\\packages\\\\InteractBulma\\\\Ohu5Y\\\\src\\\\..\\\\assets\\\\main.css\"], Dict{Any,Any}(\"formatted_vals\"=>Any[JSString(\"(function (val){return (val!=this.model[\\\"formatted_vals\\\"]()) ? (this.valueFromJulia[\\\"formatted_vals\\\"]=true, this.model[\\\"formatted_vals\\\"](val)) : undefined})\")],\"_promises\"=>Dict{Any,Any}(\"importsLoaded\"=>Any[JSString(\"function (ko, koPunches) {\\n    ko.punches.enableAll();\\n    ko.bindingHandlers.numericValue = {\\n        init : function(element, valueAccessor, allBindings, data, context) {\\n            var stringified = ko.observable(ko.unwrap(valueAccessor()));\\n            stringified.subscribe(function(value) {\\n                var val = parseFloat(value);\\n                if (!isNaN(val)) {\\n                    valueAccessor()(val);\\n                }\\n            })\\n            valueAccessor().subscribe(function(value) {\\n                var str = JSON.stringify(value);\\n                if ((str == \\\"0\\\") && ([\\\"-0\\\", \\\"-0.\\\"].indexOf(stringified()) >= 0))\\n                     return;\\n                 if ([\\\"null\\\", \\\"\\\"].indexOf(str) >= 0)\\n                     return;\\n                stringified(str);\\n            })\\n            ko.applyBindingsToNode(element, { value: stringified, valueUpdate: allBindings.get('valueUpdate')}, context);\\n        }\\n    };\\n    var json_data = JSON.parse(\\\"{\\\\\\\"formatted_vals\\\\\\\":[\\\\\\\"0.0\\\\\\\",\\\\\\\"0.19635\\\\\\\",\\\\\\\"0.392699\\\\\\\",\\\\\\\"0.589049\\\\\\\",\\\\\\\"0.785398\\\\\\\",\\\\\\\"0.981748\\\\\\\",\\\\\\\"1.1781\\\\\\\",\\\\\\\"1.37445\\\\\\\",\\\\\\\"1.5708\\\\\\\",\\\\\\\"1.76715\\\\\\\",\\\\\\\"1.9635\\\\\\\",\\\\\\\"2.15984\\\\\\\",\\\\\\\"2.35619\\\\\\\",\\\\\\\"2.55254\\\\\\\",\\\\\\\"2.74889\\\\\\\",\\\\\\\"2.94524\\\\\\\",\\\\\\\"3.14159\\\\\\\",\\\\\\\"3.33794\\\\\\\",\\\\\\\"3.53429\\\\\\\",\\\\\\\"3.73064\\\\\\\",\\\\\\\"3.92699\\\\\\\",\\\\\\\"4.12334\\\\\\\",\\\\\\\"4.31969\\\\\\\",\\\\\\\"4.51604\\\\\\\",\\\\\\\"4.71239\\\\\\\",\\\\\\\"4.90874\\\\\\\",\\\\\\\"5.10509\\\\\\\",\\\\\\\"5.30144\\\\\\\",\\\\\\\"5.49779\\\\\\\",\\\\\\\"5.69414\\\\\\\",\\\\\\\"5.89049\\\\\\\",\\\\\\\"6.08684\\\\\\\",\\\\\\\"6.28319\\\\\\\",\\\\\\\"6.47953\\\\\\\",\\\\\\\"6.67588\\\\\\\",\\\\\\\"6.87223\\\\\\\",\\\\\\\"7.06858\\\\\\\",\\\\\\\"7.26493\\\\\\\",\\\\\\\"7.46128\\\\\\\",\\\\\\\"7.65763\\\\\\\",\\\\\\\"7.85398\\\\\\\",\\\\\\\"8.05033\\\\\\\",\\\\\\\"8.24668\\\\\\\",\\\\\\\"8.44303\\\\\\\",\\\\\\\"8.63938\\\\\\\",\\\\\\\"8.83573\\\\\\\",\\\\\\\"9.03208\\\\\\\",\\\\\\\"9.22843\\\\\\\",\\\\\\\"9.42478\\\\\\\",\\\\\\\"9.62113\\\\\\\",\\\\\\\"9.81748\\\\\\\",\\\\\\\"10.0138\\\\\\\",\\\\\\\"10.2102\\\\\\\",\\\\\\\"10.4065\\\\\\\",\\\\\\\"10.6029\\\\\\\",\\\\\\\"10.7992\\\\\\\",\\\\\\\"10.9956\\\\\\\",\\\\\\\"11.1919\\\\\\\",\\\\\\\"11.3883\\\\\\\",\\\\\\\"11.5846\\\\\\\",\\\\\\\"11.781\\\\\\\",\\\\\\\"11.9773\\\\\\\",\\\\\\\"12.1737\\\\\\\",\\\\\\\"12.37\\\\\\\",\\\\\\\"12.5664\\\\\\\"],\\\\\\\"changes\\\\\\\":0,\\\\\\\"formatted_value\\\\\\\":\\\\\\\"6.28319\\\\\\\",\\\\\\\"index\\\\\\\":33}\\\");\\n    var self = this;\\n    function AppViewModel() {\\n        for (var key in json_data) {\\n            var el = json_data[key];\\n            this[key] = Array.isArray(el) ? ko.observableArray(el) : ko.observable(el);\\n        }\\n        \\n        \\n        [this[\\\"formatted_vals\\\"].subscribe((function (val){!(this.valueFromJulia[\\\"formatted_vals\\\"]) ? (_webIOScope.setObservableValue({\\\"name\\\":\\\"formatted_vals\\\",\\\"scope\\\":\\\"knockout-component-fefbb07c-f408-4e37-a382-bf419c4587c4\\\",\\\"id\\\":\\\"ob_03\\\",\\\"type\\\":\\\"observable\\\"},val)) : undefined; return this.valueFromJulia[\\\"formatted_vals\\\"]=false}),self),this[\\\"changes\\\"].subscribe((function (val){!(this.valueFromJulia[\\\"changes\\\"]) ? (_webIOScope.setObservableValue({\\\"name\\\":\\\"changes\\\",\\\"scope\\\":\\\"knockout-component-fefbb07c-f408-4e37-a382-bf419c4587c4\\\",\\\"id\\\":\\\"ob_05\\\",\\\"type\\\":\\\"observable\\\"},val)) : undefined; return this.valueFromJulia[\\\"changes\\\"]=false}),self),this[\\\"formatted_value\\\"].subscribe((function (val){!(this.valueFromJulia[\\\"formatted_value\\\"]) ? (_webIOScope.setObservableValue({\\\"name\\\":\\\"formatted_value\\\",\\\"scope\\\":\\\"knockout-component-fefbb07c-f408-4e37-a382-bf419c4587c4\\\",\\\"id\\\":\\\"ob_04\\\",\\\"type\\\":\\\"observable\\\"},val)) : undefined; return this.valueFromJulia[\\\"formatted_value\\\"]=false}),self),this[\\\"index\\\"].subscribe((function (val){!(this.valueFromJulia[\\\"index\\\"]) ? (_webIOScope.setObservableValue({\\\"name\\\":\\\"index\\\",\\\"scope\\\":\\\"knockout-component-fefbb07c-f408-4e37-a382-bf419c4587c4\\\",\\\"id\\\":\\\"ob_02\\\",\\\"type\\\":\\\"observable\\\"},val)) : undefined; return this.valueFromJulia[\\\"index\\\"]=false}),self)]\\n        \\n    }\\n    self.model = new AppViewModel();\\n    self.valueFromJulia = {};\\n    for (var key in json_data) {\\n        self.valueFromJulia[key] = false;\\n    }\\n    ko.applyBindings(self.model, self.dom);\\n}\\n\")]),\"changes\"=>Any[JSString(\"(function (val){return (val!=this.model[\\\"changes\\\"]()) ? (this.valueFromJulia[\\\"changes\\\"]=true, this.model[\\\"changes\\\"](val)) : undefined})\")],\"formatted_value\"=>Any[JSString(\"(function (val){return (val!=this.model[\\\"formatted_value\\\"]()) ? (this.valueFromJulia[\\\"formatted_value\\\"]=true, this.model[\\\"formatted_value\\\"](val)) : undefined})\")],\"index\"=>Any[JSString(\"(function (val){return (val!=this.model[\\\"index\\\"]()) ? (this.valueFromJulia[\\\"index\\\"]=true, this.model[\\\"index\\\"](val)) : undefined})\"), JSString(\"(function (val){return _webIOScope.setObservableValue({\\\"name\\\":\\\"formatted_value\\\",\\\"scope\\\":\\\"knockout-component-fefbb07c-f408-4e37-a382-bf419c4587c4\\\",\\\"id\\\":\\\"ob_04\\\",\\\"type\\\":\\\"observable\\\"},_webIOScope.getObservableValue({\\\"name\\\":\\\"formatted_vals\\\",\\\"scope\\\":\\\"knockout-component-fefbb07c-f408-4e37-a382-bf419c4587c4\\\",\\\"id\\\":\\\"ob_03\\\",\\\"type\\\":\\\"observable\\\"})[(_webIOScope.getObservableValue({\\\"name\\\":\\\"index\\\",\\\"scope\\\":\\\"knockout-component-fefbb07c-f408-4e37-a382-bf419c4587c4\\\",\\\"id\\\":\\\"ob_02\\\",\\\"type\\\":\\\"observable\\\"})-1)])})\")]), ConnectionPool(Channel{Any}(sz_max:9223372036854775807,sz_curr:0), Set(AbstractConnection[]), Channel{AbstractConnection}(sz_max:32,sz_curr:0))), ##52#53{#dom#13{##dom#11#12{Dict{Any,Any},DOM}},typeof(scope)}(#dom#13{##dom#11#12{Dict{Any,Any},DOM}}(##dom#11#12{Dict{Any,Any},DOM}(Dict{Any,Any}(:className=>\"field\"), DOM(:html, :div))), scope)),:a=>Widget{:slider,Float64}(OrderedDict{Symbol,Any}(:changes=>Observable{Int64} with 1 listeners. Value:\n",
       "0,:index=>Observable{Any} with 2 listeners. Value:\n",
       "106,:formatted_vals=>Observable{Any} with 1 listeners. Value:\n",
       "[\"-1.0\", \"-0.9\", \"-0.8\", \"-0.7\", \"-0.6\", \"-0.5\", \"-0.4\", \"-0.3\", \"-0.2\", \"-0.1\"  …  \"19.1\", \"19.2\", \"19.3\", \"19.4\", \"19.5\", \"19.6\", \"19.7\", \"19.8\", \"19.9\", \"20.0\"],:formatted_value=>Observable{String} with 1 listeners. Value:\n",
       "\"9.5\",:value=>Observable{Float64} with 2 listeners. Value:\n",
       "9.5), Observable{Float64} with 2 listeners. Value:\n",
       "9.5, Scope(\"knockout-component-212558f6-7c8c-408e-8452-1c2bb3a0d0ee\", Node{DOM}(DOM(:html, :div), Any[Node{DOM}(DOM(:html, :div), Any[Node{DOM}(DOM(:html, :label), Any[\"a\"], Dict{Symbol,Any}(:className=>\"interact \",:style=>Dict{Any,Any}(:padding=>\"5px 10px 0px 10px\")), 1)], Dict{Symbol,Any}(:attributes=>Dict(\"style\"=>\"text-align:right;width:18%\")), 2), Node{DOM}(DOM(:html, :div), Any[Node{DOM}(DOM(:html, :input), Any[], Dict{Symbol,Any}(:max=>211,:min=>1,:attributes=>Dict{Any,Any}(:type=>\"range\",Symbol(\"data-bind\")=>\"numericValue: index, valueUpdate: 'input', event: {change : function () {this.changes(this.changes()+1)}}\",\"orient\"=>\"horizontal\"),:step=>1,:className=>\"slider slider is-fullwidth\",:style=>Dict{Any,Any}()), 0)], Dict{Symbol,Any}(:attributes=>Dict(\"style\"=>\"flex-grow:1; margin: 0 2%\")), 1), Node{DOM}(DOM(:html, :div), Any[Node{DOM}(DOM(:html, :p), Any[], Dict{Symbol,Any}(:attributes=>Dict(\"data-bind\"=>\"text: formatted_value\")), 0)], Dict{Symbol,Any}(:attributes=>Dict(\"style\"=>\"width:18%\")), 1)], Dict{Symbol,Any}(:attributes=>Dict(\"style\"=>\"display:flex; justify-content:center; align-items:center;\")), 7), Dict{String,Tuple{Observables.AbstractObservable,Union{Nothing, Bool}}}(\"formatted_vals\"=>(Observable{Any} with 1 listeners. Value:\n",
       "[\"-1.0\", \"-0.9\", \"-0.8\", \"-0.7\", \"-0.6\", \"-0.5\", \"-0.4\", \"-0.3\", \"-0.2\", \"-0.1\"  …  \"19.1\", \"19.2\", \"19.3\", \"19.4\", \"19.5\", \"19.6\", \"19.7\", \"19.8\", \"19.9\", \"20.0\"], nothing),\"changes\"=>(Observable{Int64} with 1 listeners. Value:\n",
       "0, nothing),\"formatted_value\"=>(Observable{String} with 1 listeners. Value:\n",
       "\"9.5\", nothing),\"index\"=>(Observable{Any} with 2 listeners. Value:\n",
       "106, nothing)), Set(String[]), nothing, Any[\"knockout\"=>\"C:\\\\Users\\\\ITC\\\\.julia\\\\packages\\\\Knockout\\\\JIqpG\\\\src\\\\..\\\\assets\\\\knockout.js\", \"knockout_punches\"=>\"C:\\\\Users\\\\ITC\\\\.julia\\\\packages\\\\Knockout\\\\JIqpG\\\\src\\\\..\\\\assets\\\\knockout_punches.js\", \"C:\\\\Users\\\\ITC\\\\.julia\\\\packages\\\\InteractBase\\\\Q4IkI\\\\src\\\\..\\\\assets\\\\all.js\", \"C:\\\\Users\\\\ITC\\\\.julia\\\\packages\\\\InteractBase\\\\Q4IkI\\\\src\\\\..\\\\assets\\\\style.css\", \"C:\\\\Users\\\\ITC\\\\.julia\\\\packages\\\\InteractBulma\\\\Ohu5Y\\\\src\\\\..\\\\assets\\\\main.css\"], Dict{Any,Any}(\"formatted_vals\"=>Any[JSString(\"(function (val){return (val!=this.model[\\\"formatted_vals\\\"]()) ? (this.valueFromJulia[\\\"formatted_vals\\\"]=true, this.model[\\\"formatted_vals\\\"](val)) : undefined})\")],\"_promises\"=>Dict{Any,Any}(\"importsLoaded\"=>Any[JSString(\"function (ko, koPunches) {\\n    ko.punches.enableAll();\\n    ko.bindingHandlers.numericValue = {\\n        init : function(element, valueAccessor, allBindings, data, context) {\\n            var stringified = ko.observable(ko.unwrap(valueAccessor()));\\n            stringified.subscribe(function(value) {\\n                var val = parseFloat(value);\\n                if (!isNaN(val)) {\\n                    valueAccessor()(val);\\n                }\\n            })\\n            valueAccessor().subscribe(function(value) {\\n                var str = JSON.stringify(value);\\n                if ((str == \\\"0\\\") && ([\\\"-0\\\", \\\"-0.\\\"].indexOf(stringified()) >= 0))\\n                     return;\\n                 if ([\\\"null\\\", \\\"\\\"].indexOf(str) >= 0)\\n                     return;\\n                stringified(str);\\n            })\\n            ko.applyBindingsToNode(element, { value: stringified, valueUpdate: allBindings.get('valueUpdate')}, context);\\n        }\\n    };\\n    var json_data = JSON.parse(\\\"{\\\\\\\"formatted_vals\\\\\\\":[\\\\\\\"-1.0\\\\\\\",\\\\\\\"-0.9\\\\\\\",\\\\\\\"-0.8\\\\\\\",\\\\\\\"-0.7\\\\\\\",\\\\\\\"-0.6\\\\\\\",\\\\\\\"-0.5\\\\\\\",\\\\\\\"-0.4\\\\\\\",\\\\\\\"-0.3\\\\\\\",\\\\\\\"-0.2\\\\\\\",\\\\\\\"-0.1\\\\\\\",\\\\\\\"0.0\\\\\\\",\\\\\\\"0.1\\\\\\\",\\\\\\\"0.2\\\\\\\",\\\\\\\"0.3\\\\\\\",\\\\\\\"0.4\\\\\\\",\\\\\\\"0.5\\\\\\\",\\\\\\\"0.6\\\\\\\",\\\\\\\"0.7\\\\\\\",\\\\\\\"0.8\\\\\\\",\\\\\\\"0.9\\\\\\\",\\\\\\\"1.0\\\\\\\",\\\\\\\"1.1\\\\\\\",\\\\\\\"1.2\\\\\\\",\\\\\\\"1.3\\\\\\\",\\\\\\\"1.4\\\\\\\",\\\\\\\"1.5\\\\\\\",\\\\\\\"1.6\\\\\\\",\\\\\\\"1.7\\\\\\\",\\\\\\\"1.8\\\\\\\",\\\\\\\"1.9\\\\\\\",\\\\\\\"2.0\\\\\\\",\\\\\\\"2.1\\\\\\\",\\\\\\\"2.2\\\\\\\",\\\\\\\"2.3\\\\\\\",\\\\\\\"2.4\\\\\\\",\\\\\\\"2.5\\\\\\\",\\\\\\\"2.6\\\\\\\",\\\\\\\"2.7\\\\\\\",\\\\\\\"2.8\\\\\\\",\\\\\\\"2.9\\\\\\\",\\\\\\\"3.0\\\\\\\",\\\\\\\"3.1\\\\\\\",\\\\\\\"3.2\\\\\\\",\\\\\\\"3.3\\\\\\\",\\\\\\\"3.4\\\\\\\",\\\\\\\"3.5\\\\\\\",\\\\\\\"3.6\\\\\\\",\\\\\\\"3.7\\\\\\\",\\\\\\\"3.8\\\\\\\",\\\\\\\"3.9\\\\\\\",\\\\\\\"4.0\\\\\\\",\\\\\\\"4.1\\\\\\\",\\\\\\\"4.2\\\\\\\",\\\\\\\"4.3\\\\\\\",\\\\\\\"4.4\\\\\\\",\\\\\\\"4.5\\\\\\\",\\\\\\\"4.6\\\\\\\",\\\\\\\"4.7\\\\\\\",\\\\\\\"4.8\\\\\\\",\\\\\\\"4.9\\\\\\\",\\\\\\\"5.0\\\\\\\",\\\\\\\"5.1\\\\\\\",\\\\\\\"5.2\\\\\\\",\\\\\\\"5.3\\\\\\\",\\\\\\\"5.4\\\\\\\",\\\\\\\"5.5\\\\\\\",\\\\\\\"5.6\\\\\\\",\\\\\\\"5.7\\\\\\\",\\\\\\\"5.8\\\\\\\",\\\\\\\"5.9\\\\\\\",\\\\\\\"6.0\\\\\\\",\\\\\\\"6.1\\\\\\\",\\\\\\\"6.2\\\\\\\",\\\\\\\"6.3\\\\\\\",\\\\\\\"6.4\\\\\\\",\\\\\\\"6.5\\\\\\\",\\\\\\\"6.6\\\\\\\",\\\\\\\"6.7\\\\\\\",\\\\\\\"6.8\\\\\\\",\\\\\\\"6.9\\\\\\\",\\\\\\\"7.0\\\\\\\",\\\\\\\"7.1\\\\\\\",\\\\\\\"7.2\\\\\\\",\\\\\\\"7.3\\\\\\\",\\\\\\\"7.4\\\\\\\",\\\\\\\"7.5\\\\\\\",\\\\\\\"7.6\\\\\\\",\\\\\\\"7.7\\\\\\\",\\\\\\\"7.8\\\\\\\",\\\\\\\"7.9\\\\\\\",\\\\\\\"8.0\\\\\\\",\\\\\\\"8.1\\\\\\\",\\\\\\\"8.2\\\\\\\",\\\\\\\"8.3\\\\\\\",\\\\\\\"8.4\\\\\\\",\\\\\\\"8.5\\\\\\\",\\\\\\\"8.6\\\\\\\",\\\\\\\"8.7\\\\\\\",\\\\\\\"8.8\\\\\\\",\\\\\\\"8.9\\\\\\\",\\\\\\\"9.0\\\\\\\",\\\\\\\"9.1\\\\\\\",\\\\\\\"9.2\\\\\\\",\\\\\\\"9.3\\\\\\\",\\\\\\\"9.4\\\\\\\",\\\\\\\"9.5\\\\\\\",\\\\\\\"9.6\\\\\\\",\\\\\\\"9.7\\\\\\\",\\\\\\\"9.8\\\\\\\",\\\\\\\"9.9\\\\\\\",\\\\\\\"10.0\\\\\\\",\\\\\\\"10.1\\\\\\\",\\\\\\\"10.2\\\\\\\",\\\\\\\"10.3\\\\\\\",\\\\\\\"10.4\\\\\\\",\\\\\\\"10.5\\\\\\\",\\\\\\\"10.6\\\\\\\",\\\\\\\"10.7\\\\\\\",\\\\\\\"10.8\\\\\\\",\\\\\\\"10.9\\\\\\\",\\\\\\\"11.0\\\\\\\",\\\\\\\"11.1\\\\\\\",\\\\\\\"11.2\\\\\\\",\\\\\\\"11.3\\\\\\\",\\\\\\\"11.4\\\\\\\",\\\\\\\"11.5\\\\\\\",\\\\\\\"11.6\\\\\\\",\\\\\\\"11.7\\\\\\\",\\\\\\\"11.8\\\\\\\",\\\\\\\"11.9\\\\\\\",\\\\\\\"12.0\\\\\\\",\\\\\\\"12.1\\\\\\\",\\\\\\\"12.2\\\\\\\",\\\\\\\"12.3\\\\\\\",\\\\\\\"12.4\\\\\\\",\\\\\\\"12.5\\\\\\\",\\\\\\\"12.6\\\\\\\",\\\\\\\"12.7\\\\\\\",\\\\\\\"12.8\\\\\\\",\\\\\\\"12.9\\\\\\\",\\\\\\\"13.0\\\\\\\",\\\\\\\"13.1\\\\\\\",\\\\\\\"13.2\\\\\\\",\\\\\\\"13.3\\\\\\\",\\\\\\\"13.4\\\\\\\",\\\\\\\"13.5\\\\\\\",\\\\\\\"13.6\\\\\\\",\\\\\\\"13.7\\\\\\\",\\\\\\\"13.8\\\\\\\",\\\\\\\"13.9\\\\\\\",\\\\\\\"14.0\\\\\\\",\\\\\\\"14.1\\\\\\\",\\\\\\\"14.2\\\\\\\",\\\\\\\"14.3\\\\\\\",\\\\\\\"14.4\\\\\\\",\\\\\\\"14.5\\\\\\\",\\\\\\\"14.6\\\\\\\",\\\\\\\"14.7\\\\\\\",\\\\\\\"14.8\\\\\\\",\\\\\\\"14.9\\\\\\\",\\\\\\\"15.0\\\\\\\",\\\\\\\"15.1\\\\\\\",\\\\\\\"15.2\\\\\\\",\\\\\\\"15.3\\\\\\\",\\\\\\\"15.4\\\\\\\",\\\\\\\"15.5\\\\\\\",\\\\\\\"15.6\\\\\\\",\\\\\\\"15.7\\\\\\\",\\\\\\\"15.8\\\\\\\",\\\\\\\"15.9\\\\\\\",\\\\\\\"16.0\\\\\\\",\\\\\\\"16.1\\\\\\\",\\\\\\\"16.2\\\\\\\",\\\\\\\"16.3\\\\\\\",\\\\\\\"16.4\\\\\\\",\\\\\\\"16.5\\\\\\\",\\\\\\\"16.6\\\\\\\",\\\\\\\"16.7\\\\\\\",\\\\\\\"16.8\\\\\\\",\\\\\\\"16.9\\\\\\\",\\\\\\\"17.0\\\\\\\",\\\\\\\"17.1\\\\\\\",\\\\\\\"17.2\\\\\\\",\\\\\\\"17.3\\\\\\\",\\\\\\\"17.4\\\\\\\",\\\\\\\"17.5\\\\\\\",\\\\\\\"17.6\\\\\\\",\\\\\\\"17.7\\\\\\\",\\\\\\\"17.8\\\\\\\",\\\\\\\"17.9\\\\\\\",\\\\\\\"18.0\\\\\\\",\\\\\\\"18.1\\\\\\\",\\\\\\\"18.2\\\\\\\",\\\\\\\"18.3\\\\\\\",\\\\\\\"18.4\\\\\\\",\\\\\\\"18.5\\\\\\\",\\\\\\\"18.6\\\\\\\",\\\\\\\"18.7\\\\\\\",\\\\\\\"18.8\\\\\\\",\\\\\\\"18.9\\\\\\\",\\\\\\\"19.0\\\\\\\",\\\\\\\"19.1\\\\\\\",\\\\\\\"19.2\\\\\\\",\\\\\\\"19.3\\\\\\\",\\\\\\\"19.4\\\\\\\",\\\\\\\"19.5\\\\\\\",\\\\\\\"19.6\\\\\\\",\\\\\\\"19.7\\\\\\\",\\\\\\\"19.8\\\\\\\",\\\\\\\"19.9\\\\\\\",\\\\\\\"20.0\\\\\\\"],\\\\\\\"changes\\\\\\\":0,\\\\\\\"formatted_value\\\\\\\":\\\\\\\"9.5\\\\\\\",\\\\\\\"index\\\\\\\":106}\\\");\\n    var self = this;\\n    function AppViewModel() {\\n        for (var key in json_data) {\\n            var el = json_data[key];\\n            this[key] = Array.isArray(el) ? ko.observableArray(el) : ko.observable(el);\\n        }\\n        \\n        \\n        [this[\\\"formatted_vals\\\"].subscribe((function (val){!(this.valueFromJulia[\\\"formatted_vals\\\"]) ? (_webIOScope.setObservableValue({\\\"name\\\":\\\"formatted_vals\\\",\\\"scope\\\":\\\"knockout-component-212558f6-7c8c-408e-8452-1c2bb3a0d0ee\\\",\\\"id\\\":\\\"ob_08\\\",\\\"type\\\":\\\"observable\\\"},val)) : undefined; return this.valueFromJulia[\\\"formatted_vals\\\"]=false}),self),this[\\\"changes\\\"].subscribe((function (val){!(this.valueFromJulia[\\\"changes\\\"]) ? (_webIOScope.setObservableValue({\\\"name\\\":\\\"changes\\\",\\\"scope\\\":\\\"knockout-component-212558f6-7c8c-408e-8452-1c2bb3a0d0ee\\\",\\\"id\\\":\\\"ob_10\\\",\\\"type\\\":\\\"observable\\\"},val)) : undefined; return this.valueFromJulia[\\\"changes\\\"]=false}),self),this[\\\"formatted_value\\\"].subscribe((function (val){!(this.valueFromJulia[\\\"formatted_value\\\"]) ? (_webIOScope.setObservableValue({\\\"name\\\":\\\"formatted_value\\\",\\\"scope\\\":\\\"knockout-component-212558f6-7c8c-408e-8452-1c2bb3a0d0ee\\\",\\\"id\\\":\\\"ob_09\\\",\\\"type\\\":\\\"observable\\\"},val)) : undefined; return this.valueFromJulia[\\\"formatted_value\\\"]=false}),self),this[\\\"index\\\"].subscribe((function (val){!(this.valueFromJulia[\\\"index\\\"]) ? (_webIOScope.setObservableValue({\\\"name\\\":\\\"index\\\",\\\"scope\\\":\\\"knockout-component-212558f6-7c8c-408e-8452-1c2bb3a0d0ee\\\",\\\"id\\\":\\\"ob_07\\\",\\\"type\\\":\\\"observable\\\"},val)) : undefined; return this.valueFromJulia[\\\"index\\\"]=false}),self)]\\n        \\n    }\\n    self.model = new AppViewModel();\\n    self.valueFromJulia = {};\\n    for (var key in json_data) {\\n        self.valueFromJulia[key] = false;\\n    }\\n    ko.applyBindings(self.model, self.dom);\\n}\\n\")]),\"changes\"=>Any[JSString(\"(function (val){return (val!=this.model[\\\"changes\\\"]()) ? (this.valueFromJulia[\\\"changes\\\"]=true, this.model[\\\"changes\\\"](val)) : undefined})\")],\"formatted_value\"=>Any[JSString(\"(function (val){return (val!=this.model[\\\"formatted_value\\\"]()) ? (this.valueFromJulia[\\\"formatted_value\\\"]=true, this.model[\\\"formatted_value\\\"](val)) : undefined})\")],\"index\"=>Any[JSString(\"(function (val){return (val!=this.model[\\\"index\\\"]()) ? (this.valueFromJulia[\\\"index\\\"]=true, this.model[\\\"index\\\"](val)) : undefined})\"), JSString(\"(function (val){return _webIOScope.setObservableValue({\\\"name\\\":\\\"formatted_value\\\",\\\"scope\\\":\\\"knockout-component-212558f6-7c8c-408e-8452-1c2bb3a0d0ee\\\",\\\"id\\\":\\\"ob_09\\\",\\\"type\\\":\\\"observable\\\"},_webIOScope.getObservableValue({\\\"name\\\":\\\"formatted_vals\\\",\\\"scope\\\":\\\"knockout-component-212558f6-7c8c-408e-8452-1c2bb3a0d0ee\\\",\\\"id\\\":\\\"ob_08\\\",\\\"type\\\":\\\"observable\\\"})[(_webIOScope.getObservableValue({\\\"name\\\":\\\"index\\\",\\\"scope\\\":\\\"knockout-component-212558f6-7c8c-408e-8452-1c2bb3a0d0ee\\\",\\\"id\\\":\\\"ob_07\\\",\\\"type\\\":\\\"observable\\\"})-1)])})\")]), ConnectionPool(Channel{Any}(sz_max:9223372036854775807,sz_curr:0), Set(AbstractConnection[]), Channel{AbstractConnection}(sz_max:32,sz_curr:0))), ##52#53{#dom#13{##dom#11#12{Dict{Any,Any},DOM}},typeof(scope)}(#dom#13{##dom#11#12{Dict{Any,Any},DOM}}(##dom#11#12{Dict{Any,Any},DOM}(Dict{Any,Any}(:className=>\"field\"), DOM(:html, :div))), scope)),:b=>Widget{:slider,Float64}(OrderedDict{Symbol,Any}(:changes=>Observable{Int64} with 1 listeners. Value:\n",
       "0,:index=>Observable{Any} with 2 listeners. Value:\n",
       "3,:formatted_vals=>Observable{Any} with 1 listeners. Value:\n",
       "[\"0.25\", \"0.5\", \"1.0\", \"2.0\", \"4.0\"],:formatted_value=>Observable{String} with 1 listeners. Value:\n",
       "\"1.0\",:value=>Observable{Float64} with 2 listeners. Value:\n",
       "1.0), Observable{Float64} with 2 listeners. Value:\n",
       "1.0, Scope(\"knockout-component-91b36450-5c2b-458b-85a1-b34b37a31b2e\", Node{DOM}(DOM(:html, :div), Any[Node{DOM}(DOM(:html, :div), Any[Node{DOM}(DOM(:html, :label), Any[\"b\"], Dict{Symbol,Any}(:className=>\"interact \",:style=>Dict{Any,Any}(:padding=>\"5px 10px 0px 10px\")), 1)], Dict{Symbol,Any}(:attributes=>Dict(\"style\"=>\"text-align:right;width:18%\")), 2), Node{DOM}(DOM(:html, :div), Any[Node{DOM}(DOM(:html, :input), Any[], Dict{Symbol,Any}(:max=>5,:min=>1,:attributes=>Dict{Any,Any}(:type=>\"range\",Symbol(\"data-bind\")=>\"numericValue: index, valueUpdate: 'input', event: {change : function () {this.changes(this.changes()+1)}}\",\"orient\"=>\"horizontal\"),:step=>1,:className=>\"slider slider is-fullwidth\",:style=>Dict{Any,Any}()), 0)], Dict{Symbol,Any}(:attributes=>Dict(\"style\"=>\"flex-grow:1; margin: 0 2%\")), 1), Node{DOM}(DOM(:html, :div), Any[Node{DOM}(DOM(:html, :p), Any[], Dict{Symbol,Any}(:attributes=>Dict(\"data-bind\"=>\"text: formatted_value\")), 0)], Dict{Symbol,Any}(:attributes=>Dict(\"style\"=>\"width:18%\")), 1)], Dict{Symbol,Any}(:attributes=>Dict(\"style\"=>\"display:flex; justify-content:center; align-items:center;\")), 7), Dict{String,Tuple{Observables.AbstractObservable,Union{Nothing, Bool}}}(\"formatted_vals\"=>(Observable{Any} with 1 listeners. Value:\n",
       "[\"0.25\", \"0.5\", \"1.0\", \"2.0\", \"4.0\"], nothing),\"changes\"=>(Observable{Int64} with 1 listeners. Value:\n",
       "0, nothing),\"formatted_value\"=>(Observable{String} with 1 listeners. Value:\n",
       "\"1.0\", nothing),\"index\"=>(Observable{Any} with 2 listeners. Value:\n",
       "3, nothing)), Set(String[]), nothing, Any[\"knockout\"=>\"C:\\\\Users\\\\ITC\\\\.julia\\\\packages\\\\Knockout\\\\JIqpG\\\\src\\\\..\\\\assets\\\\knockout.js\", \"knockout_punches\"=>\"C:\\\\Users\\\\ITC\\\\.julia\\\\packages\\\\Knockout\\\\JIqpG\\\\src\\\\..\\\\assets\\\\knockout_punches.js\", \"C:\\\\Users\\\\ITC\\\\.julia\\\\packages\\\\InteractBase\\\\Q4IkI\\\\src\\\\..\\\\assets\\\\all.js\", \"C:\\\\Users\\\\ITC\\\\.julia\\\\packages\\\\InteractBase\\\\Q4IkI\\\\src\\\\..\\\\assets\\\\style.css\", \"C:\\\\Users\\\\ITC\\\\.julia\\\\packages\\\\InteractBulma\\\\Ohu5Y\\\\src\\\\..\\\\assets\\\\main.css\"], Dict{Any,Any}(\"formatted_vals\"=>Any[JSString(\"(function (val){return (val!=this.model[\\\"formatted_vals\\\"]()) ? (this.valueFromJulia[\\\"formatted_vals\\\"]=true, this.model[\\\"formatted_vals\\\"](val)) : undefined})\")],\"_promises\"=>Dict{Any,Any}(\"importsLoaded\"=>Any[JSString(\"function (ko, koPunches) {\\n    ko.punches.enableAll();\\n    ko.bindingHandlers.numericValue = {\\n        init : function(element, valueAccessor, allBindings, data, context) {\\n            var stringified = ko.observable(ko.unwrap(valueAccessor()));\\n            stringified.subscribe(function(value) {\\n                var val = parseFloat(value);\\n                if (!isNaN(val)) {\\n                    valueAccessor()(val);\\n                }\\n            })\\n            valueAccessor().subscribe(function(value) {\\n                var str = JSON.stringify(value);\\n                if ((str == \\\"0\\\") && ([\\\"-0\\\", \\\"-0.\\\"].indexOf(stringified()) >= 0))\\n                     return;\\n                 if ([\\\"null\\\", \\\"\\\"].indexOf(str) >= 0)\\n                     return;\\n                stringified(str);\\n            })\\n            ko.applyBindingsToNode(element, { value: stringified, valueUpdate: allBindings.get('valueUpdate')}, context);\\n        }\\n    };\\n    var json_data = JSON.parse(\\\"{\\\\\\\"formatted_vals\\\\\\\":[\\\\\\\"0.25\\\\\\\",\\\\\\\"0.5\\\\\\\",\\\\\\\"1.0\\\\\\\",\\\\\\\"2.0\\\\\\\",\\\\\\\"4.0\\\\\\\"],\\\\\\\"changes\\\\\\\":0,\\\\\\\"formatted_value\\\\\\\":\\\\\\\"1.0\\\\\\\",\\\\\\\"index\\\\\\\":3}\\\");\\n    var self = this;\\n    function AppViewModel() {\\n        for (var key in json_data) {\\n            var el = json_data[key];\\n            this[key] = Array.isArray(el) ? ko.observableArray(el) : ko.observable(el);\\n        }\\n        \\n        \\n        [this[\\\"formatted_vals\\\"].subscribe((function (val){!(this.valueFromJulia[\\\"formatted_vals\\\"]) ? (_webIOScope.setObservableValue({\\\"name\\\":\\\"formatted_vals\\\",\\\"scope\\\":\\\"knockout-component-91b36450-5c2b-458b-85a1-b34b37a31b2e\\\",\\\"id\\\":\\\"ob_13\\\",\\\"type\\\":\\\"observable\\\"},val)) : undefined; return this.valueFromJulia[\\\"formatted_vals\\\"]=false}),self),this[\\\"changes\\\"].subscribe((function (val){!(this.valueFromJulia[\\\"changes\\\"]) ? (_webIOScope.setObservableValue({\\\"name\\\":\\\"changes\\\",\\\"scope\\\":\\\"knockout-component-91b36450-5c2b-458b-85a1-b34b37a31b2e\\\",\\\"id\\\":\\\"ob_15\\\",\\\"type\\\":\\\"observable\\\"},val)) : undefined; return this.valueFromJulia[\\\"changes\\\"]=false}),self),this[\\\"formatted_value\\\"].subscribe((function (val){!(this.valueFromJulia[\\\"formatted_value\\\"]) ? (_webIOScope.setObservableValue({\\\"name\\\":\\\"formatted_value\\\",\\\"scope\\\":\\\"knockout-component-91b36450-5c2b-458b-85a1-b34b37a31b2e\\\",\\\"id\\\":\\\"ob_14\\\",\\\"type\\\":\\\"observable\\\"},val)) : undefined; return this.valueFromJulia[\\\"formatted_value\\\"]=false}),self),this[\\\"index\\\"].subscribe((function (val){!(this.valueFromJulia[\\\"index\\\"]) ? (_webIOScope.setObservableValue({\\\"name\\\":\\\"index\\\",\\\"scope\\\":\\\"knockout-component-91b36450-5c2b-458b-85a1-b34b37a31b2e\\\",\\\"id\\\":\\\"ob_12\\\",\\\"type\\\":\\\"observable\\\"},val)) : undefined; return this.valueFromJulia[\\\"index\\\"]=false}),self)]\\n        \\n    }\\n    self.model = new AppViewModel();\\n    self.valueFromJulia = {};\\n    for (var key in json_data) {\\n        self.valueFromJulia[key] = false;\\n    }\\n    ko.applyBindings(self.model, self.dom);\\n}\\n\")]),\"changes\"=>Any[JSString(\"(function (val){return (val!=this.model[\\\"changes\\\"]()) ? (this.valueFromJulia[\\\"changes\\\"]=true, this.model[\\\"changes\\\"](val)) : undefined})\")],\"formatted_value\"=>Any[JSString(\"(function (val){return (val!=this.model[\\\"formatted_value\\\"]()) ? (this.valueFromJulia[\\\"formatted_value\\\"]=true, this.model[\\\"formatted_value\\\"](val)) : undefined})\")],\"index\"=>Any[JSString(\"(function (val){return (val!=this.model[\\\"index\\\"]()) ? (this.valueFromJulia[\\\"index\\\"]=true, this.model[\\\"index\\\"](val)) : undefined})\"), JSString(\"(function (val){return _webIOScope.setObservableValue({\\\"name\\\":\\\"formatted_value\\\",\\\"scope\\\":\\\"knockout-component-91b36450-5c2b-458b-85a1-b34b37a31b2e\\\",\\\"id\\\":\\\"ob_14\\\",\\\"type\\\":\\\"observable\\\"},_webIOScope.getObservableValue({\\\"name\\\":\\\"formatted_vals\\\",\\\"scope\\\":\\\"knockout-component-91b36450-5c2b-458b-85a1-b34b37a31b2e\\\",\\\"id\\\":\\\"ob_13\\\",\\\"type\\\":\\\"observable\\\"})[(_webIOScope.getObservableValue({\\\"name\\\":\\\"index\\\",\\\"scope\\\":\\\"knockout-component-91b36450-5c2b-458b-85a1-b34b37a31b2e\\\",\\\"id\\\":\\\"ob_12\\\",\\\"type\\\":\\\"observable\\\"})-1)])})\")]), ConnectionPool(Channel{Any}(sz_max:9223372036854775807,sz_curr:0), Set(AbstractConnection[]), Channel{AbstractConnection}(sz_max:32,sz_curr:0))), ##52#53{#dom#13{##dom#11#12{Dict{Any,Any},DOM}},typeof(scope)}(#dom#13{##dom#11#12{Dict{Any,Any},DOM}}(##dom#11#12{Dict{Any,Any},DOM}(Dict{Any,Any}(:className=>\"field\"), DOM(:html, :div))), scope))), Observable{Any} with 0 listeners. Value:\n",
       "Plot{Plots.PlotlyBackend() n=2}, nothing, getfield(Main, Symbol(\"##6#10\")){Observable{Any}}(Observable{Any} with 0 listeners. Value:\n",
       "Plot{Plots.PlotlyBackend() n=2}))"
      ]
     },
     "execution_count": 6,
     "metadata": {
      "application/vnd.webio.node+json": {
       "kernelId": "f9e054cb-ccdb-4383-b6be-4601ebd1882e"
      }
     },
     "output_type": "execute_result"
    }
   ],
   "source": [
    "# y = a sin(b x + c)\n",
    "# y = a cos(b x + c)\n",
    "@manipulate for c = 0:π/16:4π, a=-1:0.1:20, b=[0.25, 0.5, 1, 2,4] \n",
    "        plot([θ -> a*sin(b*θ + c), θ -> a*cos(b*θ + c)], 0, 4π,title=\"y=af(bx+c)\", label=[\"sin\" \"cos\"])\n",
    "end"
   ]
  },
  {
   "cell_type": "code",
   "execution_count": 7,
   "metadata": {},
   "outputs": [
    {
     "data": {
      "application/vnd.webio.node+json": {
       "children": [
        {
         "children": [
          {
           "children": [
            {
             "children": [
              {
               "children": [
                {
                 "children": [
                  "n"
                 ],
                 "instanceArgs": {
                  "namespace": "html",
                  "tag": "label"
                 },
                 "nodeType": "DOM",
                 "props": {
                  "className": "interact ",
                  "style": {
                   "padding": "5px 10px 0px 10px"
                  }
                 },
                 "type": "node"
                }
               ],
               "instanceArgs": {
                "namespace": "html",
                "tag": "div"
               },
               "nodeType": "DOM",
               "props": {
                "attributes": {
                 "style": "text-align:right;width:18%"
                }
               },
               "type": "node"
              },
              {
               "children": [
                {
                 "children": [],
                 "instanceArgs": {
                  "namespace": "html",
                  "tag": "input"
                 },
                 "nodeType": "DOM",
                 "props": {
                  "attributes": {
                   "data-bind": "numericValue: value, valueUpdate: 'input', event: {change : function () {this.changes(this.changes()+1)}}",
                   "orient": "horizontal",
                   "type": "range"
                  },
                  "className": "slider slider is-fullwidth",
                  "max": 8,
                  "min": 1,
                  "step": 1,
                  "style": {}
                 },
                 "type": "node"
                }
               ],
               "instanceArgs": {
                "namespace": "html",
                "tag": "div"
               },
               "nodeType": "DOM",
               "props": {
                "attributes": {
                 "style": "flex-grow:1; margin: 0 2%"
                }
               },
               "type": "node"
              },
              {
               "children": [
                {
                 "children": [],
                 "instanceArgs": {
                  "namespace": "html",
                  "tag": "p"
                 },
                 "nodeType": "DOM",
                 "props": {
                  "attributes": {
                   "data-bind": "text: value"
                  }
                 },
                 "type": "node"
                }
               ],
               "instanceArgs": {
                "namespace": "html",
                "tag": "div"
               },
               "nodeType": "DOM",
               "props": {
                "attributes": {
                 "style": "width:18%"
                }
               },
               "type": "node"
              }
             ],
             "instanceArgs": {
              "namespace": "html",
              "tag": "div"
             },
             "nodeType": "DOM",
             "props": {
              "attributes": {
               "style": "display:flex; justify-content:center; align-items:center;"
              }
             },
             "type": "node"
            }
           ],
           "instanceArgs": {
            "handlers": {
             "_promises": {
              "importsLoaded": [
               "function (ko, koPunches) {\n    ko.punches.enableAll();\n    ko.bindingHandlers.numericValue = {\n        init : function(element, valueAccessor, allBindings, data, context) {\n            var stringified = ko.observable(ko.unwrap(valueAccessor()));\n            stringified.subscribe(function(value) {\n                var val = parseFloat(value);\n                if (!isNaN(val)) {\n                    valueAccessor()(val);\n                }\n            })\n            valueAccessor().subscribe(function(value) {\n                var str = JSON.stringify(value);\n                if ((str == \"0\") && ([\"-0\", \"-0.\"].indexOf(stringified()) >= 0))\n                     return;\n                 if ([\"null\", \"\"].indexOf(str) >= 0)\n                     return;\n                stringified(str);\n            })\n            ko.applyBindingsToNode(element, { value: stringified, valueUpdate: allBindings.get('valueUpdate')}, context);\n        }\n    };\n    var json_data = JSON.parse(\"{\\\"changes\\\":0,\\\"value\\\":4}\");\n    var self = this;\n    function AppViewModel() {\n        for (var key in json_data) {\n            var el = json_data[key];\n            this[key] = Array.isArray(el) ? ko.observableArray(el) : ko.observable(el);\n        }\n        \n        \n        [this[\"changes\"].subscribe((function (val){!(this.valueFromJulia[\"changes\"]) ? (_webIOScope.setObservableValue({\"name\":\"changes\",\"scope\":\"knockout-component-bdf64ac8-550c-43f6-a6ca-03375e89e7b4\",\"id\":\"ob_22\",\"type\":\"observable\"},val)) : undefined; return this.valueFromJulia[\"changes\"]=false}),self),this[\"value\"].subscribe((function (val){!(this.valueFromJulia[\"value\"]) ? (_webIOScope.setObservableValue({\"name\":\"value\",\"scope\":\"knockout-component-bdf64ac8-550c-43f6-a6ca-03375e89e7b4\",\"id\":\"ob_21\",\"type\":\"observable\"},val)) : undefined; return this.valueFromJulia[\"value\"]=false}),self)]\n        \n    }\n    self.model = new AppViewModel();\n    self.valueFromJulia = {};\n    for (var key in json_data) {\n        self.valueFromJulia[key] = false;\n    }\n    ko.applyBindings(self.model, self.dom);\n}\n"
              ]
             },
             "changes": [
              "(function (val){return (val!=this.model[\"changes\"]()) ? (this.valueFromJulia[\"changes\"]=true, this.model[\"changes\"](val)) : undefined})"
             ],
             "value": [
              "(function (val){return (val!=this.model[\"value\"]()) ? (this.valueFromJulia[\"value\"]=true, this.model[\"value\"](val)) : undefined})"
             ]
            },
            "id": "knockout-component-bdf64ac8-550c-43f6-a6ca-03375e89e7b4",
            "imports": {
             "data": [
              {
               "name": "knockout",
               "type": "js",
               "url": "/assetserver/fe22cd9d191f96ff815bc620a0bebe3c109f5b1f-knockout.js"
              },
              {
               "name": "knockout_punches",
               "type": "js",
               "url": "/assetserver/11cdd9d44807d880492d60f1c24310da0262975e-knockout_punches.js"
              },
              {
               "name": null,
               "type": "js",
               "url": "/assetserver/51c794a2058093733f80f2cc393f437e3f7df428-all.js"
              },
              {
               "name": null,
               "type": "css",
               "url": "/assetserver/e9aa75906a0c3335f6ba21c771b6b0ed32818af2-style.css"
              },
              {
               "name": null,
               "type": "css",
               "url": "/assetserver/68da98fcfcf64a97d74ecffe25d06bf25d85b385-main.css"
              }
             ],
             "type": "async_block"
            },
            "observables": {
             "changes": {
              "id": "ob_22",
              "sync": false,
              "value": 0
             },
             "value": {
              "id": "ob_21",
              "sync": true,
              "value": 4
             }
            },
            "systemjs_options": null
           },
           "nodeType": "Scope",
           "props": {},
           "type": "node"
          }
         ],
         "instanceArgs": {
          "namespace": "html",
          "tag": "div"
         },
         "nodeType": "DOM",
         "props": {
          "className": "field"
         },
         "type": "node"
        },
        {
         "children": [
          {
           "children": [],
           "instanceArgs": {
            "id": "ob_27",
            "name": "obs-node"
           },
           "nodeType": "ObservableNode",
           "props": {},
           "type": "node"
          }
         ],
         "instanceArgs": {
          "handlers": {},
          "id": "scope-12c4b36e-91e5-4ced-8d1e-a3c727570ac1",
          "imports": {
           "data": [],
           "type": "async_block"
          },
          "observables": {
           "obs-node": {
            "id": "ob_27",
            "sync": false,
            "value": {
             "children": [
              {
               "children": [],
               "instanceArgs": {
                "namespace": "html",
                "tag": "div"
               },
               "nodeType": "DOM",
               "props": {
                "setInnerHtml": "    <div id=\"16daf88f-e060-4594-9407-067e755d9586\" style=\"width:600px;height:400px;\"></div>\n    <script>\n    PLOT = document.getElementById('16daf88f-e060-4594-9407-067e755d9586');\n    Plotly.plot(PLOT, [{\"xaxis\":\"x1\",\"colorbar\":{\"title\":\"\"},\"fill\":\"tozeroy\",\"yaxis\":\"y1\",\"text\":[null,null,null,null,null,null,null,null,null,null,null,null,null,null,null,null,null,null,null,null,null,null,null,null,null,null,null,null,null,null,null,null,null,null,null,null,null,null,null,null,null,null,null,null,null,null,null,null,null,null,null,null,null,null,null,null,null,null,null,null,null,null,null,null,null,null,null,null,null,null,null,null,null,null,null,null,null,null,null,null,null,null,null,null,null,null,null,null,null,null,null,null,null,null,null,null,null,null,null,null,null,null,null,null,null,null,null,null,null,null,null,null,null,null,null,null,null,null,null,null,null,null,null,null,null,null,null,null,null,null,null,null,null,null,null,null,null,null,null,null,null,null,null,null,null,null,null,null,null,null,null,null,null,null,null,null,null,null,null,null,null,null,null,null,null,null,null,null,null,null,null,null,null,null,null,null,null,null,null,null,null,null,null,null,null,null,null,null,null,null,null,null,null,null,null,null,null,null,null,null],\"x\":[0.0,0.12589692538104788,0.24941484918194337,0.36822719421201516,0.4801109886765376,0.5829955907991744,0.6750078040726547,0.7545123183115265,0.8201465258125117,0.8708488992101898,0.9058802746575886,0.924837556884613,0.9276595472229955,0.9146247872803229,0.8863415048712822,0.8437299402901546,0.7879975153169837,0.7206074799534273,0.6432418285387311,0.5577594137552447,0.4661503007434363,0.3704874913316686,0.27287720811412414,0.17540895834662992,0.08010659767277702,-0.011118416410704986,-0.0965104508942019,-0.174508760226822,-0.24378125563996322,-0.3032521862053907,-0.35212309202940384,-0.38988656047310877,-0.41633249797808103,-0.4315468184239116,-0.4359026392451275,-0.4300442640416419,-0.4148644104552985,-0.391475310171819,-0.3611744598612968,-0.32540593391609285,-0.285718278707402,-0.2437200910669456,-0.20103443876258512,-0.15925330652936967,-0.1198932471261165,-0.08435338304483744,-0.053876841782549686,-0.029516617590270352,-0.012106737621769935,-0.00223947331883459,-0.0002491821461011942,-0.006203194348132757,-0.01989997853294101,-0.04087463313868983,-0.06841156290964198,-0.10156401511892561,-0.13917997406630914,-0.17993374878160234,-0.22236244199632715,-0.264906362007916,-0.30595233624173784,-0.3438788087164954,-0.37710155518288463,-0.4041188306749259,-0.42355477509427486,-0.4341999429985003,-0.435047893001094,-0.4253268684123817,-0.40452572157938543,-0.37241337682517434,-0.32905128740813316,-0.27479851652824916,-0.21030925675505466,-0.13652279174734724,-0.054646094052453874,0.03387056162832257,0.12736441367924456,0.22399673801997821,0.32179421667228325,0.41869416067879506,0.5125924972035681,0.6013933570420303,0.6830590538437763,0.7556592312682409,0.8174179694738821,0.8667576874578905,0.9023387517441142,0.9230938029730077,0.9282559376170975,0.917380029254192,0.8903566389676146,0.8474181434501271,0.7891368978615143,0.7164154437870008,0.6304689660004268,0.5328003903836602,0.42516869463734014,0.30955116891219026,0.18810051110866102,0.06309776768951844,-0.06309776768951746,-0.18810051110866005,-0.30955116891218937,-0.4251686946373393,-0.5328003903836596,-0.6304689660004261,-0.7164154437870002,-0.7891368978615138,-0.8474181434501268,-0.8903566389676143,-0.9173800292541919,-0.9282559376170975,-0.9230938029730078,-0.9023387517441143,-0.8667576874578908,-0.8174179694738826,-0.7556592312682414,-0.6830590538437769,-0.601393357042031,-0.5125924972035688,-0.4186941606787959,-0.32179421667228403,-0.223996738019979,-0.1273644136792453,-0.033870561628323276,0.05464609405245321,0.1365227917473466,0.21030925675505316,0.2747985165282487,0.32905128740813205,0.372413376825174,0.40452572157938566,0.4253268684123813,0.435047893001094,0.43419994299850045,0.42355477509427497,0.4041188306749259,0.377101555182885,0.34387880871649545,0.30595233624173873,0.26490636200791634,0.22236244199632685,0.17993374878160295,0.1391799740663092,0.1015640151189264,0.06841156290964219,0.04087463313868968,0.019899978532941266,0.0062031943481327635,0.0002491821461012237,0.0022394733188345435,0.01210673762177002,0.029516617590270036,0.05387684178254967,0.08435338304483694,0.11989324712611621,0.15925330652936992,0.20103443876258476,0.2437200910669455,0.2857182787074014,0.3254059339160928,0.3611744598612961,0.3914753101718188,0.4148644104552984,0.4300442640416418,0.43590263924512757,0.43154681842391185,0.41633249797808114,0.38988656047310877,0.35212309202940456,0.3032521862053907,0.24378125563996442,0.17450876022682255,0.0965104508942017,0.011118416410705986,-0.08010659767277693,-0.17540895834662812,-0.27287720811412336,-0.3704874913316692,-0.4661503007434353,-0.5577594137552447,-0.6432418285387298,-0.720607479953427,-0.7879975153169841,-0.843729940290154,-0.8863415048712822,-0.9146247872803225,-0.9276595472229954,-0.9248375568846133,-0.9058802746575889,-0.8708488992101897,-0.8201465258125126,-0.7545123183115269,-0.6750078040726565,-0.5829955907991752,-0.48011098867653734,-0.3682271942120168,-0.24941484918194365,-0.12589692538105024,-9.797174393178826e-16],\"showlegend\":true,\"mode\":\"lines\",\"fillcolor\":\"rgba(255, 165, 0, 1.000)\",\"name\":\"y1\",\"zmin\":-0.1,\"legendgroup\":\"y1\",\"zmax\":0.1,\"line\":{\"color\":\"rgba(0, 154, 250, 1.000)\",\"shape\":\"linear\",\"dash\":\"solid\",\"width\":1},\"y\":[0.0,0.0039763652177910985,0.01577091526359876,0.034983679200838357,0.060960164382872606,0.09280921805125406,0.1294273884800222,0.16952916008213612,0.21168228547888332,0.25434730566688835,0.29592024042550974,0.3347773477439883,0.3693207954265112,0.39802406157505443,0.4194758840463196,0.4324216121758161,0.43580087625945363,0.4287805799556054,0.4107823357053578,0.3815036006194836,0.3409319266392095,0.2893519102581607,0.2273446094280368,0.15577938391892618,0.07579830566315482,-0.011206527269019809,-0.10362226010741737,-0.19965045427106215,-0.29734733321869017,-0.39466814050169086,-0.48951454252590915,-0.5797839280233082,-0.6634194040033244,-0.7384592653412732,-0.8030847227771549,-0.8556647118023749,-0.8947966718167939,-0.919342279431211,-0.9284572395721602,-0.9216143801888762,-0.8986194573818465,-0.8596192537133799,-0.8051017389952654,-0.7358882553837249,-0.6531178824026352,-0.5582243277837134,-0.4529058720627116,-0.3390890642103411,-0.21888701802470129,-0.09455329080346238,0.031567566306438484,0.1570916155814428,0.27964807419990023,0.3969315436822332,0.5067526886734939,0.6070861643383337,0.6961146588556787,0.7722680123848502,0.834256494082142,0.8810974613074293,0.9121347865532098,0.9270506138681541,0.9258691932831936,0.9089527343722489,0.8769894138406519,0.8309738621555567,0.7721806360306225,0.7021313525776418,0.62255631298621,0.5353515749575604,0.442532540584084,0.3461852073105028,0.24841628207414454,0.15130338144640362,0.05684653306973517,-0.033077843860037454,-0.11675936789741657,-0.19269151718594313,-0.2596039454577938,-0.3164885346612408,-0.36261858595044505,-0.3975607244734356,-0.4211792771820897,-0.4336330721683126,-0.435364798077292,-0.42708324822100785,-0.40973895147603406,-0.38449385648103473,-0.35268588296206577,-0.3157892805493105,-0.2753718380702396,-0.2330500624738709,-0.19044349438383498,-0.14912934562816116,-0.11059863252275282,-0.07621493751310832,-0.047176862064586274,-0.024485137208198202,-0.008915237338150167,-0.0009962007683252511,-0.0009962007683252199,-0.008915237338150075,-0.024485137208198057,-0.04717686206458607,-0.07621493751310807,-0.11059863252275254,-0.14912934562816083,-0.19044349438383465,-0.23305006247387056,-0.2753718380702393,-0.3157892805493102,-0.3526858829620655,-0.38449385648103446,-0.40973895147603384,-0.42708324822100774,-0.43536479807729195,-0.4336330721683126,-0.4211792771820899,-0.3975607244734358,-0.3626185859504454,-0.3164885346612412,-0.2596039454577943,-0.19269151718594366,-0.11675936789741721,-0.03307784386003813,0.056846533069734445,0.1513033814464029,0.2484162820741424,0.34618520731050206,0.44253254058408187,0.5353515749575596,0.6225563129862105,0.7021313525776401,0.772180636030622,0.8309738621555556,0.8769894138406515,0.9089527343722489,0.9258691932831935,0.9270506138681541,0.9121347865532102,0.8810974613074295,0.8342564940821416,0.7722680123848512,0.6961146588556788,0.607086164338336,0.5067526886734947,0.39693154368223255,0.27964807419990195,0.15709161558144288,0.03156756630644035,-0.09455329080346139,-0.21888701802470206,-0.3390890642103393,-0.4529058720627115,-0.5582243277837119,-0.6531178824026346,-0.7358882553837255,-0.8051017389952648,-0.8596192537133798,-0.8986194573818461,-0.9216143801888762,-0.9284572395721603,-0.919342279431211,-0.8947966718167939,-0.8556647118023756,-0.803084722777155,-0.7384592653412748,-0.663419404003325,-0.579783928023308,-0.48951454252591053,-0.3946681405016909,-0.297347333218692,-0.19965045427106287,-0.10362226010741714,-0.011206527269020827,0.07579830566315475,0.1557793839189248,0.2273446094280363,0.28935191025816104,0.340931926639209,0.3815036006194836,0.4107823357053575,0.4287805799556053,0.4358008762594536,0.4324216121758162,0.4194758840463195,0.3980240615750549,0.36932079542651136,0.33477734774398915,0.29592024042551013,0.25434730566688823,0.21168228547888393,0.16952916008213625,0.12942738848002297,0.09280921805125436,0.06096016438287252,0.03498367920083868,0.0157709152635988,0.00397636521779125,2.399615652258972e-31],\"type\":\"scatter\",\"hoverinfo\":\"text\"}], {\"showlegend\":false,\"xaxis\":{\"showticklabels\":true,\"gridwidth\":0.5,\"tickvals\":[-0.75,-0.5,-0.25,0.0,0.25,0.5,0.75],\"visible\":true,\"ticks\":\"inside\",\"range\":[-0.9839512938741233,0.9839512938741233],\"domain\":[0.08063575386410031,0.9934383202099737],\"tickmode\":\"array\",\"linecolor\":\"rgba(0, 0, 0, 1.000)\",\"showgrid\":true,\"title\":\"\",\"mirror\":false,\"tickangle\":0,\"showline\":true,\"gridcolor\":\"rgba(0, 0, 0, 0.100)\",\"titlefont\":{\"color\":\"rgba(0, 0, 0, 1.000)\",\"family\":\"sans-serif\",\"size\":15},\"tickcolor\":\"rgb(0, 0, 0)\",\"ticktext\":[\"-0.75\",\"-0.50\",\"-0.25\",\"0.00\",\"0.25\",\"0.50\",\"0.75\"],\"zeroline\":false,\"type\":\"-\",\"tickfont\":{\"color\":\"rgba(0, 0, 0, 1.000)\",\"family\":\"sans-serif\",\"size\":11},\"zerolinecolor\":\"rgba(0, 0, 0, 1.000)\",\"anchor\":\"y1\"},\"paper_bgcolor\":\"rgba(255, 255, 255, 1.000)\",\"annotations\":[{\"yanchor\":\"top\",\"xanchor\":\"center\",\"rotation\":-0.0,\"y\":1.0,\"font\":{\"color\":\"rgba(0, 0, 0, 1.000)\",\"family\":\"sans-serif\",\"size\":20},\"yref\":\"paper\",\"showarrow\":false,\"text\":\"r=sin(4x)\",\"xref\":\"paper\",\"x\":0.5370370370370371}],\"height\":400,\"margin\":{\"l\":0,\"b\":20,\"r\":0,\"t\":20},\"plot_bgcolor\":\"rgba(255, 255, 255, 1.000)\",\"yaxis\":{\"showticklabels\":true,\"gridwidth\":0.5,\"tickvals\":[-0.75,-0.5,-0.25,0.0,0.25,0.5,0.75],\"visible\":true,\"ticks\":\"inside\",\"range\":[-0.9841224751753698,0.9827158494713636],\"domain\":[0.03762029746281716,0.9415463692038496],\"tickmode\":\"array\",\"linecolor\":\"rgba(0, 0, 0, 1.000)\",\"showgrid\":true,\"title\":\"\",\"mirror\":false,\"tickangle\":0,\"showline\":true,\"gridcolor\":\"rgba(0, 0, 0, 0.100)\",\"titlefont\":{\"color\":\"rgba(0, 0, 0, 1.000)\",\"family\":\"sans-serif\",\"size\":15},\"tickcolor\":\"rgb(0, 0, 0)\",\"ticktext\":[\"-0.75\",\"-0.50\",\"-0.25\",\"0.00\",\"0.25\",\"0.50\",\"0.75\"],\"zeroline\":false,\"type\":\"-\",\"tickfont\":{\"color\":\"rgba(0, 0, 0, 1.000)\",\"family\":\"sans-serif\",\"size\":11},\"zerolinecolor\":\"rgba(0, 0, 0, 1.000)\",\"anchor\":\"x1\"},\"width\":600});\n    </script>\n"
               },
               "type": "node"
              }
             ],
             "instanceArgs": {
              "namespace": "html",
              "tag": "div"
             },
             "nodeType": "DOM",
             "props": {
              "attributes": {
               "style": "display:flex; justify-content:center; align-items:center;"
              }
             },
             "type": "node"
            }
           }
          },
          "systemjs_options": null
         },
         "nodeType": "Scope",
         "props": {},
         "type": "node"
        }
       ],
       "instanceArgs": {
        "namespace": "html",
        "tag": "div"
       },
       "nodeType": "DOM",
       "props": {},
       "type": "node"
      },
      "text/html": [
       "<div\n",
       "    class=\"webio-mountpoint\"\n",
       "    data-webio-mountpoint=\"9613782220934956095\"\n",
       ">\n",
       "    <script>\n",
       "    if (window.require && require.defined && require.defined(\"nbextensions/webio/main\")) {\n",
       "        console.log(\"Jupyter WebIO extension detected, not mounting.\");\n",
       "    } else if (window.WebIO) {\n",
       "        WebIO.mount(\n",
       "            document.querySelector('[data-webio-mountpoint=\"9613782220934956095\"]'),\n",
       "            {\"props\":{},\"nodeType\":\"DOM\",\"type\":\"node\",\"instanceArgs\":{\"namespace\":\"html\",\"tag\":\"div\"},\"children\":[{\"props\":{\"className\":\"field\"},\"nodeType\":\"DOM\",\"type\":\"node\",\"instanceArgs\":{\"namespace\":\"html\",\"tag\":\"div\"},\"children\":[{\"props\":{},\"nodeType\":\"Scope\",\"type\":\"node\",\"instanceArgs\":{\"imports\":{\"data\":[{\"name\":\"knockout\",\"type\":\"js\",\"url\":\"\\/assetserver\\/fe22cd9d191f96ff815bc620a0bebe3c109f5b1f-knockout.js\"},{\"name\":\"knockout_punches\",\"type\":\"js\",\"url\":\"\\/assetserver\\/11cdd9d44807d880492d60f1c24310da0262975e-knockout_punches.js\"},{\"name\":null,\"type\":\"js\",\"url\":\"\\/assetserver\\/51c794a2058093733f80f2cc393f437e3f7df428-all.js\"},{\"name\":null,\"type\":\"css\",\"url\":\"\\/assetserver\\/e9aa75906a0c3335f6ba21c771b6b0ed32818af2-style.css\"},{\"name\":null,\"type\":\"css\",\"url\":\"\\/assetserver\\/68da98fcfcf64a97d74ecffe25d06bf25d85b385-main.css\"}],\"type\":\"async_block\"},\"id\":\"knockout-component-bdf64ac8-550c-43f6-a6ca-03375e89e7b4\",\"handlers\":{\"_promises\":{\"importsLoaded\":[\"function (ko, koPunches) {\\n    ko.punches.enableAll();\\n    ko.bindingHandlers.numericValue = {\\n        init : function(element, valueAccessor, allBindings, data, context) {\\n            var stringified = ko.observable(ko.unwrap(valueAccessor()));\\n            stringified.subscribe(function(value) {\\n                var val = parseFloat(value);\\n                if (!isNaN(val)) {\\n                    valueAccessor()(val);\\n                }\\n            })\\n            valueAccessor().subscribe(function(value) {\\n                var str = JSON.stringify(value);\\n                if ((str == \\\"0\\\") && ([\\\"-0\\\", \\\"-0.\\\"].indexOf(stringified()) >= 0))\\n                     return;\\n                 if ([\\\"null\\\", \\\"\\\"].indexOf(str) >= 0)\\n                     return;\\n                stringified(str);\\n            })\\n            ko.applyBindingsToNode(element, { value: stringified, valueUpdate: allBindings.get('valueUpdate')}, context);\\n        }\\n    };\\n    var json_data = JSON.parse(\\\"{\\\\\\\"changes\\\\\\\":0,\\\\\\\"value\\\\\\\":4}\\\");\\n    var self = this;\\n    function AppViewModel() {\\n        for (var key in json_data) {\\n            var el = json_data[key];\\n            this[key] = Array.isArray(el) ? ko.observableArray(el) : ko.observable(el);\\n        }\\n        \\n        \\n        [this[\\\"changes\\\"].subscribe((function (val){!(this.valueFromJulia[\\\"changes\\\"]) ? (_webIOScope.setObservableValue({\\\"name\\\":\\\"changes\\\",\\\"scope\\\":\\\"knockout-component-bdf64ac8-550c-43f6-a6ca-03375e89e7b4\\\",\\\"id\\\":\\\"ob_22\\\",\\\"type\\\":\\\"observable\\\"},val)) : undefined; return this.valueFromJulia[\\\"changes\\\"]=false}),self),this[\\\"value\\\"].subscribe((function (val){!(this.valueFromJulia[\\\"value\\\"]) ? (_webIOScope.setObservableValue({\\\"name\\\":\\\"value\\\",\\\"scope\\\":\\\"knockout-component-bdf64ac8-550c-43f6-a6ca-03375e89e7b4\\\",\\\"id\\\":\\\"ob_21\\\",\\\"type\\\":\\\"observable\\\"},val)) : undefined; return this.valueFromJulia[\\\"value\\\"]=false}),self)]\\n        \\n    }\\n    self.model = new AppViewModel();\\n    self.valueFromJulia = {};\\n    for (var key in json_data) {\\n        self.valueFromJulia[key] = false;\\n    }\\n    ko.applyBindings(self.model, self.dom);\\n}\\n\"]},\"changes\":[\"(function (val){return (val!=this.model[\\\"changes\\\"]()) ? (this.valueFromJulia[\\\"changes\\\"]=true, this.model[\\\"changes\\\"](val)) : undefined})\"],\"value\":[\"(function (val){return (val!=this.model[\\\"value\\\"]()) ? (this.valueFromJulia[\\\"value\\\"]=true, this.model[\\\"value\\\"](val)) : undefined})\"]},\"systemjs_options\":null,\"observables\":{\"changes\":{\"sync\":false,\"id\":\"ob_22\",\"value\":0},\"value\":{\"sync\":true,\"id\":\"ob_21\",\"value\":4}}},\"children\":[{\"props\":{\"attributes\":{\"style\":\"display:flex; justify-content:center; align-items:center;\"}},\"nodeType\":\"DOM\",\"type\":\"node\",\"instanceArgs\":{\"namespace\":\"html\",\"tag\":\"div\"},\"children\":[{\"props\":{\"attributes\":{\"style\":\"text-align:right;width:18%\"}},\"nodeType\":\"DOM\",\"type\":\"node\",\"instanceArgs\":{\"namespace\":\"html\",\"tag\":\"div\"},\"children\":[{\"props\":{\"className\":\"interact \",\"style\":{\"padding\":\"5px 10px 0px 10px\"}},\"nodeType\":\"DOM\",\"type\":\"node\",\"instanceArgs\":{\"namespace\":\"html\",\"tag\":\"label\"},\"children\":[\"n\"]}]},{\"props\":{\"attributes\":{\"style\":\"flex-grow:1; margin: 0 2%\"}},\"nodeType\":\"DOM\",\"type\":\"node\",\"instanceArgs\":{\"namespace\":\"html\",\"tag\":\"div\"},\"children\":[{\"props\":{\"max\":8,\"min\":1,\"attributes\":{\"type\":\"range\",\"data-bind\":\"numericValue: value, valueUpdate: 'input', event: {change : function () {this.changes(this.changes()+1)}}\",\"orient\":\"horizontal\"},\"step\":1,\"className\":\"slider slider is-fullwidth\",\"style\":{}},\"nodeType\":\"DOM\",\"type\":\"node\",\"instanceArgs\":{\"namespace\":\"html\",\"tag\":\"input\"},\"children\":[]}]},{\"props\":{\"attributes\":{\"style\":\"width:18%\"}},\"nodeType\":\"DOM\",\"type\":\"node\",\"instanceArgs\":{\"namespace\":\"html\",\"tag\":\"div\"},\"children\":[{\"props\":{\"attributes\":{\"data-bind\":\"text: value\"}},\"nodeType\":\"DOM\",\"type\":\"node\",\"instanceArgs\":{\"namespace\":\"html\",\"tag\":\"p\"},\"children\":[]}]}]}]}]},{\"props\":{},\"nodeType\":\"Scope\",\"type\":\"node\",\"instanceArgs\":{\"imports\":{\"data\":[],\"type\":\"async_block\"},\"id\":\"scope-a6916aec-fe46-4f8e-bf5e-7aee1e1509fe\",\"handlers\":{},\"systemjs_options\":null,\"observables\":{\"obs-node\":{\"sync\":false,\"id\":\"ob_25\",\"value\":{\"props\":{\"attributes\":{\"style\":\"display:flex; justify-content:center; align-items:center;\"}},\"nodeType\":\"DOM\",\"type\":\"node\",\"instanceArgs\":{\"namespace\":\"html\",\"tag\":\"div\"},\"children\":[{\"props\":{\"setInnerHtml\":\"    <div id=\\\"54db69cf-48ce-4832-9cfb-b61f6b1d9818\\\" style=\\\"width:600px;height:400px;\\\"><\\/div>\\n    <script>\\n    PLOT = document.getElementById('54db69cf-48ce-4832-9cfb-b61f6b1d9818');\\n    Plotly.plot(PLOT, [{\\\"xaxis\\\":\\\"x1\\\",\\\"colorbar\\\":{\\\"title\\\":\\\"\\\"},\\\"fill\\\":\\\"tozeroy\\\",\\\"yaxis\\\":\\\"y1\\\",\\\"text\\\":[null,null,null,null,null,null,null,null,null,null,null,null,null,null,null,null,null,null,null,null,null,null,null,null,null,null,null,null,null,null,null,null,null,null,null,null,null,null,null,null,null,null,null,null,null,null,null,null,null,null,null,null,null,null,null,null,null,null,null,null,null,null,null,null,null,null,null,null,null,null,null,null,null,null,null,null,null,null,null,null,null,null,null,null,null,null,null,null,null,null,null,null,null,null,null,null,null,null,null,null,null,null,null,null,null,null,null,null,null,null,null,null,null,null,null,null,null,null,null,null,null,null,null,null,null,null,null,null,null,null,null,null,null,null,null,null,null,null,null,null,null,null,null,null,null,null,null,null,null,null,null,null,null,null,null,null,null,null,null,null,null,null,null,null,null,null,null,null,null,null,null,null,null,null,null,null,null,null,null,null,null,null,null,null,null,null,null,null,null,null,null,null,null,null,null,null,null,null,null,null],\\\"x\\\":[0.0,0.12589692538104788,0.24941484918194337,0.36822719421201516,0.4801109886765376,0.5829955907991744,0.6750078040726547,0.7545123183115265,0.8201465258125117,0.8708488992101898,0.9058802746575886,0.924837556884613,0.9276595472229955,0.9146247872803229,0.8863415048712822,0.8437299402901546,0.7879975153169837,0.7206074799534273,0.6432418285387311,0.5577594137552447,0.4661503007434363,0.3704874913316686,0.27287720811412414,0.17540895834662992,0.08010659767277702,-0.011118416410704986,-0.0965104508942019,-0.174508760226822,-0.24378125563996322,-0.3032521862053907,-0.35212309202940384,-0.38988656047310877,-0.41633249797808103,-0.4315468184239116,-0.4359026392451275,-0.4300442640416419,-0.4148644104552985,-0.391475310171819,-0.3611744598612968,-0.32540593391609285,-0.285718278707402,-0.2437200910669456,-0.20103443876258512,-0.15925330652936967,-0.1198932471261165,-0.08435338304483744,-0.053876841782549686,-0.029516617590270352,-0.012106737621769935,-0.00223947331883459,-0.0002491821461011942,-0.006203194348132757,-0.01989997853294101,-0.04087463313868983,-0.06841156290964198,-0.10156401511892561,-0.13917997406630914,-0.17993374878160234,-0.22236244199632715,-0.264906362007916,-0.30595233624173784,-0.3438788087164954,-0.37710155518288463,-0.4041188306749259,-0.42355477509427486,-0.4341999429985003,-0.435047893001094,-0.4253268684123817,-0.40452572157938543,-0.37241337682517434,-0.32905128740813316,-0.27479851652824916,-0.21030925675505466,-0.13652279174734724,-0.054646094052453874,0.03387056162832257,0.12736441367924456,0.22399673801997821,0.32179421667228325,0.41869416067879506,0.5125924972035681,0.6013933570420303,0.6830590538437763,0.7556592312682409,0.8174179694738821,0.8667576874578905,0.9023387517441142,0.9230938029730077,0.9282559376170975,0.917380029254192,0.8903566389676146,0.8474181434501271,0.7891368978615143,0.7164154437870008,0.6304689660004268,0.5328003903836602,0.42516869463734014,0.30955116891219026,0.18810051110866102,0.06309776768951844,-0.06309776768951746,-0.18810051110866005,-0.30955116891218937,-0.4251686946373393,-0.5328003903836596,-0.6304689660004261,-0.7164154437870002,-0.7891368978615138,-0.8474181434501268,-0.8903566389676143,-0.9173800292541919,-0.9282559376170975,-0.9230938029730078,-0.9023387517441143,-0.8667576874578908,-0.8174179694738826,-0.7556592312682414,-0.6830590538437769,-0.601393357042031,-0.5125924972035688,-0.4186941606787959,-0.32179421667228403,-0.223996738019979,-0.1273644136792453,-0.033870561628323276,0.05464609405245321,0.1365227917473466,0.21030925675505316,0.2747985165282487,0.32905128740813205,0.372413376825174,0.40452572157938566,0.4253268684123813,0.435047893001094,0.43419994299850045,0.42355477509427497,0.4041188306749259,0.377101555182885,0.34387880871649545,0.30595233624173873,0.26490636200791634,0.22236244199632685,0.17993374878160295,0.1391799740663092,0.1015640151189264,0.06841156290964219,0.04087463313868968,0.019899978532941266,0.0062031943481327635,0.0002491821461012237,0.0022394733188345435,0.01210673762177002,0.029516617590270036,0.05387684178254967,0.08435338304483694,0.11989324712611621,0.15925330652936992,0.20103443876258476,0.2437200910669455,0.2857182787074014,0.3254059339160928,0.3611744598612961,0.3914753101718188,0.4148644104552984,0.4300442640416418,0.43590263924512757,0.43154681842391185,0.41633249797808114,0.38988656047310877,0.35212309202940456,0.3032521862053907,0.24378125563996442,0.17450876022682255,0.0965104508942017,0.011118416410705986,-0.08010659767277693,-0.17540895834662812,-0.27287720811412336,-0.3704874913316692,-0.4661503007434353,-0.5577594137552447,-0.6432418285387298,-0.720607479953427,-0.7879975153169841,-0.843729940290154,-0.8863415048712822,-0.9146247872803225,-0.9276595472229954,-0.9248375568846133,-0.9058802746575889,-0.8708488992101897,-0.8201465258125126,-0.7545123183115269,-0.6750078040726565,-0.5829955907991752,-0.48011098867653734,-0.3682271942120168,-0.24941484918194365,-0.12589692538105024,-9.797174393178826e-16],\\\"showlegend\\\":true,\\\"mode\\\":\\\"lines\\\",\\\"fillcolor\\\":\\\"rgba(255, 165, 0, 1.000)\\\",\\\"name\\\":\\\"y1\\\",\\\"zmin\\\":-0.1,\\\"legendgroup\\\":\\\"y1\\\",\\\"zmax\\\":0.1,\\\"line\\\":{\\\"color\\\":\\\"rgba(0, 154, 250, 1.000)\\\",\\\"shape\\\":\\\"linear\\\",\\\"dash\\\":\\\"solid\\\",\\\"width\\\":1},\\\"y\\\":[0.0,0.0039763652177910985,0.01577091526359876,0.034983679200838357,0.060960164382872606,0.09280921805125406,0.1294273884800222,0.16952916008213612,0.21168228547888332,0.25434730566688835,0.29592024042550974,0.3347773477439883,0.3693207954265112,0.39802406157505443,0.4194758840463196,0.4324216121758161,0.43580087625945363,0.4287805799556054,0.4107823357053578,0.3815036006194836,0.3409319266392095,0.2893519102581607,0.2273446094280368,0.15577938391892618,0.07579830566315482,-0.011206527269019809,-0.10362226010741737,-0.19965045427106215,-0.29734733321869017,-0.39466814050169086,-0.48951454252590915,-0.5797839280233082,-0.6634194040033244,-0.7384592653412732,-0.8030847227771549,-0.8556647118023749,-0.8947966718167939,-0.919342279431211,-0.9284572395721602,-0.9216143801888762,-0.8986194573818465,-0.8596192537133799,-0.8051017389952654,-0.7358882553837249,-0.6531178824026352,-0.5582243277837134,-0.4529058720627116,-0.3390890642103411,-0.21888701802470129,-0.09455329080346238,0.031567566306438484,0.1570916155814428,0.27964807419990023,0.3969315436822332,0.5067526886734939,0.6070861643383337,0.6961146588556787,0.7722680123848502,0.834256494082142,0.8810974613074293,0.9121347865532098,0.9270506138681541,0.9258691932831936,0.9089527343722489,0.8769894138406519,0.8309738621555567,0.7721806360306225,0.7021313525776418,0.62255631298621,0.5353515749575604,0.442532540584084,0.3461852073105028,0.24841628207414454,0.15130338144640362,0.05684653306973517,-0.033077843860037454,-0.11675936789741657,-0.19269151718594313,-0.2596039454577938,-0.3164885346612408,-0.36261858595044505,-0.3975607244734356,-0.4211792771820897,-0.4336330721683126,-0.435364798077292,-0.42708324822100785,-0.40973895147603406,-0.38449385648103473,-0.35268588296206577,-0.3157892805493105,-0.2753718380702396,-0.2330500624738709,-0.19044349438383498,-0.14912934562816116,-0.11059863252275282,-0.07621493751310832,-0.047176862064586274,-0.024485137208198202,-0.008915237338150167,-0.0009962007683252511,-0.0009962007683252199,-0.008915237338150075,-0.024485137208198057,-0.04717686206458607,-0.07621493751310807,-0.11059863252275254,-0.14912934562816083,-0.19044349438383465,-0.23305006247387056,-0.2753718380702393,-0.3157892805493102,-0.3526858829620655,-0.38449385648103446,-0.40973895147603384,-0.42708324822100774,-0.43536479807729195,-0.4336330721683126,-0.4211792771820899,-0.3975607244734358,-0.3626185859504454,-0.3164885346612412,-0.2596039454577943,-0.19269151718594366,-0.11675936789741721,-0.03307784386003813,0.056846533069734445,0.1513033814464029,0.2484162820741424,0.34618520731050206,0.44253254058408187,0.5353515749575596,0.6225563129862105,0.7021313525776401,0.772180636030622,0.8309738621555556,0.8769894138406515,0.9089527343722489,0.9258691932831935,0.9270506138681541,0.9121347865532102,0.8810974613074295,0.8342564940821416,0.7722680123848512,0.6961146588556788,0.607086164338336,0.5067526886734947,0.39693154368223255,0.27964807419990195,0.15709161558144288,0.03156756630644035,-0.09455329080346139,-0.21888701802470206,-0.3390890642103393,-0.4529058720627115,-0.5582243277837119,-0.6531178824026346,-0.7358882553837255,-0.8051017389952648,-0.8596192537133798,-0.8986194573818461,-0.9216143801888762,-0.9284572395721603,-0.919342279431211,-0.8947966718167939,-0.8556647118023756,-0.803084722777155,-0.7384592653412748,-0.663419404003325,-0.579783928023308,-0.48951454252591053,-0.3946681405016909,-0.297347333218692,-0.19965045427106287,-0.10362226010741714,-0.011206527269020827,0.07579830566315475,0.1557793839189248,0.2273446094280363,0.28935191025816104,0.340931926639209,0.3815036006194836,0.4107823357053575,0.4287805799556053,0.4358008762594536,0.4324216121758162,0.4194758840463195,0.3980240615750549,0.36932079542651136,0.33477734774398915,0.29592024042551013,0.25434730566688823,0.21168228547888393,0.16952916008213625,0.12942738848002297,0.09280921805125436,0.06096016438287252,0.03498367920083868,0.0157709152635988,0.00397636521779125,2.399615652258972e-31],\\\"type\\\":\\\"scatter\\\",\\\"hoverinfo\\\":\\\"text\\\"}], {\\\"showlegend\\\":false,\\\"xaxis\\\":{\\\"showticklabels\\\":true,\\\"gridwidth\\\":0.5,\\\"tickvals\\\":[-0.75,-0.5,-0.25,0.0,0.25,0.5,0.75],\\\"visible\\\":true,\\\"ticks\\\":\\\"inside\\\",\\\"range\\\":[-0.9839512938741233,0.9839512938741233],\\\"domain\\\":[0.08063575386410031,0.9934383202099737],\\\"tickmode\\\":\\\"array\\\",\\\"linecolor\\\":\\\"rgba(0, 0, 0, 1.000)\\\",\\\"showgrid\\\":true,\\\"title\\\":\\\"\\\",\\\"mirror\\\":false,\\\"tickangle\\\":0,\\\"showline\\\":true,\\\"gridcolor\\\":\\\"rgba(0, 0, 0, 0.100)\\\",\\\"titlefont\\\":{\\\"color\\\":\\\"rgba(0, 0, 0, 1.000)\\\",\\\"family\\\":\\\"sans-serif\\\",\\\"size\\\":15},\\\"tickcolor\\\":\\\"rgb(0, 0, 0)\\\",\\\"ticktext\\\":[\\\"-0.75\\\",\\\"-0.50\\\",\\\"-0.25\\\",\\\"0.00\\\",\\\"0.25\\\",\\\"0.50\\\",\\\"0.75\\\"],\\\"zeroline\\\":false,\\\"type\\\":\\\"-\\\",\\\"tickfont\\\":{\\\"color\\\":\\\"rgba(0, 0, 0, 1.000)\\\",\\\"family\\\":\\\"sans-serif\\\",\\\"size\\\":11},\\\"zerolinecolor\\\":\\\"rgba(0, 0, 0, 1.000)\\\",\\\"anchor\\\":\\\"y1\\\"},\\\"paper_bgcolor\\\":\\\"rgba(255, 255, 255, 1.000)\\\",\\\"annotations\\\":[{\\\"yanchor\\\":\\\"top\\\",\\\"xanchor\\\":\\\"center\\\",\\\"rotation\\\":-0.0,\\\"y\\\":1.0,\\\"font\\\":{\\\"color\\\":\\\"rgba(0, 0, 0, 1.000)\\\",\\\"family\\\":\\\"sans-serif\\\",\\\"size\\\":20},\\\"yref\\\":\\\"paper\\\",\\\"showarrow\\\":false,\\\"text\\\":\\\"r=sin(4x)\\\",\\\"xref\\\":\\\"paper\\\",\\\"x\\\":0.5370370370370371}],\\\"height\\\":400,\\\"margin\\\":{\\\"l\\\":0,\\\"b\\\":20,\\\"r\\\":0,\\\"t\\\":20},\\\"plot_bgcolor\\\":\\\"rgba(255, 255, 255, 1.000)\\\",\\\"yaxis\\\":{\\\"showticklabels\\\":true,\\\"gridwidth\\\":0.5,\\\"tickvals\\\":[-0.75,-0.5,-0.25,0.0,0.25,0.5,0.75],\\\"visible\\\":true,\\\"ticks\\\":\\\"inside\\\",\\\"range\\\":[-0.9841224751753698,0.9827158494713636],\\\"domain\\\":[0.03762029746281716,0.9415463692038496],\\\"tickmode\\\":\\\"array\\\",\\\"linecolor\\\":\\\"rgba(0, 0, 0, 1.000)\\\",\\\"showgrid\\\":true,\\\"title\\\":\\\"\\\",\\\"mirror\\\":false,\\\"tickangle\\\":0,\\\"showline\\\":true,\\\"gridcolor\\\":\\\"rgba(0, 0, 0, 0.100)\\\",\\\"titlefont\\\":{\\\"color\\\":\\\"rgba(0, 0, 0, 1.000)\\\",\\\"family\\\":\\\"sans-serif\\\",\\\"size\\\":15},\\\"tickcolor\\\":\\\"rgb(0, 0, 0)\\\",\\\"ticktext\\\":[\\\"-0.75\\\",\\\"-0.50\\\",\\\"-0.25\\\",\\\"0.00\\\",\\\"0.25\\\",\\\"0.50\\\",\\\"0.75\\\"],\\\"zeroline\\\":false,\\\"type\\\":\\\"-\\\",\\\"tickfont\\\":{\\\"color\\\":\\\"rgba(0, 0, 0, 1.000)\\\",\\\"family\\\":\\\"sans-serif\\\",\\\"size\\\":11},\\\"zerolinecolor\\\":\\\"rgba(0, 0, 0, 1.000)\\\",\\\"anchor\\\":\\\"x1\\\"},\\\"width\\\":600});\\n    <\\/script>\\n\"},\"nodeType\":\"DOM\",\"type\":\"node\",\"instanceArgs\":{\"namespace\":\"html\",\"tag\":\"div\"},\"children\":[]}]}}}},\"children\":[{\"props\":{},\"nodeType\":\"ObservableNode\",\"type\":\"node\",\"instanceArgs\":{\"id\":\"ob_25\",\"name\":\"obs-node\"},\"children\":[]}]}]},\n",
       "        );\n",
       "    } else {\n",
       "        document\n",
       "            .querySelector('[data-webio-mountpoint=\"9613782220934956095\"]')\n",
       "            .innerHTML = '<strong>WebIO not detected.</strong>';\n",
       "    }\n",
       "    </script>\n",
       "</div>\n"
      ],
      "text/plain": [
       "Widget{:manipulate,Any}(OrderedDict{Symbol,Any}(:n=>Widget{:slider,Int64}(OrderedDict{Symbol,Any}(:changes=>Observable{Int64} with 1 listeners. Value:\n",
       "0,:value=>Observable{Int64} with 2 listeners. Value:\n",
       "4), Observable{Int64} with 2 listeners. Value:\n",
       "4, Scope(\"knockout-component-bdf64ac8-550c-43f6-a6ca-03375e89e7b4\", Node{DOM}(DOM(:html, :div), Any[Node{DOM}(DOM(:html, :div), Any[Node{DOM}(DOM(:html, :label), Any[\"n\"], Dict{Symbol,Any}(:className=>\"interact \",:style=>Dict{Any,Any}(:padding=>\"5px 10px 0px 10px\")), 1)], Dict{Symbol,Any}(:attributes=>Dict(\"style\"=>\"text-align:right;width:18%\")), 2), Node{DOM}(DOM(:html, :div), Any[Node{DOM}(DOM(:html, :input), Any[], Dict{Symbol,Any}(:max=>8,:min=>1,:attributes=>Dict{Any,Any}(:type=>\"range\",Symbol(\"data-bind\")=>\"numericValue: value, valueUpdate: 'input', event: {change : function () {this.changes(this.changes()+1)}}\",\"orient\"=>\"horizontal\"),:step=>1,:className=>\"slider slider is-fullwidth\",:style=>Dict{Any,Any}()), 0)], Dict{Symbol,Any}(:attributes=>Dict(\"style\"=>\"flex-grow:1; margin: 0 2%\")), 1), Node{DOM}(DOM(:html, :div), Any[Node{DOM}(DOM(:html, :p), Any[], Dict{Symbol,Any}(:attributes=>Dict(\"data-bind\"=>\"text: value\")), 0)], Dict{Symbol,Any}(:attributes=>Dict(\"style\"=>\"width:18%\")), 1)], Dict{Symbol,Any}(:attributes=>Dict(\"style\"=>\"display:flex; justify-content:center; align-items:center;\")), 7), Dict{String,Tuple{Observables.AbstractObservable,Union{Nothing, Bool}}}(\"changes\"=>(Observable{Int64} with 1 listeners. Value:\n",
       "0, nothing),\"value\"=>(Observable{Int64} with 2 listeners. Value:\n",
       "4, nothing)), Set(String[]), nothing, Any[\"knockout\"=>\"C:\\\\Users\\\\ITC\\\\.julia\\\\packages\\\\Knockout\\\\JIqpG\\\\src\\\\..\\\\assets\\\\knockout.js\", \"knockout_punches\"=>\"C:\\\\Users\\\\ITC\\\\.julia\\\\packages\\\\Knockout\\\\JIqpG\\\\src\\\\..\\\\assets\\\\knockout_punches.js\", \"C:\\\\Users\\\\ITC\\\\.julia\\\\packages\\\\InteractBase\\\\Q4IkI\\\\src\\\\..\\\\assets\\\\all.js\", \"C:\\\\Users\\\\ITC\\\\.julia\\\\packages\\\\InteractBase\\\\Q4IkI\\\\src\\\\..\\\\assets\\\\style.css\", \"C:\\\\Users\\\\ITC\\\\.julia\\\\packages\\\\InteractBulma\\\\Ohu5Y\\\\src\\\\..\\\\assets\\\\main.css\"], Dict{Any,Any}(\"_promises\"=>Dict{Any,Any}(\"importsLoaded\"=>Any[JSString(\"function (ko, koPunches) {\\n    ko.punches.enableAll();\\n    ko.bindingHandlers.numericValue = {\\n        init : function(element, valueAccessor, allBindings, data, context) {\\n            var stringified = ko.observable(ko.unwrap(valueAccessor()));\\n            stringified.subscribe(function(value) {\\n                var val = parseFloat(value);\\n                if (!isNaN(val)) {\\n                    valueAccessor()(val);\\n                }\\n            })\\n            valueAccessor().subscribe(function(value) {\\n                var str = JSON.stringify(value);\\n                if ((str == \\\"0\\\") && ([\\\"-0\\\", \\\"-0.\\\"].indexOf(stringified()) >= 0))\\n                     return;\\n                 if ([\\\"null\\\", \\\"\\\"].indexOf(str) >= 0)\\n                     return;\\n                stringified(str);\\n            })\\n            ko.applyBindingsToNode(element, { value: stringified, valueUpdate: allBindings.get('valueUpdate')}, context);\\n        }\\n    };\\n    var json_data = JSON.parse(\\\"{\\\\\\\"changes\\\\\\\":0,\\\\\\\"value\\\\\\\":4}\\\");\\n    var self = this;\\n    function AppViewModel() {\\n        for (var key in json_data) {\\n            var el = json_data[key];\\n            this[key] = Array.isArray(el) ? ko.observableArray(el) : ko.observable(el);\\n        }\\n        \\n        \\n        [this[\\\"changes\\\"].subscribe((function (val){!(this.valueFromJulia[\\\"changes\\\"]) ? (_webIOScope.setObservableValue({\\\"name\\\":\\\"changes\\\",\\\"scope\\\":\\\"knockout-component-bdf64ac8-550c-43f6-a6ca-03375e89e7b4\\\",\\\"id\\\":\\\"ob_22\\\",\\\"type\\\":\\\"observable\\\"},val)) : undefined; return this.valueFromJulia[\\\"changes\\\"]=false}),self),this[\\\"value\\\"].subscribe((function (val){!(this.valueFromJulia[\\\"value\\\"]) ? (_webIOScope.setObservableValue({\\\"name\\\":\\\"value\\\",\\\"scope\\\":\\\"knockout-component-bdf64ac8-550c-43f6-a6ca-03375e89e7b4\\\",\\\"id\\\":\\\"ob_21\\\",\\\"type\\\":\\\"observable\\\"},val)) : undefined; return this.valueFromJulia[\\\"value\\\"]=false}),self)]\\n        \\n    }\\n    self.model = new AppViewModel();\\n    self.valueFromJulia = {};\\n    for (var key in json_data) {\\n        self.valueFromJulia[key] = false;\\n    }\\n    ko.applyBindings(self.model, self.dom);\\n}\\n\")]),\"changes\"=>Any[JSString(\"(function (val){return (val!=this.model[\\\"changes\\\"]()) ? (this.valueFromJulia[\\\"changes\\\"]=true, this.model[\\\"changes\\\"](val)) : undefined})\")],\"value\"=>Any[JSString(\"(function (val){return (val!=this.model[\\\"value\\\"]()) ? (this.valueFromJulia[\\\"value\\\"]=true, this.model[\\\"value\\\"](val)) : undefined})\")]), ConnectionPool(Channel{Any}(sz_max:9223372036854775807,sz_curr:0), Set(AbstractConnection[]), Channel{AbstractConnection}(sz_max:32,sz_curr:0))), ##52#53{#dom#13{##dom#11#12{Dict{Any,Any},DOM}},typeof(scope)}(#dom#13{##dom#11#12{Dict{Any,Any},DOM}}(##dom#11#12{Dict{Any,Any},DOM}(Dict{Any,Any}(:className=>\"field\"), DOM(:html, :div))), scope))), Observable{Any} with 0 listeners. Value:\n",
       "Plot{Plots.PlotlyBackend() n=1}, nothing, getfield(Main, Symbol(\"##18#21\")){Observable{Any}}(Observable{Any} with 0 listeners. Value:\n",
       "Plot{Plots.PlotlyBackend() n=1}))"
      ]
     },
     "execution_count": 7,
     "metadata": {
      "application/vnd.webio.node+json": {
       "kernelId": "f9e054cb-ccdb-4383-b6be-4601ebd1882e"
      }
     },
     "output_type": "execute_result"
    }
   ],
   "source": [
    "# parametric curves\n",
    "f(θ)=sin(θ)\n",
    "function paramplot(f, args...; kwargs...)\n",
    "    plot(x->f(x)*cos(x),x->f(x)*sin(x),args...; kwargs...)\n",
    "end\n",
    "@manipulate for n=1:8\n",
    "    paramplot(x->f(n*x),0, 2π,title=\"r=sin($(n)x)\", line=1, leg=false, fill=(0, :orange))\n",
    "end"
   ]
  },
  {
   "cell_type": "code",
   "execution_count": 8,
   "metadata": {},
   "outputs": [
    {
     "data": {
      "application/vnd.webio.node+json": {
       "children": [
        {
         "children": [
          {
           "children": [
            {
             "children": [
              {
               "children": [
                {
                 "children": [
                  "a"
                 ],
                 "instanceArgs": {
                  "namespace": "html",
                  "tag": "label"
                 },
                 "nodeType": "DOM",
                 "props": {
                  "className": "interact ",
                  "style": {
                   "padding": "5px 10px 0px 10px"
                  }
                 },
                 "type": "node"
                }
               ],
               "instanceArgs": {
                "namespace": "html",
                "tag": "div"
               },
               "nodeType": "DOM",
               "props": {
                "attributes": {
                 "style": "text-align:right;width:18%"
                }
               },
               "type": "node"
              },
              {
               "children": [
                {
                 "children": [],
                 "instanceArgs": {
                  "namespace": "html",
                  "tag": "input"
                 },
                 "nodeType": "DOM",
                 "props": {
                  "attributes": {
                   "data-bind": "numericValue: value, valueUpdate: 'input', event: {change : function () {this.changes(this.changes()+1)}}",
                   "orient": "horizontal",
                   "type": "range"
                  },
                  "className": "slider slider is-fullwidth",
                  "max": 5,
                  "min": -5,
                  "step": 1,
                  "style": {}
                 },
                 "type": "node"
                }
               ],
               "instanceArgs": {
                "namespace": "html",
                "tag": "div"
               },
               "nodeType": "DOM",
               "props": {
                "attributes": {
                 "style": "flex-grow:1; margin: 0 2%"
                }
               },
               "type": "node"
              },
              {
               "children": [
                {
                 "children": [],
                 "instanceArgs": {
                  "namespace": "html",
                  "tag": "p"
                 },
                 "nodeType": "DOM",
                 "props": {
                  "attributes": {
                   "data-bind": "text: value"
                  }
                 },
                 "type": "node"
                }
               ],
               "instanceArgs": {
                "namespace": "html",
                "tag": "div"
               },
               "nodeType": "DOM",
               "props": {
                "attributes": {
                 "style": "width:18%"
                }
               },
               "type": "node"
              }
             ],
             "instanceArgs": {
              "namespace": "html",
              "tag": "div"
             },
             "nodeType": "DOM",
             "props": {
              "attributes": {
               "style": "display:flex; justify-content:center; align-items:center;"
              }
             },
             "type": "node"
            }
           ],
           "instanceArgs": {
            "handlers": {
             "_promises": {
              "importsLoaded": [
               "function (ko, koPunches) {\n    ko.punches.enableAll();\n    ko.bindingHandlers.numericValue = {\n        init : function(element, valueAccessor, allBindings, data, context) {\n            var stringified = ko.observable(ko.unwrap(valueAccessor()));\n            stringified.subscribe(function(value) {\n                var val = parseFloat(value);\n                if (!isNaN(val)) {\n                    valueAccessor()(val);\n                }\n            })\n            valueAccessor().subscribe(function(value) {\n                var str = JSON.stringify(value);\n                if ((str == \"0\") && ([\"-0\", \"-0.\"].indexOf(stringified()) >= 0))\n                     return;\n                 if ([\"null\", \"\"].indexOf(str) >= 0)\n                     return;\n                stringified(str);\n            })\n            ko.applyBindingsToNode(element, { value: stringified, valueUpdate: allBindings.get('valueUpdate')}, context);\n        }\n    };\n    var json_data = JSON.parse(\"{\\\"changes\\\":0,\\\"value\\\":0}\");\n    var self = this;\n    function AppViewModel() {\n        for (var key in json_data) {\n            var el = json_data[key];\n            this[key] = Array.isArray(el) ? ko.observableArray(el) : ko.observable(el);\n        }\n        \n        \n        [this[\"changes\"].subscribe((function (val){!(this.valueFromJulia[\"changes\"]) ? (_webIOScope.setObservableValue({\"name\":\"changes\",\"scope\":\"knockout-component-ddfbf4d1-08fb-4440-9640-df19220e03b6\",\"id\":\"ob_29\",\"type\":\"observable\"},val)) : undefined; return this.valueFromJulia[\"changes\"]=false}),self),this[\"value\"].subscribe((function (val){!(this.valueFromJulia[\"value\"]) ? (_webIOScope.setObservableValue({\"name\":\"value\",\"scope\":\"knockout-component-ddfbf4d1-08fb-4440-9640-df19220e03b6\",\"id\":\"ob_28\",\"type\":\"observable\"},val)) : undefined; return this.valueFromJulia[\"value\"]=false}),self)]\n        \n    }\n    self.model = new AppViewModel();\n    self.valueFromJulia = {};\n    for (var key in json_data) {\n        self.valueFromJulia[key] = false;\n    }\n    ko.applyBindings(self.model, self.dom);\n}\n"
              ]
             },
             "changes": [
              "(function (val){return (val!=this.model[\"changes\"]()) ? (this.valueFromJulia[\"changes\"]=true, this.model[\"changes\"](val)) : undefined})"
             ],
             "value": [
              "(function (val){return (val!=this.model[\"value\"]()) ? (this.valueFromJulia[\"value\"]=true, this.model[\"value\"](val)) : undefined})"
             ]
            },
            "id": "knockout-component-ddfbf4d1-08fb-4440-9640-df19220e03b6",
            "imports": {
             "data": [
              {
               "name": "knockout",
               "type": "js",
               "url": "/assetserver/fe22cd9d191f96ff815bc620a0bebe3c109f5b1f-knockout.js"
              },
              {
               "name": "knockout_punches",
               "type": "js",
               "url": "/assetserver/11cdd9d44807d880492d60f1c24310da0262975e-knockout_punches.js"
              },
              {
               "name": null,
               "type": "js",
               "url": "/assetserver/51c794a2058093733f80f2cc393f437e3f7df428-all.js"
              },
              {
               "name": null,
               "type": "css",
               "url": "/assetserver/e9aa75906a0c3335f6ba21c771b6b0ed32818af2-style.css"
              },
              {
               "name": null,
               "type": "css",
               "url": "/assetserver/68da98fcfcf64a97d74ecffe25d06bf25d85b385-main.css"
              }
             ],
             "type": "async_block"
            },
            "observables": {
             "changes": {
              "id": "ob_29",
              "sync": false,
              "value": 0
             },
             "value": {
              "id": "ob_28",
              "sync": true,
              "value": 0
             }
            },
            "systemjs_options": null
           },
           "nodeType": "Scope",
           "props": {},
           "type": "node"
          }
         ],
         "instanceArgs": {
          "namespace": "html",
          "tag": "div"
         },
         "nodeType": "DOM",
         "props": {
          "className": "field"
         },
         "type": "node"
        },
        {
         "children": [
          {
           "children": [
            {
             "children": [
              {
               "children": [
                {
                 "children": [
                  "Θ"
                 ],
                 "instanceArgs": {
                  "namespace": "html",
                  "tag": "label"
                 },
                 "nodeType": "DOM",
                 "props": {
                  "className": "interact ",
                  "style": {
                   "padding": "5px 10px 0px 10px"
                  }
                 },
                 "type": "node"
                }
               ],
               "instanceArgs": {
                "namespace": "html",
                "tag": "div"
               },
               "nodeType": "DOM",
               "props": {
                "attributes": {
                 "style": "text-align:right;width:18%"
                }
               },
               "type": "node"
              },
              {
               "children": [
                {
                 "children": [],
                 "instanceArgs": {
                  "namespace": "html",
                  "tag": "input"
                 },
                 "nodeType": "DOM",
                 "props": {
                  "attributes": {
                   "data-bind": "numericValue: index, valueUpdate: 'input', event: {change : function () {this.changes(this.changes()+1)}}",
                   "orient": "horizontal",
                   "type": "range"
                  },
                  "className": "slider slider is-fullwidth",
                  "max": 200,
                  "min": 1,
                  "step": 1,
                  "style": {}
                 },
                 "type": "node"
                }
               ],
               "instanceArgs": {
                "namespace": "html",
                "tag": "div"
               },
               "nodeType": "DOM",
               "props": {
                "attributes": {
                 "style": "flex-grow:1; margin: 0 2%"
                }
               },
               "type": "node"
              },
              {
               "children": [
                {
                 "children": [],
                 "instanceArgs": {
                  "namespace": "html",
                  "tag": "p"
                 },
                 "nodeType": "DOM",
                 "props": {
                  "attributes": {
                   "data-bind": "text: formatted_value"
                  }
                 },
                 "type": "node"
                }
               ],
               "instanceArgs": {
                "namespace": "html",
                "tag": "div"
               },
               "nodeType": "DOM",
               "props": {
                "attributes": {
                 "style": "width:18%"
                }
               },
               "type": "node"
              }
             ],
             "instanceArgs": {
              "namespace": "html",
              "tag": "div"
             },
             "nodeType": "DOM",
             "props": {
              "attributes": {
               "style": "display:flex; justify-content:center; align-items:center;"
              }
             },
             "type": "node"
            }
           ],
           "instanceArgs": {
            "handlers": {
             "_promises": {
              "importsLoaded": [
               "function (ko, koPunches) {\n    ko.punches.enableAll();\n    ko.bindingHandlers.numericValue = {\n        init : function(element, valueAccessor, allBindings, data, context) {\n            var stringified = ko.observable(ko.unwrap(valueAccessor()));\n            stringified.subscribe(function(value) {\n                var val = parseFloat(value);\n                if (!isNaN(val)) {\n                    valueAccessor()(val);\n                }\n            })\n            valueAccessor().subscribe(function(value) {\n                var str = JSON.stringify(value);\n                if ((str == \"0\") && ([\"-0\", \"-0.\"].indexOf(stringified()) >= 0))\n                     return;\n                 if ([\"null\", \"\"].indexOf(str) >= 0)\n                     return;\n                stringified(str);\n            })\n            ko.applyBindingsToNode(element, { value: stringified, valueUpdate: allBindings.get('valueUpdate')}, context);\n        }\n    };\n    var json_data = JSON.parse(\"{\\\"formatted_vals\\\":[\\\"0.0\\\",\\\"0.0315738\\\",\\\"0.0631476\\\",\\\"0.0947214\\\",\\\"0.126295\\\",\\\"0.157869\\\",\\\"0.189443\\\",\\\"0.221017\\\",\\\"0.25259\\\",\\\"0.284164\\\",\\\"0.315738\\\",\\\"0.347312\\\",\\\"0.378886\\\",\\\"0.410459\\\",\\\"0.442033\\\",\\\"0.473607\\\",\\\"0.505181\\\",\\\"0.536755\\\",\\\"0.568328\\\",\\\"0.599902\\\",\\\"0.631476\\\",\\\"0.66305\\\",\\\"0.694624\\\",\\\"0.726197\\\",\\\"0.757771\\\",\\\"0.789345\\\",\\\"0.820919\\\",\\\"0.852492\\\",\\\"0.884066\\\",\\\"0.91564\\\",\\\"0.947214\\\",\\\"0.978788\\\",\\\"1.01036\\\",\\\"1.04194\\\",\\\"1.07351\\\",\\\"1.10508\\\",\\\"1.13666\\\",\\\"1.16823\\\",\\\"1.1998\\\",\\\"1.23138\\\",\\\"1.26295\\\",\\\"1.29453\\\",\\\"1.3261\\\",\\\"1.35767\\\",\\\"1.38925\\\",\\\"1.42082\\\",\\\"1.45239\\\",\\\"1.48397\\\",\\\"1.51554\\\",\\\"1.54712\\\",\\\"1.57869\\\",\\\"1.61026\\\",\\\"1.64184\\\",\\\"1.67341\\\",\\\"1.70498\\\",\\\"1.73656\\\",\\\"1.76813\\\",\\\"1.79971\\\",\\\"1.83128\\\",\\\"1.86285\\\",\\\"1.89443\\\",\\\"1.926\\\",\\\"1.95758\\\",\\\"1.98915\\\",\\\"2.02072\\\",\\\"2.0523\\\",\\\"2.08387\\\",\\\"2.11544\\\",\\\"2.14702\\\",\\\"2.17859\\\",\\\"2.21017\\\",\\\"2.24174\\\",\\\"2.27331\\\",\\\"2.30489\\\",\\\"2.33646\\\",\\\"2.36803\\\",\\\"2.39961\\\",\\\"2.43118\\\",\\\"2.46276\\\",\\\"2.49433\\\",\\\"2.5259\\\",\\\"2.55748\\\",\\\"2.58905\\\",\\\"2.62063\\\",\\\"2.6522\\\",\\\"2.68377\\\",\\\"2.71535\\\",\\\"2.74692\\\",\\\"2.77849\\\",\\\"2.81007\\\",\\\"2.84164\\\",\\\"2.87322\\\",\\\"2.90479\\\",\\\"2.93636\\\",\\\"2.96794\\\",\\\"2.99951\\\",\\\"3.03108\\\",\\\"3.06266\\\",\\\"3.09423\\\",\\\"3.12581\\\",\\\"3.15738\\\",\\\"3.18895\\\",\\\"3.22053\\\",\\\"3.2521\\\",\\\"3.28367\\\",\\\"3.31525\\\",\\\"3.34682\\\",\\\"3.3784\\\",\\\"3.40997\\\",\\\"3.44154\\\",\\\"3.47312\\\",\\\"3.50469\\\",\\\"3.53627\\\",\\\"3.56784\\\",\\\"3.59941\\\",\\\"3.63099\\\",\\\"3.66256\\\",\\\"3.69413\\\",\\\"3.72571\\\",\\\"3.75728\\\",\\\"3.78886\\\",\\\"3.82043\\\",\\\"3.852\\\",\\\"3.88358\\\",\\\"3.91515\\\",\\\"3.94672\\\",\\\"3.9783\\\",\\\"4.00987\\\",\\\"4.04145\\\",\\\"4.07302\\\",\\\"4.10459\\\",\\\"4.13617\\\",\\\"4.16774\\\",\\\"4.19931\\\",\\\"4.23089\\\",\\\"4.26246\\\",\\\"4.29404\\\",\\\"4.32561\\\",\\\"4.35718\\\",\\\"4.38876\\\",\\\"4.42033\\\",\\\"4.45191\\\",\\\"4.48348\\\",\\\"4.51505\\\",\\\"4.54663\\\",\\\"4.5782\\\",\\\"4.60977\\\",\\\"4.64135\\\",\\\"4.67292\\\",\\\"4.7045\\\",\\\"4.73607\\\",\\\"4.76764\\\",\\\"4.79922\\\",\\\"4.83079\\\",\\\"4.86236\\\",\\\"4.89394\\\",\\\"4.92551\\\",\\\"4.95709\\\",\\\"4.98866\\\",\\\"5.02023\\\",\\\"5.05181\\\",\\\"5.08338\\\",\\\"5.11495\\\",\\\"5.14653\\\",\\\"5.1781\\\",\\\"5.20968\\\",\\\"5.24125\\\",\\\"5.27282\\\",\\\"5.3044\\\",\\\"5.33597\\\",\\\"5.36755\\\",\\\"5.39912\\\",\\\"5.43069\\\",\\\"5.46227\\\",\\\"5.49384\\\",\\\"5.52541\\\",\\\"5.55699\\\",\\\"5.58856\\\",\\\"5.62014\\\",\\\"5.65171\\\",\\\"5.68328\\\",\\\"5.71486\\\",\\\"5.74643\\\",\\\"5.778\\\",\\\"5.80958\\\",\\\"5.84115\\\",\\\"5.87273\\\",\\\"5.9043\\\",\\\"5.93587\\\",\\\"5.96745\\\",\\\"5.99902\\\",\\\"6.03059\\\",\\\"6.06217\\\",\\\"6.09374\\\",\\\"6.12532\\\",\\\"6.15689\\\",\\\"6.18846\\\",\\\"6.22004\\\",\\\"6.25161\\\",\\\"6.28319\\\"],\\\"changes\\\":0,\\\"formatted_value\\\":\\\"3.12581\\\",\\\"index\\\":100}\");\n    var self = this;\n    function AppViewModel() {\n        for (var key in json_data) {\n            var el = json_data[key];\n            this[key] = Array.isArray(el) ? ko.observableArray(el) : ko.observable(el);\n        }\n        \n        \n        [this[\"formatted_vals\"].subscribe((function (val){!(this.valueFromJulia[\"formatted_vals\"]) ? (_webIOScope.setObservableValue({\"name\":\"formatted_vals\",\"scope\":\"knockout-component-6f46fa9e-487b-47ce-8885-f51fee75ac04\",\"id\":\"ob_32\",\"type\":\"observable\"},val)) : undefined; return this.valueFromJulia[\"formatted_vals\"]=false}),self),this[\"changes\"].subscribe((function (val){!(this.valueFromJulia[\"changes\"]) ? (_webIOScope.setObservableValue({\"name\":\"changes\",\"scope\":\"knockout-component-6f46fa9e-487b-47ce-8885-f51fee75ac04\",\"id\":\"ob_34\",\"type\":\"observable\"},val)) : undefined; return this.valueFromJulia[\"changes\"]=false}),self),this[\"formatted_value\"].subscribe((function (val){!(this.valueFromJulia[\"formatted_value\"]) ? (_webIOScope.setObservableValue({\"name\":\"formatted_value\",\"scope\":\"knockout-component-6f46fa9e-487b-47ce-8885-f51fee75ac04\",\"id\":\"ob_33\",\"type\":\"observable\"},val)) : undefined; return this.valueFromJulia[\"formatted_value\"]=false}),self),this[\"index\"].subscribe((function (val){!(this.valueFromJulia[\"index\"]) ? (_webIOScope.setObservableValue({\"name\":\"index\",\"scope\":\"knockout-component-6f46fa9e-487b-47ce-8885-f51fee75ac04\",\"id\":\"ob_31\",\"type\":\"observable\"},val)) : undefined; return this.valueFromJulia[\"index\"]=false}),self)]\n        \n    }\n    self.model = new AppViewModel();\n    self.valueFromJulia = {};\n    for (var key in json_data) {\n        self.valueFromJulia[key] = false;\n    }\n    ko.applyBindings(self.model, self.dom);\n}\n"
              ]
             },
             "changes": [
              "(function (val){return (val!=this.model[\"changes\"]()) ? (this.valueFromJulia[\"changes\"]=true, this.model[\"changes\"](val)) : undefined})"
             ],
             "formatted_vals": [
              "(function (val){return (val!=this.model[\"formatted_vals\"]()) ? (this.valueFromJulia[\"formatted_vals\"]=true, this.model[\"formatted_vals\"](val)) : undefined})"
             ],
             "formatted_value": [
              "(function (val){return (val!=this.model[\"formatted_value\"]()) ? (this.valueFromJulia[\"formatted_value\"]=true, this.model[\"formatted_value\"](val)) : undefined})"
             ],
             "index": [
              "(function (val){return (val!=this.model[\"index\"]()) ? (this.valueFromJulia[\"index\"]=true, this.model[\"index\"](val)) : undefined})",
              "(function (val){return _webIOScope.setObservableValue({\"name\":\"formatted_value\",\"scope\":\"knockout-component-6f46fa9e-487b-47ce-8885-f51fee75ac04\",\"id\":\"ob_33\",\"type\":\"observable\"},_webIOScope.getObservableValue({\"name\":\"formatted_vals\",\"scope\":\"knockout-component-6f46fa9e-487b-47ce-8885-f51fee75ac04\",\"id\":\"ob_32\",\"type\":\"observable\"})[(_webIOScope.getObservableValue({\"name\":\"index\",\"scope\":\"knockout-component-6f46fa9e-487b-47ce-8885-f51fee75ac04\",\"id\":\"ob_31\",\"type\":\"observable\"})-1)])})"
             ]
            },
            "id": "knockout-component-6f46fa9e-487b-47ce-8885-f51fee75ac04",
            "imports": {
             "data": [
              {
               "name": "knockout",
               "type": "js",
               "url": "/assetserver/fe22cd9d191f96ff815bc620a0bebe3c109f5b1f-knockout.js"
              },
              {
               "name": "knockout_punches",
               "type": "js",
               "url": "/assetserver/11cdd9d44807d880492d60f1c24310da0262975e-knockout_punches.js"
              },
              {
               "name": null,
               "type": "js",
               "url": "/assetserver/51c794a2058093733f80f2cc393f437e3f7df428-all.js"
              },
              {
               "name": null,
               "type": "css",
               "url": "/assetserver/e9aa75906a0c3335f6ba21c771b6b0ed32818af2-style.css"
              },
              {
               "name": null,
               "type": "css",
               "url": "/assetserver/68da98fcfcf64a97d74ecffe25d06bf25d85b385-main.css"
              }
             ],
             "type": "async_block"
            },
            "observables": {
             "changes": {
              "id": "ob_34",
              "sync": false,
              "value": 0
             },
             "formatted_vals": {
              "id": "ob_32",
              "sync": false,
              "value": [
               "0.0",
               "0.0315738",
               "0.0631476",
               "0.0947214",
               "0.126295",
               "0.157869",
               "0.189443",
               "0.221017",
               "0.25259",
               "0.284164",
               "0.315738",
               "0.347312",
               "0.378886",
               "0.410459",
               "0.442033",
               "0.473607",
               "0.505181",
               "0.536755",
               "0.568328",
               "0.599902",
               "0.631476",
               "0.66305",
               "0.694624",
               "0.726197",
               "0.757771",
               "0.789345",
               "0.820919",
               "0.852492",
               "0.884066",
               "0.91564",
               "0.947214",
               "0.978788",
               "1.01036",
               "1.04194",
               "1.07351",
               "1.10508",
               "1.13666",
               "1.16823",
               "1.1998",
               "1.23138",
               "1.26295",
               "1.29453",
               "1.3261",
               "1.35767",
               "1.38925",
               "1.42082",
               "1.45239",
               "1.48397",
               "1.51554",
               "1.54712",
               "1.57869",
               "1.61026",
               "1.64184",
               "1.67341",
               "1.70498",
               "1.73656",
               "1.76813",
               "1.79971",
               "1.83128",
               "1.86285",
               "1.89443",
               "1.926",
               "1.95758",
               "1.98915",
               "2.02072",
               "2.0523",
               "2.08387",
               "2.11544",
               "2.14702",
               "2.17859",
               "2.21017",
               "2.24174",
               "2.27331",
               "2.30489",
               "2.33646",
               "2.36803",
               "2.39961",
               "2.43118",
               "2.46276",
               "2.49433",
               "2.5259",
               "2.55748",
               "2.58905",
               "2.62063",
               "2.6522",
               "2.68377",
               "2.71535",
               "2.74692",
               "2.77849",
               "2.81007",
               "2.84164",
               "2.87322",
               "2.90479",
               "2.93636",
               "2.96794",
               "2.99951",
               "3.03108",
               "3.06266",
               "3.09423",
               "3.12581",
               "3.15738",
               "3.18895",
               "3.22053",
               "3.2521",
               "3.28367",
               "3.31525",
               "3.34682",
               "3.3784",
               "3.40997",
               "3.44154",
               "3.47312",
               "3.50469",
               "3.53627",
               "3.56784",
               "3.59941",
               "3.63099",
               "3.66256",
               "3.69413",
               "3.72571",
               "3.75728",
               "3.78886",
               "3.82043",
               "3.852",
               "3.88358",
               "3.91515",
               "3.94672",
               "3.9783",
               "4.00987",
               "4.04145",
               "4.07302",
               "4.10459",
               "4.13617",
               "4.16774",
               "4.19931",
               "4.23089",
               "4.26246",
               "4.29404",
               "4.32561",
               "4.35718",
               "4.38876",
               "4.42033",
               "4.45191",
               "4.48348",
               "4.51505",
               "4.54663",
               "4.5782",
               "4.60977",
               "4.64135",
               "4.67292",
               "4.7045",
               "4.73607",
               "4.76764",
               "4.79922",
               "4.83079",
               "4.86236",
               "4.89394",
               "4.92551",
               "4.95709",
               "4.98866",
               "5.02023",
               "5.05181",
               "5.08338",
               "5.11495",
               "5.14653",
               "5.1781",
               "5.20968",
               "5.24125",
               "5.27282",
               "5.3044",
               "5.33597",
               "5.36755",
               "5.39912",
               "5.43069",
               "5.46227",
               "5.49384",
               "5.52541",
               "5.55699",
               "5.58856",
               "5.62014",
               "5.65171",
               "5.68328",
               "5.71486",
               "5.74643",
               "5.778",
               "5.80958",
               "5.84115",
               "5.87273",
               "5.9043",
               "5.93587",
               "5.96745",
               "5.99902",
               "6.03059",
               "6.06217",
               "6.09374",
               "6.12532",
               "6.15689",
               "6.18846",
               "6.22004",
               "6.25161",
               "6.28319"
              ]
             },
             "formatted_value": {
              "id": "ob_33",
              "sync": false,
              "value": "3.12581"
             },
             "index": {
              "id": "ob_31",
              "sync": true,
              "value": 100
             }
            },
            "systemjs_options": null
           },
           "nodeType": "Scope",
           "props": {},
           "type": "node"
          }
         ],
         "instanceArgs": {
          "namespace": "html",
          "tag": "div"
         },
         "nodeType": "DOM",
         "props": {
          "className": "field"
         },
         "type": "node"
        },
        {
         "children": [
          {
           "children": [],
           "instanceArgs": {
            "id": "ob_39",
            "name": "obs-node"
           },
           "nodeType": "ObservableNode",
           "props": {},
           "type": "node"
          }
         ],
         "instanceArgs": {
          "handlers": {},
          "id": "scope-21a6e4dd-0991-47d5-a8ac-4144a34c614d",
          "imports": {
           "data": [],
           "type": "async_block"
          },
          "observables": {
           "obs-node": {
            "id": "ob_39",
            "sync": false,
            "value": {
             "children": [
              {
               "children": [],
               "instanceArgs": {
                "namespace": "html",
                "tag": "div"
               },
               "nodeType": "DOM",
               "props": {
                "setInnerHtml": "    <div id=\"008112e9-cc64-41b8-8183-a5f23f7f8545\" style=\"width:600px;height:400px;\"></div>\n    <script>\n    PLOT = document.getElementById('008112e9-cc64-41b8-8183-a5f23f7f8545');\n    Plotly.plot(PLOT, [{\"xaxis\":\"x1\",\"colorbar\":{\"title\":\"\"},\"yaxis\":\"y1\",\"text\":[null,null,null,null,null,null,null,null,null,null,null,null,null,null,null,null,null,null,null,null,null,null,null,null,null,null,null,null,null,null,null,null,null,null,null,null,null,null,null,null,null,null,null,null,null,null,null,null,null,null,null,null,null,null,null,null,null,null,null,null,null,null,null,null,null,null,null,null,null,null,null,null,null,null,null,null,null,null,null,null,null,null,null,null,null,null,null,null,null,null,null,null,null,null,null,null,null,null,null,null],\"showlegend\":true,\"mode\":\"lines+markers\",\"name\":\"y1\",\"zmin\":-0.1,\"legendgroup\":\"y1\",\"r\":[0.0,0.0,0.0,0.0,0.0,0.0,0.0,0.0,0.0,0.0,0.0,0.0,0.0,0.0,0.0,0.0,0.0,0.0,0.0,0.0,0.0,0.0,0.0,0.0,0.0,0.0,0.0,0.0,0.0,0.0,0.0,0.0,0.0,0.0,0.0,0.0,0.0,0.0,0.0,0.0,0.0,0.0,0.0,0.0,0.0,0.0,0.0,0.0,0.0,0.0,0.0,0.0,0.0,0.0,0.0,0.0,0.0,0.0,0.0,0.0,0.0,0.0,0.0,0.0,0.0,0.0,0.0,0.0,0.0,0.0,0.0,0.0,0.0,0.0,0.0,0.0,0.0,0.0,0.0,0.0,0.0,0.0,0.0,0.0,0.0,0.0,0.0,0.0,0.0,0.0,0.0,0.0,0.0,0.0,0.0,0.0,0.0,0.0,0.0,0.0],\"marker\":{\"symbol\":\"circle\",\"color\":\"rgba(0, 154, 250, 1.000)\",\"line\":{\"color\":\"rgba(0, 0, 0, 1.000)\",\"width\":1},\"size\":4},\"zmax\":0.1,\"line\":{\"color\":\"rgba(0, 154, 250, 1.000)\",\"shape\":\"linear\",\"dash\":\"solid\",\"width\":1},\"type\":\"scatter\",\"hoverinfo\":\"text\",\"t\":[0.0,1.8090452261306533,3.6180904522613067,5.427135678391959,7.236180904522613,9.045226130653267,10.854271356783919,12.663316582914572,14.472361809045227,16.281407035175878,18.090452261306535,19.899497487437184,21.708542713567837,23.51758793969849,25.326633165829143,27.135678391959797,28.944723618090453,30.753768844221103,32.562814070351756,34.37185929648241,36.18090452261307,37.98994974874371,39.79899497487437,41.608040201005025,43.417085427135675,45.22613065326633,47.03517587939698,48.84422110552764,50.65326633165829,52.462311557788944,54.27135678391959,56.08040201005025,57.88944723618091,59.698492462311556,61.507537688442206,63.31658291457286,65.12562814070351,66.93467336683416,68.74371859296483,70.55276381909547,72.36180904522614,74.17085427135677,75.97989949748742,77.78894472361809,79.59798994974874,81.40703517587939,83.21608040201005,85.0251256281407,86.83417085427135,88.64321608040201,90.45226130653266,92.26130653266331,94.07035175879396,95.87939698492461,97.68844221105527,99.49748743718592,101.30653266331657,103.11557788944724,104.92462311557789,106.73366834170854,108.54271356783919,110.35175879396984,112.1608040201005,113.96984924623115,115.77889447236181,117.58793969849246,119.39698492462311,121.20603015075376,123.01507537688441,124.82412060301507,126.63316582914572,128.44221105527637,130.25125628140702,132.06030150753767,133.86934673366832,135.678391959799,137.48743718592965,139.2964824120603,141.10552763819095,142.9145728643216,144.72361809045228,146.53266331658293,148.34170854271355,150.1507537688442,151.95979899497485,153.7688442211055,155.57788944723617,157.38693467336682,159.19597989949747,161.00502512562812,162.81407035175877,164.62311557788945,166.4321608040201,168.24120603015075,170.0502512562814,171.85929648241205,173.6683417085427,175.47738693467338,177.28643216080403,179.09547738693468]}], {\"angularaxis\":{\"showline\":true,\"visible\":true,\"range\":[0.0,360.0]},\"paper_bgcolor\":\"rgba(255, 255, 255, 1.000)\",\"height\":400,\"radialaxis\":{\"showline\":true,\"visible\":true,\"range\":[0.0,1.1],\"orientation\":-90},\"annotations\":[{\"yanchor\":\"top\",\"xanchor\":\"center\",\"rotation\":-0.0,\"y\":1.0,\"font\":{\"color\":\"rgba(0, 0, 0, 1.000)\",\"family\":\"sans-serif\",\"size\":20},\"yref\":\"paper\",\"showarrow\":false,\"text\":\"r=sin(θ)\",\"xref\":\"paper\",\"x\":0.5296296296296296}],\"plot_bgcolor\":\"rgba(255, 255, 255, 1.000)\",\"showlegend\":true,\"legend\":{\"tracegroupgap\":0,\"bordercolor\":\"rgba(0, 0, 0, 1.000)\",\"bgcolor\":\"rgba(255, 255, 255, 1.000)\",\"font\":{\"color\":\"rgba(0, 0, 0, 1.000)\",\"family\":\"sans-serif\",\"size\":11},\"y\":1.0,\"x\":1.0},\"margin\":{\"l\":0,\"b\":20,\"r\":0,\"t\":20},\"direction\":\"counterclockwise\",\"width\":600});\n    </script>\n"
               },
               "type": "node"
              }
             ],
             "instanceArgs": {
              "namespace": "html",
              "tag": "div"
             },
             "nodeType": "DOM",
             "props": {
              "attributes": {
               "style": "display:flex; justify-content:center; align-items:center;"
              }
             },
             "type": "node"
            }
           }
          },
          "systemjs_options": null
         },
         "nodeType": "Scope",
         "props": {},
         "type": "node"
        }
       ],
       "instanceArgs": {
        "namespace": "html",
        "tag": "div"
       },
       "nodeType": "DOM",
       "props": {},
       "type": "node"
      },
      "text/html": [
       "<div\n",
       "    class=\"webio-mountpoint\"\n",
       "    data-webio-mountpoint=\"17216476102696457837\"\n",
       ">\n",
       "    <script>\n",
       "    if (window.require && require.defined && require.defined(\"nbextensions/webio/main\")) {\n",
       "        console.log(\"Jupyter WebIO extension detected, not mounting.\");\n",
       "    } else if (window.WebIO) {\n",
       "        WebIO.mount(\n",
       "            document.querySelector('[data-webio-mountpoint=\"17216476102696457837\"]'),\n",
       "            {\"props\":{},\"nodeType\":\"DOM\",\"type\":\"node\",\"instanceArgs\":{\"namespace\":\"html\",\"tag\":\"div\"},\"children\":[{\"props\":{\"className\":\"field\"},\"nodeType\":\"DOM\",\"type\":\"node\",\"instanceArgs\":{\"namespace\":\"html\",\"tag\":\"div\"},\"children\":[{\"props\":{},\"nodeType\":\"Scope\",\"type\":\"node\",\"instanceArgs\":{\"imports\":{\"data\":[{\"name\":\"knockout\",\"type\":\"js\",\"url\":\"\\/assetserver\\/fe22cd9d191f96ff815bc620a0bebe3c109f5b1f-knockout.js\"},{\"name\":\"knockout_punches\",\"type\":\"js\",\"url\":\"\\/assetserver\\/11cdd9d44807d880492d60f1c24310da0262975e-knockout_punches.js\"},{\"name\":null,\"type\":\"js\",\"url\":\"\\/assetserver\\/51c794a2058093733f80f2cc393f437e3f7df428-all.js\"},{\"name\":null,\"type\":\"css\",\"url\":\"\\/assetserver\\/e9aa75906a0c3335f6ba21c771b6b0ed32818af2-style.css\"},{\"name\":null,\"type\":\"css\",\"url\":\"\\/assetserver\\/68da98fcfcf64a97d74ecffe25d06bf25d85b385-main.css\"}],\"type\":\"async_block\"},\"id\":\"knockout-component-ddfbf4d1-08fb-4440-9640-df19220e03b6\",\"handlers\":{\"_promises\":{\"importsLoaded\":[\"function (ko, koPunches) {\\n    ko.punches.enableAll();\\n    ko.bindingHandlers.numericValue = {\\n        init : function(element, valueAccessor, allBindings, data, context) {\\n            var stringified = ko.observable(ko.unwrap(valueAccessor()));\\n            stringified.subscribe(function(value) {\\n                var val = parseFloat(value);\\n                if (!isNaN(val)) {\\n                    valueAccessor()(val);\\n                }\\n            })\\n            valueAccessor().subscribe(function(value) {\\n                var str = JSON.stringify(value);\\n                if ((str == \\\"0\\\") && ([\\\"-0\\\", \\\"-0.\\\"].indexOf(stringified()) >= 0))\\n                     return;\\n                 if ([\\\"null\\\", \\\"\\\"].indexOf(str) >= 0)\\n                     return;\\n                stringified(str);\\n            })\\n            ko.applyBindingsToNode(element, { value: stringified, valueUpdate: allBindings.get('valueUpdate')}, context);\\n        }\\n    };\\n    var json_data = JSON.parse(\\\"{\\\\\\\"changes\\\\\\\":0,\\\\\\\"value\\\\\\\":0}\\\");\\n    var self = this;\\n    function AppViewModel() {\\n        for (var key in json_data) {\\n            var el = json_data[key];\\n            this[key] = Array.isArray(el) ? ko.observableArray(el) : ko.observable(el);\\n        }\\n        \\n        \\n        [this[\\\"changes\\\"].subscribe((function (val){!(this.valueFromJulia[\\\"changes\\\"]) ? (_webIOScope.setObservableValue({\\\"name\\\":\\\"changes\\\",\\\"scope\\\":\\\"knockout-component-ddfbf4d1-08fb-4440-9640-df19220e03b6\\\",\\\"id\\\":\\\"ob_29\\\",\\\"type\\\":\\\"observable\\\"},val)) : undefined; return this.valueFromJulia[\\\"changes\\\"]=false}),self),this[\\\"value\\\"].subscribe((function (val){!(this.valueFromJulia[\\\"value\\\"]) ? (_webIOScope.setObservableValue({\\\"name\\\":\\\"value\\\",\\\"scope\\\":\\\"knockout-component-ddfbf4d1-08fb-4440-9640-df19220e03b6\\\",\\\"id\\\":\\\"ob_28\\\",\\\"type\\\":\\\"observable\\\"},val)) : undefined; return this.valueFromJulia[\\\"value\\\"]=false}),self)]\\n        \\n    }\\n    self.model = new AppViewModel();\\n    self.valueFromJulia = {};\\n    for (var key in json_data) {\\n        self.valueFromJulia[key] = false;\\n    }\\n    ko.applyBindings(self.model, self.dom);\\n}\\n\"]},\"changes\":[\"(function (val){return (val!=this.model[\\\"changes\\\"]()) ? (this.valueFromJulia[\\\"changes\\\"]=true, this.model[\\\"changes\\\"](val)) : undefined})\"],\"value\":[\"(function (val){return (val!=this.model[\\\"value\\\"]()) ? (this.valueFromJulia[\\\"value\\\"]=true, this.model[\\\"value\\\"](val)) : undefined})\"]},\"systemjs_options\":null,\"observables\":{\"changes\":{\"sync\":false,\"id\":\"ob_29\",\"value\":0},\"value\":{\"sync\":true,\"id\":\"ob_28\",\"value\":0}}},\"children\":[{\"props\":{\"attributes\":{\"style\":\"display:flex; justify-content:center; align-items:center;\"}},\"nodeType\":\"DOM\",\"type\":\"node\",\"instanceArgs\":{\"namespace\":\"html\",\"tag\":\"div\"},\"children\":[{\"props\":{\"attributes\":{\"style\":\"text-align:right;width:18%\"}},\"nodeType\":\"DOM\",\"type\":\"node\",\"instanceArgs\":{\"namespace\":\"html\",\"tag\":\"div\"},\"children\":[{\"props\":{\"className\":\"interact \",\"style\":{\"padding\":\"5px 10px 0px 10px\"}},\"nodeType\":\"DOM\",\"type\":\"node\",\"instanceArgs\":{\"namespace\":\"html\",\"tag\":\"label\"},\"children\":[\"a\"]}]},{\"props\":{\"attributes\":{\"style\":\"flex-grow:1; margin: 0 2%\"}},\"nodeType\":\"DOM\",\"type\":\"node\",\"instanceArgs\":{\"namespace\":\"html\",\"tag\":\"div\"},\"children\":[{\"props\":{\"max\":5,\"min\":-5,\"attributes\":{\"type\":\"range\",\"data-bind\":\"numericValue: value, valueUpdate: 'input', event: {change : function () {this.changes(this.changes()+1)}}\",\"orient\":\"horizontal\"},\"step\":1,\"className\":\"slider slider is-fullwidth\",\"style\":{}},\"nodeType\":\"DOM\",\"type\":\"node\",\"instanceArgs\":{\"namespace\":\"html\",\"tag\":\"input\"},\"children\":[]}]},{\"props\":{\"attributes\":{\"style\":\"width:18%\"}},\"nodeType\":\"DOM\",\"type\":\"node\",\"instanceArgs\":{\"namespace\":\"html\",\"tag\":\"div\"},\"children\":[{\"props\":{\"attributes\":{\"data-bind\":\"text: value\"}},\"nodeType\":\"DOM\",\"type\":\"node\",\"instanceArgs\":{\"namespace\":\"html\",\"tag\":\"p\"},\"children\":[]}]}]}]}]},{\"props\":{\"className\":\"field\"},\"nodeType\":\"DOM\",\"type\":\"node\",\"instanceArgs\":{\"namespace\":\"html\",\"tag\":\"div\"},\"children\":[{\"props\":{},\"nodeType\":\"Scope\",\"type\":\"node\",\"instanceArgs\":{\"imports\":{\"data\":[{\"name\":\"knockout\",\"type\":\"js\",\"url\":\"\\/assetserver\\/fe22cd9d191f96ff815bc620a0bebe3c109f5b1f-knockout.js\"},{\"name\":\"knockout_punches\",\"type\":\"js\",\"url\":\"\\/assetserver\\/11cdd9d44807d880492d60f1c24310da0262975e-knockout_punches.js\"},{\"name\":null,\"type\":\"js\",\"url\":\"\\/assetserver\\/51c794a2058093733f80f2cc393f437e3f7df428-all.js\"},{\"name\":null,\"type\":\"css\",\"url\":\"\\/assetserver\\/e9aa75906a0c3335f6ba21c771b6b0ed32818af2-style.css\"},{\"name\":null,\"type\":\"css\",\"url\":\"\\/assetserver\\/68da98fcfcf64a97d74ecffe25d06bf25d85b385-main.css\"}],\"type\":\"async_block\"},\"id\":\"knockout-component-6f46fa9e-487b-47ce-8885-f51fee75ac04\",\"handlers\":{\"formatted_vals\":[\"(function (val){return (val!=this.model[\\\"formatted_vals\\\"]()) ? (this.valueFromJulia[\\\"formatted_vals\\\"]=true, this.model[\\\"formatted_vals\\\"](val)) : undefined})\"],\"_promises\":{\"importsLoaded\":[\"function (ko, koPunches) {\\n    ko.punches.enableAll();\\n    ko.bindingHandlers.numericValue = {\\n        init : function(element, valueAccessor, allBindings, data, context) {\\n            var stringified = ko.observable(ko.unwrap(valueAccessor()));\\n            stringified.subscribe(function(value) {\\n                var val = parseFloat(value);\\n                if (!isNaN(val)) {\\n                    valueAccessor()(val);\\n                }\\n            })\\n            valueAccessor().subscribe(function(value) {\\n                var str = JSON.stringify(value);\\n                if ((str == \\\"0\\\") && ([\\\"-0\\\", \\\"-0.\\\"].indexOf(stringified()) >= 0))\\n                     return;\\n                 if ([\\\"null\\\", \\\"\\\"].indexOf(str) >= 0)\\n                     return;\\n                stringified(str);\\n            })\\n            ko.applyBindingsToNode(element, { value: stringified, valueUpdate: allBindings.get('valueUpdate')}, context);\\n        }\\n    };\\n    var json_data = JSON.parse(\\\"{\\\\\\\"formatted_vals\\\\\\\":[\\\\\\\"0.0\\\\\\\",\\\\\\\"0.0315738\\\\\\\",\\\\\\\"0.0631476\\\\\\\",\\\\\\\"0.0947214\\\\\\\",\\\\\\\"0.126295\\\\\\\",\\\\\\\"0.157869\\\\\\\",\\\\\\\"0.189443\\\\\\\",\\\\\\\"0.221017\\\\\\\",\\\\\\\"0.25259\\\\\\\",\\\\\\\"0.284164\\\\\\\",\\\\\\\"0.315738\\\\\\\",\\\\\\\"0.347312\\\\\\\",\\\\\\\"0.378886\\\\\\\",\\\\\\\"0.410459\\\\\\\",\\\\\\\"0.442033\\\\\\\",\\\\\\\"0.473607\\\\\\\",\\\\\\\"0.505181\\\\\\\",\\\\\\\"0.536755\\\\\\\",\\\\\\\"0.568328\\\\\\\",\\\\\\\"0.599902\\\\\\\",\\\\\\\"0.631476\\\\\\\",\\\\\\\"0.66305\\\\\\\",\\\\\\\"0.694624\\\\\\\",\\\\\\\"0.726197\\\\\\\",\\\\\\\"0.757771\\\\\\\",\\\\\\\"0.789345\\\\\\\",\\\\\\\"0.820919\\\\\\\",\\\\\\\"0.852492\\\\\\\",\\\\\\\"0.884066\\\\\\\",\\\\\\\"0.91564\\\\\\\",\\\\\\\"0.947214\\\\\\\",\\\\\\\"0.978788\\\\\\\",\\\\\\\"1.01036\\\\\\\",\\\\\\\"1.04194\\\\\\\",\\\\\\\"1.07351\\\\\\\",\\\\\\\"1.10508\\\\\\\",\\\\\\\"1.13666\\\\\\\",\\\\\\\"1.16823\\\\\\\",\\\\\\\"1.1998\\\\\\\",\\\\\\\"1.23138\\\\\\\",\\\\\\\"1.26295\\\\\\\",\\\\\\\"1.29453\\\\\\\",\\\\\\\"1.3261\\\\\\\",\\\\\\\"1.35767\\\\\\\",\\\\\\\"1.38925\\\\\\\",\\\\\\\"1.42082\\\\\\\",\\\\\\\"1.45239\\\\\\\",\\\\\\\"1.48397\\\\\\\",\\\\\\\"1.51554\\\\\\\",\\\\\\\"1.54712\\\\\\\",\\\\\\\"1.57869\\\\\\\",\\\\\\\"1.61026\\\\\\\",\\\\\\\"1.64184\\\\\\\",\\\\\\\"1.67341\\\\\\\",\\\\\\\"1.70498\\\\\\\",\\\\\\\"1.73656\\\\\\\",\\\\\\\"1.76813\\\\\\\",\\\\\\\"1.79971\\\\\\\",\\\\\\\"1.83128\\\\\\\",\\\\\\\"1.86285\\\\\\\",\\\\\\\"1.89443\\\\\\\",\\\\\\\"1.926\\\\\\\",\\\\\\\"1.95758\\\\\\\",\\\\\\\"1.98915\\\\\\\",\\\\\\\"2.02072\\\\\\\",\\\\\\\"2.0523\\\\\\\",\\\\\\\"2.08387\\\\\\\",\\\\\\\"2.11544\\\\\\\",\\\\\\\"2.14702\\\\\\\",\\\\\\\"2.17859\\\\\\\",\\\\\\\"2.21017\\\\\\\",\\\\\\\"2.24174\\\\\\\",\\\\\\\"2.27331\\\\\\\",\\\\\\\"2.30489\\\\\\\",\\\\\\\"2.33646\\\\\\\",\\\\\\\"2.36803\\\\\\\",\\\\\\\"2.39961\\\\\\\",\\\\\\\"2.43118\\\\\\\",\\\\\\\"2.46276\\\\\\\",\\\\\\\"2.49433\\\\\\\",\\\\\\\"2.5259\\\\\\\",\\\\\\\"2.55748\\\\\\\",\\\\\\\"2.58905\\\\\\\",\\\\\\\"2.62063\\\\\\\",\\\\\\\"2.6522\\\\\\\",\\\\\\\"2.68377\\\\\\\",\\\\\\\"2.71535\\\\\\\",\\\\\\\"2.74692\\\\\\\",\\\\\\\"2.77849\\\\\\\",\\\\\\\"2.81007\\\\\\\",\\\\\\\"2.84164\\\\\\\",\\\\\\\"2.87322\\\\\\\",\\\\\\\"2.90479\\\\\\\",\\\\\\\"2.93636\\\\\\\",\\\\\\\"2.96794\\\\\\\",\\\\\\\"2.99951\\\\\\\",\\\\\\\"3.03108\\\\\\\",\\\\\\\"3.06266\\\\\\\",\\\\\\\"3.09423\\\\\\\",\\\\\\\"3.12581\\\\\\\",\\\\\\\"3.15738\\\\\\\",\\\\\\\"3.18895\\\\\\\",\\\\\\\"3.22053\\\\\\\",\\\\\\\"3.2521\\\\\\\",\\\\\\\"3.28367\\\\\\\",\\\\\\\"3.31525\\\\\\\",\\\\\\\"3.34682\\\\\\\",\\\\\\\"3.3784\\\\\\\",\\\\\\\"3.40997\\\\\\\",\\\\\\\"3.44154\\\\\\\",\\\\\\\"3.47312\\\\\\\",\\\\\\\"3.50469\\\\\\\",\\\\\\\"3.53627\\\\\\\",\\\\\\\"3.56784\\\\\\\",\\\\\\\"3.59941\\\\\\\",\\\\\\\"3.63099\\\\\\\",\\\\\\\"3.66256\\\\\\\",\\\\\\\"3.69413\\\\\\\",\\\\\\\"3.72571\\\\\\\",\\\\\\\"3.75728\\\\\\\",\\\\\\\"3.78886\\\\\\\",\\\\\\\"3.82043\\\\\\\",\\\\\\\"3.852\\\\\\\",\\\\\\\"3.88358\\\\\\\",\\\\\\\"3.91515\\\\\\\",\\\\\\\"3.94672\\\\\\\",\\\\\\\"3.9783\\\\\\\",\\\\\\\"4.00987\\\\\\\",\\\\\\\"4.04145\\\\\\\",\\\\\\\"4.07302\\\\\\\",\\\\\\\"4.10459\\\\\\\",\\\\\\\"4.13617\\\\\\\",\\\\\\\"4.16774\\\\\\\",\\\\\\\"4.19931\\\\\\\",\\\\\\\"4.23089\\\\\\\",\\\\\\\"4.26246\\\\\\\",\\\\\\\"4.29404\\\\\\\",\\\\\\\"4.32561\\\\\\\",\\\\\\\"4.35718\\\\\\\",\\\\\\\"4.38876\\\\\\\",\\\\\\\"4.42033\\\\\\\",\\\\\\\"4.45191\\\\\\\",\\\\\\\"4.48348\\\\\\\",\\\\\\\"4.51505\\\\\\\",\\\\\\\"4.54663\\\\\\\",\\\\\\\"4.5782\\\\\\\",\\\\\\\"4.60977\\\\\\\",\\\\\\\"4.64135\\\\\\\",\\\\\\\"4.67292\\\\\\\",\\\\\\\"4.7045\\\\\\\",\\\\\\\"4.73607\\\\\\\",\\\\\\\"4.76764\\\\\\\",\\\\\\\"4.79922\\\\\\\",\\\\\\\"4.83079\\\\\\\",\\\\\\\"4.86236\\\\\\\",\\\\\\\"4.89394\\\\\\\",\\\\\\\"4.92551\\\\\\\",\\\\\\\"4.95709\\\\\\\",\\\\\\\"4.98866\\\\\\\",\\\\\\\"5.02023\\\\\\\",\\\\\\\"5.05181\\\\\\\",\\\\\\\"5.08338\\\\\\\",\\\\\\\"5.11495\\\\\\\",\\\\\\\"5.14653\\\\\\\",\\\\\\\"5.1781\\\\\\\",\\\\\\\"5.20968\\\\\\\",\\\\\\\"5.24125\\\\\\\",\\\\\\\"5.27282\\\\\\\",\\\\\\\"5.3044\\\\\\\",\\\\\\\"5.33597\\\\\\\",\\\\\\\"5.36755\\\\\\\",\\\\\\\"5.39912\\\\\\\",\\\\\\\"5.43069\\\\\\\",\\\\\\\"5.46227\\\\\\\",\\\\\\\"5.49384\\\\\\\",\\\\\\\"5.52541\\\\\\\",\\\\\\\"5.55699\\\\\\\",\\\\\\\"5.58856\\\\\\\",\\\\\\\"5.62014\\\\\\\",\\\\\\\"5.65171\\\\\\\",\\\\\\\"5.68328\\\\\\\",\\\\\\\"5.71486\\\\\\\",\\\\\\\"5.74643\\\\\\\",\\\\\\\"5.778\\\\\\\",\\\\\\\"5.80958\\\\\\\",\\\\\\\"5.84115\\\\\\\",\\\\\\\"5.87273\\\\\\\",\\\\\\\"5.9043\\\\\\\",\\\\\\\"5.93587\\\\\\\",\\\\\\\"5.96745\\\\\\\",\\\\\\\"5.99902\\\\\\\",\\\\\\\"6.03059\\\\\\\",\\\\\\\"6.06217\\\\\\\",\\\\\\\"6.09374\\\\\\\",\\\\\\\"6.12532\\\\\\\",\\\\\\\"6.15689\\\\\\\",\\\\\\\"6.18846\\\\\\\",\\\\\\\"6.22004\\\\\\\",\\\\\\\"6.25161\\\\\\\",\\\\\\\"6.28319\\\\\\\"],\\\\\\\"changes\\\\\\\":0,\\\\\\\"formatted_value\\\\\\\":\\\\\\\"3.12581\\\\\\\",\\\\\\\"index\\\\\\\":100}\\\");\\n    var self = this;\\n    function AppViewModel() {\\n        for (var key in json_data) {\\n            var el = json_data[key];\\n            this[key] = Array.isArray(el) ? ko.observableArray(el) : ko.observable(el);\\n        }\\n        \\n        \\n        [this[\\\"formatted_vals\\\"].subscribe((function (val){!(this.valueFromJulia[\\\"formatted_vals\\\"]) ? (_webIOScope.setObservableValue({\\\"name\\\":\\\"formatted_vals\\\",\\\"scope\\\":\\\"knockout-component-6f46fa9e-487b-47ce-8885-f51fee75ac04\\\",\\\"id\\\":\\\"ob_32\\\",\\\"type\\\":\\\"observable\\\"},val)) : undefined; return this.valueFromJulia[\\\"formatted_vals\\\"]=false}),self),this[\\\"changes\\\"].subscribe((function (val){!(this.valueFromJulia[\\\"changes\\\"]) ? (_webIOScope.setObservableValue({\\\"name\\\":\\\"changes\\\",\\\"scope\\\":\\\"knockout-component-6f46fa9e-487b-47ce-8885-f51fee75ac04\\\",\\\"id\\\":\\\"ob_34\\\",\\\"type\\\":\\\"observable\\\"},val)) : undefined; return this.valueFromJulia[\\\"changes\\\"]=false}),self),this[\\\"formatted_value\\\"].subscribe((function (val){!(this.valueFromJulia[\\\"formatted_value\\\"]) ? (_webIOScope.setObservableValue({\\\"name\\\":\\\"formatted_value\\\",\\\"scope\\\":\\\"knockout-component-6f46fa9e-487b-47ce-8885-f51fee75ac04\\\",\\\"id\\\":\\\"ob_33\\\",\\\"type\\\":\\\"observable\\\"},val)) : undefined; return this.valueFromJulia[\\\"formatted_value\\\"]=false}),self),this[\\\"index\\\"].subscribe((function (val){!(this.valueFromJulia[\\\"index\\\"]) ? (_webIOScope.setObservableValue({\\\"name\\\":\\\"index\\\",\\\"scope\\\":\\\"knockout-component-6f46fa9e-487b-47ce-8885-f51fee75ac04\\\",\\\"id\\\":\\\"ob_31\\\",\\\"type\\\":\\\"observable\\\"},val)) : undefined; return this.valueFromJulia[\\\"index\\\"]=false}),self)]\\n        \\n    }\\n    self.model = new AppViewModel();\\n    self.valueFromJulia = {};\\n    for (var key in json_data) {\\n        self.valueFromJulia[key] = false;\\n    }\\n    ko.applyBindings(self.model, self.dom);\\n}\\n\"]},\"changes\":[\"(function (val){return (val!=this.model[\\\"changes\\\"]()) ? (this.valueFromJulia[\\\"changes\\\"]=true, this.model[\\\"changes\\\"](val)) : undefined})\"],\"formatted_value\":[\"(function (val){return (val!=this.model[\\\"formatted_value\\\"]()) ? (this.valueFromJulia[\\\"formatted_value\\\"]=true, this.model[\\\"formatted_value\\\"](val)) : undefined})\"],\"index\":[\"(function (val){return (val!=this.model[\\\"index\\\"]()) ? (this.valueFromJulia[\\\"index\\\"]=true, this.model[\\\"index\\\"](val)) : undefined})\",\"(function (val){return _webIOScope.setObservableValue({\\\"name\\\":\\\"formatted_value\\\",\\\"scope\\\":\\\"knockout-component-6f46fa9e-487b-47ce-8885-f51fee75ac04\\\",\\\"id\\\":\\\"ob_33\\\",\\\"type\\\":\\\"observable\\\"},_webIOScope.getObservableValue({\\\"name\\\":\\\"formatted_vals\\\",\\\"scope\\\":\\\"knockout-component-6f46fa9e-487b-47ce-8885-f51fee75ac04\\\",\\\"id\\\":\\\"ob_32\\\",\\\"type\\\":\\\"observable\\\"})[(_webIOScope.getObservableValue({\\\"name\\\":\\\"index\\\",\\\"scope\\\":\\\"knockout-component-6f46fa9e-487b-47ce-8885-f51fee75ac04\\\",\\\"id\\\":\\\"ob_31\\\",\\\"type\\\":\\\"observable\\\"})-1)])})\"]},\"systemjs_options\":null,\"observables\":{\"formatted_vals\":{\"sync\":false,\"id\":\"ob_32\",\"value\":[\"0.0\",\"0.0315738\",\"0.0631476\",\"0.0947214\",\"0.126295\",\"0.157869\",\"0.189443\",\"0.221017\",\"0.25259\",\"0.284164\",\"0.315738\",\"0.347312\",\"0.378886\",\"0.410459\",\"0.442033\",\"0.473607\",\"0.505181\",\"0.536755\",\"0.568328\",\"0.599902\",\"0.631476\",\"0.66305\",\"0.694624\",\"0.726197\",\"0.757771\",\"0.789345\",\"0.820919\",\"0.852492\",\"0.884066\",\"0.91564\",\"0.947214\",\"0.978788\",\"1.01036\",\"1.04194\",\"1.07351\",\"1.10508\",\"1.13666\",\"1.16823\",\"1.1998\",\"1.23138\",\"1.26295\",\"1.29453\",\"1.3261\",\"1.35767\",\"1.38925\",\"1.42082\",\"1.45239\",\"1.48397\",\"1.51554\",\"1.54712\",\"1.57869\",\"1.61026\",\"1.64184\",\"1.67341\",\"1.70498\",\"1.73656\",\"1.76813\",\"1.79971\",\"1.83128\",\"1.86285\",\"1.89443\",\"1.926\",\"1.95758\",\"1.98915\",\"2.02072\",\"2.0523\",\"2.08387\",\"2.11544\",\"2.14702\",\"2.17859\",\"2.21017\",\"2.24174\",\"2.27331\",\"2.30489\",\"2.33646\",\"2.36803\",\"2.39961\",\"2.43118\",\"2.46276\",\"2.49433\",\"2.5259\",\"2.55748\",\"2.58905\",\"2.62063\",\"2.6522\",\"2.68377\",\"2.71535\",\"2.74692\",\"2.77849\",\"2.81007\",\"2.84164\",\"2.87322\",\"2.90479\",\"2.93636\",\"2.96794\",\"2.99951\",\"3.03108\",\"3.06266\",\"3.09423\",\"3.12581\",\"3.15738\",\"3.18895\",\"3.22053\",\"3.2521\",\"3.28367\",\"3.31525\",\"3.34682\",\"3.3784\",\"3.40997\",\"3.44154\",\"3.47312\",\"3.50469\",\"3.53627\",\"3.56784\",\"3.59941\",\"3.63099\",\"3.66256\",\"3.69413\",\"3.72571\",\"3.75728\",\"3.78886\",\"3.82043\",\"3.852\",\"3.88358\",\"3.91515\",\"3.94672\",\"3.9783\",\"4.00987\",\"4.04145\",\"4.07302\",\"4.10459\",\"4.13617\",\"4.16774\",\"4.19931\",\"4.23089\",\"4.26246\",\"4.29404\",\"4.32561\",\"4.35718\",\"4.38876\",\"4.42033\",\"4.45191\",\"4.48348\",\"4.51505\",\"4.54663\",\"4.5782\",\"4.60977\",\"4.64135\",\"4.67292\",\"4.7045\",\"4.73607\",\"4.76764\",\"4.79922\",\"4.83079\",\"4.86236\",\"4.89394\",\"4.92551\",\"4.95709\",\"4.98866\",\"5.02023\",\"5.05181\",\"5.08338\",\"5.11495\",\"5.14653\",\"5.1781\",\"5.20968\",\"5.24125\",\"5.27282\",\"5.3044\",\"5.33597\",\"5.36755\",\"5.39912\",\"5.43069\",\"5.46227\",\"5.49384\",\"5.52541\",\"5.55699\",\"5.58856\",\"5.62014\",\"5.65171\",\"5.68328\",\"5.71486\",\"5.74643\",\"5.778\",\"5.80958\",\"5.84115\",\"5.87273\",\"5.9043\",\"5.93587\",\"5.96745\",\"5.99902\",\"6.03059\",\"6.06217\",\"6.09374\",\"6.12532\",\"6.15689\",\"6.18846\",\"6.22004\",\"6.25161\",\"6.28319\"]},\"changes\":{\"sync\":false,\"id\":\"ob_34\",\"value\":0},\"formatted_value\":{\"sync\":false,\"id\":\"ob_33\",\"value\":\"3.12581\"},\"index\":{\"sync\":true,\"id\":\"ob_31\",\"value\":100}}},\"children\":[{\"props\":{\"attributes\":{\"style\":\"display:flex; justify-content:center; align-items:center;\"}},\"nodeType\":\"DOM\",\"type\":\"node\",\"instanceArgs\":{\"namespace\":\"html\",\"tag\":\"div\"},\"children\":[{\"props\":{\"attributes\":{\"style\":\"text-align:right;width:18%\"}},\"nodeType\":\"DOM\",\"type\":\"node\",\"instanceArgs\":{\"namespace\":\"html\",\"tag\":\"div\"},\"children\":[{\"props\":{\"className\":\"interact \",\"style\":{\"padding\":\"5px 10px 0px 10px\"}},\"nodeType\":\"DOM\",\"type\":\"node\",\"instanceArgs\":{\"namespace\":\"html\",\"tag\":\"label\"},\"children\":[\"Θ\"]}]},{\"props\":{\"attributes\":{\"style\":\"flex-grow:1; margin: 0 2%\"}},\"nodeType\":\"DOM\",\"type\":\"node\",\"instanceArgs\":{\"namespace\":\"html\",\"tag\":\"div\"},\"children\":[{\"props\":{\"max\":200,\"min\":1,\"attributes\":{\"type\":\"range\",\"data-bind\":\"numericValue: index, valueUpdate: 'input', event: {change : function () {this.changes(this.changes()+1)}}\",\"orient\":\"horizontal\"},\"step\":1,\"className\":\"slider slider is-fullwidth\",\"style\":{}},\"nodeType\":\"DOM\",\"type\":\"node\",\"instanceArgs\":{\"namespace\":\"html\",\"tag\":\"input\"},\"children\":[]}]},{\"props\":{\"attributes\":{\"style\":\"width:18%\"}},\"nodeType\":\"DOM\",\"type\":\"node\",\"instanceArgs\":{\"namespace\":\"html\",\"tag\":\"div\"},\"children\":[{\"props\":{\"attributes\":{\"data-bind\":\"text: formatted_value\"}},\"nodeType\":\"DOM\",\"type\":\"node\",\"instanceArgs\":{\"namespace\":\"html\",\"tag\":\"p\"},\"children\":[]}]}]}]}]},{\"props\":{},\"nodeType\":\"Scope\",\"type\":\"node\",\"instanceArgs\":{\"imports\":{\"data\":[],\"type\":\"async_block\"},\"id\":\"scope-361dba44-8148-446f-8019-3e15f89d4092\",\"handlers\":{},\"systemjs_options\":null,\"observables\":{\"obs-node\":{\"sync\":false,\"id\":\"ob_37\",\"value\":{\"props\":{\"attributes\":{\"style\":\"display:flex; justify-content:center; align-items:center;\"}},\"nodeType\":\"DOM\",\"type\":\"node\",\"instanceArgs\":{\"namespace\":\"html\",\"tag\":\"div\"},\"children\":[{\"props\":{\"setInnerHtml\":\"    <div id=\\\"3f32698d-90a8-43cd-9794-e4945c4aa9e7\\\" style=\\\"width:600px;height:400px;\\\"><\\/div>\\n    <script>\\n    PLOT = document.getElementById('3f32698d-90a8-43cd-9794-e4945c4aa9e7');\\n    Plotly.plot(PLOT, [{\\\"xaxis\\\":\\\"x1\\\",\\\"colorbar\\\":{\\\"title\\\":\\\"\\\"},\\\"yaxis\\\":\\\"y1\\\",\\\"text\\\":[null,null,null,null,null,null,null,null,null,null,null,null,null,null,null,null,null,null,null,null,null,null,null,null,null,null,null,null,null,null,null,null,null,null,null,null,null,null,null,null,null,null,null,null,null,null,null,null,null,null,null,null,null,null,null,null,null,null,null,null,null,null,null,null,null,null,null,null,null,null,null,null,null,null,null,null,null,null,null,null,null,null,null,null,null,null,null,null,null,null,null,null,null,null,null,null,null,null,null,null],\\\"showlegend\\\":true,\\\"mode\\\":\\\"lines+markers\\\",\\\"name\\\":\\\"y1\\\",\\\"zmin\\\":-0.1,\\\"legendgroup\\\":\\\"y1\\\",\\\"r\\\":[0.0,0.0,0.0,0.0,0.0,0.0,0.0,0.0,0.0,0.0,0.0,0.0,0.0,0.0,0.0,0.0,0.0,0.0,0.0,0.0,0.0,0.0,0.0,0.0,0.0,0.0,0.0,0.0,0.0,0.0,0.0,0.0,0.0,0.0,0.0,0.0,0.0,0.0,0.0,0.0,0.0,0.0,0.0,0.0,0.0,0.0,0.0,0.0,0.0,0.0,0.0,0.0,0.0,0.0,0.0,0.0,0.0,0.0,0.0,0.0,0.0,0.0,0.0,0.0,0.0,0.0,0.0,0.0,0.0,0.0,0.0,0.0,0.0,0.0,0.0,0.0,0.0,0.0,0.0,0.0,0.0,0.0,0.0,0.0,0.0,0.0,0.0,0.0,0.0,0.0,0.0,0.0,0.0,0.0,0.0,0.0,0.0,0.0,0.0,0.0],\\\"marker\\\":{\\\"symbol\\\":\\\"circle\\\",\\\"color\\\":\\\"rgba(0, 154, 250, 1.000)\\\",\\\"line\\\":{\\\"color\\\":\\\"rgba(0, 0, 0, 1.000)\\\",\\\"width\\\":1},\\\"size\\\":4},\\\"zmax\\\":0.1,\\\"line\\\":{\\\"color\\\":\\\"rgba(0, 154, 250, 1.000)\\\",\\\"shape\\\":\\\"linear\\\",\\\"dash\\\":\\\"solid\\\",\\\"width\\\":1},\\\"type\\\":\\\"scatter\\\",\\\"hoverinfo\\\":\\\"text\\\",\\\"t\\\":[0.0,1.8090452261306533,3.6180904522613067,5.427135678391959,7.236180904522613,9.045226130653267,10.854271356783919,12.663316582914572,14.472361809045227,16.281407035175878,18.090452261306535,19.899497487437184,21.708542713567837,23.51758793969849,25.326633165829143,27.135678391959797,28.944723618090453,30.753768844221103,32.562814070351756,34.37185929648241,36.18090452261307,37.98994974874371,39.79899497487437,41.608040201005025,43.417085427135675,45.22613065326633,47.03517587939698,48.84422110552764,50.65326633165829,52.462311557788944,54.27135678391959,56.08040201005025,57.88944723618091,59.698492462311556,61.507537688442206,63.31658291457286,65.12562814070351,66.93467336683416,68.74371859296483,70.55276381909547,72.36180904522614,74.17085427135677,75.97989949748742,77.78894472361809,79.59798994974874,81.40703517587939,83.21608040201005,85.0251256281407,86.83417085427135,88.64321608040201,90.45226130653266,92.26130653266331,94.07035175879396,95.87939698492461,97.68844221105527,99.49748743718592,101.30653266331657,103.11557788944724,104.92462311557789,106.73366834170854,108.54271356783919,110.35175879396984,112.1608040201005,113.96984924623115,115.77889447236181,117.58793969849246,119.39698492462311,121.20603015075376,123.01507537688441,124.82412060301507,126.63316582914572,128.44221105527637,130.25125628140702,132.06030150753767,133.86934673366832,135.678391959799,137.48743718592965,139.2964824120603,141.10552763819095,142.9145728643216,144.72361809045228,146.53266331658293,148.34170854271355,150.1507537688442,151.95979899497485,153.7688442211055,155.57788944723617,157.38693467336682,159.19597989949747,161.00502512562812,162.81407035175877,164.62311557788945,166.4321608040201,168.24120603015075,170.0502512562814,171.85929648241205,173.6683417085427,175.47738693467338,177.28643216080403,179.09547738693468]}], {\\\"angularaxis\\\":{\\\"showline\\\":true,\\\"visible\\\":true,\\\"range\\\":[0.0,360.0]},\\\"paper_bgcolor\\\":\\\"rgba(255, 255, 255, 1.000)\\\",\\\"height\\\":400,\\\"radialaxis\\\":{\\\"showline\\\":true,\\\"visible\\\":true,\\\"range\\\":[0.0,1.1],\\\"orientation\\\":-90},\\\"annotations\\\":[{\\\"yanchor\\\":\\\"top\\\",\\\"xanchor\\\":\\\"center\\\",\\\"rotation\\\":-0.0,\\\"y\\\":1.0,\\\"font\\\":{\\\"color\\\":\\\"rgba(0, 0, 0, 1.000)\\\",\\\"family\\\":\\\"sans-serif\\\",\\\"size\\\":20},\\\"yref\\\":\\\"paper\\\",\\\"showarrow\\\":false,\\\"text\\\":\\\"r=sin(θ)\\\",\\\"xref\\\":\\\"paper\\\",\\\"x\\\":0.5296296296296296}],\\\"plot_bgcolor\\\":\\\"rgba(255, 255, 255, 1.000)\\\",\\\"showlegend\\\":true,\\\"legend\\\":{\\\"tracegroupgap\\\":0,\\\"bordercolor\\\":\\\"rgba(0, 0, 0, 1.000)\\\",\\\"bgcolor\\\":\\\"rgba(255, 255, 255, 1.000)\\\",\\\"font\\\":{\\\"color\\\":\\\"rgba(0, 0, 0, 1.000)\\\",\\\"family\\\":\\\"sans-serif\\\",\\\"size\\\":11},\\\"y\\\":1.0,\\\"x\\\":1.0},\\\"margin\\\":{\\\"l\\\":0,\\\"b\\\":20,\\\"r\\\":0,\\\"t\\\":20},\\\"direction\\\":\\\"counterclockwise\\\",\\\"width\\\":600});\\n    <\\/script>\\n\"},\"nodeType\":\"DOM\",\"type\":\"node\",\"instanceArgs\":{\"namespace\":\"html\",\"tag\":\"div\"},\"children\":[]}]}}}},\"children\":[{\"props\":{},\"nodeType\":\"ObservableNode\",\"type\":\"node\",\"instanceArgs\":{\"id\":\"ob_37\",\"name\":\"obs-node\"},\"children\":[]}]}]},\n",
       "        );\n",
       "    } else {\n",
       "        document\n",
       "            .querySelector('[data-webio-mountpoint=\"17216476102696457837\"]')\n",
       "            .innerHTML = '<strong>WebIO not detected.</strong>';\n",
       "    }\n",
       "    </script>\n",
       "</div>\n"
      ],
      "text/plain": [
       "Widget{:manipulate,Any}(OrderedDict{Symbol,Any}(:a=>Widget{:slider,Int64}(OrderedDict{Symbol,Any}(:changes=>Observable{Int64} with 1 listeners. Value:\n",
       "0,:value=>Observable{Int64} with 2 listeners. Value:\n",
       "0), Observable{Int64} with 2 listeners. Value:\n",
       "0, Scope(\"knockout-component-ddfbf4d1-08fb-4440-9640-df19220e03b6\", Node{DOM}(DOM(:html, :div), Any[Node{DOM}(DOM(:html, :div), Any[Node{DOM}(DOM(:html, :label), Any[\"a\"], Dict{Symbol,Any}(:className=>\"interact \",:style=>Dict{Any,Any}(:padding=>\"5px 10px 0px 10px\")), 1)], Dict{Symbol,Any}(:attributes=>Dict(\"style\"=>\"text-align:right;width:18%\")), 2), Node{DOM}(DOM(:html, :div), Any[Node{DOM}(DOM(:html, :input), Any[], Dict{Symbol,Any}(:max=>5,:min=>-5,:attributes=>Dict{Any,Any}(:type=>\"range\",Symbol(\"data-bind\")=>\"numericValue: value, valueUpdate: 'input', event: {change : function () {this.changes(this.changes()+1)}}\",\"orient\"=>\"horizontal\"),:step=>1,:className=>\"slider slider is-fullwidth\",:style=>Dict{Any,Any}()), 0)], Dict{Symbol,Any}(:attributes=>Dict(\"style\"=>\"flex-grow:1; margin: 0 2%\")), 1), Node{DOM}(DOM(:html, :div), Any[Node{DOM}(DOM(:html, :p), Any[], Dict{Symbol,Any}(:attributes=>Dict(\"data-bind\"=>\"text: value\")), 0)], Dict{Symbol,Any}(:attributes=>Dict(\"style\"=>\"width:18%\")), 1)], Dict{Symbol,Any}(:attributes=>Dict(\"style\"=>\"display:flex; justify-content:center; align-items:center;\")), 7), Dict{String,Tuple{Observables.AbstractObservable,Union{Nothing, Bool}}}(\"changes\"=>(Observable{Int64} with 1 listeners. Value:\n",
       "0, nothing),\"value\"=>(Observable{Int64} with 2 listeners. Value:\n",
       "0, nothing)), Set(String[]), nothing, Any[\"knockout\"=>\"C:\\\\Users\\\\ITC\\\\.julia\\\\packages\\\\Knockout\\\\JIqpG\\\\src\\\\..\\\\assets\\\\knockout.js\", \"knockout_punches\"=>\"C:\\\\Users\\\\ITC\\\\.julia\\\\packages\\\\Knockout\\\\JIqpG\\\\src\\\\..\\\\assets\\\\knockout_punches.js\", \"C:\\\\Users\\\\ITC\\\\.julia\\\\packages\\\\InteractBase\\\\Q4IkI\\\\src\\\\..\\\\assets\\\\all.js\", \"C:\\\\Users\\\\ITC\\\\.julia\\\\packages\\\\InteractBase\\\\Q4IkI\\\\src\\\\..\\\\assets\\\\style.css\", \"C:\\\\Users\\\\ITC\\\\.julia\\\\packages\\\\InteractBulma\\\\Ohu5Y\\\\src\\\\..\\\\assets\\\\main.css\"], Dict{Any,Any}(\"_promises\"=>Dict{Any,Any}(\"importsLoaded\"=>Any[JSString(\"function (ko, koPunches) {\\n    ko.punches.enableAll();\\n    ko.bindingHandlers.numericValue = {\\n        init : function(element, valueAccessor, allBindings, data, context) {\\n            var stringified = ko.observable(ko.unwrap(valueAccessor()));\\n            stringified.subscribe(function(value) {\\n                var val = parseFloat(value);\\n                if (!isNaN(val)) {\\n                    valueAccessor()(val);\\n                }\\n            })\\n            valueAccessor().subscribe(function(value) {\\n                var str = JSON.stringify(value);\\n                if ((str == \\\"0\\\") && ([\\\"-0\\\", \\\"-0.\\\"].indexOf(stringified()) >= 0))\\n                     return;\\n                 if ([\\\"null\\\", \\\"\\\"].indexOf(str) >= 0)\\n                     return;\\n                stringified(str);\\n            })\\n            ko.applyBindingsToNode(element, { value: stringified, valueUpdate: allBindings.get('valueUpdate')}, context);\\n        }\\n    };\\n    var json_data = JSON.parse(\\\"{\\\\\\\"changes\\\\\\\":0,\\\\\\\"value\\\\\\\":0}\\\");\\n    var self = this;\\n    function AppViewModel() {\\n        for (var key in json_data) {\\n            var el = json_data[key];\\n            this[key] = Array.isArray(el) ? ko.observableArray(el) : ko.observable(el);\\n        }\\n        \\n        \\n        [this[\\\"changes\\\"].subscribe((function (val){!(this.valueFromJulia[\\\"changes\\\"]) ? (_webIOScope.setObservableValue({\\\"name\\\":\\\"changes\\\",\\\"scope\\\":\\\"knockout-component-ddfbf4d1-08fb-4440-9640-df19220e03b6\\\",\\\"id\\\":\\\"ob_29\\\",\\\"type\\\":\\\"observable\\\"},val)) : undefined; return this.valueFromJulia[\\\"changes\\\"]=false}),self),this[\\\"value\\\"].subscribe((function (val){!(this.valueFromJulia[\\\"value\\\"]) ? (_webIOScope.setObservableValue({\\\"name\\\":\\\"value\\\",\\\"scope\\\":\\\"knockout-component-ddfbf4d1-08fb-4440-9640-df19220e03b6\\\",\\\"id\\\":\\\"ob_28\\\",\\\"type\\\":\\\"observable\\\"},val)) : undefined; return this.valueFromJulia[\\\"value\\\"]=false}),self)]\\n        \\n    }\\n    self.model = new AppViewModel();\\n    self.valueFromJulia = {};\\n    for (var key in json_data) {\\n        self.valueFromJulia[key] = false;\\n    }\\n    ko.applyBindings(self.model, self.dom);\\n}\\n\")]),\"changes\"=>Any[JSString(\"(function (val){return (val!=this.model[\\\"changes\\\"]()) ? (this.valueFromJulia[\\\"changes\\\"]=true, this.model[\\\"changes\\\"](val)) : undefined})\")],\"value\"=>Any[JSString(\"(function (val){return (val!=this.model[\\\"value\\\"]()) ? (this.valueFromJulia[\\\"value\\\"]=true, this.model[\\\"value\\\"](val)) : undefined})\")]), ConnectionPool(Channel{Any}(sz_max:9223372036854775807,sz_curr:0), Set(AbstractConnection[]), Channel{AbstractConnection}(sz_max:32,sz_curr:0))), ##52#53{#dom#13{##dom#11#12{Dict{Any,Any},DOM}},typeof(scope)}(#dom#13{##dom#11#12{Dict{Any,Any},DOM}}(##dom#11#12{Dict{Any,Any},DOM}(Dict{Any,Any}(:className=>\"field\"), DOM(:html, :div))), scope)),:Θ=>Widget{:slider,Float64}(OrderedDict{Symbol,Any}(:changes=>Observable{Int64} with 1 listeners. Value:\n",
       "0,:index=>Observable{Any} with 2 listeners. Value:\n",
       "100,:formatted_vals=>Observable{Any} with 1 listeners. Value:\n",
       "[\"0.0\", \"0.0315738\", \"0.0631476\", \"0.0947214\", \"0.126295\", \"0.157869\", \"0.189443\", \"0.221017\", \"0.25259\", \"0.284164\"  …  \"5.99902\", \"6.03059\", \"6.06217\", \"6.09374\", \"6.12532\", \"6.15689\", \"6.18846\", \"6.22004\", \"6.25161\", \"6.28319\"],:formatted_value=>Observable{String} with 1 listeners. Value:\n",
       "\"3.12581\",:value=>Observable{Float64} with 2 listeners. Value:\n",
       "3.12581), Observable{Float64} with 2 listeners. Value:\n",
       "3.12581, Scope(\"knockout-component-6f46fa9e-487b-47ce-8885-f51fee75ac04\", Node{DOM}(DOM(:html, :div), Any[Node{DOM}(DOM(:html, :div), Any[Node{DOM}(DOM(:html, :label), Any[\"Θ\"], Dict{Symbol,Any}(:className=>\"interact \",:style=>Dict{Any,Any}(:padding=>\"5px 10px 0px 10px\")), 1)], Dict{Symbol,Any}(:attributes=>Dict(\"style\"=>\"text-align:right;width:18%\")), 2), Node{DOM}(DOM(:html, :div), Any[Node{DOM}(DOM(:html, :input), Any[], Dict{Symbol,Any}(:max=>200,:min=>1,:attributes=>Dict{Any,Any}(:type=>\"range\",Symbol(\"data-bind\")=>\"numericValue: index, valueUpdate: 'input', event: {change : function () {this.changes(this.changes()+1)}}\",\"orient\"=>\"horizontal\"),:step=>1,:className=>\"slider slider is-fullwidth\",:style=>Dict{Any,Any}()), 0)], Dict{Symbol,Any}(:attributes=>Dict(\"style\"=>\"flex-grow:1; margin: 0 2%\")), 1), Node{DOM}(DOM(:html, :div), Any[Node{DOM}(DOM(:html, :p), Any[], Dict{Symbol,Any}(:attributes=>Dict(\"data-bind\"=>\"text: formatted_value\")), 0)], Dict{Symbol,Any}(:attributes=>Dict(\"style\"=>\"width:18%\")), 1)], Dict{Symbol,Any}(:attributes=>Dict(\"style\"=>\"display:flex; justify-content:center; align-items:center;\")), 7), Dict{String,Tuple{Observables.AbstractObservable,Union{Nothing, Bool}}}(\"formatted_vals\"=>(Observable{Any} with 1 listeners. Value:\n",
       "[\"0.0\", \"0.0315738\", \"0.0631476\", \"0.0947214\", \"0.126295\", \"0.157869\", \"0.189443\", \"0.221017\", \"0.25259\", \"0.284164\"  …  \"5.99902\", \"6.03059\", \"6.06217\", \"6.09374\", \"6.12532\", \"6.15689\", \"6.18846\", \"6.22004\", \"6.25161\", \"6.28319\"], nothing),\"changes\"=>(Observable{Int64} with 1 listeners. Value:\n",
       "0, nothing),\"formatted_value\"=>(Observable{String} with 1 listeners. Value:\n",
       "\"3.12581\", nothing),\"index\"=>(Observable{Any} with 2 listeners. Value:\n",
       "100, nothing)), Set(String[]), nothing, Any[\"knockout\"=>\"C:\\\\Users\\\\ITC\\\\.julia\\\\packages\\\\Knockout\\\\JIqpG\\\\src\\\\..\\\\assets\\\\knockout.js\", \"knockout_punches\"=>\"C:\\\\Users\\\\ITC\\\\.julia\\\\packages\\\\Knockout\\\\JIqpG\\\\src\\\\..\\\\assets\\\\knockout_punches.js\", \"C:\\\\Users\\\\ITC\\\\.julia\\\\packages\\\\InteractBase\\\\Q4IkI\\\\src\\\\..\\\\assets\\\\all.js\", \"C:\\\\Users\\\\ITC\\\\.julia\\\\packages\\\\InteractBase\\\\Q4IkI\\\\src\\\\..\\\\assets\\\\style.css\", \"C:\\\\Users\\\\ITC\\\\.julia\\\\packages\\\\InteractBulma\\\\Ohu5Y\\\\src\\\\..\\\\assets\\\\main.css\"], Dict{Any,Any}(\"formatted_vals\"=>Any[JSString(\"(function (val){return (val!=this.model[\\\"formatted_vals\\\"]()) ? (this.valueFromJulia[\\\"formatted_vals\\\"]=true, this.model[\\\"formatted_vals\\\"](val)) : undefined})\")],\"_promises\"=>Dict{Any,Any}(\"importsLoaded\"=>Any[JSString(\"function (ko, koPunches) {\\n    ko.punches.enableAll();\\n    ko.bindingHandlers.numericValue = {\\n        init : function(element, valueAccessor, allBindings, data, context) {\\n            var stringified = ko.observable(ko.unwrap(valueAccessor()));\\n            stringified.subscribe(function(value) {\\n                var val = parseFloat(value);\\n                if (!isNaN(val)) {\\n                    valueAccessor()(val);\\n                }\\n            })\\n            valueAccessor().subscribe(function(value) {\\n                var str = JSON.stringify(value);\\n                if ((str == \\\"0\\\") && ([\\\"-0\\\", \\\"-0.\\\"].indexOf(stringified()) >= 0))\\n                     return;\\n                 if ([\\\"null\\\", \\\"\\\"].indexOf(str) >= 0)\\n                     return;\\n                stringified(str);\\n            })\\n            ko.applyBindingsToNode(element, { value: stringified, valueUpdate: allBindings.get('valueUpdate')}, context);\\n        }\\n    };\\n    var json_data = JSON.parse(\\\"{\\\\\\\"formatted_vals\\\\\\\":[\\\\\\\"0.0\\\\\\\",\\\\\\\"0.0315738\\\\\\\",\\\\\\\"0.0631476\\\\\\\",\\\\\\\"0.0947214\\\\\\\",\\\\\\\"0.126295\\\\\\\",\\\\\\\"0.157869\\\\\\\",\\\\\\\"0.189443\\\\\\\",\\\\\\\"0.221017\\\\\\\",\\\\\\\"0.25259\\\\\\\",\\\\\\\"0.284164\\\\\\\",\\\\\\\"0.315738\\\\\\\",\\\\\\\"0.347312\\\\\\\",\\\\\\\"0.378886\\\\\\\",\\\\\\\"0.410459\\\\\\\",\\\\\\\"0.442033\\\\\\\",\\\\\\\"0.473607\\\\\\\",\\\\\\\"0.505181\\\\\\\",\\\\\\\"0.536755\\\\\\\",\\\\\\\"0.568328\\\\\\\",\\\\\\\"0.599902\\\\\\\",\\\\\\\"0.631476\\\\\\\",\\\\\\\"0.66305\\\\\\\",\\\\\\\"0.694624\\\\\\\",\\\\\\\"0.726197\\\\\\\",\\\\\\\"0.757771\\\\\\\",\\\\\\\"0.789345\\\\\\\",\\\\\\\"0.820919\\\\\\\",\\\\\\\"0.852492\\\\\\\",\\\\\\\"0.884066\\\\\\\",\\\\\\\"0.91564\\\\\\\",\\\\\\\"0.947214\\\\\\\",\\\\\\\"0.978788\\\\\\\",\\\\\\\"1.01036\\\\\\\",\\\\\\\"1.04194\\\\\\\",\\\\\\\"1.07351\\\\\\\",\\\\\\\"1.10508\\\\\\\",\\\\\\\"1.13666\\\\\\\",\\\\\\\"1.16823\\\\\\\",\\\\\\\"1.1998\\\\\\\",\\\\\\\"1.23138\\\\\\\",\\\\\\\"1.26295\\\\\\\",\\\\\\\"1.29453\\\\\\\",\\\\\\\"1.3261\\\\\\\",\\\\\\\"1.35767\\\\\\\",\\\\\\\"1.38925\\\\\\\",\\\\\\\"1.42082\\\\\\\",\\\\\\\"1.45239\\\\\\\",\\\\\\\"1.48397\\\\\\\",\\\\\\\"1.51554\\\\\\\",\\\\\\\"1.54712\\\\\\\",\\\\\\\"1.57869\\\\\\\",\\\\\\\"1.61026\\\\\\\",\\\\\\\"1.64184\\\\\\\",\\\\\\\"1.67341\\\\\\\",\\\\\\\"1.70498\\\\\\\",\\\\\\\"1.73656\\\\\\\",\\\\\\\"1.76813\\\\\\\",\\\\\\\"1.79971\\\\\\\",\\\\\\\"1.83128\\\\\\\",\\\\\\\"1.86285\\\\\\\",\\\\\\\"1.89443\\\\\\\",\\\\\\\"1.926\\\\\\\",\\\\\\\"1.95758\\\\\\\",\\\\\\\"1.98915\\\\\\\",\\\\\\\"2.02072\\\\\\\",\\\\\\\"2.0523\\\\\\\",\\\\\\\"2.08387\\\\\\\",\\\\\\\"2.11544\\\\\\\",\\\\\\\"2.14702\\\\\\\",\\\\\\\"2.17859\\\\\\\",\\\\\\\"2.21017\\\\\\\",\\\\\\\"2.24174\\\\\\\",\\\\\\\"2.27331\\\\\\\",\\\\\\\"2.30489\\\\\\\",\\\\\\\"2.33646\\\\\\\",\\\\\\\"2.36803\\\\\\\",\\\\\\\"2.39961\\\\\\\",\\\\\\\"2.43118\\\\\\\",\\\\\\\"2.46276\\\\\\\",\\\\\\\"2.49433\\\\\\\",\\\\\\\"2.5259\\\\\\\",\\\\\\\"2.55748\\\\\\\",\\\\\\\"2.58905\\\\\\\",\\\\\\\"2.62063\\\\\\\",\\\\\\\"2.6522\\\\\\\",\\\\\\\"2.68377\\\\\\\",\\\\\\\"2.71535\\\\\\\",\\\\\\\"2.74692\\\\\\\",\\\\\\\"2.77849\\\\\\\",\\\\\\\"2.81007\\\\\\\",\\\\\\\"2.84164\\\\\\\",\\\\\\\"2.87322\\\\\\\",\\\\\\\"2.90479\\\\\\\",\\\\\\\"2.93636\\\\\\\",\\\\\\\"2.96794\\\\\\\",\\\\\\\"2.99951\\\\\\\",\\\\\\\"3.03108\\\\\\\",\\\\\\\"3.06266\\\\\\\",\\\\\\\"3.09423\\\\\\\",\\\\\\\"3.12581\\\\\\\",\\\\\\\"3.15738\\\\\\\",\\\\\\\"3.18895\\\\\\\",\\\\\\\"3.22053\\\\\\\",\\\\\\\"3.2521\\\\\\\",\\\\\\\"3.28367\\\\\\\",\\\\\\\"3.31525\\\\\\\",\\\\\\\"3.34682\\\\\\\",\\\\\\\"3.3784\\\\\\\",\\\\\\\"3.40997\\\\\\\",\\\\\\\"3.44154\\\\\\\",\\\\\\\"3.47312\\\\\\\",\\\\\\\"3.50469\\\\\\\",\\\\\\\"3.53627\\\\\\\",\\\\\\\"3.56784\\\\\\\",\\\\\\\"3.59941\\\\\\\",\\\\\\\"3.63099\\\\\\\",\\\\\\\"3.66256\\\\\\\",\\\\\\\"3.69413\\\\\\\",\\\\\\\"3.72571\\\\\\\",\\\\\\\"3.75728\\\\\\\",\\\\\\\"3.78886\\\\\\\",\\\\\\\"3.82043\\\\\\\",\\\\\\\"3.852\\\\\\\",\\\\\\\"3.88358\\\\\\\",\\\\\\\"3.91515\\\\\\\",\\\\\\\"3.94672\\\\\\\",\\\\\\\"3.9783\\\\\\\",\\\\\\\"4.00987\\\\\\\",\\\\\\\"4.04145\\\\\\\",\\\\\\\"4.07302\\\\\\\",\\\\\\\"4.10459\\\\\\\",\\\\\\\"4.13617\\\\\\\",\\\\\\\"4.16774\\\\\\\",\\\\\\\"4.19931\\\\\\\",\\\\\\\"4.23089\\\\\\\",\\\\\\\"4.26246\\\\\\\",\\\\\\\"4.29404\\\\\\\",\\\\\\\"4.32561\\\\\\\",\\\\\\\"4.35718\\\\\\\",\\\\\\\"4.38876\\\\\\\",\\\\\\\"4.42033\\\\\\\",\\\\\\\"4.45191\\\\\\\",\\\\\\\"4.48348\\\\\\\",\\\\\\\"4.51505\\\\\\\",\\\\\\\"4.54663\\\\\\\",\\\\\\\"4.5782\\\\\\\",\\\\\\\"4.60977\\\\\\\",\\\\\\\"4.64135\\\\\\\",\\\\\\\"4.67292\\\\\\\",\\\\\\\"4.7045\\\\\\\",\\\\\\\"4.73607\\\\\\\",\\\\\\\"4.76764\\\\\\\",\\\\\\\"4.79922\\\\\\\",\\\\\\\"4.83079\\\\\\\",\\\\\\\"4.86236\\\\\\\",\\\\\\\"4.89394\\\\\\\",\\\\\\\"4.92551\\\\\\\",\\\\\\\"4.95709\\\\\\\",\\\\\\\"4.98866\\\\\\\",\\\\\\\"5.02023\\\\\\\",\\\\\\\"5.05181\\\\\\\",\\\\\\\"5.08338\\\\\\\",\\\\\\\"5.11495\\\\\\\",\\\\\\\"5.14653\\\\\\\",\\\\\\\"5.1781\\\\\\\",\\\\\\\"5.20968\\\\\\\",\\\\\\\"5.24125\\\\\\\",\\\\\\\"5.27282\\\\\\\",\\\\\\\"5.3044\\\\\\\",\\\\\\\"5.33597\\\\\\\",\\\\\\\"5.36755\\\\\\\",\\\\\\\"5.39912\\\\\\\",\\\\\\\"5.43069\\\\\\\",\\\\\\\"5.46227\\\\\\\",\\\\\\\"5.49384\\\\\\\",\\\\\\\"5.52541\\\\\\\",\\\\\\\"5.55699\\\\\\\",\\\\\\\"5.58856\\\\\\\",\\\\\\\"5.62014\\\\\\\",\\\\\\\"5.65171\\\\\\\",\\\\\\\"5.68328\\\\\\\",\\\\\\\"5.71486\\\\\\\",\\\\\\\"5.74643\\\\\\\",\\\\\\\"5.778\\\\\\\",\\\\\\\"5.80958\\\\\\\",\\\\\\\"5.84115\\\\\\\",\\\\\\\"5.87273\\\\\\\",\\\\\\\"5.9043\\\\\\\",\\\\\\\"5.93587\\\\\\\",\\\\\\\"5.96745\\\\\\\",\\\\\\\"5.99902\\\\\\\",\\\\\\\"6.03059\\\\\\\",\\\\\\\"6.06217\\\\\\\",\\\\\\\"6.09374\\\\\\\",\\\\\\\"6.12532\\\\\\\",\\\\\\\"6.15689\\\\\\\",\\\\\\\"6.18846\\\\\\\",\\\\\\\"6.22004\\\\\\\",\\\\\\\"6.25161\\\\\\\",\\\\\\\"6.28319\\\\\\\"],\\\\\\\"changes\\\\\\\":0,\\\\\\\"formatted_value\\\\\\\":\\\\\\\"3.12581\\\\\\\",\\\\\\\"index\\\\\\\":100}\\\");\\n    var self = this;\\n    function AppViewModel() {\\n        for (var key in json_data) {\\n            var el = json_data[key];\\n            this[key] = Array.isArray(el) ? ko.observableArray(el) : ko.observable(el);\\n        }\\n        \\n        \\n        [this[\\\"formatted_vals\\\"].subscribe((function (val){!(this.valueFromJulia[\\\"formatted_vals\\\"]) ? (_webIOScope.setObservableValue({\\\"name\\\":\\\"formatted_vals\\\",\\\"scope\\\":\\\"knockout-component-6f46fa9e-487b-47ce-8885-f51fee75ac04\\\",\\\"id\\\":\\\"ob_32\\\",\\\"type\\\":\\\"observable\\\"},val)) : undefined; return this.valueFromJulia[\\\"formatted_vals\\\"]=false}),self),this[\\\"changes\\\"].subscribe((function (val){!(this.valueFromJulia[\\\"changes\\\"]) ? (_webIOScope.setObservableValue({\\\"name\\\":\\\"changes\\\",\\\"scope\\\":\\\"knockout-component-6f46fa9e-487b-47ce-8885-f51fee75ac04\\\",\\\"id\\\":\\\"ob_34\\\",\\\"type\\\":\\\"observable\\\"},val)) : undefined; return this.valueFromJulia[\\\"changes\\\"]=false}),self),this[\\\"formatted_value\\\"].subscribe((function (val){!(this.valueFromJulia[\\\"formatted_value\\\"]) ? (_webIOScope.setObservableValue({\\\"name\\\":\\\"formatted_value\\\",\\\"scope\\\":\\\"knockout-component-6f46fa9e-487b-47ce-8885-f51fee75ac04\\\",\\\"id\\\":\\\"ob_33\\\",\\\"type\\\":\\\"observable\\\"},val)) : undefined; return this.valueFromJulia[\\\"formatted_value\\\"]=false}),self),this[\\\"index\\\"].subscribe((function (val){!(this.valueFromJulia[\\\"index\\\"]) ? (_webIOScope.setObservableValue({\\\"name\\\":\\\"index\\\",\\\"scope\\\":\\\"knockout-component-6f46fa9e-487b-47ce-8885-f51fee75ac04\\\",\\\"id\\\":\\\"ob_31\\\",\\\"type\\\":\\\"observable\\\"},val)) : undefined; return this.valueFromJulia[\\\"index\\\"]=false}),self)]\\n        \\n    }\\n    self.model = new AppViewModel();\\n    self.valueFromJulia = {};\\n    for (var key in json_data) {\\n        self.valueFromJulia[key] = false;\\n    }\\n    ko.applyBindings(self.model, self.dom);\\n}\\n\")]),\"changes\"=>Any[JSString(\"(function (val){return (val!=this.model[\\\"changes\\\"]()) ? (this.valueFromJulia[\\\"changes\\\"]=true, this.model[\\\"changes\\\"](val)) : undefined})\")],\"formatted_value\"=>Any[JSString(\"(function (val){return (val!=this.model[\\\"formatted_value\\\"]()) ? (this.valueFromJulia[\\\"formatted_value\\\"]=true, this.model[\\\"formatted_value\\\"](val)) : undefined})\")],\"index\"=>Any[JSString(\"(function (val){return (val!=this.model[\\\"index\\\"]()) ? (this.valueFromJulia[\\\"index\\\"]=true, this.model[\\\"index\\\"](val)) : undefined})\"), JSString(\"(function (val){return _webIOScope.setObservableValue({\\\"name\\\":\\\"formatted_value\\\",\\\"scope\\\":\\\"knockout-component-6f46fa9e-487b-47ce-8885-f51fee75ac04\\\",\\\"id\\\":\\\"ob_33\\\",\\\"type\\\":\\\"observable\\\"},_webIOScope.getObservableValue({\\\"name\\\":\\\"formatted_vals\\\",\\\"scope\\\":\\\"knockout-component-6f46fa9e-487b-47ce-8885-f51fee75ac04\\\",\\\"id\\\":\\\"ob_32\\\",\\\"type\\\":\\\"observable\\\"})[(_webIOScope.getObservableValue({\\\"name\\\":\\\"index\\\",\\\"scope\\\":\\\"knockout-component-6f46fa9e-487b-47ce-8885-f51fee75ac04\\\",\\\"id\\\":\\\"ob_31\\\",\\\"type\\\":\\\"observable\\\"})-1)])})\")]), ConnectionPool(Channel{Any}(sz_max:9223372036854775807,sz_curr:0), Set(AbstractConnection[]), Channel{AbstractConnection}(sz_max:32,sz_curr:0))), ##52#53{#dom#13{##dom#11#12{Dict{Any,Any},DOM}},typeof(scope)}(#dom#13{##dom#11#12{Dict{Any,Any},DOM}}(##dom#11#12{Dict{Any,Any},DOM}(Dict{Any,Any}(:className=>\"field\"), DOM(:html, :div))), scope))), Observable{Any} with 0 listeners. Value:\n",
       "Plot{Plots.PlotlyBackend() n=1}, nothing, getfield(Main, Symbol(\"##23#25\")){Observable{Any}}(Observable{Any} with 0 listeners. Value:\n",
       "Plot{Plots.PlotlyBackend() n=1}))"
      ]
     },
     "execution_count": 8,
     "metadata": {
      "application/vnd.webio.node+json": {
       "kernelId": "f9e054cb-ccdb-4383-b6be-4601ebd1882e"
      }
     },
     "output_type": "execute_result"
    }
   ],
   "source": [
    "# parametric animation\n",
    "@manipulate for a=-5:5 , Θ = range(0, stop=2π, length=200)\n",
    "    x = range(0,Θ, length=100)\n",
    "    r = sin.(a*x)\n",
    "    plot(x, r, proj=:polar, m=2, title=\"r=sin(θ)\")\n",
    "end\n",
    "\n"
   ]
  },
  {
   "cell_type": "code",
   "execution_count": 9,
   "metadata": {},
   "outputs": [
    {
     "data": {
      "application/vnd.plotly.v1+json": {
       "data": [
        {
         "colorbar": {
          "title": ""
         },
         "hoverinfo": "text",
         "legendgroup": "y1",
         "line": {
          "color": "rgba(0, 154, 250, 1.000)",
          "dash": "solid",
          "shape": "linear",
          "width": 5
         },
         "marker": {
          "color": "rgba(173, 216, 230, 0.800)",
          "line": {
           "color": "rgba(0, 0, 0, 0.800)",
           "width": 0
          },
          "size": 2,
          "symbol": "circle"
         },
         "mode": "lines+markers",
         "name": "y1",
         "showlegend": true,
         "text": [
          null,
          null,
          null,
          null,
          null,
          null,
          null,
          null,
          null,
          null,
          null,
          null,
          null,
          null,
          null,
          null,
          null,
          null,
          null,
          null,
          null,
          null,
          null,
          null,
          null,
          null,
          null,
          null,
          null,
          null,
          null,
          null,
          null,
          null,
          null,
          null,
          null,
          null,
          null,
          null,
          null,
          null,
          null,
          null,
          null,
          null,
          null,
          null,
          null,
          null,
          null,
          null,
          null,
          null,
          null,
          null,
          null,
          null,
          null,
          null,
          null,
          null,
          null,
          null,
          null,
          null,
          null,
          null,
          null,
          null,
          null,
          null,
          null,
          null,
          null,
          null,
          null,
          null,
          null,
          null,
          null,
          null,
          null,
          null,
          null,
          null,
          null,
          null,
          null,
          null,
          null,
          null,
          null,
          null,
          null,
          null,
          null,
          null,
          null,
          null
         ],
         "type": "scatter3d",
         "x": [
          -10,
          -9.797979797979798,
          -9.595959595959595,
          -9.393939393939394,
          -9.191919191919192,
          -8.98989898989899,
          -8.787878787878787,
          -8.585858585858587,
          -8.383838383838384,
          -8.181818181818182,
          -7.97979797979798,
          -7.777777777777778,
          -7.575757575757576,
          -7.373737373737374,
          -7.171717171717172,
          -6.96969696969697,
          -6.767676767676767,
          -6.565656565656566,
          -6.363636363636363,
          -6.161616161616162,
          -5.959595959595959,
          -5.757575757575758,
          -5.555555555555555,
          -5.353535353535354,
          -5.151515151515151,
          -4.94949494949495,
          -4.747474747474747,
          -4.545454545454546,
          -4.343434343434343,
          -4.141414141414141,
          -3.9393939393939394,
          -3.7373737373737375,
          -3.5353535353535355,
          -3.3333333333333335,
          -3.1313131313131315,
          -2.9292929292929295,
          -2.727272727272727,
          -2.525252525252525,
          -2.323232323232323,
          -2.121212121212121,
          -1.9191919191919191,
          -1.7171717171717171,
          -1.5151515151515151,
          -1.3131313131313131,
          -1.1111111111111112,
          -0.9090909090909091,
          -0.7070707070707071,
          -0.5050505050505051,
          -0.30303030303030304,
          -0.10101010101010101,
          0.10101010101010101,
          0.30303030303030304,
          0.5050505050505051,
          0.7070707070707071,
          0.9090909090909091,
          1.1111111111111112,
          1.3131313131313131,
          1.5151515151515151,
          1.7171717171717171,
          1.9191919191919191,
          2.121212121212121,
          2.323232323232323,
          2.525252525252525,
          2.727272727272727,
          2.9292929292929295,
          3.1313131313131315,
          3.3333333333333335,
          3.5353535353535355,
          3.7373737373737375,
          3.9393939393939394,
          4.141414141414141,
          4.343434343434343,
          4.545454545454546,
          4.747474747474747,
          4.94949494949495,
          5.151515151515151,
          5.353535353535354,
          5.555555555555555,
          5.757575757575758,
          5.959595959595959,
          6.161616161616162,
          6.363636363636363,
          6.565656565656566,
          6.767676767676767,
          6.96969696969697,
          7.171717171717172,
          7.373737373737374,
          7.575757575757576,
          7.777777777777778,
          7.97979797979798,
          8.181818181818182,
          8.383838383838384,
          8.585858585858587,
          8.787878787878787,
          8.98989898989899,
          9.191919191919192,
          9.393939393939394,
          9.595959595959595,
          9.797979797979798,
          10
         ],
         "xaxis": "x1",
         "y": [
          -10,
          -9.797979797979798,
          -9.595959595959595,
          -9.393939393939394,
          -9.191919191919192,
          -8.98989898989899,
          -8.787878787878787,
          -8.585858585858587,
          -8.383838383838384,
          -8.181818181818182,
          -7.97979797979798,
          -7.777777777777778,
          -7.575757575757576,
          -7.373737373737374,
          -7.171717171717172,
          -6.96969696969697,
          -6.767676767676767,
          -6.565656565656566,
          -6.363636363636363,
          -6.161616161616162,
          -5.959595959595959,
          -5.757575757575758,
          -5.555555555555555,
          -5.353535353535354,
          -5.151515151515151,
          -4.94949494949495,
          -4.747474747474747,
          -4.545454545454546,
          -4.343434343434343,
          -4.141414141414141,
          -3.9393939393939394,
          -3.7373737373737375,
          -3.5353535353535355,
          -3.3333333333333335,
          -3.1313131313131315,
          -2.9292929292929295,
          -2.727272727272727,
          -2.525252525252525,
          -2.323232323232323,
          -2.121212121212121,
          -1.9191919191919191,
          -1.7171717171717171,
          -1.5151515151515151,
          -1.3131313131313131,
          -1.1111111111111112,
          -0.9090909090909091,
          -0.7070707070707071,
          -0.5050505050505051,
          -0.30303030303030304,
          -0.10101010101010101,
          0.10101010101010101,
          0.30303030303030304,
          0.5050505050505051,
          0.7070707070707071,
          0.9090909090909091,
          1.1111111111111112,
          1.3131313131313131,
          1.5151515151515151,
          1.7171717171717171,
          1.9191919191919191,
          2.121212121212121,
          2.323232323232323,
          2.525252525252525,
          2.727272727272727,
          2.9292929292929295,
          3.1313131313131315,
          3.3333333333333335,
          3.5353535353535355,
          3.7373737373737375,
          3.9393939393939394,
          4.141414141414141,
          4.343434343434343,
          4.545454545454546,
          4.747474747474747,
          4.94949494949495,
          5.151515151515151,
          5.353535353535354,
          5.555555555555555,
          5.757575757575758,
          5.959595959595959,
          6.161616161616162,
          6.363636363636363,
          6.565656565656566,
          6.767676767676767,
          6.96969696969697,
          7.171717171717172,
          7.373737373737374,
          7.575757575757576,
          7.777777777777778,
          7.97979797979798,
          8.181818181818182,
          8.383838383838384,
          8.585858585858587,
          8.787878787878787,
          8.98989898989899,
          9.191919191919192,
          9.393939393939394,
          9.595959595959595,
          9.797979797979798,
          10
         ],
         "yaxis": "y1",
         "z": [
          200,
          192.00081624324048,
          184.16488113457808,
          176.49219467401286,
          168.98275686154474,
          161.63656769717375,
          154.45362718089987,
          147.4339353127232,
          140.5774920926436,
          133.88429752066116,
          127.35435159677584,
          120.98765432098764,
          114.78420569329661,
          108.74400571370268,
          102.86705438220591,
          97.15335169880625,
          91.60289766350371,
          86.21569227629834,
          80.99173553719008,
          75.93102744617896,
          71.03356800326496,
          66.29935720844813,
          61.72839506172839,
          57.320681563105815,
          53.07621671258035,
          48.99500051015203,
          45.07703295582083,
          41.32231404958679,
          37.73084379144985,
          34.30262218141005,
          31.0376492194674,
          27.935924905621878,
          24.997449239873482,
          22.222222222222225,
          19.6102438526681,
          17.161514131211103,
          14.876033057851238,
          12.75380063258851,
          10.794816855422916,
          8.999081726354452,
          7.366595245383124,
          5.897357412508927,
          4.591368227731864,
          3.4486276910519336,
          2.469135802469136,
          1.652892561983471,
          0.9998979695949393,
          0.5101520253035405,
          0.18365472910927458,
          0.020406081012141617,
          0.020406081012141617,
          0.18365472910927458,
          0.5101520253035405,
          0.9998979695949393,
          1.652892561983471,
          2.469135802469136,
          3.4486276910519336,
          4.591368227731864,
          5.897357412508927,
          7.366595245383124,
          8.999081726354452,
          10.794816855422916,
          12.75380063258851,
          14.876033057851238,
          17.161514131211103,
          19.6102438526681,
          22.222222222222225,
          24.997449239873482,
          27.935924905621878,
          31.0376492194674,
          34.30262218141005,
          37.73084379144985,
          41.32231404958679,
          45.07703295582083,
          48.99500051015203,
          53.07621671258035,
          57.320681563105815,
          61.72839506172839,
          66.29935720844813,
          71.03356800326496,
          75.93102744617896,
          80.99173553719008,
          86.21569227629834,
          91.60289766350371,
          97.15335169880625,
          102.86705438220591,
          108.74400571370268,
          114.78420569329661,
          120.98765432098764,
          127.35435159677584,
          133.88429752066116,
          140.5774920926436,
          147.4339353127232,
          154.45362718089987,
          161.63656769717375,
          168.98275686154474,
          176.49219467401286,
          184.16488113457808,
          192.00081624324048,
          200
         ],
         "zmax": 0.1,
         "zmin": -0.1
        }
       ],
       "layout": {
        "annotations": [],
        "height": 400,
        "margin": {
         "b": 20,
         "l": 0,
         "r": 0,
         "t": 20
        },
        "paper_bgcolor": "rgba(255, 255, 255, 1.000)",
        "plot_bgcolor": "rgba(255, 255, 255, 1.000)",
        "scene": {
         "camera": {
          "eye": {
           "x": 1.12583302491977,
           "y": -1.9499999999999997,
           "z": 1.3
          }
         },
         "xaxis": {
          "anchor": "y1",
          "domain": [
           0.05100612423447069,
           0.9934383202099737
          ],
          "gridcolor": "rgba(0, 0, 0, 0.100)",
          "gridwidth": 0.5,
          "linecolor": "rgba(0, 0, 0, 1.000)",
          "mirror": false,
          "range": [
           -10.6,
           10.6
          ],
          "showgrid": true,
          "showline": true,
          "showticklabels": true,
          "tickangle": 0,
          "tickcolor": "rgb(0, 0, 0)",
          "tickfont": {
           "color": "rgba(0, 0, 0, 1.000)",
           "family": "sans-serif",
           "size": 11
          },
          "tickmode": "array",
          "ticks": "inside",
          "ticktext": [
           "-10",
           "-5",
           "0",
           "5",
           "10"
          ],
          "tickvals": [
           -10,
           -5,
           0,
           5,
           10
          ],
          "title": "",
          "titlefont": {
           "color": "rgba(0, 0, 0, 1.000)",
           "family": "sans-serif",
           "size": 15
          },
          "type": "-",
          "visible": true,
          "zeroline": false,
          "zerolinecolor": "rgba(0, 0, 0, 1.000)"
         },
         "yaxis": {
          "anchor": "x1",
          "domain": [
           0.03762029746281716,
           0.9901574803149606
          ],
          "gridcolor": "rgba(0, 0, 0, 0.100)",
          "gridwidth": 0.5,
          "linecolor": "rgba(0, 0, 0, 1.000)",
          "mirror": false,
          "range": [
           -10.6,
           10.6
          ],
          "showgrid": true,
          "showline": true,
          "showticklabels": true,
          "tickangle": 0,
          "tickcolor": "rgb(0, 0, 0)",
          "tickfont": {
           "color": "rgba(0, 0, 0, 1.000)",
           "family": "sans-serif",
           "size": 11
          },
          "tickmode": "array",
          "ticks": "inside",
          "ticktext": [
           "-10",
           "-5",
           "0",
           "5",
           "10"
          ],
          "tickvals": [
           -10,
           -5,
           0,
           5,
           10
          ],
          "title": "",
          "titlefont": {
           "color": "rgba(0, 0, 0, 1.000)",
           "family": "sans-serif",
           "size": 15
          },
          "type": "-",
          "visible": true,
          "zeroline": false,
          "zerolinecolor": "rgba(0, 0, 0, 1.000)"
         },
         "zaxis": {
          "gridcolor": "rgba(0, 0, 0, 0.100)",
          "gridwidth": 0.5,
          "linecolor": "rgba(0, 0, 0, 1.000)",
          "mirror": false,
          "range": [
           -5.978981736557494,
           205.99938781756964
          ],
          "showgrid": true,
          "showline": true,
          "showticklabels": true,
          "tickangle": 0,
          "tickcolor": "rgb(0, 0, 0)",
          "tickfont": {
           "color": "rgba(0, 0, 0, 1.000)",
           "family": "sans-serif",
           "size": 11
          },
          "tickmode": "array",
          "ticks": "inside",
          "ticktext": [
           "0",
           "50",
           "100",
           "150",
           "200"
          ],
          "tickvals": [
           0,
           50,
           100,
           150,
           200
          ],
          "title": "",
          "titlefont": {
           "color": "rgba(0, 0, 0, 1.000)",
           "family": "sans-serif",
           "size": 15
          },
          "type": "-",
          "visible": true,
          "zeroline": false,
          "zerolinecolor": "rgba(0, 0, 0, 1.000)"
         }
        },
        "showlegend": false,
        "width": 600
       }
      },
      "text/html": [
       "    <div id=\"b24f709e-b0c2-4bfa-8452-4f1ab9f6ef51\" style=\"width:600px;height:400px;\"></div>\n",
       "    <script>\n",
       "    PLOT = document.getElementById('b24f709e-b0c2-4bfa-8452-4f1ab9f6ef51');\n",
       "    Plotly.plot(PLOT, [{\"xaxis\":\"x1\",\"colorbar\":{\"title\":\"\"},\"yaxis\":\"y1\",\"text\":[null,null,null,null,null,null,null,null,null,null,null,null,null,null,null,null,null,null,null,null,null,null,null,null,null,null,null,null,null,null,null,null,null,null,null,null,null,null,null,null,null,null,null,null,null,null,null,null,null,null,null,null,null,null,null,null,null,null,null,null,null,null,null,null,null,null,null,null,null,null,null,null,null,null,null,null,null,null,null,null,null,null,null,null,null,null,null,null,null,null,null,null,null,null,null,null,null,null,null,null],\"x\":[-10.0,-9.797979797979798,-9.595959595959595,-9.393939393939394,-9.191919191919192,-8.98989898989899,-8.787878787878787,-8.585858585858587,-8.383838383838384,-8.181818181818182,-7.97979797979798,-7.777777777777778,-7.575757575757576,-7.373737373737374,-7.171717171717172,-6.96969696969697,-6.767676767676767,-6.565656565656566,-6.363636363636363,-6.161616161616162,-5.959595959595959,-5.757575757575758,-5.555555555555555,-5.353535353535354,-5.151515151515151,-4.94949494949495,-4.747474747474747,-4.545454545454546,-4.343434343434343,-4.141414141414141,-3.9393939393939394,-3.7373737373737375,-3.5353535353535355,-3.3333333333333335,-3.1313131313131315,-2.9292929292929295,-2.727272727272727,-2.525252525252525,-2.323232323232323,-2.121212121212121,-1.9191919191919191,-1.7171717171717171,-1.5151515151515151,-1.3131313131313131,-1.1111111111111112,-0.9090909090909091,-0.7070707070707071,-0.5050505050505051,-0.30303030303030304,-0.10101010101010101,0.10101010101010101,0.30303030303030304,0.5050505050505051,0.7070707070707071,0.9090909090909091,1.1111111111111112,1.3131313131313131,1.5151515151515151,1.7171717171717171,1.9191919191919191,2.121212121212121,2.323232323232323,2.525252525252525,2.727272727272727,2.9292929292929295,3.1313131313131315,3.3333333333333335,3.5353535353535355,3.7373737373737375,3.9393939393939394,4.141414141414141,4.343434343434343,4.545454545454546,4.747474747474747,4.94949494949495,5.151515151515151,5.353535353535354,5.555555555555555,5.757575757575758,5.959595959595959,6.161616161616162,6.363636363636363,6.565656565656566,6.767676767676767,6.96969696969697,7.171717171717172,7.373737373737374,7.575757575757576,7.777777777777778,7.97979797979798,8.181818181818182,8.383838383838384,8.585858585858587,8.787878787878787,8.98989898989899,9.191919191919192,9.393939393939394,9.595959595959595,9.797979797979798,10.0],\"showlegend\":true,\"mode\":\"lines+markers\",\"name\":\"y1\",\"zmin\":-0.1,\"legendgroup\":\"y1\",\"z\":[200.0,192.00081624324048,184.16488113457808,176.49219467401286,168.98275686154474,161.63656769717375,154.45362718089987,147.4339353127232,140.5774920926436,133.88429752066116,127.35435159677584,120.98765432098764,114.78420569329661,108.74400571370268,102.86705438220591,97.15335169880625,91.60289766350371,86.21569227629834,80.99173553719008,75.93102744617896,71.03356800326496,66.29935720844813,61.72839506172839,57.320681563105815,53.07621671258035,48.99500051015203,45.07703295582083,41.32231404958679,37.73084379144985,34.30262218141005,31.0376492194674,27.935924905621878,24.997449239873482,22.222222222222225,19.6102438526681,17.161514131211103,14.876033057851238,12.75380063258851,10.794816855422916,8.999081726354452,7.366595245383124,5.897357412508927,4.591368227731864,3.4486276910519336,2.469135802469136,1.652892561983471,0.9998979695949393,0.5101520253035405,0.18365472910927458,0.020406081012141617,0.020406081012141617,0.18365472910927458,0.5101520253035405,0.9998979695949393,1.652892561983471,2.469135802469136,3.4486276910519336,4.591368227731864,5.897357412508927,7.366595245383124,8.999081726354452,10.794816855422916,12.75380063258851,14.876033057851238,17.161514131211103,19.6102438526681,22.222222222222225,24.997449239873482,27.935924905621878,31.0376492194674,34.30262218141005,37.73084379144985,41.32231404958679,45.07703295582083,48.99500051015203,53.07621671258035,57.320681563105815,61.72839506172839,66.29935720844813,71.03356800326496,75.93102744617896,80.99173553719008,86.21569227629834,91.60289766350371,97.15335169880625,102.86705438220591,108.74400571370268,114.78420569329661,120.98765432098764,127.35435159677584,133.88429752066116,140.5774920926436,147.4339353127232,154.45362718089987,161.63656769717375,168.98275686154474,176.49219467401286,184.16488113457808,192.00081624324048,200.0],\"marker\":{\"symbol\":\"circle\",\"color\":\"rgba(173, 216, 230, 0.800)\",\"line\":{\"color\":\"rgba(0, 0, 0, 0.800)\",\"width\":0},\"size\":2},\"zmax\":0.1,\"line\":{\"color\":\"rgba(0, 154, 250, 1.000)\",\"shape\":\"linear\",\"dash\":\"solid\",\"width\":5},\"y\":[-10.0,-9.797979797979798,-9.595959595959595,-9.393939393939394,-9.191919191919192,-8.98989898989899,-8.787878787878787,-8.585858585858587,-8.383838383838384,-8.181818181818182,-7.97979797979798,-7.777777777777778,-7.575757575757576,-7.373737373737374,-7.171717171717172,-6.96969696969697,-6.767676767676767,-6.565656565656566,-6.363636363636363,-6.161616161616162,-5.959595959595959,-5.757575757575758,-5.555555555555555,-5.353535353535354,-5.151515151515151,-4.94949494949495,-4.747474747474747,-4.545454545454546,-4.343434343434343,-4.141414141414141,-3.9393939393939394,-3.7373737373737375,-3.5353535353535355,-3.3333333333333335,-3.1313131313131315,-2.9292929292929295,-2.727272727272727,-2.525252525252525,-2.323232323232323,-2.121212121212121,-1.9191919191919191,-1.7171717171717171,-1.5151515151515151,-1.3131313131313131,-1.1111111111111112,-0.9090909090909091,-0.7070707070707071,-0.5050505050505051,-0.30303030303030304,-0.10101010101010101,0.10101010101010101,0.30303030303030304,0.5050505050505051,0.7070707070707071,0.9090909090909091,1.1111111111111112,1.3131313131313131,1.5151515151515151,1.7171717171717171,1.9191919191919191,2.121212121212121,2.323232323232323,2.525252525252525,2.727272727272727,2.9292929292929295,3.1313131313131315,3.3333333333333335,3.5353535353535355,3.7373737373737375,3.9393939393939394,4.141414141414141,4.343434343434343,4.545454545454546,4.747474747474747,4.94949494949495,5.151515151515151,5.353535353535354,5.555555555555555,5.757575757575758,5.959595959595959,6.161616161616162,6.363636363636363,6.565656565656566,6.767676767676767,6.96969696969697,7.171717171717172,7.373737373737374,7.575757575757576,7.777777777777778,7.97979797979798,8.181818181818182,8.383838383838384,8.585858585858587,8.787878787878787,8.98989898989899,9.191919191919192,9.393939393939394,9.595959595959595,9.797979797979798,10.0],\"type\":\"scatter3d\",\"hoverinfo\":\"text\"}], {\"showlegend\":false,\"paper_bgcolor\":\"rgba(255, 255, 255, 1.000)\",\"annotations\":[],\"height\":400,\"margin\":{\"l\":0,\"b\":20,\"r\":0,\"t\":20},\"plot_bgcolor\":\"rgba(255, 255, 255, 1.000)\",\"scene\":{\"camera\":{\"eye\":{\"y\":-1.9499999999999997,\"z\":1.3,\"x\":1.12583302491977}},\"xaxis\":{\"showticklabels\":true,\"gridwidth\":0.5,\"tickvals\":[-10.0,-5.0,0.0,5.0,10.0],\"visible\":true,\"ticks\":\"inside\",\"range\":[-10.6,10.6],\"domain\":[0.05100612423447069,0.9934383202099737],\"tickmode\":\"array\",\"linecolor\":\"rgba(0, 0, 0, 1.000)\",\"showgrid\":true,\"title\":\"\",\"mirror\":false,\"tickangle\":0,\"showline\":true,\"gridcolor\":\"rgba(0, 0, 0, 0.100)\",\"titlefont\":{\"color\":\"rgba(0, 0, 0, 1.000)\",\"family\":\"sans-serif\",\"size\":15},\"tickcolor\":\"rgb(0, 0, 0)\",\"ticktext\":[\"-10\",\"-5\",\"0\",\"5\",\"10\"],\"zeroline\":false,\"type\":\"-\",\"tickfont\":{\"color\":\"rgba(0, 0, 0, 1.000)\",\"family\":\"sans-serif\",\"size\":11},\"zerolinecolor\":\"rgba(0, 0, 0, 1.000)\",\"anchor\":\"y1\"},\"yaxis\":{\"showticklabels\":true,\"gridwidth\":0.5,\"tickvals\":[-10.0,-5.0,0.0,5.0,10.0],\"visible\":true,\"ticks\":\"inside\",\"range\":[-10.6,10.6],\"domain\":[0.03762029746281716,0.9901574803149606],\"tickmode\":\"array\",\"linecolor\":\"rgba(0, 0, 0, 1.000)\",\"showgrid\":true,\"title\":\"\",\"mirror\":false,\"tickangle\":0,\"showline\":true,\"gridcolor\":\"rgba(0, 0, 0, 0.100)\",\"titlefont\":{\"color\":\"rgba(0, 0, 0, 1.000)\",\"family\":\"sans-serif\",\"size\":15},\"tickcolor\":\"rgb(0, 0, 0)\",\"ticktext\":[\"-10\",\"-5\",\"0\",\"5\",\"10\"],\"zeroline\":false,\"type\":\"-\",\"tickfont\":{\"color\":\"rgba(0, 0, 0, 1.000)\",\"family\":\"sans-serif\",\"size\":11},\"zerolinecolor\":\"rgba(0, 0, 0, 1.000)\",\"anchor\":\"x1\"},\"zaxis\":{\"showticklabels\":true,\"gridwidth\":0.5,\"tickvals\":[0.0,50.0,100.0,150.0,200.0],\"visible\":true,\"ticks\":\"inside\",\"range\":[-5.978981736557494,205.99938781756964],\"tickmode\":\"array\",\"linecolor\":\"rgba(0, 0, 0, 1.000)\",\"showgrid\":true,\"title\":\"\",\"mirror\":false,\"tickangle\":0,\"showline\":true,\"gridcolor\":\"rgba(0, 0, 0, 0.100)\",\"titlefont\":{\"color\":\"rgba(0, 0, 0, 1.000)\",\"family\":\"sans-serif\",\"size\":15},\"tickcolor\":\"rgb(0, 0, 0)\",\"ticktext\":[\"0\",\"50\",\"100\",\"150\",\"200\"],\"zeroline\":false,\"type\":\"-\",\"tickfont\":{\"color\":\"rgba(0, 0, 0, 1.000)\",\"family\":\"sans-serif\",\"size\":11},\"zerolinecolor\":\"rgba(0, 0, 0, 1.000)\"}},\"width\":600});\n",
       "    </script>\n"
      ]
     },
     "execution_count": 9,
     "metadata": {},
     "output_type": "execute_result"
    }
   ],
   "source": [
    "# 3 d\n",
    "n = 100\n",
    "ts = range(-10, stop=10, length=n)\n",
    "x = ts \n",
    "y = ts\n",
    "z = x.^2 + y.^2\n",
    "plot(x, y, z,  m=(1, 0.8, :blues, Plots.stroke(0)), leg=false, cbar=true, w=5)\n"
   ]
  },
  {
   "cell_type": "code",
   "execution_count": null,
   "metadata": {},
   "outputs": [],
   "source": []
  }
 ],
 "metadata": {
  "@webio": {
   "lastCommId": "251d51954d1b4d29873f1bf45d01ed7e",
   "lastKernelId": "f9e054cb-ccdb-4383-b6be-4601ebd1882e"
  },
  "kernelspec": {
   "display_name": "Julia 1.0.0",
   "language": "julia",
   "name": "julia-1.0"
  },
  "language_info": {
   "file_extension": ".jl",
   "mimetype": "application/julia",
   "name": "julia",
   "version": "1.0.0"
  }
 },
 "nbformat": 4,
 "nbformat_minor": 2
}
